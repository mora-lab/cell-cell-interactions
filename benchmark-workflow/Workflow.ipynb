{
 "cells": [
  {
   "cell_type": "markdown",
   "id": "010056f1",
   "metadata": {},
   "source": [
    "## 1. Data Preparation"
   ]
  },
  {
   "cell_type": "code",
   "execution_count": 2,
   "id": "7d84bffe",
   "metadata": {},
   "outputs": [],
   "source": [
    "# load packages\n",
    "suppressPackageStartupMessages(library(Seurat))\n",
    "suppressPackageStartupMessages(library(dplyr))\n",
    "suppressPackageStartupMessages(library(patchwork))\n",
    "suppressPackageStartupMessages(library(Matrix))\n",
    "suppressPackageStartupMessages(library(parallel))"
   ]
  },
  {
   "cell_type": "markdown",
   "id": "23d89144",
   "metadata": {},
   "source": [
    "All sample data has been processed, R scripts of processing can be found here: \n",
    "https://github.com/mora-lab/cell-cell-interactions/tree/main/benchmark-workflow/R"
   ]
  },
  {
   "cell_type": "code",
   "execution_count": 9,
   "id": "1051a964",
   "metadata": {},
   "outputs": [
    {
     "data": {
      "text/html": [
       "56"
      ],
      "text/latex": [
       "56"
      ],
      "text/markdown": [
       "56"
      ],
      "text/plain": [
       "[1] 56"
      ]
     },
     "metadata": {},
     "output_type": "display_data"
    }
   ],
   "source": [
    "allsample <- c(paste(\"../Benchmark/Dataset/GSE122960/\",list.files(\"../Benchmark/Dataset/GSE122960/\"),sep=\"\"), \n",
    "               paste(\"../Benchmark/Dataset/GSE128033/\",list.files(\"../Benchmark/Dataset/GSE128033/\"),sep=\"\"), \n",
    "               paste(\"../Benchmark/Dataset/GSE135893/\",list.files(\"../Benchmark/Dataset/GSE135893/\"),sep=\"\"), \n",
    "               paste(\"../Benchmark/Dataset/GSE136831/\",list.files(\"../Benchmark/Dataset/GSE136831/\"),sep=\"\"))\n",
    "length(allsample) # amount of samples"
   ]
  },
  {
   "cell_type": "code",
   "execution_count": 8,
   "id": "f8bde9fa",
   "metadata": {},
   "outputs": [
    {
     "name": "stdout",
     "output_type": "stream",
     "text": [
      "'data.frame':\t253 obs. of  4 variables:\n",
      " $ source  : chr  \"AT1\" \"AT1\" \"AT1\" \"AT1\" ...\n",
      " $ target  : chr  \"Monocyte\" \"Monocyte\" \"Monocyte\" \"Macrophage\" ...\n",
      " $ ligand  : chr  \"TGFB1\" \"TGFB1\" \"TGFB1\" \"TGFB1\" ...\n",
      " $ receptor: chr  \"TGFBR1\" \"TGFBR2\" \"TGFBR3\" \"TGFBR1\" ...\n"
     ]
    },
    {
     "data": {
      "text/html": [
       "<table class=\"dataframe\">\n",
       "<caption>A data.frame: 6 × 4</caption>\n",
       "<thead>\n",
       "\t<tr><th></th><th scope=col>source</th><th scope=col>target</th><th scope=col>ligand</th><th scope=col>receptor</th></tr>\n",
       "\t<tr><th></th><th scope=col>&lt;chr&gt;</th><th scope=col>&lt;chr&gt;</th><th scope=col>&lt;chr&gt;</th><th scope=col>&lt;chr&gt;</th></tr>\n",
       "</thead>\n",
       "<tbody>\n",
       "\t<tr><th scope=row>1</th><td>AT1</td><td>Monocyte  </td><td>TGFB1</td><td>TGFBR1</td></tr>\n",
       "\t<tr><th scope=row>2</th><td>AT1</td><td>Monocyte  </td><td>TGFB1</td><td>TGFBR2</td></tr>\n",
       "\t<tr><th scope=row>3</th><td>AT1</td><td>Monocyte  </td><td>TGFB1</td><td>TGFBR3</td></tr>\n",
       "\t<tr><th scope=row>4</th><td>AT1</td><td>Macrophage</td><td>TGFB1</td><td>TGFBR1</td></tr>\n",
       "\t<tr><th scope=row>5</th><td>AT1</td><td>Macrophage</td><td>TGFB1</td><td>TGFBR2</td></tr>\n",
       "\t<tr><th scope=row>6</th><td>AT1</td><td>Macrophage</td><td>TGFB1</td><td>TGFBR3</td></tr>\n",
       "</tbody>\n",
       "</table>\n"
      ],
      "text/latex": [
       "A data.frame: 6 × 4\n",
       "\\begin{tabular}{r|llll}\n",
       "  & source & target & ligand & receptor\\\\\n",
       "  & <chr> & <chr> & <chr> & <chr>\\\\\n",
       "\\hline\n",
       "\t1 & AT1 & Monocyte   & TGFB1 & TGFBR1\\\\\n",
       "\t2 & AT1 & Monocyte   & TGFB1 & TGFBR2\\\\\n",
       "\t3 & AT1 & Monocyte   & TGFB1 & TGFBR3\\\\\n",
       "\t4 & AT1 & Macrophage & TGFB1 & TGFBR1\\\\\n",
       "\t5 & AT1 & Macrophage & TGFB1 & TGFBR2\\\\\n",
       "\t6 & AT1 & Macrophage & TGFB1 & TGFBR3\\\\\n",
       "\\end{tabular}\n"
      ],
      "text/markdown": [
       "\n",
       "A data.frame: 6 × 4\n",
       "\n",
       "| <!--/--> | source &lt;chr&gt; | target &lt;chr&gt; | ligand &lt;chr&gt; | receptor &lt;chr&gt; |\n",
       "|---|---|---|---|---|\n",
       "| 1 | AT1 | Monocyte   | TGFB1 | TGFBR1 |\n",
       "| 2 | AT1 | Monocyte   | TGFB1 | TGFBR2 |\n",
       "| 3 | AT1 | Monocyte   | TGFB1 | TGFBR3 |\n",
       "| 4 | AT1 | Macrophage | TGFB1 | TGFBR1 |\n",
       "| 5 | AT1 | Macrophage | TGFB1 | TGFBR2 |\n",
       "| 6 | AT1 | Macrophage | TGFB1 | TGFBR3 |\n",
       "\n"
      ],
      "text/plain": [
       "  source target     ligand receptor\n",
       "1 AT1    Monocyte   TGFB1  TGFBR1  \n",
       "2 AT1    Monocyte   TGFB1  TGFBR2  \n",
       "3 AT1    Monocyte   TGFB1  TGFBR3  \n",
       "4 AT1    Macrophage TGFB1  TGFBR1  \n",
       "5 AT1    Macrophage TGFB1  TGFBR2  \n",
       "6 AT1    Macrophage TGFB1  TGFBR3  "
      ]
     },
     "metadata": {},
     "output_type": "display_data"
    }
   ],
   "source": [
    "# load gold standard\n",
    "gold <- read.table(\"https://raw.githubusercontent.com/mora-lab/cell-cell-interactions/main/benchmark-workflow/data/IPF gold standard.txt\", header = TRUE, sep = \"\\t\")\n",
    "str(gold)\n",
    "head(gold)"
   ]
  },
  {
   "cell_type": "markdown",
   "id": "be91c268",
   "metadata": {},
   "source": [
    "## 2. Cell-cell Interaction Prediction (Python tools)"
   ]
  },
  {
   "cell_type": "code",
   "execution_count": null,
   "id": "2502f565",
   "metadata": {
    "scrolled": true
   },
   "outputs": [],
   "source": [
    "source(\"https://raw.githubusercontent.com/mora-lab/cell-cell-interactions/main/benchmark-workflow/R/CellPhoneDB process.R\")\n",
    "source(\"https://raw.githubusercontent.com/mora-lab/cell-cell-interactions/main/benchmark-workflow/R/NATMI process.R\")\n",
    "# inputdata preparation\n",
    "for (sample in allsample){\n",
    "  seu <- readRDS(sample)\n",
    "  CellPhoneDB_process(seu,strsplit(strsplit(sample,split=\"/\")[[1]][5],split=\"\\\\.\")[[1]][1])\n",
    "  NATMI_process(seu,strsplit(strsplit(sample,split=\"/\")[[1]][5],split=\"\\\\.\")[[1]][1])\n",
    "}"
   ]
  },
  {
   "cell_type": "markdown",
   "id": "5057ba10",
   "metadata": {},
   "source": [
    "### Turn to Bash kernel:"
   ]
  },
  {
   "cell_type": "code",
   "execution_count": 1,
   "id": "c98a0ebc",
   "metadata": {},
   "outputs": [
    {
     "name": "stdout",
     "output_type": "stream",
     "text": [
      "\u001b[0m\u001b[01;34m010I\u001b[0m  \u001b[01;34m041I\u001b[0m  \u001b[01;34m138I\u001b[0m  \u001b[01;34m177I\u001b[0m  \u001b[01;34m221I\u001b[0m  \u001b[01;34m49I\u001b[0m     \u001b[01;34mSC153IPFLOW\u001b[0m  \u001b[01;34mSC94IPFUP\u001b[0m   \u001b[01;34mTILD028\u001b[0m  \u001b[01;34mVUILD64\u001b[0m\n",
      "\u001b[01;34m021I\u001b[0m  \u001b[01;34m051I\u001b[0m  \u001b[01;34m145I\u001b[0m  \u001b[01;34m179I\u001b[0m  \u001b[01;34m222I\u001b[0m  \u001b[01;34m59I\u001b[0m     \u001b[01;34mSC154IPFUP\u001b[0m   \u001b[01;34mSC95IPFLOW\u001b[0m  \u001b[01;34mVUILD53\u001b[0m  \u001b[01;34mVUILD65\u001b[0m\n",
      "\u001b[01;34m022I\u001b[0m  \u001b[01;34m053I\u001b[0m  \u001b[01;34m157I\u001b[0m  \u001b[01;34m209I\u001b[0m  \u001b[01;34m225I\u001b[0m  \u001b[01;34mIPF_01\u001b[0m  \u001b[01;34mSC87IPFLOW\u001b[0m   \u001b[01;34mTILD001\u001b[0m     \u001b[01;34mVUILD59\u001b[0m\n",
      "\u001b[01;34m025I\u001b[0m  \u001b[01;34m063I\u001b[0m  \u001b[01;34m158I\u001b[0m  \u001b[01;34m210I\u001b[0m  \u001b[01;34m228I\u001b[0m  \u001b[01;34mIPF_02\u001b[0m  \u001b[01;34mSC88IPFUP\u001b[0m    \u001b[01;34mTILD006\u001b[0m     \u001b[01;34mVUILD60\u001b[0m\n",
      "\u001b[01;34m034I\u001b[0m  \u001b[01;34m123I\u001b[0m  \u001b[01;34m166I\u001b[0m  \u001b[01;34m212I\u001b[0m  \u001b[01;34m29I\u001b[0m   \u001b[01;34mIPF_03\u001b[0m  \u001b[01;34mSC89IPFLOW\u001b[0m   \u001b[01;34mTILD010\u001b[0m     \u001b[01;34mVUILD61\u001b[0m\n",
      "\u001b[01;34m040I\u001b[0m  \u001b[01;34m135I\u001b[0m  \u001b[01;34m174I\u001b[0m  \u001b[01;34m214I\u001b[0m  \u001b[01;34m47I\u001b[0m   \u001b[01;34mIPF_04\u001b[0m  \u001b[01;34mSC93IPFLOW\u001b[0m   \u001b[01;34mTILD015\u001b[0m     \u001b[01;34mVUILD63\u001b[0m\n",
      "barcodes.tsv  features.tsv  matrix.mtx  meta.tsv\n"
     ]
    }
   ],
   "source": [
    "# CellPhoneDB\n",
    "ls Python/cpdb\n",
    "ls Python/cpdb/010I/"
   ]
  },
  {
   "cell_type": "code",
   "execution_count": 1,
   "id": "5b07b304",
   "metadata": {},
   "outputs": [
    {
     "name": "stdout",
     "output_type": "stream",
     "text": [
      "(cpdb) "
     ]
    },
    {
     "ename": "",
     "evalue": "1",
     "output_type": "error",
     "traceback": []
    }
   ],
   "source": [
    "source activate cpdb"
   ]
  },
  {
   "cell_type": "code",
   "execution_count": 4,
   "id": "c951e712",
   "metadata": {},
   "outputs": [
    {
     "name": "stdout",
     "output_type": "stream",
     "text": [
      "(cpdb) "
     ]
    },
    {
     "ename": "",
     "evalue": "1",
     "output_type": "error",
     "traceback": []
    }
   ],
   "source": [
    "for sample in Python/cpdb/*\n",
    "do\n",
    "    mkdir $sample/out\n",
    "    touch $sample/out/time.txt\n",
    "\t(time -p cellphonedb method statistical_analysis $sample/meta.tsv $sample/ --counts-data hgnc_symbol --output-path $sample/out --threads=4 &>>/dev/null) 2>$sample/out/time.txt \n",
    "done"
   ]
  },
  {
   "cell_type": "code",
   "execution_count": 5,
   "id": "a2e242c5",
   "metadata": {},
   "outputs": [
    {
     "name": "stdout",
     "output_type": "stream",
     "text": [
      "(cpdb) \u001b[0m\u001b[01;34m010I\u001b[0m  \u001b[01;34m041I\u001b[0m  \u001b[01;34m138I\u001b[0m  \u001b[01;34m177I\u001b[0m  \u001b[01;34m221I\u001b[0m  \u001b[01;34m49I\u001b[0m     \u001b[01;34mSC153IPFLOW\u001b[0m  \u001b[01;34mSC94IPFUP\u001b[0m   \u001b[01;34mTILD028\u001b[0m  \u001b[01;34mVUILD64\u001b[0m\n",
      "\u001b[01;34m021I\u001b[0m  \u001b[01;34m051I\u001b[0m  \u001b[01;34m145I\u001b[0m  \u001b[01;34m179I\u001b[0m  \u001b[01;34m222I\u001b[0m  \u001b[01;34m59I\u001b[0m     \u001b[01;34mSC154IPFUP\u001b[0m   \u001b[01;34mSC95IPFLOW\u001b[0m  \u001b[01;34mVUILD53\u001b[0m  \u001b[01;34mVUILD65\u001b[0m\n",
      "\u001b[01;34m022I\u001b[0m  \u001b[01;34m053I\u001b[0m  \u001b[01;34m157I\u001b[0m  \u001b[01;34m209I\u001b[0m  \u001b[01;34m225I\u001b[0m  \u001b[01;34mIPF_01\u001b[0m  \u001b[01;34mSC87IPFLOW\u001b[0m   \u001b[01;34mTILD001\u001b[0m     \u001b[01;34mVUILD59\u001b[0m\n",
      "\u001b[01;34m025I\u001b[0m  \u001b[01;34m063I\u001b[0m  \u001b[01;34m158I\u001b[0m  \u001b[01;34m210I\u001b[0m  \u001b[01;34m228I\u001b[0m  \u001b[01;34mIPF_02\u001b[0m  \u001b[01;34mSC88IPFUP\u001b[0m    \u001b[01;34mTILD006\u001b[0m     \u001b[01;34mVUILD60\u001b[0m\n",
      "\u001b[01;34m034I\u001b[0m  \u001b[01;34m123I\u001b[0m  \u001b[01;34m166I\u001b[0m  \u001b[01;34m212I\u001b[0m  \u001b[01;34m29I\u001b[0m   \u001b[01;34mIPF_03\u001b[0m  \u001b[01;34mSC89IPFLOW\u001b[0m   \u001b[01;34mTILD010\u001b[0m     \u001b[01;34mVUILD61\u001b[0m\n",
      "\u001b[01;34m040I\u001b[0m  \u001b[01;34m135I\u001b[0m  \u001b[01;34m174I\u001b[0m  \u001b[01;34m214I\u001b[0m  \u001b[01;34m47I\u001b[0m   \u001b[01;34mIPF_04\u001b[0m  \u001b[01;34mSC93IPFLOW\u001b[0m   \u001b[01;34mTILD015\u001b[0m     \u001b[01;34mVUILD63\u001b[0m\n",
      "(cpdb) ann.csv  em.csv\n",
      "(cpdb) "
     ]
    },
    {
     "ename": "",
     "evalue": "1",
     "output_type": "error",
     "traceback": []
    }
   ],
   "source": [
    "# NATMI\n",
    "ls Python/natmi\n",
    "ls Python/natmi/010I/"
   ]
  },
  {
   "cell_type": "code",
   "execution_count": 5,
   "id": "78e57ce9",
   "metadata": {},
   "outputs": [
    {
     "name": "stdout",
     "output_type": "stream",
     "text": [
      "(cpdb) "
     ]
    },
    {
     "ename": "",
     "evalue": "1",
     "output_type": "error",
     "traceback": []
    }
   ],
   "source": [
    "for sample in Python/natmi/*\n",
    "do\n",
    "    mkdir $sample/out\n",
    "    touch $sample/out/time1.txt\n",
    "\t(time -p docker run --rm -it --name natmi -v /home/bioinformatics/Documents/Test/$sample/:/opt/NATMI/workdir asrhou/natmi python ExtractEdges.py --emFile /opt/NATMI/workdir/em.csv --annFile /opt/NATMI/workdir/ann.csv --interDB lrc2p --out /opt/NATMI/workdir/out &>/dev/null) 2>$sample/out/time1.txt\n",
    "done"
   ]
  },
  {
   "cell_type": "code",
   "execution_count": 6,
   "id": "bda38928",
   "metadata": {},
   "outputs": [
    {
     "name": "stdout",
     "output_type": "stream",
     "text": [
      "(cpdb) "
     ]
    },
    {
     "ename": "",
     "evalue": "1",
     "output_type": "error",
     "traceback": []
    }
   ],
   "source": [
    "for sample in Python/natmi/*\n",
    "do\n",
    "    touch $sample/out/time2.txt\n",
    "\t(time -p docker run --rm -it --name natmi -v /home/bioinformatics/Documents/Test/$sample/:/opt/NATMI/workdir asrhou/natmi python VisInteractions.py --sourceFolder /opt/NATMI/workdir/out --interDB lrc2p --weightType mean --detectionThreshold 0.2 &>/dev/null) 2>$sample/out/time2.txt\n",
    "done"
   ]
  },
  {
   "cell_type": "markdown",
   "id": "90c002eb",
   "metadata": {},
   "source": [
    "### Turn back to R kernel:"
   ]
  },
  {
   "cell_type": "code",
   "execution_count": 1,
   "id": "3448cd90",
   "metadata": {},
   "outputs": [],
   "source": [
    "suppressPackageStartupMessages(library(Seurat))\n",
    "suppressPackageStartupMessages(library(dplyr))\n",
    "suppressPackageStartupMessages(library(patchwork))\n",
    "suppressPackageStartupMessages(library(Matrix))\n",
    "suppressPackageStartupMessages(library(parallel))\n",
    "suppressPackageStartupMessages(library(iTALK))\n",
    "suppressPackageStartupMessages(library(CellChat))\n",
    "suppressPackageStartupMessages(library(SingleCellSignalR))\n",
    "suppressPackageStartupMessages(library(CCInx))\n",
    "suppressPackageStartupMessages(library(scMLnet))\n",
    "source(\"https://raw.githubusercontent.com/mora-lab/cell-cell-interactions/main/benchmark-workflow/R/run_CellChat.R\")\n",
    "source(\"https://raw.githubusercontent.com/mora-lab/cell-cell-interactions/main/benchmark-workflow/R/run_iTalk.R\")\n",
    "source(\"https://raw.githubusercontent.com/mora-lab/cell-cell-interactions/main/benchmark-workflow/R/run_SingleCellSignalR.R\")\n",
    "source(\"https://raw.githubusercontent.com/mora-lab/cell-cell-interactions/main/benchmark-workflow/R/run_scMLnet.R\")\n",
    "source(\"https://raw.githubusercontent.com/mora-lab/cell-cell-interactions/main/benchmark-workflow/R/run_CCInx.R\")\n",
    "source(\"https://raw.githubusercontent.com/mora-lab/cell-cell-interactions/main/benchmark-workflow/R/run_CellPhoneDB.R\")\n",
    "source(\"https://raw.githubusercontent.com/mora-lab/cell-cell-interactions/main/benchmark-workflow/R/run_NATMI.R\")\n",
    "gold <- read.table(\"https://raw.githubusercontent.com/mora-lab/cell-cell-interactions/main/benchmark-workflow/data/IPF gold standard.txt\", header = TRUE, sep = \"\\t\")\n",
    "allsample <- c(paste(\"../Benchmark/Dataset/GSE122960/\",list.files(\"../Benchmark/Dataset/GSE122960/\"),sep=\"\"), \n",
    "               paste(\"../Benchmark/Dataset/GSE128033/\",list.files(\"../Benchmark/Dataset/GSE128033/\"),sep=\"\"), \n",
    "               paste(\"../Benchmark/Dataset/GSE135893/\",list.files(\"../Benchmark/Dataset/GSE135893/\"),sep=\"\"), \n",
    "               paste(\"../Benchmark/Dataset/GSE136831/\",list.files(\"../Benchmark/Dataset/GSE136831/\"),sep=\"\"))"
   ]
  },
  {
   "cell_type": "code",
   "execution_count": 2,
   "id": "b6afe670",
   "metadata": {
    "scrolled": true
   },
   "outputs": [],
   "source": [
    "# CellPhoneDB (threshold: pvalues < 0.05)\n",
    "cpdblrpairs <- list()\n",
    "cpdbpairs <- c()\n",
    "cpdbspeed <- data.frame()\n",
    "for (sample in allsample){\n",
    "  seu <- readRDS(sample)\n",
    "  samplename <- strsplit(strsplit(sample,split=\"/\")[[1]][5],split=\"\\\\.\")[[1]][1]\n",
    "  cpdb <- run_CellPhoneDB_output(samplename, seu)\n",
    "  cpdblrpairs[[sample]] <- cpdb$lrpairs\n",
    "  cpdbpairs <- c(cpdbpairs, cpdb$pairs)\n",
    "  cpdbspeed <- rbind(cpdbspeed, cpdb$speed)\n",
    "}"
   ]
  },
  {
   "cell_type": "code",
   "execution_count": 18,
   "id": "cd30523d",
   "metadata": {},
   "outputs": [
    {
     "data": {
      "text/html": [
       "<table class=\"dataframe\">\n",
       "<caption>A data.frame: 6 × 4</caption>\n",
       "<thead>\n",
       "\t<tr><th></th><th scope=col>cellA</th><th scope=col>cellB</th><th scope=col>geneA</th><th scope=col>geneB</th></tr>\n",
       "\t<tr><th></th><th scope=col>&lt;chr&gt;</th><th scope=col>&lt;chr&gt;</th><th scope=col>&lt;chr&gt;</th><th scope=col>&lt;chr&gt;</th></tr>\n",
       "</thead>\n",
       "<tbody>\n",
       "\t<tr><th scope=row>1</th><td>AT1</td><td>AT1</td><td>WNT3A  </td><td>FZD2   </td></tr>\n",
       "\t<tr><th scope=row>2</th><td>AT1</td><td>AT1</td><td>NOTCH3 </td><td>JAG2   </td></tr>\n",
       "\t<tr><th scope=row>3</th><td>AT1</td><td>AT1</td><td>WNT5A  </td><td>FZD2   </td></tr>\n",
       "\t<tr><th scope=row>4</th><td>AT1</td><td>AT1</td><td>CEACAM6</td><td>CEACAM6</td></tr>\n",
       "\t<tr><th scope=row>5</th><td>AT1</td><td>AT1</td><td>EGFR   </td><td>TGFA   </td></tr>\n",
       "\t<tr><th scope=row>6</th><td>AT1</td><td>AT1</td><td>EPHA1  </td><td>EFNA5  </td></tr>\n",
       "</tbody>\n",
       "</table>\n"
      ],
      "text/latex": [
       "A data.frame: 6 × 4\n",
       "\\begin{tabular}{r|llll}\n",
       "  & cellA & cellB & geneA & geneB\\\\\n",
       "  & <chr> & <chr> & <chr> & <chr>\\\\\n",
       "\\hline\n",
       "\t1 & AT1 & AT1 & WNT3A   & FZD2   \\\\\n",
       "\t2 & AT1 & AT1 & NOTCH3  & JAG2   \\\\\n",
       "\t3 & AT1 & AT1 & WNT5A   & FZD2   \\\\\n",
       "\t4 & AT1 & AT1 & CEACAM6 & CEACAM6\\\\\n",
       "\t5 & AT1 & AT1 & EGFR    & TGFA   \\\\\n",
       "\t6 & AT1 & AT1 & EPHA1   & EFNA5  \\\\\n",
       "\\end{tabular}\n"
      ],
      "text/markdown": [
       "\n",
       "A data.frame: 6 × 4\n",
       "\n",
       "| <!--/--> | cellA &lt;chr&gt; | cellB &lt;chr&gt; | geneA &lt;chr&gt; | geneB &lt;chr&gt; |\n",
       "|---|---|---|---|---|\n",
       "| 1 | AT1 | AT1 | WNT3A   | FZD2    |\n",
       "| 2 | AT1 | AT1 | NOTCH3  | JAG2    |\n",
       "| 3 | AT1 | AT1 | WNT5A   | FZD2    |\n",
       "| 4 | AT1 | AT1 | CEACAM6 | CEACAM6 |\n",
       "| 5 | AT1 | AT1 | EGFR    | TGFA    |\n",
       "| 6 | AT1 | AT1 | EPHA1   | EFNA5   |\n",
       "\n"
      ],
      "text/plain": [
       "  cellA cellB geneA   geneB  \n",
       "1 AT1   AT1   WNT3A   FZD2   \n",
       "2 AT1   AT1   NOTCH3  JAG2   \n",
       "3 AT1   AT1   WNT5A   FZD2   \n",
       "4 AT1   AT1   CEACAM6 CEACAM6\n",
       "5 AT1   AT1   EGFR    TGFA   \n",
       "6 AT1   AT1   EPHA1   EFNA5  "
      ]
     },
     "metadata": {},
     "output_type": "display_data"
    },
    {
     "data": {
      "text/html": [
       "<style>\n",
       ".list-inline {list-style: none; margin:0; padding: 0}\n",
       ".list-inline>li {display: inline-block}\n",
       ".list-inline>li:not(:last-child)::after {content: \"\\00b7\"; padding: 0 .5ex}\n",
       "</style>\n",
       "<ol class=list-inline><li>311</li><li>510</li><li>604</li><li>682</li><li>856</li><li>905</li><li>933</li><li>943</li><li>963</li><li>1062</li><li>1120</li><li>1140</li><li>1160</li><li>1185</li><li>1246</li><li>1324</li><li>1351</li><li>1389</li><li>1394</li><li>1416</li><li>1444</li><li>1457</li><li>1521</li><li>1545</li><li>1563</li><li>1576</li><li>1657</li><li>1689</li><li>1746</li><li>1792</li><li>1809</li><li>1857</li><li>1878</li><li>1909</li><li>1939</li><li>1979</li><li>1993</li><li>2030</li><li>2164</li><li>2178</li><li>2258</li><li>2263</li><li>2281</li><li>2285</li><li>2303</li><li>2362</li><li>2398</li><li>2404</li><li>2432</li><li>2631</li><li>2844</li><li>3029</li><li>3035</li><li>3153</li><li>3363</li><li>3510</li></ol>\n"
      ],
      "text/latex": [
       "\\begin{enumerate*}\n",
       "\\item 311\n",
       "\\item 510\n",
       "\\item 604\n",
       "\\item 682\n",
       "\\item 856\n",
       "\\item 905\n",
       "\\item 933\n",
       "\\item 943\n",
       "\\item 963\n",
       "\\item 1062\n",
       "\\item 1120\n",
       "\\item 1140\n",
       "\\item 1160\n",
       "\\item 1185\n",
       "\\item 1246\n",
       "\\item 1324\n",
       "\\item 1351\n",
       "\\item 1389\n",
       "\\item 1394\n",
       "\\item 1416\n",
       "\\item 1444\n",
       "\\item 1457\n",
       "\\item 1521\n",
       "\\item 1545\n",
       "\\item 1563\n",
       "\\item 1576\n",
       "\\item 1657\n",
       "\\item 1689\n",
       "\\item 1746\n",
       "\\item 1792\n",
       "\\item 1809\n",
       "\\item 1857\n",
       "\\item 1878\n",
       "\\item 1909\n",
       "\\item 1939\n",
       "\\item 1979\n",
       "\\item 1993\n",
       "\\item 2030\n",
       "\\item 2164\n",
       "\\item 2178\n",
       "\\item 2258\n",
       "\\item 2263\n",
       "\\item 2281\n",
       "\\item 2285\n",
       "\\item 2303\n",
       "\\item 2362\n",
       "\\item 2398\n",
       "\\item 2404\n",
       "\\item 2432\n",
       "\\item 2631\n",
       "\\item 2844\n",
       "\\item 3029\n",
       "\\item 3035\n",
       "\\item 3153\n",
       "\\item 3363\n",
       "\\item 3510\n",
       "\\end{enumerate*}\n"
      ],
      "text/markdown": [
       "1. 311\n",
       "2. 510\n",
       "3. 604\n",
       "4. 682\n",
       "5. 856\n",
       "6. 905\n",
       "7. 933\n",
       "8. 943\n",
       "9. 963\n",
       "10. 1062\n",
       "11. 1120\n",
       "12. 1140\n",
       "13. 1160\n",
       "14. 1185\n",
       "15. 1246\n",
       "16. 1324\n",
       "17. 1351\n",
       "18. 1389\n",
       "19. 1394\n",
       "20. 1416\n",
       "21. 1444\n",
       "22. 1457\n",
       "23. 1521\n",
       "24. 1545\n",
       "25. 1563\n",
       "26. 1576\n",
       "27. 1657\n",
       "28. 1689\n",
       "29. 1746\n",
       "30. 1792\n",
       "31. 1809\n",
       "32. 1857\n",
       "33. 1878\n",
       "34. 1909\n",
       "35. 1939\n",
       "36. 1979\n",
       "37. 1993\n",
       "38. 2030\n",
       "39. 2164\n",
       "40. 2178\n",
       "41. 2258\n",
       "42. 2263\n",
       "43. 2281\n",
       "44. 2285\n",
       "45. 2303\n",
       "46. 2362\n",
       "47. 2398\n",
       "48. 2404\n",
       "49. 2432\n",
       "50. 2631\n",
       "51. 2844\n",
       "52. 3029\n",
       "53. 3035\n",
       "54. 3153\n",
       "55. 3363\n",
       "56. 3510\n",
       "\n",
       "\n"
      ],
      "text/plain": [
       " [1]  311  510  604  682  856  905  933  943  963 1062 1120 1140 1160 1185 1246\n",
       "[16] 1324 1351 1389 1394 1416 1444 1457 1521 1545 1563 1576 1657 1689 1746 1792\n",
       "[31] 1809 1857 1878 1909 1939 1979 1993 2030 2164 2178 2258 2263 2281 2285 2303\n",
       "[46] 2362 2398 2404 2432 2631 2844 3029 3035 3153 3363 3510"
      ]
     },
     "metadata": {},
     "output_type": "display_data"
    }
   ],
   "source": [
    "head(cpdblrpairs[[1]])\n",
    "sort(cpdbpairs)"
   ]
  },
  {
   "cell_type": "code",
   "execution_count": 4,
   "id": "8df382b6",
   "metadata": {
    "scrolled": true
   },
   "outputs": [],
   "source": [
    "# NATMI (threshold: do not draw the interactions in which detection rates of the ligand and the receptor are lower than the threshold (default 0.2))\n",
    "nmlrpairs <- list()\n",
    "nmpairs <- c()\n",
    "nmspeed <- data.frame()\n",
    "for (sample in allsample){\n",
    "  seu <- readRDS(sample)\n",
    "  samplename <- strsplit(strsplit(sample,split=\"/\")[[1]][5],split=\"\\\\.\")[[1]][1]\n",
    "  nm <- run_NATMI_output(samplename, seu)\n",
    "  nmlrpairs[[sample]] <- nm$lrpairs\n",
    "  nmpairs <- c(nmpairs, nm$pairs)\n",
    "  nmspeed <- rbind(nmspeed, nm$speed)\n",
    "}"
   ]
  },
  {
   "cell_type": "code",
   "execution_count": 19,
   "id": "914c2ceb",
   "metadata": {},
   "outputs": [
    {
     "data": {
      "text/html": [
       "<table class=\"dataframe\">\n",
       "<caption>A data.frame: 6 × 4</caption>\n",
       "<thead>\n",
       "\t<tr><th></th><th scope=col>source</th><th scope=col>target</th><th scope=col>ligand</th><th scope=col>receptor</th></tr>\n",
       "\t<tr><th></th><th scope=col>&lt;chr&gt;</th><th scope=col>&lt;chr&gt;</th><th scope=col>&lt;chr&gt;</th><th scope=col>&lt;chr&gt;</th></tr>\n",
       "</thead>\n",
       "<tbody>\n",
       "\t<tr><th scope=row>1</th><td>Endothelial</td><td>AT1       </td><td>A2M</td><td>LRP1</td></tr>\n",
       "\t<tr><th scope=row>2</th><td>Endothelial</td><td>Fibroblast</td><td>A2M</td><td>LRP1</td></tr>\n",
       "\t<tr><th scope=row>3</th><td>Endothelial</td><td>Macrophage</td><td>A2M</td><td>LRP1</td></tr>\n",
       "\t<tr><th scope=row>4</th><td>Endothelial</td><td>Monocyte  </td><td>A2M</td><td>LRP1</td></tr>\n",
       "\t<tr><th scope=row>5</th><td>Fibroblast </td><td>AT1       </td><td>A2M</td><td>LRP1</td></tr>\n",
       "\t<tr><th scope=row>6</th><td>Fibroblast </td><td>Fibroblast</td><td>A2M</td><td>LRP1</td></tr>\n",
       "</tbody>\n",
       "</table>\n"
      ],
      "text/latex": [
       "A data.frame: 6 × 4\n",
       "\\begin{tabular}{r|llll}\n",
       "  & source & target & ligand & receptor\\\\\n",
       "  & <chr> & <chr> & <chr> & <chr>\\\\\n",
       "\\hline\n",
       "\t1 & Endothelial & AT1        & A2M & LRP1\\\\\n",
       "\t2 & Endothelial & Fibroblast & A2M & LRP1\\\\\n",
       "\t3 & Endothelial & Macrophage & A2M & LRP1\\\\\n",
       "\t4 & Endothelial & Monocyte   & A2M & LRP1\\\\\n",
       "\t5 & Fibroblast  & AT1        & A2M & LRP1\\\\\n",
       "\t6 & Fibroblast  & Fibroblast & A2M & LRP1\\\\\n",
       "\\end{tabular}\n"
      ],
      "text/markdown": [
       "\n",
       "A data.frame: 6 × 4\n",
       "\n",
       "| <!--/--> | source &lt;chr&gt; | target &lt;chr&gt; | ligand &lt;chr&gt; | receptor &lt;chr&gt; |\n",
       "|---|---|---|---|---|\n",
       "| 1 | Endothelial | AT1        | A2M | LRP1 |\n",
       "| 2 | Endothelial | Fibroblast | A2M | LRP1 |\n",
       "| 3 | Endothelial | Macrophage | A2M | LRP1 |\n",
       "| 4 | Endothelial | Monocyte   | A2M | LRP1 |\n",
       "| 5 | Fibroblast  | AT1        | A2M | LRP1 |\n",
       "| 6 | Fibroblast  | Fibroblast | A2M | LRP1 |\n",
       "\n"
      ],
      "text/plain": [
       "  source      target     ligand receptor\n",
       "1 Endothelial AT1        A2M    LRP1    \n",
       "2 Endothelial Fibroblast A2M    LRP1    \n",
       "3 Endothelial Macrophage A2M    LRP1    \n",
       "4 Endothelial Monocyte   A2M    LRP1    \n",
       "5 Fibroblast  AT1        A2M    LRP1    \n",
       "6 Fibroblast  Fibroblast A2M    LRP1    "
      ]
     },
     "metadata": {},
     "output_type": "display_data"
    },
    {
     "data": {
      "text/html": [
       "<style>\n",
       ".list-inline {list-style: none; margin:0; padding: 0}\n",
       ".list-inline>li {display: inline-block}\n",
       ".list-inline>li:not(:last-child)::after {content: \"\\00b7\"; padding: 0 .5ex}\n",
       "</style>\n",
       "<ol class=list-inline><li>81</li><li>1161</li><li>1683</li><li>1892</li><li>2228</li><li>2313</li><li>2331</li><li>2455</li><li>2475</li><li>2501</li><li>2541</li><li>2614</li><li>2702</li><li>2729</li><li>2867</li><li>2883</li><li>2906</li><li>2935</li><li>3032</li><li>3088</li><li>3152</li><li>3169</li><li>3237</li><li>3346</li><li>3376</li><li>3448</li><li>3472</li><li>3542</li><li>3573</li><li>3643</li><li>3656</li><li>3789</li><li>3822</li><li>3867</li><li>3927</li><li>4104</li><li>4185</li><li>4295</li><li>4311</li><li>4346</li><li>4556</li><li>4558</li><li>4622</li><li>4694</li><li>4819</li><li>4916</li><li>4920</li><li>5187</li><li>5250</li><li>5349</li><li>5450</li><li>5659</li><li>6221</li><li>6473</li><li>6817</li><li>7163</li></ol>\n"
      ],
      "text/latex": [
       "\\begin{enumerate*}\n",
       "\\item 81\n",
       "\\item 1161\n",
       "\\item 1683\n",
       "\\item 1892\n",
       "\\item 2228\n",
       "\\item 2313\n",
       "\\item 2331\n",
       "\\item 2455\n",
       "\\item 2475\n",
       "\\item 2501\n",
       "\\item 2541\n",
       "\\item 2614\n",
       "\\item 2702\n",
       "\\item 2729\n",
       "\\item 2867\n",
       "\\item 2883\n",
       "\\item 2906\n",
       "\\item 2935\n",
       "\\item 3032\n",
       "\\item 3088\n",
       "\\item 3152\n",
       "\\item 3169\n",
       "\\item 3237\n",
       "\\item 3346\n",
       "\\item 3376\n",
       "\\item 3448\n",
       "\\item 3472\n",
       "\\item 3542\n",
       "\\item 3573\n",
       "\\item 3643\n",
       "\\item 3656\n",
       "\\item 3789\n",
       "\\item 3822\n",
       "\\item 3867\n",
       "\\item 3927\n",
       "\\item 4104\n",
       "\\item 4185\n",
       "\\item 4295\n",
       "\\item 4311\n",
       "\\item 4346\n",
       "\\item 4556\n",
       "\\item 4558\n",
       "\\item 4622\n",
       "\\item 4694\n",
       "\\item 4819\n",
       "\\item 4916\n",
       "\\item 4920\n",
       "\\item 5187\n",
       "\\item 5250\n",
       "\\item 5349\n",
       "\\item 5450\n",
       "\\item 5659\n",
       "\\item 6221\n",
       "\\item 6473\n",
       "\\item 6817\n",
       "\\item 7163\n",
       "\\end{enumerate*}\n"
      ],
      "text/markdown": [
       "1. 81\n",
       "2. 1161\n",
       "3. 1683\n",
       "4. 1892\n",
       "5. 2228\n",
       "6. 2313\n",
       "7. 2331\n",
       "8. 2455\n",
       "9. 2475\n",
       "10. 2501\n",
       "11. 2541\n",
       "12. 2614\n",
       "13. 2702\n",
       "14. 2729\n",
       "15. 2867\n",
       "16. 2883\n",
       "17. 2906\n",
       "18. 2935\n",
       "19. 3032\n",
       "20. 3088\n",
       "21. 3152\n",
       "22. 3169\n",
       "23. 3237\n",
       "24. 3346\n",
       "25. 3376\n",
       "26. 3448\n",
       "27. 3472\n",
       "28. 3542\n",
       "29. 3573\n",
       "30. 3643\n",
       "31. 3656\n",
       "32. 3789\n",
       "33. 3822\n",
       "34. 3867\n",
       "35. 3927\n",
       "36. 4104\n",
       "37. 4185\n",
       "38. 4295\n",
       "39. 4311\n",
       "40. 4346\n",
       "41. 4556\n",
       "42. 4558\n",
       "43. 4622\n",
       "44. 4694\n",
       "45. 4819\n",
       "46. 4916\n",
       "47. 4920\n",
       "48. 5187\n",
       "49. 5250\n",
       "50. 5349\n",
       "51. 5450\n",
       "52. 5659\n",
       "53. 6221\n",
       "54. 6473\n",
       "55. 6817\n",
       "56. 7163\n",
       "\n",
       "\n"
      ],
      "text/plain": [
       " [1]   81 1161 1683 1892 2228 2313 2331 2455 2475 2501 2541 2614 2702 2729 2867\n",
       "[16] 2883 2906 2935 3032 3088 3152 3169 3237 3346 3376 3448 3472 3542 3573 3643\n",
       "[31] 3656 3789 3822 3867 3927 4104 4185 4295 4311 4346 4556 4558 4622 4694 4819\n",
       "[46] 4916 4920 5187 5250 5349 5450 5659 6221 6473 6817 7163"
      ]
     },
     "metadata": {},
     "output_type": "display_data"
    }
   ],
   "source": [
    "head(nmlrpairs[[1]])\n",
    "sort(nmpairs)"
   ]
  },
  {
   "cell_type": "code",
   "execution_count": 6,
   "id": "d5b1b0d3",
   "metadata": {},
   "outputs": [],
   "source": [
    "cpdbunlist <- data.frame()\n",
    "for(i in 1:length(cpdblrpairs)){\n",
    "  cpdbunlist <- rbind(cpdbunlist, cpdblrpairs[[i]])\n",
    "}\n",
    "nmunlist <- data.frame()\n",
    "for(i in 1:length(nmlrpairs)){\n",
    "  nmunlist <- rbind(nmunlist, nmlrpairs[[i]])\n",
    "}\n",
    "saveRDS(cpdblrpairs,\"Result/lrpairs/cpdb.rds\")\n",
    "saveRDS(nmlrpairs,\"Result/lrpairs/nm.rds\")\n",
    "write.table(unique(cpdbunlist),\"Result/lrpairs/cpdb.txt\",row.names = F,sep=\"\\t\",quote = F)\n",
    "write.table(unique(nmunlist),\"Result/lrpairs/nm.txt\",row.names = F,sep=\"\\t\",quote = F)"
   ]
  },
  {
   "cell_type": "code",
   "execution_count": 7,
   "id": "39cdce04",
   "metadata": {},
   "outputs": [],
   "source": [
    "cpdbspeed[,\"Tool\"] <- rep(\"CellPhoneDB\",each=56)\n",
    "write.table(cpdbspeed,\"Result/speedcpdb.txt\",row.names = F,sep=\"\\t\",quote = F)\n",
    "nmspeed[,\"Tool\"] <- rep(\"NATMI\",each=56)\n",
    "write.table(nmspeed,\"Result/speednm.txt\",row.names = F,sep=\"\\t\",quote = F)"
   ]
  },
  {
   "cell_type": "markdown",
   "id": "4bd5763f",
   "metadata": {},
   "source": [
    "## 3. Cell-cell Interaction Prediction (R tools) "
   ]
  },
  {
   "cell_type": "code",
   "execution_count": null,
   "id": "17983e34",
   "metadata": {},
   "outputs": [],
   "source": [
    "# CellChat\n",
    "cclrpairs <- list()\n",
    "ccpairs <- c()\n",
    "ccspeed <- data.frame()\n",
    "\n",
    "for (sample in allsample){\n",
    "  seu <- readRDS(sample)\n",
    "  cc <- run_CellChat(seu)\n",
    "  cclrpairs[[sample]] <- cc$lrpairs\n",
    "  ccpairs <- c(ccpairs, cc$pairs)\n",
    "  ccspeed <- rbind(ccspeed, cc$speed)\n",
    "}"
   ]
  },
  {
   "cell_type": "code",
   "execution_count": 17,
   "id": "64977aaf",
   "metadata": {},
   "outputs": [
    {
     "data": {
      "text/html": [
       "<table class=\"dataframe\">\n",
       "<caption>A data.frame: 6 × 6</caption>\n",
       "<thead>\n",
       "\t<tr><th></th><th scope=col>source</th><th scope=col>target</th><th scope=col>ligand</th><th scope=col>receptor</th><th scope=col>prob</th><th scope=col>pval</th></tr>\n",
       "\t<tr><th></th><th scope=col>&lt;chr&gt;</th><th scope=col>&lt;chr&gt;</th><th scope=col>&lt;chr&gt;</th><th scope=col>&lt;chr&gt;</th><th scope=col>&lt;dbl&gt;</th><th scope=col>&lt;dbl&gt;</th></tr>\n",
       "</thead>\n",
       "<tbody>\n",
       "\t<tr><th scope=row>1</th><td>Macrophage</td><td>AT1</td><td>TGFB1</td><td>TGFBR1</td><td>0.007129617</td><td>0.00</td></tr>\n",
       "\t<tr><th scope=row>2</th><td>Macrophage</td><td>AT1</td><td>TGFB1</td><td>TGFBR2</td><td>0.007129617</td><td>0.00</td></tr>\n",
       "\t<tr><th scope=row>21</th><td>Monocyte  </td><td>AT1</td><td>TGFB1</td><td>TGFBR1</td><td>0.005411899</td><td>0.00</td></tr>\n",
       "\t<tr><th scope=row>22</th><td>Monocyte  </td><td>AT1</td><td>TGFB1</td><td>TGFBR2</td><td>0.005411899</td><td>0.00</td></tr>\n",
       "\t<tr><th scope=row>3</th><td>Tcell     </td><td>AT1</td><td>TGFB1</td><td>TGFBR1</td><td>0.001918807</td><td>0.02</td></tr>\n",
       "\t<tr><th scope=row>31</th><td>Tcell     </td><td>AT1</td><td>TGFB1</td><td>TGFBR2</td><td>0.001918807</td><td>0.02</td></tr>\n",
       "</tbody>\n",
       "</table>\n"
      ],
      "text/latex": [
       "A data.frame: 6 × 6\n",
       "\\begin{tabular}{r|llllll}\n",
       "  & source & target & ligand & receptor & prob & pval\\\\\n",
       "  & <chr> & <chr> & <chr> & <chr> & <dbl> & <dbl>\\\\\n",
       "\\hline\n",
       "\t1 & Macrophage & AT1 & TGFB1 & TGFBR1 & 0.007129617 & 0.00\\\\\n",
       "\t2 & Macrophage & AT1 & TGFB1 & TGFBR2 & 0.007129617 & 0.00\\\\\n",
       "\t21 & Monocyte   & AT1 & TGFB1 & TGFBR1 & 0.005411899 & 0.00\\\\\n",
       "\t22 & Monocyte   & AT1 & TGFB1 & TGFBR2 & 0.005411899 & 0.00\\\\\n",
       "\t3 & Tcell      & AT1 & TGFB1 & TGFBR1 & 0.001918807 & 0.02\\\\\n",
       "\t31 & Tcell      & AT1 & TGFB1 & TGFBR2 & 0.001918807 & 0.02\\\\\n",
       "\\end{tabular}\n"
      ],
      "text/markdown": [
       "\n",
       "A data.frame: 6 × 6\n",
       "\n",
       "| <!--/--> | source &lt;chr&gt; | target &lt;chr&gt; | ligand &lt;chr&gt; | receptor &lt;chr&gt; | prob &lt;dbl&gt; | pval &lt;dbl&gt; |\n",
       "|---|---|---|---|---|---|---|\n",
       "| 1 | Macrophage | AT1 | TGFB1 | TGFBR1 | 0.007129617 | 0.00 |\n",
       "| 2 | Macrophage | AT1 | TGFB1 | TGFBR2 | 0.007129617 | 0.00 |\n",
       "| 21 | Monocyte   | AT1 | TGFB1 | TGFBR1 | 0.005411899 | 0.00 |\n",
       "| 22 | Monocyte   | AT1 | TGFB1 | TGFBR2 | 0.005411899 | 0.00 |\n",
       "| 3 | Tcell      | AT1 | TGFB1 | TGFBR1 | 0.001918807 | 0.02 |\n",
       "| 31 | Tcell      | AT1 | TGFB1 | TGFBR2 | 0.001918807 | 0.02 |\n",
       "\n"
      ],
      "text/plain": [
       "   source     target ligand receptor prob        pval\n",
       "1  Macrophage AT1    TGFB1  TGFBR1   0.007129617 0.00\n",
       "2  Macrophage AT1    TGFB1  TGFBR2   0.007129617 0.00\n",
       "21 Monocyte   AT1    TGFB1  TGFBR1   0.005411899 0.00\n",
       "22 Monocyte   AT1    TGFB1  TGFBR2   0.005411899 0.00\n",
       "3  Tcell      AT1    TGFB1  TGFBR1   0.001918807 0.02\n",
       "31 Tcell      AT1    TGFB1  TGFBR2   0.001918807 0.02"
      ]
     },
     "metadata": {},
     "output_type": "display_data"
    },
    {
     "data": {
      "text/html": [
       "<style>\n",
       ".list-inline {list-style: none; margin:0; padding: 0}\n",
       ".list-inline>li {display: inline-block}\n",
       ".list-inline>li:not(:last-child)::after {content: \"\\00b7\"; padding: 0 .5ex}\n",
       "</style>\n",
       "<ol class=list-inline><li>263</li><li>504</li><li>546</li><li>547</li><li>553</li><li>557</li><li>613</li><li>747</li><li>775</li><li>781</li><li>824</li><li>861</li><li>868</li><li>916</li><li>917</li><li>946</li><li>959</li><li>1025</li><li>1063</li><li>1154</li><li>1169</li><li>1195</li><li>1227</li><li>1238</li><li>1265</li><li>1290</li><li>1291</li><li>1303</li><li>1333</li><li>1334</li><li>1394</li><li>1523</li><li>1569</li><li>1577</li><li>1584</li><li>1611</li><li>1661</li><li>1663</li><li>1789</li><li>1811</li><li>1828</li><li>1882</li><li>1910</li><li>1975</li><li>1988</li><li>2002</li><li>2056</li><li>2124</li><li>2256</li><li>2389</li><li>2463</li><li>2637</li><li>2667</li><li>2668</li><li>2972</li><li>3928</li></ol>\n"
      ],
      "text/latex": [
       "\\begin{enumerate*}\n",
       "\\item 263\n",
       "\\item 504\n",
       "\\item 546\n",
       "\\item 547\n",
       "\\item 553\n",
       "\\item 557\n",
       "\\item 613\n",
       "\\item 747\n",
       "\\item 775\n",
       "\\item 781\n",
       "\\item 824\n",
       "\\item 861\n",
       "\\item 868\n",
       "\\item 916\n",
       "\\item 917\n",
       "\\item 946\n",
       "\\item 959\n",
       "\\item 1025\n",
       "\\item 1063\n",
       "\\item 1154\n",
       "\\item 1169\n",
       "\\item 1195\n",
       "\\item 1227\n",
       "\\item 1238\n",
       "\\item 1265\n",
       "\\item 1290\n",
       "\\item 1291\n",
       "\\item 1303\n",
       "\\item 1333\n",
       "\\item 1334\n",
       "\\item 1394\n",
       "\\item 1523\n",
       "\\item 1569\n",
       "\\item 1577\n",
       "\\item 1584\n",
       "\\item 1611\n",
       "\\item 1661\n",
       "\\item 1663\n",
       "\\item 1789\n",
       "\\item 1811\n",
       "\\item 1828\n",
       "\\item 1882\n",
       "\\item 1910\n",
       "\\item 1975\n",
       "\\item 1988\n",
       "\\item 2002\n",
       "\\item 2056\n",
       "\\item 2124\n",
       "\\item 2256\n",
       "\\item 2389\n",
       "\\item 2463\n",
       "\\item 2637\n",
       "\\item 2667\n",
       "\\item 2668\n",
       "\\item 2972\n",
       "\\item 3928\n",
       "\\end{enumerate*}\n"
      ],
      "text/markdown": [
       "1. 263\n",
       "2. 504\n",
       "3. 546\n",
       "4. 547\n",
       "5. 553\n",
       "6. 557\n",
       "7. 613\n",
       "8. 747\n",
       "9. 775\n",
       "10. 781\n",
       "11. 824\n",
       "12. 861\n",
       "13. 868\n",
       "14. 916\n",
       "15. 917\n",
       "16. 946\n",
       "17. 959\n",
       "18. 1025\n",
       "19. 1063\n",
       "20. 1154\n",
       "21. 1169\n",
       "22. 1195\n",
       "23. 1227\n",
       "24. 1238\n",
       "25. 1265\n",
       "26. 1290\n",
       "27. 1291\n",
       "28. 1303\n",
       "29. 1333\n",
       "30. 1334\n",
       "31. 1394\n",
       "32. 1523\n",
       "33. 1569\n",
       "34. 1577\n",
       "35. 1584\n",
       "36. 1611\n",
       "37. 1661\n",
       "38. 1663\n",
       "39. 1789\n",
       "40. 1811\n",
       "41. 1828\n",
       "42. 1882\n",
       "43. 1910\n",
       "44. 1975\n",
       "45. 1988\n",
       "46. 2002\n",
       "47. 2056\n",
       "48. 2124\n",
       "49. 2256\n",
       "50. 2389\n",
       "51. 2463\n",
       "52. 2637\n",
       "53. 2667\n",
       "54. 2668\n",
       "55. 2972\n",
       "56. 3928\n",
       "\n",
       "\n"
      ],
      "text/plain": [
       " [1]  263  504  546  547  553  557  613  747  775  781  824  861  868  916  917\n",
       "[16]  946  959 1025 1063 1154 1169 1195 1227 1238 1265 1290 1291 1303 1333 1334\n",
       "[31] 1394 1523 1569 1577 1584 1611 1661 1663 1789 1811 1828 1882 1910 1975 1988\n",
       "[46] 2002 2056 2124 2256 2389 2463 2637 2667 2668 2972 3928"
      ]
     },
     "metadata": {},
     "output_type": "display_data"
    }
   ],
   "source": [
    "head(cclrpairs[[1]])\n",
    "sort(ccpairs)"
   ]
  },
  {
   "cell_type": "code",
   "execution_count": 7,
   "id": "db6d5e7b",
   "metadata": {},
   "outputs": [],
   "source": [
    "ccunlist <- data.frame()\n",
    "for(i in 1:length(cclrpairs)){\n",
    "  ccunlist <- rbind(ccunlist,cclrpairs[[i]])\n",
    "}\n",
    "speed <- ccspeed\n",
    "speed[,\"Tool\"] <- rep(\"CellChat\",each=56)\n",
    "saveRDS(cclrpairs,\"Result/lrpairs/cc.rds\")\n",
    "write.table(unique(ccunlist),\"Result/lrpairs/cc.txt\",row.names = F,sep=\"\\t\",quote = F)\n",
    "write.table(speed,\"Result/speedcc.txt\",row.names = F,sep=\"\\t\",quote = F)"
   ]
  },
  {
   "cell_type": "code",
   "execution_count": null,
   "id": "feaf2e5d",
   "metadata": {},
   "outputs": [],
   "source": [
    "# SingleCellSignalR (threshold: LRscore > 0.5)\n",
    "scsrlrpairs <- list()\n",
    "scsrpairs <- c()\n",
    "scsrspeed <- data.frame()\n",
    "for (sample in allsample){\n",
    "  seu <- readRDS(sample)\n",
    "  scsr <- run_SingleCellSignalR(seu)\n",
    "  scsrlrpairs[[sample]] <- scsr$lrpairs\n",
    "  scsrpairs <- c(scsrpairs, scsr$pairs)\n",
    "  scsrspeed <- rbind(scsrspeed, scsr$speed)\n",
    "}"
   ]
  },
  {
   "cell_type": "code",
   "execution_count": 16,
   "id": "e161e194",
   "metadata": {},
   "outputs": [
    {
     "data": {
      "text/html": [
       "<table class=\"dataframe\">\n",
       "<caption>A data.frame: 6 × 5</caption>\n",
       "<thead>\n",
       "\t<tr><th></th><th scope=col>source</th><th scope=col>target</th><th scope=col>ligand</th><th scope=col>receptor</th><th scope=col>LRscore</th></tr>\n",
       "\t<tr><th></th><th scope=col>&lt;chr&gt;</th><th scope=col>&lt;chr&gt;</th><th scope=col>&lt;chr&gt;</th><th scope=col>&lt;chr&gt;</th><th scope=col>&lt;chr&gt;</th></tr>\n",
       "</thead>\n",
       "<tbody>\n",
       "\t<tr><th scope=row>1</th><td>Macrophage</td><td>Fibroblast</td><td>ITGB2</td><td>THY1   </td><td>0.877743030821886</td></tr>\n",
       "\t<tr><th scope=row>2</th><td>Macrophage</td><td>Fibroblast</td><td>PSAP </td><td>GPR37  </td><td>0.82495066346123 </td></tr>\n",
       "\t<tr><th scope=row>3</th><td>Macrophage</td><td>Fibroblast</td><td>CALM1</td><td>GLP2R  </td><td>0.824195486159842</td></tr>\n",
       "\t<tr><th scope=row>4</th><td>Macrophage</td><td>Fibroblast</td><td>CALM1</td><td>CACNA1C</td><td>0.808674990337557</td></tr>\n",
       "\t<tr><th scope=row>5</th><td>Macrophage</td><td>Fibroblast</td><td>CALM2</td><td>CACNA1C</td><td>0.794538482286129</td></tr>\n",
       "\t<tr><th scope=row>6</th><td>Macrophage</td><td>Fibroblast</td><td>UBA52</td><td>AGTR1  </td><td>0.768067138619483</td></tr>\n",
       "</tbody>\n",
       "</table>\n"
      ],
      "text/latex": [
       "A data.frame: 6 × 5\n",
       "\\begin{tabular}{r|lllll}\n",
       "  & source & target & ligand & receptor & LRscore\\\\\n",
       "  & <chr> & <chr> & <chr> & <chr> & <chr>\\\\\n",
       "\\hline\n",
       "\t1 & Macrophage & Fibroblast & ITGB2 & THY1    & 0.877743030821886\\\\\n",
       "\t2 & Macrophage & Fibroblast & PSAP  & GPR37   & 0.82495066346123 \\\\\n",
       "\t3 & Macrophage & Fibroblast & CALM1 & GLP2R   & 0.824195486159842\\\\\n",
       "\t4 & Macrophage & Fibroblast & CALM1 & CACNA1C & 0.808674990337557\\\\\n",
       "\t5 & Macrophage & Fibroblast & CALM2 & CACNA1C & 0.794538482286129\\\\\n",
       "\t6 & Macrophage & Fibroblast & UBA52 & AGTR1   & 0.768067138619483\\\\\n",
       "\\end{tabular}\n"
      ],
      "text/markdown": [
       "\n",
       "A data.frame: 6 × 5\n",
       "\n",
       "| <!--/--> | source &lt;chr&gt; | target &lt;chr&gt; | ligand &lt;chr&gt; | receptor &lt;chr&gt; | LRscore &lt;chr&gt; |\n",
       "|---|---|---|---|---|---|\n",
       "| 1 | Macrophage | Fibroblast | ITGB2 | THY1    | 0.877743030821886 |\n",
       "| 2 | Macrophage | Fibroblast | PSAP  | GPR37   | 0.82495066346123  |\n",
       "| 3 | Macrophage | Fibroblast | CALM1 | GLP2R   | 0.824195486159842 |\n",
       "| 4 | Macrophage | Fibroblast | CALM1 | CACNA1C | 0.808674990337557 |\n",
       "| 5 | Macrophage | Fibroblast | CALM2 | CACNA1C | 0.794538482286129 |\n",
       "| 6 | Macrophage | Fibroblast | UBA52 | AGTR1   | 0.768067138619483 |\n",
       "\n"
      ],
      "text/plain": [
       "  source     target     ligand receptor LRscore          \n",
       "1 Macrophage Fibroblast ITGB2  THY1     0.877743030821886\n",
       "2 Macrophage Fibroblast PSAP   GPR37    0.82495066346123 \n",
       "3 Macrophage Fibroblast CALM1  GLP2R    0.824195486159842\n",
       "4 Macrophage Fibroblast CALM1  CACNA1C  0.808674990337557\n",
       "5 Macrophage Fibroblast CALM2  CACNA1C  0.794538482286129\n",
       "6 Macrophage Fibroblast UBA52  AGTR1    0.768067138619483"
      ]
     },
     "metadata": {},
     "output_type": "display_data"
    },
    {
     "data": {
      "text/html": [
       "<style>\n",
       ".list-inline {list-style: none; margin:0; padding: 0}\n",
       ".list-inline>li {display: inline-block}\n",
       ".list-inline>li:not(:last-child)::after {content: \"\\00b7\"; padding: 0 .5ex}\n",
       "</style>\n",
       "<ol class=list-inline><li>858</li><li>1156</li><li>1757</li><li>1876</li><li>1951</li><li>2081</li><li>2108</li><li>2305</li><li>2426</li><li>2434</li><li>2488</li><li>2648</li><li>2689</li><li>2875</li><li>2879</li><li>2909</li><li>2942</li><li>2987</li><li>3000</li><li>3055</li><li>3056</li><li>3056</li><li>3098</li><li>3110</li><li>3114</li><li>3127</li><li>3285</li><li>3289</li><li>3677</li><li>3682</li><li>3774</li><li>3811</li><li>3874</li><li>3946</li><li>3949</li><li>3957</li><li>3962</li><li>4075</li><li>4213</li><li>4296</li><li>4317</li><li>4457</li><li>4478</li><li>4495</li><li>4515</li><li>4538</li><li>4549</li><li>4590</li><li>4650</li><li>4842</li><li>4847</li><li>4914</li><li>4928</li><li>5137</li><li>5434</li><li>5481</li></ol>\n"
      ],
      "text/latex": [
       "\\begin{enumerate*}\n",
       "\\item 858\n",
       "\\item 1156\n",
       "\\item 1757\n",
       "\\item 1876\n",
       "\\item 1951\n",
       "\\item 2081\n",
       "\\item 2108\n",
       "\\item 2305\n",
       "\\item 2426\n",
       "\\item 2434\n",
       "\\item 2488\n",
       "\\item 2648\n",
       "\\item 2689\n",
       "\\item 2875\n",
       "\\item 2879\n",
       "\\item 2909\n",
       "\\item 2942\n",
       "\\item 2987\n",
       "\\item 3000\n",
       "\\item 3055\n",
       "\\item 3056\n",
       "\\item 3056\n",
       "\\item 3098\n",
       "\\item 3110\n",
       "\\item 3114\n",
       "\\item 3127\n",
       "\\item 3285\n",
       "\\item 3289\n",
       "\\item 3677\n",
       "\\item 3682\n",
       "\\item 3774\n",
       "\\item 3811\n",
       "\\item 3874\n",
       "\\item 3946\n",
       "\\item 3949\n",
       "\\item 3957\n",
       "\\item 3962\n",
       "\\item 4075\n",
       "\\item 4213\n",
       "\\item 4296\n",
       "\\item 4317\n",
       "\\item 4457\n",
       "\\item 4478\n",
       "\\item 4495\n",
       "\\item 4515\n",
       "\\item 4538\n",
       "\\item 4549\n",
       "\\item 4590\n",
       "\\item 4650\n",
       "\\item 4842\n",
       "\\item 4847\n",
       "\\item 4914\n",
       "\\item 4928\n",
       "\\item 5137\n",
       "\\item 5434\n",
       "\\item 5481\n",
       "\\end{enumerate*}\n"
      ],
      "text/markdown": [
       "1. 858\n",
       "2. 1156\n",
       "3. 1757\n",
       "4. 1876\n",
       "5. 1951\n",
       "6. 2081\n",
       "7. 2108\n",
       "8. 2305\n",
       "9. 2426\n",
       "10. 2434\n",
       "11. 2488\n",
       "12. 2648\n",
       "13. 2689\n",
       "14. 2875\n",
       "15. 2879\n",
       "16. 2909\n",
       "17. 2942\n",
       "18. 2987\n",
       "19. 3000\n",
       "20. 3055\n",
       "21. 3056\n",
       "22. 3056\n",
       "23. 3098\n",
       "24. 3110\n",
       "25. 3114\n",
       "26. 3127\n",
       "27. 3285\n",
       "28. 3289\n",
       "29. 3677\n",
       "30. 3682\n",
       "31. 3774\n",
       "32. 3811\n",
       "33. 3874\n",
       "34. 3946\n",
       "35. 3949\n",
       "36. 3957\n",
       "37. 3962\n",
       "38. 4075\n",
       "39. 4213\n",
       "40. 4296\n",
       "41. 4317\n",
       "42. 4457\n",
       "43. 4478\n",
       "44. 4495\n",
       "45. 4515\n",
       "46. 4538\n",
       "47. 4549\n",
       "48. 4590\n",
       "49. 4650\n",
       "50. 4842\n",
       "51. 4847\n",
       "52. 4914\n",
       "53. 4928\n",
       "54. 5137\n",
       "55. 5434\n",
       "56. 5481\n",
       "\n",
       "\n"
      ],
      "text/plain": [
       " [1]  858 1156 1757 1876 1951 2081 2108 2305 2426 2434 2488 2648 2689 2875 2879\n",
       "[16] 2909 2942 2987 3000 3055 3056 3056 3098 3110 3114 3127 3285 3289 3677 3682\n",
       "[31] 3774 3811 3874 3946 3949 3957 3962 4075 4213 4296 4317 4457 4478 4495 4515\n",
       "[46] 4538 4549 4590 4650 4842 4847 4914 4928 5137 5434 5481"
      ]
     },
     "metadata": {},
     "output_type": "display_data"
    }
   ],
   "source": [
    "head(scsrlrpairs[[1]])\n",
    "sort(scsrpairs)"
   ]
  },
  {
   "cell_type": "code",
   "execution_count": 13,
   "id": "34159d64",
   "metadata": {},
   "outputs": [],
   "source": [
    "scsrunlist <- data.frame()\n",
    "for(i in 1:length(scsrlrpairs)){\n",
    "  scsrunlist <- rbind(scsrunlist, scsrlrpairs[[i]])\n",
    "}\n",
    "speed <- scsrspeed\n",
    "speed[,\"Tool\"] <- rep(\"SingleCellSignalR\",each=56)\n",
    "saveRDS(scsrlrpairs,\"Result/lrpairs/scsr.rds\")\n",
    "write.table(unique(scsrunlist),\"Result/lrpairs/scsr.txt\",row.names = F,sep=\"\\t\",quote = F)\n",
    "write.table(speed,\"Result/speedscsr.txt\",row.names = F,sep=\"\\t\",quote = F)"
   ]
  },
  {
   "cell_type": "code",
   "execution_count": null,
   "id": "eab84fba",
   "metadata": {
    "scrolled": true
   },
   "outputs": [],
   "source": [
    "# scMLnet\n",
    "sclrpairs <- list()\n",
    "scpairs <- c()\n",
    "scspeed <- data.frame()\n",
    "for (sample in allsample){\n",
    "  seu <- readRDS(sample)\n",
    "  sc <- run_scMLnet(seu)\n",
    "  sclrpairs[[sample]] <- sc$lrpairs\n",
    "  scpairs <- c(scpairs, sc$pairs)\n",
    "  scspeed <- rbind(scspeed, sc$speed)\n",
    "}"
   ]
  },
  {
   "cell_type": "code",
   "execution_count": 8,
   "id": "c729a4b8",
   "metadata": {},
   "outputs": [
    {
     "data": {
      "text/html": [
       "<table class=\"dataframe\">\n",
       "<caption>A data.frame: 6 × 4</caption>\n",
       "<thead>\n",
       "\t<tr><th></th><th scope=col>source</th><th scope=col>target</th><th scope=col>ligand</th><th scope=col>receptor</th></tr>\n",
       "\t<tr><th></th><th scope=col>&lt;chr&gt;</th><th scope=col>&lt;chr&gt;</th><th scope=col>&lt;chr&gt;</th><th scope=col>&lt;chr&gt;</th></tr>\n",
       "</thead>\n",
       "<tbody>\n",
       "\t<tr><th scope=row>1</th><td>Macrophage</td><td>Fibroblast</td><td>ADAM17</td><td>ITGB1  </td></tr>\n",
       "\t<tr><th scope=row>2</th><td>Macrophage</td><td>Fibroblast</td><td>APOE  </td><td>LDLR   </td></tr>\n",
       "\t<tr><th scope=row>3</th><td>Macrophage</td><td>Fibroblast</td><td>BST1  </td><td>CAV1   </td></tr>\n",
       "\t<tr><th scope=row>4</th><td>Macrophage</td><td>Fibroblast</td><td>CALM1 </td><td>CACNA1C</td></tr>\n",
       "\t<tr><th scope=row>5</th><td>Macrophage</td><td>Fibroblast</td><td>CALM1 </td><td>FAS    </td></tr>\n",
       "\t<tr><th scope=row>6</th><td>Macrophage</td><td>Fibroblast</td><td>CALM1 </td><td>MYLK   </td></tr>\n",
       "</tbody>\n",
       "</table>\n"
      ],
      "text/latex": [
       "A data.frame: 6 × 4\n",
       "\\begin{tabular}{r|llll}\n",
       "  & source & target & ligand & receptor\\\\\n",
       "  & <chr> & <chr> & <chr> & <chr>\\\\\n",
       "\\hline\n",
       "\t1 & Macrophage & Fibroblast & ADAM17 & ITGB1  \\\\\n",
       "\t2 & Macrophage & Fibroblast & APOE   & LDLR   \\\\\n",
       "\t3 & Macrophage & Fibroblast & BST1   & CAV1   \\\\\n",
       "\t4 & Macrophage & Fibroblast & CALM1  & CACNA1C\\\\\n",
       "\t5 & Macrophage & Fibroblast & CALM1  & FAS    \\\\\n",
       "\t6 & Macrophage & Fibroblast & CALM1  & MYLK   \\\\\n",
       "\\end{tabular}\n"
      ],
      "text/markdown": [
       "\n",
       "A data.frame: 6 × 4\n",
       "\n",
       "| <!--/--> | source &lt;chr&gt; | target &lt;chr&gt; | ligand &lt;chr&gt; | receptor &lt;chr&gt; |\n",
       "|---|---|---|---|---|\n",
       "| 1 | Macrophage | Fibroblast | ADAM17 | ITGB1   |\n",
       "| 2 | Macrophage | Fibroblast | APOE   | LDLR    |\n",
       "| 3 | Macrophage | Fibroblast | BST1   | CAV1    |\n",
       "| 4 | Macrophage | Fibroblast | CALM1  | CACNA1C |\n",
       "| 5 | Macrophage | Fibroblast | CALM1  | FAS     |\n",
       "| 6 | Macrophage | Fibroblast | CALM1  | MYLK    |\n",
       "\n"
      ],
      "text/plain": [
       "  source     target     ligand receptor\n",
       "1 Macrophage Fibroblast ADAM17 ITGB1   \n",
       "2 Macrophage Fibroblast APOE   LDLR    \n",
       "3 Macrophage Fibroblast BST1   CAV1    \n",
       "4 Macrophage Fibroblast CALM1  CACNA1C \n",
       "5 Macrophage Fibroblast CALM1  FAS     \n",
       "6 Macrophage Fibroblast CALM1  MYLK    "
      ]
     },
     "metadata": {},
     "output_type": "display_data"
    },
    {
     "data": {
      "text/html": [
       "<style>\n",
       ".list-inline {list-style: none; margin:0; padding: 0}\n",
       ".list-inline>li {display: inline-block}\n",
       ".list-inline>li:not(:last-child)::after {content: \"\\00b7\"; padding: 0 .5ex}\n",
       "</style>\n",
       "<ol class=list-inline><li>13</li><li>19</li><li>60</li><li>101</li><li>128</li><li>133</li><li>135</li><li>137</li><li>142</li><li>155</li><li>159</li><li>167</li><li>168</li><li>172</li><li>180</li><li>204</li><li>224</li><li>269</li><li>309</li><li>314</li><li>322</li><li>329</li><li>337</li><li>350</li><li>405</li><li>416</li><li>423</li><li>469</li><li>516</li><li>523</li><li>560</li><li>576</li><li>588</li><li>591</li><li>600</li><li>628</li><li>642</li><li>662</li><li>692</li><li>711</li><li>712</li><li>729</li><li>742</li><li>757</li><li>792</li><li>830</li><li>835</li><li>837</li><li>847</li><li>857</li><li>866</li><li>888</li><li>899</li><li>911</li><li>933</li><li>973</li></ol>\n"
      ],
      "text/latex": [
       "\\begin{enumerate*}\n",
       "\\item 13\n",
       "\\item 19\n",
       "\\item 60\n",
       "\\item 101\n",
       "\\item 128\n",
       "\\item 133\n",
       "\\item 135\n",
       "\\item 137\n",
       "\\item 142\n",
       "\\item 155\n",
       "\\item 159\n",
       "\\item 167\n",
       "\\item 168\n",
       "\\item 172\n",
       "\\item 180\n",
       "\\item 204\n",
       "\\item 224\n",
       "\\item 269\n",
       "\\item 309\n",
       "\\item 314\n",
       "\\item 322\n",
       "\\item 329\n",
       "\\item 337\n",
       "\\item 350\n",
       "\\item 405\n",
       "\\item 416\n",
       "\\item 423\n",
       "\\item 469\n",
       "\\item 516\n",
       "\\item 523\n",
       "\\item 560\n",
       "\\item 576\n",
       "\\item 588\n",
       "\\item 591\n",
       "\\item 600\n",
       "\\item 628\n",
       "\\item 642\n",
       "\\item 662\n",
       "\\item 692\n",
       "\\item 711\n",
       "\\item 712\n",
       "\\item 729\n",
       "\\item 742\n",
       "\\item 757\n",
       "\\item 792\n",
       "\\item 830\n",
       "\\item 835\n",
       "\\item 837\n",
       "\\item 847\n",
       "\\item 857\n",
       "\\item 866\n",
       "\\item 888\n",
       "\\item 899\n",
       "\\item 911\n",
       "\\item 933\n",
       "\\item 973\n",
       "\\end{enumerate*}\n"
      ],
      "text/markdown": [
       "1. 13\n",
       "2. 19\n",
       "3. 60\n",
       "4. 101\n",
       "5. 128\n",
       "6. 133\n",
       "7. 135\n",
       "8. 137\n",
       "9. 142\n",
       "10. 155\n",
       "11. 159\n",
       "12. 167\n",
       "13. 168\n",
       "14. 172\n",
       "15. 180\n",
       "16. 204\n",
       "17. 224\n",
       "18. 269\n",
       "19. 309\n",
       "20. 314\n",
       "21. 322\n",
       "22. 329\n",
       "23. 337\n",
       "24. 350\n",
       "25. 405\n",
       "26. 416\n",
       "27. 423\n",
       "28. 469\n",
       "29. 516\n",
       "30. 523\n",
       "31. 560\n",
       "32. 576\n",
       "33. 588\n",
       "34. 591\n",
       "35. 600\n",
       "36. 628\n",
       "37. 642\n",
       "38. 662\n",
       "39. 692\n",
       "40. 711\n",
       "41. 712\n",
       "42. 729\n",
       "43. 742\n",
       "44. 757\n",
       "45. 792\n",
       "46. 830\n",
       "47. 835\n",
       "48. 837\n",
       "49. 847\n",
       "50. 857\n",
       "51. 866\n",
       "52. 888\n",
       "53. 899\n",
       "54. 911\n",
       "55. 933\n",
       "56. 973\n",
       "\n",
       "\n"
      ],
      "text/plain": [
       " [1]  13  19  60 101 128 133 135 137 142 155 159 167 168 172 180 204 224 269 309\n",
       "[20] 314 322 329 337 350 405 416 423 469 516 523 560 576 588 591 600 628 642 662\n",
       "[39] 692 711 712 729 742 757 792 830 835 837 847 857 866 888 899 911 933 973"
      ]
     },
     "metadata": {},
     "output_type": "display_data"
    }
   ],
   "source": [
    "head(sclrpairs[[1]])\n",
    "sort(scpairs)"
   ]
  },
  {
   "cell_type": "code",
   "execution_count": null,
   "id": "f8e88798",
   "metadata": {},
   "outputs": [],
   "source": [
    "scunlist <- data.frame()\n",
    "for(i in 1:length(sclrpairs)){\n",
    "  scunlist <- rbind(scunlist, sclrpairs[[i]])\n",
    "}\n",
    "speed <- scspeed\n",
    "speed[,\"Tool\"] <- rep(\"scMLnet\",each=56)\n",
    "saveRDS(sclrpairs,\"Result/lrpairs/sc.rds\")\n",
    "write.table(unique(scunlist),\"Result/lrpairs/sc.txt\",row.names = F,sep=\"\\t\",quote = F)\n",
    "write.table(speed,\"Result/speedsc.txt\",row.names = F,sep=\"\\t\",quote = F)"
   ]
  },
  {
   "cell_type": "code",
   "execution_count": 12,
   "id": "8126d443",
   "metadata": {},
   "outputs": [],
   "source": [
    "# choose max counts of predicted pairs from each tools for the thresholds of iTalk and CCInx \n",
    "maxpairs <- c()\n",
    "for(i in 1:56){\n",
    "    pairs <- c(nrow(cclrpairs[[i]]),nrow(scsrlrpairs[[i]]),nrow(sclrpairs[[i]]),nrow(cpdblrpairs[[i]]),nrow(nmlrpairs[[i]]))\n",
    "    maxpairs <- c(maxpairs, max(pairs))\n",
    "}"
   ]
  },
  {
   "cell_type": "code",
   "execution_count": 13,
   "id": "2e25d019",
   "metadata": {
    "scrolled": true
   },
   "outputs": [
    {
     "data": {
      "text/html": [
       "<style>\n",
       ".list-inline {list-style: none; margin:0; padding: 0}\n",
       ".list-inline>li {display: inline-block}\n",
       ".list-inline>li:not(:last-child)::after {content: \"\\00b7\"; padding: 0 .5ex}\n",
       "</style>\n",
       "<ol class=list-inline><li>6221</li><li>2362</li><li>5450</li><li>4479</li><li>2988</li><li>2910</li><li>2883</li><li>2729</li><li>3448</li><li>3169</li><li>3111</li><li>3376</li><li>3867</li><li>3678</li><li>4915</li><li>6473</li><li>4556</li><li>3237</li><li>3346</li><li>4458</li><li>4318</li><li>1683</li><li>3947</li><li>2649</li><li>4295</li><li>5349</li><li>4346</li><li>2943</li><li>4929</li><li>5659</li><li>4558</li><li>5187</li><li>3152</li><li>4651</li><li>3542</li><li>5435</li><li>6817</li><li>5482</li><li>5250</li><li>4214</li><li>5138</li><li>4622</li><li>4843</li><li>3875</li><li>2489</li><li>1892</li><li>2455</li><li>3775</li><li>3950</li><li>4694</li><li>4539</li><li>4496</li><li>7163</li><li>3812</li><li>3472</li><li>4920</li></ol>\n"
      ],
      "text/latex": [
       "\\begin{enumerate*}\n",
       "\\item 6221\n",
       "\\item 2362\n",
       "\\item 5450\n",
       "\\item 4479\n",
       "\\item 2988\n",
       "\\item 2910\n",
       "\\item 2883\n",
       "\\item 2729\n",
       "\\item 3448\n",
       "\\item 3169\n",
       "\\item 3111\n",
       "\\item 3376\n",
       "\\item 3867\n",
       "\\item 3678\n",
       "\\item 4915\n",
       "\\item 6473\n",
       "\\item 4556\n",
       "\\item 3237\n",
       "\\item 3346\n",
       "\\item 4458\n",
       "\\item 4318\n",
       "\\item 1683\n",
       "\\item 3947\n",
       "\\item 2649\n",
       "\\item 4295\n",
       "\\item 5349\n",
       "\\item 4346\n",
       "\\item 2943\n",
       "\\item 4929\n",
       "\\item 5659\n",
       "\\item 4558\n",
       "\\item 5187\n",
       "\\item 3152\n",
       "\\item 4651\n",
       "\\item 3542\n",
       "\\item 5435\n",
       "\\item 6817\n",
       "\\item 5482\n",
       "\\item 5250\n",
       "\\item 4214\n",
       "\\item 5138\n",
       "\\item 4622\n",
       "\\item 4843\n",
       "\\item 3875\n",
       "\\item 2489\n",
       "\\item 1892\n",
       "\\item 2455\n",
       "\\item 3775\n",
       "\\item 3950\n",
       "\\item 4694\n",
       "\\item 4539\n",
       "\\item 4496\n",
       "\\item 7163\n",
       "\\item 3812\n",
       "\\item 3472\n",
       "\\item 4920\n",
       "\\end{enumerate*}\n"
      ],
      "text/markdown": [
       "1. 6221\n",
       "2. 2362\n",
       "3. 5450\n",
       "4. 4479\n",
       "5. 2988\n",
       "6. 2910\n",
       "7. 2883\n",
       "8. 2729\n",
       "9. 3448\n",
       "10. 3169\n",
       "11. 3111\n",
       "12. 3376\n",
       "13. 3867\n",
       "14. 3678\n",
       "15. 4915\n",
       "16. 6473\n",
       "17. 4556\n",
       "18. 3237\n",
       "19. 3346\n",
       "20. 4458\n",
       "21. 4318\n",
       "22. 1683\n",
       "23. 3947\n",
       "24. 2649\n",
       "25. 4295\n",
       "26. 5349\n",
       "27. 4346\n",
       "28. 2943\n",
       "29. 4929\n",
       "30. 5659\n",
       "31. 4558\n",
       "32. 5187\n",
       "33. 3152\n",
       "34. 4651\n",
       "35. 3542\n",
       "36. 5435\n",
       "37. 6817\n",
       "38. 5482\n",
       "39. 5250\n",
       "40. 4214\n",
       "41. 5138\n",
       "42. 4622\n",
       "43. 4843\n",
       "44. 3875\n",
       "45. 2489\n",
       "46. 1892\n",
       "47. 2455\n",
       "48. 3775\n",
       "49. 3950\n",
       "50. 4694\n",
       "51. 4539\n",
       "52. 4496\n",
       "53. 7163\n",
       "54. 3812\n",
       "55. 3472\n",
       "56. 4920\n",
       "\n",
       "\n"
      ],
      "text/plain": [
       " [1] 6221 2362 5450 4479 2988 2910 2883 2729 3448 3169 3111 3376 3867 3678 4915\n",
       "[16] 6473 4556 3237 3346 4458 4318 1683 3947 2649 4295 5349 4346 2943 4929 5659\n",
       "[31] 4558 5187 3152 4651 3542 5435 6817 5482 5250 4214 5138 4622 4843 3875 2489\n",
       "[46] 1892 2455 3775 3950 4694 4539 4496 7163 3812 3472 4920"
      ]
     },
     "metadata": {},
     "output_type": "display_data"
    }
   ],
   "source": [
    "maxpairs"
   ]
  },
  {
   "cell_type": "code",
   "execution_count": null,
   "id": "0138b3d4",
   "metadata": {},
   "outputs": [],
   "source": [
    "# iTalk\n",
    "itlrpairs <- list()\n",
    "itpairs <- c()\n",
    "itspeed <- data.frame()\n",
    "for (sample in allsample){\n",
    "  seu <- readRDS(sample)\n",
    "  it <- run_iTalk(seu,top=maxpairs[which(allsample == sample)])\n",
    "  itlrpairs[[sample]] <- it$lrpairs\n",
    "  itpairs <- c(itpairs, it$pairs)\n",
    "  itspeed <- rbind(itspeed, it$speed)\n",
    "}"
   ]
  },
  {
   "cell_type": "code",
   "execution_count": 10,
   "id": "3c54e725",
   "metadata": {},
   "outputs": [
    {
     "data": {
      "text/html": [
       "<table class=\"dataframe\">\n",
       "<caption>A data.frame: 6 × 6</caption>\n",
       "<thead>\n",
       "\t<tr><th></th><th scope=col>source</th><th scope=col>target</th><th scope=col>ligand</th><th scope=col>receptor</th><th scope=col>source_mean_exprs</th><th scope=col>target_mean_exprs</th></tr>\n",
       "\t<tr><th></th><th scope=col>&lt;chr&gt;</th><th scope=col>&lt;chr&gt;</th><th scope=col>&lt;chr&gt;</th><th scope=col>&lt;chr&gt;</th><th scope=col>&lt;dbl&gt;</th><th scope=col>&lt;dbl&gt;</th></tr>\n",
       "</thead>\n",
       "<tbody>\n",
       "\t<tr><th scope=row>53670</th><td>Fibroblast</td><td>Mast      </td><td>TIMP1</td><td>CD63</td><td>3.314967</td><td>3.196757</td></tr>\n",
       "\t<tr><th scope=row>53663</th><td>Fibroblast</td><td>Macrophage</td><td>TIMP1</td><td>CD63</td><td>3.314967</td><td>3.046885</td></tr>\n",
       "\t<tr><th scope=row>53665</th><td>Fibroblast</td><td>AT2       </td><td>TIMP1</td><td>CD63</td><td>3.314967</td><td>3.005990</td></tr>\n",
       "\t<tr><th scope=row>56794</th><td>Mast      </td><td>Mast      </td><td>VIM  </td><td>CD44</td><td>3.789329</td><td>2.403018</td></tr>\n",
       "\t<tr><th scope=row>433210</th><td>Tcell     </td><td>Tcell     </td><td>B2M  </td><td>CD3D</td><td>5.015877</td><td>1.813628</td></tr>\n",
       "\t<tr><th scope=row>56738</th><td>Macrophage</td><td>Mast      </td><td>VIM  </td><td>CD44</td><td>3.631689</td><td>2.403018</td></tr>\n",
       "</tbody>\n",
       "</table>\n"
      ],
      "text/latex": [
       "A data.frame: 6 × 6\n",
       "\\begin{tabular}{r|llllll}\n",
       "  & source & target & ligand & receptor & source\\_mean\\_exprs & target\\_mean\\_exprs\\\\\n",
       "  & <chr> & <chr> & <chr> & <chr> & <dbl> & <dbl>\\\\\n",
       "\\hline\n",
       "\t53670 & Fibroblast & Mast       & TIMP1 & CD63 & 3.314967 & 3.196757\\\\\n",
       "\t53663 & Fibroblast & Macrophage & TIMP1 & CD63 & 3.314967 & 3.046885\\\\\n",
       "\t53665 & Fibroblast & AT2        & TIMP1 & CD63 & 3.314967 & 3.005990\\\\\n",
       "\t56794 & Mast       & Mast       & VIM   & CD44 & 3.789329 & 2.403018\\\\\n",
       "\t433210 & Tcell      & Tcell      & B2M   & CD3D & 5.015877 & 1.813628\\\\\n",
       "\t56738 & Macrophage & Mast       & VIM   & CD44 & 3.631689 & 2.403018\\\\\n",
       "\\end{tabular}\n"
      ],
      "text/markdown": [
       "\n",
       "A data.frame: 6 × 6\n",
       "\n",
       "| <!--/--> | source &lt;chr&gt; | target &lt;chr&gt; | ligand &lt;chr&gt; | receptor &lt;chr&gt; | source_mean_exprs &lt;dbl&gt; | target_mean_exprs &lt;dbl&gt; |\n",
       "|---|---|---|---|---|---|---|\n",
       "| 53670 | Fibroblast | Mast       | TIMP1 | CD63 | 3.314967 | 3.196757 |\n",
       "| 53663 | Fibroblast | Macrophage | TIMP1 | CD63 | 3.314967 | 3.046885 |\n",
       "| 53665 | Fibroblast | AT2        | TIMP1 | CD63 | 3.314967 | 3.005990 |\n",
       "| 56794 | Mast       | Mast       | VIM   | CD44 | 3.789329 | 2.403018 |\n",
       "| 433210 | Tcell      | Tcell      | B2M   | CD3D | 5.015877 | 1.813628 |\n",
       "| 56738 | Macrophage | Mast       | VIM   | CD44 | 3.631689 | 2.403018 |\n",
       "\n"
      ],
      "text/plain": [
       "       source     target     ligand receptor source_mean_exprs\n",
       "53670  Fibroblast Mast       TIMP1  CD63     3.314967         \n",
       "53663  Fibroblast Macrophage TIMP1  CD63     3.314967         \n",
       "53665  Fibroblast AT2        TIMP1  CD63     3.314967         \n",
       "56794  Mast       Mast       VIM    CD44     3.789329         \n",
       "433210 Tcell      Tcell      B2M    CD3D     5.015877         \n",
       "56738  Macrophage Mast       VIM    CD44     3.631689         \n",
       "       target_mean_exprs\n",
       "53670  3.196757         \n",
       "53663  3.046885         \n",
       "53665  3.005990         \n",
       "56794  2.403018         \n",
       "433210 1.813628         \n",
       "56738  2.403018         "
      ]
     },
     "metadata": {},
     "output_type": "display_data"
    },
    {
     "data": {
      "text/html": [
       "<style>\n",
       ".list-inline {list-style: none; margin:0; padding: 0}\n",
       ".list-inline>li {display: inline-block}\n",
       ".list-inline>li:not(:last-child)::after {content: \"\\00b7\"; padding: 0 .5ex}\n",
       "</style>\n",
       "<ol class=list-inline><li>1683</li><li>1892</li><li>2362</li><li>2455</li><li>2489</li><li>2649</li><li>2729</li><li>2883</li><li>2910</li><li>2943</li><li>2988</li><li>3111</li><li>3152</li><li>3169</li><li>3237</li><li>3346</li><li>3376</li><li>3448</li><li>3472</li><li>3542</li><li>3678</li><li>3775</li><li>3812</li><li>3867</li><li>3875</li><li>3947</li><li>3950</li><li>4214</li><li>4295</li><li>4318</li><li>4346</li><li>4458</li><li>4479</li><li>4496</li><li>4539</li><li>4556</li><li>4558</li><li>4622</li><li>4651</li><li>4694</li><li>4843</li><li>4915</li><li>4920</li><li>4929</li><li>5138</li><li>5187</li><li>5250</li><li>5349</li><li>5435</li><li>5450</li><li>5482</li><li>5659</li><li>6221</li><li>6473</li><li>6817</li><li>7163</li></ol>\n"
      ],
      "text/latex": [
       "\\begin{enumerate*}\n",
       "\\item 1683\n",
       "\\item 1892\n",
       "\\item 2362\n",
       "\\item 2455\n",
       "\\item 2489\n",
       "\\item 2649\n",
       "\\item 2729\n",
       "\\item 2883\n",
       "\\item 2910\n",
       "\\item 2943\n",
       "\\item 2988\n",
       "\\item 3111\n",
       "\\item 3152\n",
       "\\item 3169\n",
       "\\item 3237\n",
       "\\item 3346\n",
       "\\item 3376\n",
       "\\item 3448\n",
       "\\item 3472\n",
       "\\item 3542\n",
       "\\item 3678\n",
       "\\item 3775\n",
       "\\item 3812\n",
       "\\item 3867\n",
       "\\item 3875\n",
       "\\item 3947\n",
       "\\item 3950\n",
       "\\item 4214\n",
       "\\item 4295\n",
       "\\item 4318\n",
       "\\item 4346\n",
       "\\item 4458\n",
       "\\item 4479\n",
       "\\item 4496\n",
       "\\item 4539\n",
       "\\item 4556\n",
       "\\item 4558\n",
       "\\item 4622\n",
       "\\item 4651\n",
       "\\item 4694\n",
       "\\item 4843\n",
       "\\item 4915\n",
       "\\item 4920\n",
       "\\item 4929\n",
       "\\item 5138\n",
       "\\item 5187\n",
       "\\item 5250\n",
       "\\item 5349\n",
       "\\item 5435\n",
       "\\item 5450\n",
       "\\item 5482\n",
       "\\item 5659\n",
       "\\item 6221\n",
       "\\item 6473\n",
       "\\item 6817\n",
       "\\item 7163\n",
       "\\end{enumerate*}\n"
      ],
      "text/markdown": [
       "1. 1683\n",
       "2. 1892\n",
       "3. 2362\n",
       "4. 2455\n",
       "5. 2489\n",
       "6. 2649\n",
       "7. 2729\n",
       "8. 2883\n",
       "9. 2910\n",
       "10. 2943\n",
       "11. 2988\n",
       "12. 3111\n",
       "13. 3152\n",
       "14. 3169\n",
       "15. 3237\n",
       "16. 3346\n",
       "17. 3376\n",
       "18. 3448\n",
       "19. 3472\n",
       "20. 3542\n",
       "21. 3678\n",
       "22. 3775\n",
       "23. 3812\n",
       "24. 3867\n",
       "25. 3875\n",
       "26. 3947\n",
       "27. 3950\n",
       "28. 4214\n",
       "29. 4295\n",
       "30. 4318\n",
       "31. 4346\n",
       "32. 4458\n",
       "33. 4479\n",
       "34. 4496\n",
       "35. 4539\n",
       "36. 4556\n",
       "37. 4558\n",
       "38. 4622\n",
       "39. 4651\n",
       "40. 4694\n",
       "41. 4843\n",
       "42. 4915\n",
       "43. 4920\n",
       "44. 4929\n",
       "45. 5138\n",
       "46. 5187\n",
       "47. 5250\n",
       "48. 5349\n",
       "49. 5435\n",
       "50. 5450\n",
       "51. 5482\n",
       "52. 5659\n",
       "53. 6221\n",
       "54. 6473\n",
       "55. 6817\n",
       "56. 7163\n",
       "\n",
       "\n"
      ],
      "text/plain": [
       " [1] 1683 1892 2362 2455 2489 2649 2729 2883 2910 2943 2988 3111 3152 3169 3237\n",
       "[16] 3346 3376 3448 3472 3542 3678 3775 3812 3867 3875 3947 3950 4214 4295 4318\n",
       "[31] 4346 4458 4479 4496 4539 4556 4558 4622 4651 4694 4843 4915 4920 4929 5138\n",
       "[46] 5187 5250 5349 5435 5450 5482 5659 6221 6473 6817 7163"
      ]
     },
     "metadata": {},
     "output_type": "display_data"
    }
   ],
   "source": [
    "head(itlrpairs[[1]])\n",
    "sort(itpairs)"
   ]
  },
  {
   "cell_type": "code",
   "execution_count": 20,
   "id": "63d9addc",
   "metadata": {},
   "outputs": [],
   "source": [
    "itunlist <- data.frame()\n",
    "for(i in 1:length(itlrpairs)){\n",
    "  itunlist <- rbind(itunlist,itlrpairs[[i]])\n",
    "}\n",
    "speed <- itspeed\n",
    "speed[,\"Tool\"] <- rep(\"iTalk\",each=56)\n",
    "saveRDS(itlrpairs,\"Result/lrpairs/it.rds\")\n",
    "write.table(unique(itunlist),\"Result/lrpairs/it.txt\",row.names = F,sep=\"\\t\",quote = F)\n",
    "write.table(speed,\"Result/speedit.txt\",row.names = F,sep=\"\\t\",quote = F)"
   ]
  },
  {
   "cell_type": "code",
   "execution_count": null,
   "id": "7a9e77d7",
   "metadata": {},
   "outputs": [],
   "source": [
    "# CCInx\n",
    "ccilrpairs <- list()\n",
    "ccipairs <- c()\n",
    "ccispeed <- data.frame()\n",
    "for (sample in allsample){\n",
    "  seu <- readRDS(sample)\n",
    "  cci <- run_CCInx(seu,top=maxpairs[which(allsample == sample)])\n",
    "  ccilrpairs[[sample]] <- cci$lrpairs\n",
    "  ccipairs <- c(ccipairs, cci$pairs)\n",
    "  ccispeed <- rbind(ccispeed, cci$speed)\n",
    "}"
   ]
  },
  {
   "cell_type": "code",
   "execution_count": 15,
   "id": "de4893a5",
   "metadata": {},
   "outputs": [
    {
     "data": {
      "text/html": [
       "<table class=\"dataframe\">\n",
       "<caption>A data.frame: 6 × 5</caption>\n",
       "<thead>\n",
       "\t<tr><th></th><th scope=col>source</th><th scope=col>target</th><th scope=col>ligand</th><th scope=col>receptor</th><th scope=col>edgeWeight</th></tr>\n",
       "\t<tr><th></th><th scope=col>&lt;chr&gt;</th><th scope=col>&lt;chr&gt;</th><th scope=col>&lt;chr&gt;</th><th scope=col>&lt;chr&gt;</th><th scope=col>&lt;chr&gt;</th></tr>\n",
       "</thead>\n",
       "<tbody>\n",
       "\t<tr><th scope=row>1</th><td>Monocyte</td><td>Monocyte</td><td>B2M</td><td>HLA-B</td><td>0.913361190607574</td></tr>\n",
       "\t<tr><th scope=row>2</th><td>Monocyte</td><td>Monocyte</td><td>B2M</td><td>HLA-B</td><td>0.913361190607574</td></tr>\n",
       "\t<tr><th scope=row>3</th><td>Tcell   </td><td>Monocyte</td><td>B2M</td><td>HLA-B</td><td>0.896520110062901</td></tr>\n",
       "\t<tr><th scope=row>4</th><td>Monocyte</td><td>Tcell   </td><td>B2M</td><td>HLA-B</td><td>0.890588329689869</td></tr>\n",
       "\t<tr><th scope=row>5</th><td>Monocyte</td><td>Monocyte</td><td>B2M</td><td>HLA-C</td><td>0.888210812196087</td></tr>\n",
       "\t<tr><th scope=row>6</th><td>Monocyte</td><td>Monocyte</td><td>B2M</td><td>HLA-C</td><td>0.888210812196087</td></tr>\n",
       "</tbody>\n",
       "</table>\n"
      ],
      "text/latex": [
       "A data.frame: 6 × 5\n",
       "\\begin{tabular}{r|lllll}\n",
       "  & source & target & ligand & receptor & edgeWeight\\\\\n",
       "  & <chr> & <chr> & <chr> & <chr> & <chr>\\\\\n",
       "\\hline\n",
       "\t1 & Monocyte & Monocyte & B2M & HLA-B & 0.913361190607574\\\\\n",
       "\t2 & Monocyte & Monocyte & B2M & HLA-B & 0.913361190607574\\\\\n",
       "\t3 & Tcell    & Monocyte & B2M & HLA-B & 0.896520110062901\\\\\n",
       "\t4 & Monocyte & Tcell    & B2M & HLA-B & 0.890588329689869\\\\\n",
       "\t5 & Monocyte & Monocyte & B2M & HLA-C & 0.888210812196087\\\\\n",
       "\t6 & Monocyte & Monocyte & B2M & HLA-C & 0.888210812196087\\\\\n",
       "\\end{tabular}\n"
      ],
      "text/markdown": [
       "\n",
       "A data.frame: 6 × 5\n",
       "\n",
       "| <!--/--> | source &lt;chr&gt; | target &lt;chr&gt; | ligand &lt;chr&gt; | receptor &lt;chr&gt; | edgeWeight &lt;chr&gt; |\n",
       "|---|---|---|---|---|---|\n",
       "| 1 | Monocyte | Monocyte | B2M | HLA-B | 0.913361190607574 |\n",
       "| 2 | Monocyte | Monocyte | B2M | HLA-B | 0.913361190607574 |\n",
       "| 3 | Tcell    | Monocyte | B2M | HLA-B | 0.896520110062901 |\n",
       "| 4 | Monocyte | Tcell    | B2M | HLA-B | 0.890588329689869 |\n",
       "| 5 | Monocyte | Monocyte | B2M | HLA-C | 0.888210812196087 |\n",
       "| 6 | Monocyte | Monocyte | B2M | HLA-C | 0.888210812196087 |\n",
       "\n"
      ],
      "text/plain": [
       "  source   target   ligand receptor edgeWeight       \n",
       "1 Monocyte Monocyte B2M    HLA-B    0.913361190607574\n",
       "2 Monocyte Monocyte B2M    HLA-B    0.913361190607574\n",
       "3 Tcell    Monocyte B2M    HLA-B    0.896520110062901\n",
       "4 Monocyte Tcell    B2M    HLA-B    0.890588329689869\n",
       "5 Monocyte Monocyte B2M    HLA-C    0.888210812196087\n",
       "6 Monocyte Monocyte B2M    HLA-C    0.888210812196087"
      ]
     },
     "metadata": {},
     "output_type": "display_data"
    },
    {
     "data": {
      "text/html": [
       "<style>\n",
       ".list-inline {list-style: none; margin:0; padding: 0}\n",
       ".list-inline>li {display: inline-block}\n",
       ".list-inline>li:not(:last-child)::after {content: \"\\00b7\"; padding: 0 .5ex}\n",
       "</style>\n",
       "<ol class=list-inline><li>0</li><li>0</li><li>0</li><li>0</li><li>0</li><li>0</li><li>0</li><li>0</li><li>0</li><li>0</li><li>0</li><li>0</li><li>0</li><li>0</li><li>0</li><li>0</li><li>2361</li><li>2488</li><li>2728</li><li>2882</li><li>2909</li><li>2987</li><li>3110</li><li>3168</li><li>3345</li><li>3375</li><li>3447</li><li>3677</li><li>3774</li><li>3811</li><li>3866</li><li>3949</li><li>4213</li><li>4294</li><li>4317</li><li>4345</li><li>4457</li><li>4478</li><li>4495</li><li>4538</li><li>4555</li><li>4621</li><li>4693</li><li>4842</li><li>4914</li><li>4928</li><li>5137</li><li>5186</li><li>5249</li><li>5348</li><li>5434</li><li>5449</li><li>5481</li><li>5658</li><li>6220</li><li>6472</li></ol>\n"
      ],
      "text/latex": [
       "\\begin{enumerate*}\n",
       "\\item 0\n",
       "\\item 0\n",
       "\\item 0\n",
       "\\item 0\n",
       "\\item 0\n",
       "\\item 0\n",
       "\\item 0\n",
       "\\item 0\n",
       "\\item 0\n",
       "\\item 0\n",
       "\\item 0\n",
       "\\item 0\n",
       "\\item 0\n",
       "\\item 0\n",
       "\\item 0\n",
       "\\item 0\n",
       "\\item 2361\n",
       "\\item 2488\n",
       "\\item 2728\n",
       "\\item 2882\n",
       "\\item 2909\n",
       "\\item 2987\n",
       "\\item 3110\n",
       "\\item 3168\n",
       "\\item 3345\n",
       "\\item 3375\n",
       "\\item 3447\n",
       "\\item 3677\n",
       "\\item 3774\n",
       "\\item 3811\n",
       "\\item 3866\n",
       "\\item 3949\n",
       "\\item 4213\n",
       "\\item 4294\n",
       "\\item 4317\n",
       "\\item 4345\n",
       "\\item 4457\n",
       "\\item 4478\n",
       "\\item 4495\n",
       "\\item 4538\n",
       "\\item 4555\n",
       "\\item 4621\n",
       "\\item 4693\n",
       "\\item 4842\n",
       "\\item 4914\n",
       "\\item 4928\n",
       "\\item 5137\n",
       "\\item 5186\n",
       "\\item 5249\n",
       "\\item 5348\n",
       "\\item 5434\n",
       "\\item 5449\n",
       "\\item 5481\n",
       "\\item 5658\n",
       "\\item 6220\n",
       "\\item 6472\n",
       "\\end{enumerate*}\n"
      ],
      "text/markdown": [
       "1. 0\n",
       "2. 0\n",
       "3. 0\n",
       "4. 0\n",
       "5. 0\n",
       "6. 0\n",
       "7. 0\n",
       "8. 0\n",
       "9. 0\n",
       "10. 0\n",
       "11. 0\n",
       "12. 0\n",
       "13. 0\n",
       "14. 0\n",
       "15. 0\n",
       "16. 0\n",
       "17. 2361\n",
       "18. 2488\n",
       "19. 2728\n",
       "20. 2882\n",
       "21. 2909\n",
       "22. 2987\n",
       "23. 3110\n",
       "24. 3168\n",
       "25. 3345\n",
       "26. 3375\n",
       "27. 3447\n",
       "28. 3677\n",
       "29. 3774\n",
       "30. 3811\n",
       "31. 3866\n",
       "32. 3949\n",
       "33. 4213\n",
       "34. 4294\n",
       "35. 4317\n",
       "36. 4345\n",
       "37. 4457\n",
       "38. 4478\n",
       "39. 4495\n",
       "40. 4538\n",
       "41. 4555\n",
       "42. 4621\n",
       "43. 4693\n",
       "44. 4842\n",
       "45. 4914\n",
       "46. 4928\n",
       "47. 5137\n",
       "48. 5186\n",
       "49. 5249\n",
       "50. 5348\n",
       "51. 5434\n",
       "52. 5449\n",
       "53. 5481\n",
       "54. 5658\n",
       "55. 6220\n",
       "56. 6472\n",
       "\n",
       "\n"
      ],
      "text/plain": [
       " [1]    0    0    0    0    0    0    0    0    0    0    0    0    0    0    0\n",
       "[16]    0 2361 2488 2728 2882 2909 2987 3110 3168 3345 3375 3447 3677 3774 3811\n",
       "[31] 3866 3949 4213 4294 4317 4345 4457 4478 4495 4538 4555 4621 4693 4842 4914\n",
       "[46] 4928 5137 5186 5249 5348 5434 5449 5481 5658 6220 6472"
      ]
     },
     "metadata": {},
     "output_type": "display_data"
    }
   ],
   "source": [
    "head(ccilrpairs[[1]])\n",
    "sort(ccipairs)"
   ]
  },
  {
   "cell_type": "code",
   "execution_count": 23,
   "id": "f6c8c171",
   "metadata": {},
   "outputs": [],
   "source": [
    "cciunlist <- data.frame()\n",
    "for(i in 1:length(ccilrpairs)){\n",
    "  cciunlist <- rbind(cciunlist, ccilrpairs[[i]])\n",
    "}\n",
    "speed <- ccispeed\n",
    "speed[,\"Tool\"] <- rep(\"CCInx\",each=56)\n",
    "saveRDS(ccilrpairs,\"Result/lrpairs/cci.rds\")\n",
    "write.table(unique(cciunlist),\"Result/lrpairs/cci.txt\",row.names = F,sep=\"\\t\",quote = F)\n",
    "write.table(speed,\"Result/speedcci.txt\",row.names = F,sep=\"\\t\",quote = F)"
   ]
  },
  {
   "cell_type": "markdown",
   "id": "d30bdf93",
   "metadata": {},
   "source": [
    "## 4. Results"
   ]
  },
  {
   "cell_type": "code",
   "execution_count": 20,
   "id": "d1c14bb5",
   "metadata": {},
   "outputs": [],
   "source": [
    "suppressPackageStartupMessages(library(ggplot2))\n",
    "suppressPackageStartupMessages(library(ggpubr))\n",
    "suppressPackageStartupMessages(library(tidyverse))\n",
    "source(\"https://raw.githubusercontent.com/mora-lab/cell-cell-interactions/main/benchmark-workflow/R/SSP.R\")\n",
    "source(\"https://raw.githubusercontent.com/mora-lab/cell-cell-interactions/main/benchmark-workflow/R/CellPhoneDB_SSP.R\")"
   ]
  },
  {
   "cell_type": "code",
   "execution_count": 38,
   "id": "961c195f",
   "metadata": {},
   "outputs": [
    {
     "data": {
      "text/plain": [
       "\n",
       "            CCInx          CellChat       CellPhoneDB             iTalk \n",
       "               40                56                56                56 \n",
       "            NATMI           scMLnet SingleCellSignalR \n",
       "               56                56                56 "
      ]
     },
     "metadata": {},
     "output_type": "display_data"
    }
   ],
   "source": [
    "# time consuming\n",
    "files <- paste(\"Result/\",dir(\"Result\",pattern = \"^speed\"),sep = \"\")\n",
    "time <- map(files, ~ read.table(.,sep = \"\\t\",header = TRUE))\n",
    "total <- as.data.frame(do.call(rbind,time))\n",
    "total <- total[!is.na(total$time),]\n",
    "table(total$Tool)"
   ]
  },
  {
   "cell_type": "code",
   "execution_count": 51,
   "id": "ed821c2a",
   "metadata": {},
   "outputs": [
    {
     "name": "stderr",
     "output_type": "stream",
     "text": [
      "`geom_smooth()` using method = 'loess' and formula 'y ~ x'\n",
      "\n",
      "Warning message:\n",
      "“Removed 265 rows containing non-finite values (stat_smooth).”\n",
      "Warning message:\n",
      "“Removed 265 rows containing missing values (geom_point).”\n",
      "`geom_smooth()` using method = 'loess' and formula 'y ~ x'\n",
      "\n",
      "Warning message:\n",
      "“Removed 265 rows containing non-finite values (stat_smooth).”\n",
      "Warning message:\n",
      "“Removed 265 rows containing missing values (geom_point).”\n",
      "`geom_smooth()` using method = 'loess' and formula 'y ~ x'\n",
      "\n",
      "Warning message:\n",
      "“Removed 113 rows containing non-finite values (stat_smooth).”\n",
      "Warning message:\n",
      "“Removed 113 rows containing missing values (geom_point).”\n"
     ]
    },
    {
     "data": {
      "image/png": "[encoded data removed]",
      "text/plain": [
       "plot without title"
      ]
     },
     "metadata": {
      "image/png": {
       "height": 420,
       "width": 420
      }
     },
     "output_type": "display_data"
    }
   ],
   "source": [
    "p1 <- ggplot(data=total, aes(x=cells, y=time)) + \n",
    "  geom_point(aes(color = Tool)) + \n",
    "  stat_smooth(aes(color = Tool), se=FALSE, size=0.8) +\n",
    "  labs(x=\"Cells\", y=\"Time (s)\") + ylim(c(0,1500)) + theme_classic()\n",
    "p2 <- ggplot(data=total, aes(x=cells, y=time)) + \n",
    "  geom_point(aes(color = Tool)) + stat_smooth(aes(color = Tool), se=FALSE, size=0.8) +\n",
    "  labs(x=NULL,y=NULL,fill=NULL) + ylim(c(2000,20000)) + theme_classic() +\n",
    "  theme(axis.text.x = element_blank(), axis.ticks.x = element_blank(), axis.line.x = element_blank())\n",
    "ggarrange(p2,p1,heights=c(2/5,3/5),ncol=1,nrow=2,common.legend=TRUE,legend=\"right\",align=\"v\")"
   ]
  },
  {
   "cell_type": "code",
   "execution_count": 53,
   "id": "46c5a4f8",
   "metadata": {},
   "outputs": [],
   "source": [
    "ggsave(\"Result/time.pdf\", width=10,height=8)"
   ]
  },
  {
   "cell_type": "code",
   "execution_count": 133,
   "id": "a012da1c",
   "metadata": {},
   "outputs": [
    {
     "name": "stdout",
     "output_type": "stream",
     "text": [
      "'data.frame':\t92323 obs. of  4 variables:\n",
      " $ source  : chr  \"Macrophage\" \"Macrophage\" \"Monocyte\" \"Monocyte\" ...\n",
      " $ target  : chr  \"AT1\" \"AT1\" \"AT1\" \"AT1\" ...\n",
      " $ ligand  : chr  \"TGFB1\" \"TGFB1\" \"TGFB1\" \"TGFB1\" ...\n",
      " $ receptor: chr  \"TGFBR1\" \"TGFBR2\" \"TGFBR1\" \"TGFBR2\" ...\n"
     ]
    }
   ],
   "source": [
    "# building all pairs\n",
    "files <- dir(\"Result/lrpairs\",pattern = \"[^db].txt$\", full.names = TRUE)\n",
    "pairs <- map(files, ~ read.table(.,sep = \"\\t\",header = TRUE)[,1:4])\n",
    "allpairs <- unique(as.data.frame(do.call(rbind,pairs)))\n",
    "types <- as.character(unique(c(gold$source,gold$target)))\n",
    "list <- unique(gold[,3:4])\n",
    "singlelist <- data.frame(source=NA, target=NA)\n",
    "goldpairs <- data.frame()\n",
    "for(i in 1:length(types)){\n",
    "  cellA <- types[i]\n",
    "  for(n in 1:length(types)){\n",
    "    cellB <- types[n]\n",
    "    singlelist[c(1:nrow(list)),1] <- cellA\n",
    "    singlelist[c(1:nrow(list)),2] <- cellB\n",
    "    singlelist <- cbind(singlelist, list)\n",
    "    goldpairs <- rbind(goldpairs, singlelist)\n",
    "    singlelist <- data.frame(source=NA, target=NA)\n",
    "  }\n",
    "}\n",
    "allpairs <- unique(rbind(allpairs,goldpairs))\n",
    "cpdb <- read.table(\"Result/lrpairs/cpdb.txt\", header = TRUE, sep = \"\\t\")\n",
    "rvcpdb <- cpdb[,c(2,1,4,3)]\n",
    "colnames(rvcpdb) <- c(\"source\",\"target\",\"ligand\",\"receptor\")\n",
    "colnames(cpdb) <- c(\"source\",\"target\",\"ligand\",\"receptor\")\n",
    "allpairs <- unique(rbind(allpairs,cpdb)[!duplicated(rbind(allpairs,rvcpdb)),])\n",
    "str(allpairs)\n",
    "write.table(allpairs, \"Result/lrpairs/allpairs.txt\", sep = \"\\t\", quote = FALSE, row.names = FALSE)"
   ]
  },
  {
   "cell_type": "code",
   "execution_count": 180,
   "id": "981d941c",
   "metadata": {},
   "outputs": [
    {
     "data": {
      "text/html": [
       "<table class=\"dataframe\">\n",
       "<caption>A data.frame: 6 × 7</caption>\n",
       "<thead>\n",
       "\t<tr><th></th><th scope=col>Precision</th><th scope=col>Sensitivity</th><th scope=col>Specificity</th><th scope=col>F1score</th><th scope=col>MCC</th><th scope=col>NPV</th><th scope=col>Tool</th></tr>\n",
       "\t<tr><th></th><th scope=col>&lt;named list&gt;</th><th scope=col>&lt;named list&gt;</th><th scope=col>&lt;named list&gt;</th><th scope=col>&lt;named list&gt;</th><th scope=col>&lt;named list&gt;</th><th scope=col>&lt;named list&gt;</th><th scope=col>&lt;chr&gt;</th></tr>\n",
       "</thead>\n",
       "<tbody>\n",
       "\t<tr><th scope=row>1</th><td>0.01055195</td><td>0.1027668</td><td>0.9735201</td><td>0.01913876</td><td>0.02474392</td><td>0.9974738</td><td>CellChat</td></tr>\n",
       "\t<tr><th scope=row>2</th><td>0.004962779</td><td>0.03162055</td><td>0.9825785</td><td>0.008579088</td><td>0.005667159</td><td>0.9972991</td><td>CellChat</td></tr>\n",
       "\t<tr><th scope=row>3</th><td>0.008917197</td><td>0.05533597</td><td>0.9830998</td><td>0.0153593</td><td>0.01554085</td><td>0.9973665</td><td>CellChat</td></tr>\n",
       "\t<tr><th scope=row>4</th><td>0</td><td>0</td><td>0.9971326</td><td>0</td><td>-0.002807178</td><td>0.9972518</td><td>CellChat</td></tr>\n",
       "\t<tr><th scope=row>5</th><td>0.00436205</td><td>0.01581028</td><td>0.9900836</td><td>0.006837607</td><td>0.003107068</td><td>0.9972759</td><td>CellChat</td></tr>\n",
       "\t<tr><th scope=row>6</th><td>0.006960557</td><td>0.02371542</td><td>0.9907027</td><td>0.01076233</td><td>0.007837129</td><td>0.9972994</td><td>CellChat</td></tr>\n",
       "</tbody>\n",
       "</table>\n"
      ],
      "text/latex": [
       "A data.frame: 6 × 7\n",
       "\\begin{tabular}{r|lllllll}\n",
       "  & Precision & Sensitivity & Specificity & F1score & MCC & NPV & Tool\\\\\n",
       "  & <named list> & <named list> & <named list> & <named list> & <named list> & <named list> & <chr>\\\\\n",
       "\\hline\n",
       "\t1 & 0.01055195 & 0.1027668 & 0.9735201 & 0.01913876 & 0.02474392 & 0.9974738 & CellChat\\\\\n",
       "\t2 & 0.004962779 & 0.03162055 & 0.9825785 & 0.008579088 & 0.005667159 & 0.9972991 & CellChat\\\\\n",
       "\t3 & 0.008917197 & 0.05533597 & 0.9830998 & 0.0153593 & 0.01554085 & 0.9973665 & CellChat\\\\\n",
       "\t4 & 0 & 0 & 0.9971326 & 0 & -0.002807178 & 0.9972518 & CellChat\\\\\n",
       "\t5 & 0.00436205 & 0.01581028 & 0.9900836 & 0.006837607 & 0.003107068 & 0.9972759 & CellChat\\\\\n",
       "\t6 & 0.006960557 & 0.02371542 & 0.9907027 & 0.01076233 & 0.007837129 & 0.9972994 & CellChat\\\\\n",
       "\\end{tabular}\n"
      ],
      "text/markdown": [
       "\n",
       "A data.frame: 6 × 7\n",
       "\n",
       "| <!--/--> | Precision &lt;named list&gt; | Sensitivity &lt;named list&gt; | Specificity &lt;named list&gt; | F1score &lt;named list&gt; | MCC &lt;named list&gt; | NPV &lt;named list&gt; | Tool &lt;chr&gt; |\n",
       "|---|---|---|---|---|---|---|---|\n",
       "| 1 | 0.01055195 | 0.1027668 | 0.9735201 | 0.01913876 | 0.02474392 | 0.9974738 | CellChat |\n",
       "| 2 | 0.004962779 | 0.03162055 | 0.9825785 | 0.008579088 | 0.005667159 | 0.9972991 | CellChat |\n",
       "| 3 | 0.008917197 | 0.05533597 | 0.9830998 | 0.0153593 | 0.01554085 | 0.9973665 | CellChat |\n",
       "| 4 | 0 | 0 | 0.9971326 | 0 | -0.002807178 | 0.9972518 | CellChat |\n",
       "| 5 | 0.00436205 | 0.01581028 | 0.9900836 | 0.006837607 | 0.003107068 | 0.9972759 | CellChat |\n",
       "| 6 | 0.006960557 | 0.02371542 | 0.9907027 | 0.01076233 | 0.007837129 | 0.9972994 | CellChat |\n",
       "\n"
      ],
      "text/plain": [
       "  Precision   Sensitivity Specificity F1score     MCC          NPV      \n",
       "1 0.01055195  0.1027668   0.9735201   0.01913876  0.02474392   0.9974738\n",
       "2 0.004962779 0.03162055  0.9825785   0.008579088 0.005667159  0.9972991\n",
       "3 0.008917197 0.05533597  0.9830998   0.0153593   0.01554085   0.9973665\n",
       "4 0           0           0.9971326   0           -0.002807178 0.9972518\n",
       "5 0.00436205  0.01581028  0.9900836   0.006837607 0.003107068  0.9972759\n",
       "6 0.006960557 0.02371542  0.9907027   0.01076233  0.007837129  0.9972994\n",
       "  Tool    \n",
       "1 CellChat\n",
       "2 CellChat\n",
       "3 CellChat\n",
       "4 CellChat\n",
       "5 CellChat\n",
       "6 CellChat"
      ]
     },
     "metadata": {},
     "output_type": "display_data"
    },
    {
     "data": {
      "text/html": [
       "<table class=\"dataframe\">\n",
       "<caption>A data.frame: 6 × 7</caption>\n",
       "<thead>\n",
       "\t<tr><th></th><th scope=col>Precision</th><th scope=col>Sensitivity</th><th scope=col>Specificity</th><th scope=col>F1score</th><th scope=col>MCC</th><th scope=col>NPV</th><th scope=col>Tool</th></tr>\n",
       "\t<tr><th></th><th scope=col>&lt;named list&gt;</th><th scope=col>&lt;named list&gt;</th><th scope=col>&lt;named list&gt;</th><th scope=col>&lt;named list&gt;</th><th scope=col>&lt;named list&gt;</th><th scope=col>&lt;named list&gt;</th><th scope=col>&lt;chr&gt;</th></tr>\n",
       "</thead>\n",
       "<tbody>\n",
       "\t<tr><th scope=row>1</th><td>0.007715801</td><td>0.1897233</td><td>0.9329532</td><td>0.01482854</td><td>0.02558256</td><td>0.9976191</td><td>iTalk</td></tr>\n",
       "\t<tr><th scope=row>2</th><td>0.00127011</td><td>0.01185771</td><td>0.9743782</td><td>0.002294455</td><td>-0.004557221</td><td>0.997221</td><td>iTalk</td></tr>\n",
       "\t<tr><th scope=row>3</th><td>0.004220183</td><td>0.09090909</td><td>0.9410557</td><td>0.00806593</td><td>0.007090074</td><td>0.9973525</td><td>iTalk</td></tr>\n",
       "\t<tr><th scope=row>4</th><td>0.004911811</td><td>0.08695652</td><td>0.9515912</td><td>0.009298394</td><td>0.009379318</td><td>0.9973703</td><td>iTalk</td></tr>\n",
       "\t<tr><th scope=row>5</th><td>0.004016064</td><td>0.04743083</td><td>0.9676768</td><td>0.007405122</td><td>0.004462864</td><td>0.9973023</td><td>iTalk</td></tr>\n",
       "\t<tr><th scope=row>6</th><td>0.005841924</td><td>0.06719368</td><td>0.9685783</td><td>0.01074929</td><td>0.01070323</td><td>0.9973606</td><td>iTalk</td></tr>\n",
       "</tbody>\n",
       "</table>\n"
      ],
      "text/latex": [
       "A data.frame: 6 × 7\n",
       "\\begin{tabular}{r|lllllll}\n",
       "  & Precision & Sensitivity & Specificity & F1score & MCC & NPV & Tool\\\\\n",
       "  & <named list> & <named list> & <named list> & <named list> & <named list> & <named list> & <chr>\\\\\n",
       "\\hline\n",
       "\t1 & 0.007715801 & 0.1897233 & 0.9329532 & 0.01482854 & 0.02558256 & 0.9976191 & iTalk\\\\\n",
       "\t2 & 0.00127011 & 0.01185771 & 0.9743782 & 0.002294455 & -0.004557221 & 0.997221 & iTalk\\\\\n",
       "\t3 & 0.004220183 & 0.09090909 & 0.9410557 & 0.00806593 & 0.007090074 & 0.9973525 & iTalk\\\\\n",
       "\t4 & 0.004911811 & 0.08695652 & 0.9515912 & 0.009298394 & 0.009379318 & 0.9973703 & iTalk\\\\\n",
       "\t5 & 0.004016064 & 0.04743083 & 0.9676768 & 0.007405122 & 0.004462864 & 0.9973023 & iTalk\\\\\n",
       "\t6 & 0.005841924 & 0.06719368 & 0.9685783 & 0.01074929 & 0.01070323 & 0.9973606 & iTalk\\\\\n",
       "\\end{tabular}\n"
      ],
      "text/markdown": [
       "\n",
       "A data.frame: 6 × 7\n",
       "\n",
       "| <!--/--> | Precision &lt;named list&gt; | Sensitivity &lt;named list&gt; | Specificity &lt;named list&gt; | F1score &lt;named list&gt; | MCC &lt;named list&gt; | NPV &lt;named list&gt; | Tool &lt;chr&gt; |\n",
       "|---|---|---|---|---|---|---|---|\n",
       "| 1 | 0.007715801 | 0.1897233 | 0.9329532 | 0.01482854 | 0.02558256 | 0.9976191 | iTalk |\n",
       "| 2 | 0.00127011 | 0.01185771 | 0.9743782 | 0.002294455 | -0.004557221 | 0.997221 | iTalk |\n",
       "| 3 | 0.004220183 | 0.09090909 | 0.9410557 | 0.00806593 | 0.007090074 | 0.9973525 | iTalk |\n",
       "| 4 | 0.004911811 | 0.08695652 | 0.9515912 | 0.009298394 | 0.009379318 | 0.9973703 | iTalk |\n",
       "| 5 | 0.004016064 | 0.04743083 | 0.9676768 | 0.007405122 | 0.004462864 | 0.9973023 | iTalk |\n",
       "| 6 | 0.005841924 | 0.06719368 | 0.9685783 | 0.01074929 | 0.01070323 | 0.9973606 | iTalk |\n",
       "\n"
      ],
      "text/plain": [
       "  Precision   Sensitivity Specificity F1score     MCC          NPV       Tool \n",
       "1 0.007715801 0.1897233   0.9329532   0.01482854  0.02558256   0.9976191 iTalk\n",
       "2 0.00127011  0.01185771  0.9743782   0.002294455 -0.004557221 0.997221  iTalk\n",
       "3 0.004220183 0.09090909  0.9410557   0.00806593  0.007090074  0.9973525 iTalk\n",
       "4 0.004911811 0.08695652  0.9515912   0.009298394 0.009379318  0.9973703 iTalk\n",
       "5 0.004016064 0.04743083  0.9676768   0.007405122 0.004462864  0.9973023 iTalk\n",
       "6 0.005841924 0.06719368  0.9685783   0.01074929  0.01070323   0.9973606 iTalk"
      ]
     },
     "metadata": {},
     "output_type": "display_data"
    },
    {
     "data": {
      "text/html": [
       "<table class=\"dataframe\">\n",
       "<caption>A data.frame: 6 × 7</caption>\n",
       "<thead>\n",
       "\t<tr><th></th><th scope=col>Precision</th><th scope=col>Sensitivity</th><th scope=col>Specificity</th><th scope=col>F1score</th><th scope=col>MCC</th><th scope=col>NPV</th><th scope=col>Tool</th></tr>\n",
       "\t<tr><th></th><th scope=col>&lt;named list&gt;</th><th scope=col>&lt;named list&gt;</th><th scope=col>&lt;named list&gt;</th><th scope=col>&lt;named list&gt;</th><th scope=col>&lt;named list&gt;</th><th scope=col>&lt;named list&gt;</th><th scope=col>&lt;chr&gt;</th></tr>\n",
       "</thead>\n",
       "<tbody>\n",
       "\t<tr><th scope=row>1</th><td>0.006944444</td><td>0.07905138</td><td>0.9689367</td><td>0.01276732</td><td>0.01443056</td><td>0.997395</td><td>SingleCellSignalR</td></tr>\n",
       "\t<tr><th scope=row>2</th><td>0.004770165</td><td>0.04347826</td><td>0.9750733</td><td>0.008597108</td><td>0.006214529</td><td>0.9973116</td><td>SingleCellSignalR</td></tr>\n",
       "\t<tr><th scope=row>3</th><td>0.00511509</td><td>0.06324111</td><td>0.9661996</td><td>0.009464655</td><td>0.008506764</td><td>0.9973429</td><td>SingleCellSignalR</td></tr>\n",
       "\t<tr><th scope=row>4</th><td>0.002902434</td><td>0.0513834</td><td>0.9514934</td><td>0.005494505</td><td>0.0006999817</td><td>0.9972679</td><td>SingleCellSignalR</td></tr>\n",
       "\t<tr><th scope=row>5</th><td>0.004016064</td><td>0.04743083</td><td>0.9676768</td><td>0.007405122</td><td>0.004462864</td><td>0.9973023</td><td>SingleCellSignalR</td></tr>\n",
       "\t<tr><th scope=row>6</th><td>0.005841924</td><td>0.06719368</td><td>0.9685783</td><td>0.01074929</td><td>0.01070323</td><td>0.9973606</td><td>SingleCellSignalR</td></tr>\n",
       "</tbody>\n",
       "</table>\n"
      ],
      "text/latex": [
       "A data.frame: 6 × 7\n",
       "\\begin{tabular}{r|lllllll}\n",
       "  & Precision & Sensitivity & Specificity & F1score & MCC & NPV & Tool\\\\\n",
       "  & <named list> & <named list> & <named list> & <named list> & <named list> & <named list> & <chr>\\\\\n",
       "\\hline\n",
       "\t1 & 0.006944444 & 0.07905138 & 0.9689367 & 0.01276732 & 0.01443056 & 0.997395 & SingleCellSignalR\\\\\n",
       "\t2 & 0.004770165 & 0.04347826 & 0.9750733 & 0.008597108 & 0.006214529 & 0.9973116 & SingleCellSignalR\\\\\n",
       "\t3 & 0.00511509 & 0.06324111 & 0.9661996 & 0.009464655 & 0.008506764 & 0.9973429 & SingleCellSignalR\\\\\n",
       "\t4 & 0.002902434 & 0.0513834 & 0.9514934 & 0.005494505 & 0.0006999817 & 0.9972679 & SingleCellSignalR\\\\\n",
       "\t5 & 0.004016064 & 0.04743083 & 0.9676768 & 0.007405122 & 0.004462864 & 0.9973023 & SingleCellSignalR\\\\\n",
       "\t6 & 0.005841924 & 0.06719368 & 0.9685783 & 0.01074929 & 0.01070323 & 0.9973606 & SingleCellSignalR\\\\\n",
       "\\end{tabular}\n"
      ],
      "text/markdown": [
       "\n",
       "A data.frame: 6 × 7\n",
       "\n",
       "| <!--/--> | Precision &lt;named list&gt; | Sensitivity &lt;named list&gt; | Specificity &lt;named list&gt; | F1score &lt;named list&gt; | MCC &lt;named list&gt; | NPV &lt;named list&gt; | Tool &lt;chr&gt; |\n",
       "|---|---|---|---|---|---|---|---|\n",
       "| 1 | 0.006944444 | 0.07905138 | 0.9689367 | 0.01276732 | 0.01443056 | 0.997395 | SingleCellSignalR |\n",
       "| 2 | 0.004770165 | 0.04347826 | 0.9750733 | 0.008597108 | 0.006214529 | 0.9973116 | SingleCellSignalR |\n",
       "| 3 | 0.00511509 | 0.06324111 | 0.9661996 | 0.009464655 | 0.008506764 | 0.9973429 | SingleCellSignalR |\n",
       "| 4 | 0.002902434 | 0.0513834 | 0.9514934 | 0.005494505 | 0.0006999817 | 0.9972679 | SingleCellSignalR |\n",
       "| 5 | 0.004016064 | 0.04743083 | 0.9676768 | 0.007405122 | 0.004462864 | 0.9973023 | SingleCellSignalR |\n",
       "| 6 | 0.005841924 | 0.06719368 | 0.9685783 | 0.01074929 | 0.01070323 | 0.9973606 | SingleCellSignalR |\n",
       "\n"
      ],
      "text/plain": [
       "  Precision   Sensitivity Specificity F1score     MCC          NPV      \n",
       "1 0.006944444 0.07905138  0.9689367   0.01276732  0.01443056   0.997395 \n",
       "2 0.004770165 0.04347826  0.9750733   0.008597108 0.006214529  0.9973116\n",
       "3 0.00511509  0.06324111  0.9661996   0.009464655 0.008506764  0.9973429\n",
       "4 0.002902434 0.0513834   0.9514934   0.005494505 0.0006999817 0.9972679\n",
       "5 0.004016064 0.04743083  0.9676768   0.007405122 0.004462864  0.9973023\n",
       "6 0.005841924 0.06719368  0.9685783   0.01074929  0.01070323   0.9973606\n",
       "  Tool             \n",
       "1 SingleCellSignalR\n",
       "2 SingleCellSignalR\n",
       "3 SingleCellSignalR\n",
       "4 SingleCellSignalR\n",
       "5 SingleCellSignalR\n",
       "6 SingleCellSignalR"
      ]
     },
     "metadata": {},
     "output_type": "display_data"
    },
    {
     "data": {
      "text/html": [
       "<table class=\"dataframe\">\n",
       "<caption>A data.frame: 6 × 7</caption>\n",
       "<thead>\n",
       "\t<tr><th></th><th scope=col>Precision</th><th scope=col>Sensitivity</th><th scope=col>Specificity</th><th scope=col>F1score</th><th scope=col>MCC</th><th scope=col>NPV</th><th scope=col>Tool</th></tr>\n",
       "\t<tr><th></th><th scope=col>&lt;named list&gt;</th><th scope=col>&lt;named list&gt;</th><th scope=col>&lt;named list&gt;</th><th scope=col>&lt;named list&gt;</th><th scope=col>&lt;named list&gt;</th><th scope=col>&lt;named list&gt;</th><th scope=col>&lt;chr&gt;</th></tr>\n",
       "</thead>\n",
       "<tbody>\n",
       "\t<tr><th scope=row>1</th><td>0.0004822376</td><td>0.01185771</td><td>0.9324644</td><td>0.0009267841</td><td>-0.01161088</td><td>0.9970965</td><td>CCInx</td></tr>\n",
       "\t<tr><th scope=row>2</th><td>0</td><td>0</td><td>0.9743456</td><td>0</td><td>-0.008494034</td><td>0.9971877</td><td>CCInx</td></tr>\n",
       "\t<tr><th scope=row>3</th><td>0.0001834862</td><td>0.003952569</td><td>0.9408168</td><td>0.0003506926</td><td>-0.01225064</td><td>0.9970992</td><td>CCInx</td></tr>\n",
       "\t<tr><th scope=row>4</th><td>0.0006697924</td><td>0.01185771</td><td>0.9513848</td><td>0.001267963</td><td>-0.008943725</td><td>0.997154</td><td>CCInx</td></tr>\n",
       "\t<tr><th scope=row>5</th><td>0.001004016</td><td>0.01185771</td><td>0.967579</td><td>0.00185128</td><td>-0.0060745</td><td>0.9972015</td><td>CCInx</td></tr>\n",
       "\t<tr><th scope=row>6</th><td>0.0003436426</td><td>0.003952569</td><td>0.9684045</td><td>0.0006323111</td><td>-0.00827098</td><td>0.9971816</td><td>CCInx</td></tr>\n",
       "</tbody>\n",
       "</table>\n"
      ],
      "text/latex": [
       "A data.frame: 6 × 7\n",
       "\\begin{tabular}{r|lllllll}\n",
       "  & Precision & Sensitivity & Specificity & F1score & MCC & NPV & Tool\\\\\n",
       "  & <named list> & <named list> & <named list> & <named list> & <named list> & <named list> & <chr>\\\\\n",
       "\\hline\n",
       "\t1 & 0.0004822376 & 0.01185771 & 0.9324644 & 0.0009267841 & -0.01161088 & 0.9970965 & CCInx\\\\\n",
       "\t2 & 0 & 0 & 0.9743456 & 0 & -0.008494034 & 0.9971877 & CCInx\\\\\n",
       "\t3 & 0.0001834862 & 0.003952569 & 0.9408168 & 0.0003506926 & -0.01225064 & 0.9970992 & CCInx\\\\\n",
       "\t4 & 0.0006697924 & 0.01185771 & 0.9513848 & 0.001267963 & -0.008943725 & 0.997154 & CCInx\\\\\n",
       "\t5 & 0.001004016 & 0.01185771 & 0.967579 & 0.00185128 & -0.0060745 & 0.9972015 & CCInx\\\\\n",
       "\t6 & 0.0003436426 & 0.003952569 & 0.9684045 & 0.0006323111 & -0.00827098 & 0.9971816 & CCInx\\\\\n",
       "\\end{tabular}\n"
      ],
      "text/markdown": [
       "\n",
       "A data.frame: 6 × 7\n",
       "\n",
       "| <!--/--> | Precision &lt;named list&gt; | Sensitivity &lt;named list&gt; | Specificity &lt;named list&gt; | F1score &lt;named list&gt; | MCC &lt;named list&gt; | NPV &lt;named list&gt; | Tool &lt;chr&gt; |\n",
       "|---|---|---|---|---|---|---|---|\n",
       "| 1 | 0.0004822376 | 0.01185771 | 0.9324644 | 0.0009267841 | -0.01161088 | 0.9970965 | CCInx |\n",
       "| 2 | 0 | 0 | 0.9743456 | 0 | -0.008494034 | 0.9971877 | CCInx |\n",
       "| 3 | 0.0001834862 | 0.003952569 | 0.9408168 | 0.0003506926 | -0.01225064 | 0.9970992 | CCInx |\n",
       "| 4 | 0.0006697924 | 0.01185771 | 0.9513848 | 0.001267963 | -0.008943725 | 0.997154 | CCInx |\n",
       "| 5 | 0.001004016 | 0.01185771 | 0.967579 | 0.00185128 | -0.0060745 | 0.9972015 | CCInx |\n",
       "| 6 | 0.0003436426 | 0.003952569 | 0.9684045 | 0.0006323111 | -0.00827098 | 0.9971816 | CCInx |\n",
       "\n"
      ],
      "text/plain": [
       "  Precision    Sensitivity Specificity F1score      MCC          NPV      \n",
       "1 0.0004822376 0.01185771  0.9324644   0.0009267841 -0.01161088  0.9970965\n",
       "2 0            0           0.9743456   0            -0.008494034 0.9971877\n",
       "3 0.0001834862 0.003952569 0.9408168   0.0003506926 -0.01225064  0.9970992\n",
       "4 0.0006697924 0.01185771  0.9513848   0.001267963  -0.008943725 0.997154 \n",
       "5 0.001004016  0.01185771  0.967579    0.00185128   -0.0060745   0.9972015\n",
       "6 0.0003436426 0.003952569 0.9684045   0.0006323111 -0.00827098  0.9971816\n",
       "  Tool \n",
       "1 CCInx\n",
       "2 CCInx\n",
       "3 CCInx\n",
       "4 CCInx\n",
       "5 CCInx\n",
       "6 CCInx"
      ]
     },
     "metadata": {},
     "output_type": "display_data"
    },
    {
     "data": {
      "text/html": [
       "<table class=\"dataframe\">\n",
       "<caption>A data.frame: 6 × 7</caption>\n",
       "<thead>\n",
       "\t<tr><th></th><th scope=col>Precision</th><th scope=col>Sensitivity</th><th scope=col>Specificity</th><th scope=col>F1score</th><th scope=col>MCC</th><th scope=col>NPV</th><th scope=col>Tool</th></tr>\n",
       "\t<tr><th></th><th scope=col>&lt;named list&gt;</th><th scope=col>&lt;named list&gt;</th><th scope=col>&lt;named list&gt;</th><th scope=col>&lt;named list&gt;</th><th scope=col>&lt;named list&gt;</th><th scope=col>&lt;named list&gt;</th><th scope=col>&lt;chr&gt;</th></tr>\n",
       "</thead>\n",
       "<tbody>\n",
       "\t<tr><th scope=row>1</th><td>0.0192926</td><td>0.07114625</td><td>0.9900619</td><td>0.03035413</td><td>0.03199178</td><td>0.9974286</td><td>scMLnet</td></tr>\n",
       "\t<tr><th scope=row>2</th><td>0.01463964</td><td>0.0513834</td><td>0.9904964</td><td>0.02278703</td><td>0.02243163</td><td>0.9973752</td><td>scMLnet</td></tr>\n",
       "\t<tr><th scope=row>3</th><td>0.01969058</td><td>0.05533597</td><td>0.9924297</td><td>0.02904564</td><td>0.02856432</td><td>0.9973912</td><td>scMLnet</td></tr>\n",
       "\t<tr><th scope=row>4</th><td>0</td><td>0</td><td>0.9982731</td><td>0</td><td>-0.002177304</td><td>0.9972549</td><td>scMLnet</td></tr>\n",
       "\t<tr><th scope=row>5</th><td>0.01317234</td><td>0.04743083</td><td>0.9902357</td><td>0.02061856</td><td>0.01992113</td><td>0.9973636</td><td>scMLnet</td></tr>\n",
       "\t<tr><th scope=row>6</th><td>0.02289157</td><td>0.07509881</td><td>0.9911915</td><td>0.03508772</td><td>0.03671439</td><td>0.9974424</td><td>scMLnet</td></tr>\n",
       "</tbody>\n",
       "</table>\n"
      ],
      "text/latex": [
       "A data.frame: 6 × 7\n",
       "\\begin{tabular}{r|lllllll}\n",
       "  & Precision & Sensitivity & Specificity & F1score & MCC & NPV & Tool\\\\\n",
       "  & <named list> & <named list> & <named list> & <named list> & <named list> & <named list> & <chr>\\\\\n",
       "\\hline\n",
       "\t1 & 0.0192926 & 0.07114625 & 0.9900619 & 0.03035413 & 0.03199178 & 0.9974286 & scMLnet\\\\\n",
       "\t2 & 0.01463964 & 0.0513834 & 0.9904964 & 0.02278703 & 0.02243163 & 0.9973752 & scMLnet\\\\\n",
       "\t3 & 0.01969058 & 0.05533597 & 0.9924297 & 0.02904564 & 0.02856432 & 0.9973912 & scMLnet\\\\\n",
       "\t4 & 0 & 0 & 0.9982731 & 0 & -0.002177304 & 0.9972549 & scMLnet\\\\\n",
       "\t5 & 0.01317234 & 0.04743083 & 0.9902357 & 0.02061856 & 0.01992113 & 0.9973636 & scMLnet\\\\\n",
       "\t6 & 0.02289157 & 0.07509881 & 0.9911915 & 0.03508772 & 0.03671439 & 0.9974424 & scMLnet\\\\\n",
       "\\end{tabular}\n"
      ],
      "text/markdown": [
       "\n",
       "A data.frame: 6 × 7\n",
       "\n",
       "| <!--/--> | Precision &lt;named list&gt; | Sensitivity &lt;named list&gt; | Specificity &lt;named list&gt; | F1score &lt;named list&gt; | MCC &lt;named list&gt; | NPV &lt;named list&gt; | Tool &lt;chr&gt; |\n",
       "|---|---|---|---|---|---|---|---|\n",
       "| 1 | 0.0192926 | 0.07114625 | 0.9900619 | 0.03035413 | 0.03199178 | 0.9974286 | scMLnet |\n",
       "| 2 | 0.01463964 | 0.0513834 | 0.9904964 | 0.02278703 | 0.02243163 | 0.9973752 | scMLnet |\n",
       "| 3 | 0.01969058 | 0.05533597 | 0.9924297 | 0.02904564 | 0.02856432 | 0.9973912 | scMLnet |\n",
       "| 4 | 0 | 0 | 0.9982731 | 0 | -0.002177304 | 0.9972549 | scMLnet |\n",
       "| 5 | 0.01317234 | 0.04743083 | 0.9902357 | 0.02061856 | 0.01992113 | 0.9973636 | scMLnet |\n",
       "| 6 | 0.02289157 | 0.07509881 | 0.9911915 | 0.03508772 | 0.03671439 | 0.9974424 | scMLnet |\n",
       "\n"
      ],
      "text/plain": [
       "  Precision  Sensitivity Specificity F1score    MCC          NPV       Tool   \n",
       "1 0.0192926  0.07114625  0.9900619   0.03035413 0.03199178   0.9974286 scMLnet\n",
       "2 0.01463964 0.0513834   0.9904964   0.02278703 0.02243163   0.9973752 scMLnet\n",
       "3 0.01969058 0.05533597  0.9924297   0.02904564 0.02856432   0.9973912 scMLnet\n",
       "4 0          0           0.9982731   0          -0.002177304 0.9972549 scMLnet\n",
       "5 0.01317234 0.04743083  0.9902357   0.02061856 0.01992113   0.9973636 scMLnet\n",
       "6 0.02289157 0.07509881  0.9911915   0.03508772 0.03671439   0.9974424 scMLnet"
      ]
     },
     "metadata": {},
     "output_type": "display_data"
    },
    {
     "data": {
      "text/html": [
       "<table class=\"dataframe\">\n",
       "<caption>A data.frame: 6 × 7</caption>\n",
       "<thead>\n",
       "\t<tr><th></th><th scope=col>Precision</th><th scope=col>Sensitivity</th><th scope=col>Specificity</th><th scope=col>F1score</th><th scope=col>MCC</th><th scope=col>NPV</th><th scope=col>Tool</th></tr>\n",
       "\t<tr><th></th><th scope=col>&lt;named list&gt;</th><th scope=col>&lt;named list&gt;</th><th scope=col>&lt;named list&gt;</th><th scope=col>&lt;named list&gt;</th><th scope=col>&lt;named list&gt;</th><th scope=col>&lt;named list&gt;</th><th scope=col>&lt;chr&gt;</th></tr>\n",
       "</thead>\n",
       "<tbody>\n",
       "\t<tr><th scope=row>1</th><td>0.0174437</td><td>0.2173913</td><td>0.9663517</td><td>0.03229595</td><td>0.0528882</td><td>0.9977795</td><td>CellPhoneDB</td></tr>\n",
       "\t<tr><th scope=row>2</th><td>0.02074513</td><td>0.1936759</td><td>0.9748778</td><td>0.0374761</td><td>0.05580724</td><td>0.9977324</td><td>CellPhoneDB</td></tr>\n",
       "\t<tr><th scope=row>3</th><td>0.02179276</td><td>0.2094862</td><td>0.974161</td><td>0.03947858</td><td>0.05994647</td><td>0.9977751</td><td>CellPhoneDB</td></tr>\n",
       "\t<tr><th scope=row>4</th><td>0.03215434</td><td>0.03952569</td><td>0.9967307</td><td>0.03546099</td><td>0.03271162</td><td>0.997359</td><td>CellPhoneDB</td></tr>\n",
       "\t<tr><th scope=row>5</th><td>0.02807018</td><td>0.1264822</td><td>0.9879657</td><td>0.04594401</td><td>0.05417735</td><td>0.9975763</td><td>CellPhoneDB</td></tr>\n",
       "\t<tr><th scope=row>6</th><td>0.02241379</td><td>0.1027668</td><td>0.9876833</td><td>0.03680113</td><td>0.0424512</td><td>0.99751</td><td>CellPhoneDB</td></tr>\n",
       "</tbody>\n",
       "</table>\n"
      ],
      "text/latex": [
       "A data.frame: 6 × 7\n",
       "\\begin{tabular}{r|lllllll}\n",
       "  & Precision & Sensitivity & Specificity & F1score & MCC & NPV & Tool\\\\\n",
       "  & <named list> & <named list> & <named list> & <named list> & <named list> & <named list> & <chr>\\\\\n",
       "\\hline\n",
       "\t1 & 0.0174437 & 0.2173913 & 0.9663517 & 0.03229595 & 0.0528882 & 0.9977795 & CellPhoneDB\\\\\n",
       "\t2 & 0.02074513 & 0.1936759 & 0.9748778 & 0.0374761 & 0.05580724 & 0.9977324 & CellPhoneDB\\\\\n",
       "\t3 & 0.02179276 & 0.2094862 & 0.974161 & 0.03947858 & 0.05994647 & 0.9977751 & CellPhoneDB\\\\\n",
       "\t4 & 0.03215434 & 0.03952569 & 0.9967307 & 0.03546099 & 0.03271162 & 0.997359 & CellPhoneDB\\\\\n",
       "\t5 & 0.02807018 & 0.1264822 & 0.9879657 & 0.04594401 & 0.05417735 & 0.9975763 & CellPhoneDB\\\\\n",
       "\t6 & 0.02241379 & 0.1027668 & 0.9876833 & 0.03680113 & 0.0424512 & 0.99751 & CellPhoneDB\\\\\n",
       "\\end{tabular}\n"
      ],
      "text/markdown": [
       "\n",
       "A data.frame: 6 × 7\n",
       "\n",
       "| <!--/--> | Precision &lt;named list&gt; | Sensitivity &lt;named list&gt; | Specificity &lt;named list&gt; | F1score &lt;named list&gt; | MCC &lt;named list&gt; | NPV &lt;named list&gt; | Tool &lt;chr&gt; |\n",
       "|---|---|---|---|---|---|---|---|\n",
       "| 1 | 0.0174437 | 0.2173913 | 0.9663517 | 0.03229595 | 0.0528882 | 0.9977795 | CellPhoneDB |\n",
       "| 2 | 0.02074513 | 0.1936759 | 0.9748778 | 0.0374761 | 0.05580724 | 0.9977324 | CellPhoneDB |\n",
       "| 3 | 0.02179276 | 0.2094862 | 0.974161 | 0.03947858 | 0.05994647 | 0.9977751 | CellPhoneDB |\n",
       "| 4 | 0.03215434 | 0.03952569 | 0.9967307 | 0.03546099 | 0.03271162 | 0.997359 | CellPhoneDB |\n",
       "| 5 | 0.02807018 | 0.1264822 | 0.9879657 | 0.04594401 | 0.05417735 | 0.9975763 | CellPhoneDB |\n",
       "| 6 | 0.02241379 | 0.1027668 | 0.9876833 | 0.03680113 | 0.0424512 | 0.99751 | CellPhoneDB |\n",
       "\n"
      ],
      "text/plain": [
       "  Precision  Sensitivity Specificity F1score    MCC        NPV      \n",
       "1 0.0174437  0.2173913   0.9663517   0.03229595 0.0528882  0.9977795\n",
       "2 0.02074513 0.1936759   0.9748778   0.0374761  0.05580724 0.9977324\n",
       "3 0.02179276 0.2094862   0.974161    0.03947858 0.05994647 0.9977751\n",
       "4 0.03215434 0.03952569  0.9967307   0.03546099 0.03271162 0.997359 \n",
       "5 0.02807018 0.1264822   0.9879657   0.04594401 0.05417735 0.9975763\n",
       "6 0.02241379 0.1027668   0.9876833   0.03680113 0.0424512  0.99751  \n",
       "  Tool       \n",
       "1 CellPhoneDB\n",
       "2 CellPhoneDB\n",
       "3 CellPhoneDB\n",
       "4 CellPhoneDB\n",
       "5 CellPhoneDB\n",
       "6 CellPhoneDB"
      ]
     },
     "metadata": {},
     "output_type": "display_data"
    },
    {
     "data": {
      "text/html": [
       "<table class=\"dataframe\">\n",
       "<caption>A data.frame: 6 × 7</caption>\n",
       "<thead>\n",
       "\t<tr><th></th><th scope=col>Precision</th><th scope=col>Sensitivity</th><th scope=col>Specificity</th><th scope=col>F1score</th><th scope=col>MCC</th><th scope=col>NPV</th><th scope=col>Tool</th></tr>\n",
       "\t<tr><th></th><th scope=col>&lt;named list&gt;</th><th scope=col>&lt;named list&gt;</th><th scope=col>&lt;named list&gt;</th><th scope=col>&lt;named list&gt;</th><th scope=col>&lt;named list&gt;</th><th scope=col>&lt;named list&gt;</th><th scope=col>&lt;chr&gt;</th></tr>\n",
       "</thead>\n",
       "<tbody>\n",
       "\t<tr><th scope=row>1</th><td>0.01430638</td><td>0.3517787</td><td>0.9333985</td><td>0.02749459</td><td>0.05946992</td><td>0.9980953</td><td>NATMI</td></tr>\n",
       "\t<tr><th scope=row>2</th><td>0</td><td>0</td><td>0.9991202</td><td>0</td><td>-0.001553386</td><td>0.9972572</td><td>NATMI</td></tr>\n",
       "\t<tr><th scope=row>3</th><td>0.0133945</td><td>0.2885375</td><td>0.9415988</td><td>0.02560056</td><td>0.05104625</td><td>0.997928</td><td>NATMI</td></tr>\n",
       "\t<tr><th scope=row>4</th><td>0</td><td>0</td><td>0.98739</td><td>0</td><td>-0.005915758</td><td>0.9972247</td><td>NATMI</td></tr>\n",
       "\t<tr><th scope=row>5</th><td>0.01185922</td><td>0.1225296</td><td>0.9719453</td><td>0.02162539</td><td>0.02977591</td><td>0.9975253</td><td>NATMI</td></tr>\n",
       "\t<tr><th scope=row>6</th><td>0.01454545</td><td>0.1422925</td><td>0.9735093</td><td>0.02639296</td><td>0.03747941</td><td>0.9975848</td><td>NATMI</td></tr>\n",
       "</tbody>\n",
       "</table>\n"
      ],
      "text/latex": [
       "A data.frame: 6 × 7\n",
       "\\begin{tabular}{r|lllllll}\n",
       "  & Precision & Sensitivity & Specificity & F1score & MCC & NPV & Tool\\\\\n",
       "  & <named list> & <named list> & <named list> & <named list> & <named list> & <named list> & <chr>\\\\\n",
       "\\hline\n",
       "\t1 & 0.01430638 & 0.3517787 & 0.9333985 & 0.02749459 & 0.05946992 & 0.9980953 & NATMI\\\\\n",
       "\t2 & 0 & 0 & 0.9991202 & 0 & -0.001553386 & 0.9972572 & NATMI\\\\\n",
       "\t3 & 0.0133945 & 0.2885375 & 0.9415988 & 0.02560056 & 0.05104625 & 0.997928 & NATMI\\\\\n",
       "\t4 & 0 & 0 & 0.98739 & 0 & -0.005915758 & 0.9972247 & NATMI\\\\\n",
       "\t5 & 0.01185922 & 0.1225296 & 0.9719453 & 0.02162539 & 0.02977591 & 0.9975253 & NATMI\\\\\n",
       "\t6 & 0.01454545 & 0.1422925 & 0.9735093 & 0.02639296 & 0.03747941 & 0.9975848 & NATMI\\\\\n",
       "\\end{tabular}\n"
      ],
      "text/markdown": [
       "\n",
       "A data.frame: 6 × 7\n",
       "\n",
       "| <!--/--> | Precision &lt;named list&gt; | Sensitivity &lt;named list&gt; | Specificity &lt;named list&gt; | F1score &lt;named list&gt; | MCC &lt;named list&gt; | NPV &lt;named list&gt; | Tool &lt;chr&gt; |\n",
       "|---|---|---|---|---|---|---|---|\n",
       "| 1 | 0.01430638 | 0.3517787 | 0.9333985 | 0.02749459 | 0.05946992 | 0.9980953 | NATMI |\n",
       "| 2 | 0 | 0 | 0.9991202 | 0 | -0.001553386 | 0.9972572 | NATMI |\n",
       "| 3 | 0.0133945 | 0.2885375 | 0.9415988 | 0.02560056 | 0.05104625 | 0.997928 | NATMI |\n",
       "| 4 | 0 | 0 | 0.98739 | 0 | -0.005915758 | 0.9972247 | NATMI |\n",
       "| 5 | 0.01185922 | 0.1225296 | 0.9719453 | 0.02162539 | 0.02977591 | 0.9975253 | NATMI |\n",
       "| 6 | 0.01454545 | 0.1422925 | 0.9735093 | 0.02639296 | 0.03747941 | 0.9975848 | NATMI |\n",
       "\n"
      ],
      "text/plain": [
       "  Precision  Sensitivity Specificity F1score    MCC          NPV       Tool \n",
       "1 0.01430638 0.3517787   0.9333985   0.02749459 0.05946992   0.9980953 NATMI\n",
       "2 0          0           0.9991202   0          -0.001553386 0.9972572 NATMI\n",
       "3 0.0133945  0.2885375   0.9415988   0.02560056 0.05104625   0.997928  NATMI\n",
       "4 0          0           0.98739     0          -0.005915758 0.9972247 NATMI\n",
       "5 0.01185922 0.1225296   0.9719453   0.02162539 0.02977591   0.9975253 NATMI\n",
       "6 0.01454545 0.1422925   0.9735093   0.02639296 0.03747941   0.9975848 NATMI"
      ]
     },
     "metadata": {},
     "output_type": "display_data"
    }
   ],
   "source": [
    "# SSP calculation\n",
    "cc <- readRDS(\"Result/lrpairs/cc.rds\") %>% lapply(., function(x){run_SSP(x,allpairs,gold)}) %>% do.call(rbind,.) %>% as.data.frame(,row.names = FALSE)\n",
    "cc[,\"Tool\"] <- rep(\"CellChat\",each=56)\n",
    "head(cc)\n",
    "it <- readRDS(\"Result/lrpairs/it.rds\") %>% lapply(., function(x){run_SSP(x,allpairs,gold)}) %>% do.call(rbind,.) %>% as.data.frame(,row.names = FALSE)\n",
    "it[,\"Tool\"] <- rep(\"iTalk\",each=56)\n",
    "head(it)\n",
    "scsr <- readRDS(\"Result/lrpairs/scsr.rds\") %>% lapply(., function(x){run_SSP(x,allpairs,gold)}) %>% do.call(rbind,.) %>% as.data.frame(,row.names = FALSE)\n",
    "scsr[,\"Tool\"] <- rep(\"SingleCellSignalR\",each=56)\n",
    "head(scsr)\n",
    "cci <- readRDS(\"Result/lrpairs/cci.rds\") %>% lapply(., function(x){run_SSP(x,allpairs,gold)}) %>% do.call(rbind,.) %>% as.data.frame(,row.names = FALSE)\n",
    "cci[,\"Tool\"] <- rep(\"CCInx\",each=56)\n",
    "head(cci)\n",
    "sc <- readRDS(\"Result/lrpairs/sc.rds\") %>% lapply(., function(x){run_SSP(x,allpairs,gold)}) %>% do.call(rbind,.) %>% as.data.frame(,row.names = FALSE)\n",
    "sc[,\"Tool\"] <- rep(\"scMLnet\",each=56)\n",
    "head(sc)\n",
    "cpdb <- readRDS(\"Result/lrpairs/cpdb.rds\") %>% lapply(., function(x){run_CellPhoneDB_SSP(x,allpairs,gold)}) %>% do.call(rbind,.) %>% as.data.frame(,row.names = FALSE)\n",
    "cpdb[,\"Tool\"] <- rep(\"CellPhoneDB\",each=56)\n",
    "head(cpdb)\n",
    "nm <- readRDS(\"Result/lrpairs/nm.rds\") %>% lapply(., function(x){run_SSP(x,allpairs,gold)}) %>% do.call(rbind,.) %>% as.data.frame(,row.names = FALSE)\n",
    "nm[,\"Tool\"] <- rep(\"NATMI\",each=56)\n",
    "head(nm)"
   ]
  },
  {
   "cell_type": "code",
   "execution_count": 128,
   "id": "44acc758",
   "metadata": {},
   "outputs": [
    {
     "data": {
      "text/html": [
       "<style>\n",
       ".list-inline {list-style: none; margin:0; padding: 0}\n",
       ".list-inline>li {display: inline-block}\n",
       ".list-inline>li:not(:last-child)::after {content: \"\\00b7\"; padding: 0 .5ex}\n",
       "</style>\n",
       "<ol class=list-inline><li>18</li><li>22</li><li>23</li><li>24</li><li>28</li><li>31</li><li>33</li><li>34</li><li>35</li><li>37</li><li>44</li><li>46</li><li>47</li><li>53</li><li>55</li><li>56</li></ol>\n"
      ],
      "text/latex": [
       "\\begin{enumerate*}\n",
       "\\item 18\n",
       "\\item 22\n",
       "\\item 23\n",
       "\\item 24\n",
       "\\item 28\n",
       "\\item 31\n",
       "\\item 33\n",
       "\\item 34\n",
       "\\item 35\n",
       "\\item 37\n",
       "\\item 44\n",
       "\\item 46\n",
       "\\item 47\n",
       "\\item 53\n",
       "\\item 55\n",
       "\\item 56\n",
       "\\end{enumerate*}\n"
      ],
      "text/markdown": [
       "1. 18\n",
       "2. 22\n",
       "3. 23\n",
       "4. 24\n",
       "5. 28\n",
       "6. 31\n",
       "7. 33\n",
       "8. 34\n",
       "9. 35\n",
       "10. 37\n",
       "11. 44\n",
       "12. 46\n",
       "13. 47\n",
       "14. 53\n",
       "15. 55\n",
       "16. 56\n",
       "\n",
       "\n"
      ],
      "text/plain": [
       " [1] 18 22 23 24 28 31 33 34 35 37 44 46 47 53 55 56"
      ]
     },
     "metadata": {},
     "output_type": "display_data"
    }
   ],
   "source": [
    "# remove error results produced by CCInx\n",
    "cci <- read.table(\"Result/speedcci.txt\",sep = \"\\t\",header = TRUE)\n",
    "ccierror <- which(is.na(cci[,2]))\n",
    "ccierror"
   ]
  },
  {
   "cell_type": "code",
   "execution_count": 181,
   "id": "fc1f6357",
   "metadata": {},
   "outputs": [
    {
     "name": "stdout",
     "output_type": "stream",
     "text": [
      "'data.frame':\t376 obs. of  7 variables:\n",
      " $ Precision  : num  0.01055 0.00496 0.00892 0 0.00436 ...\n",
      " $ Sensitivity: num  0.1028 0.0316 0.0553 0 0.0158 ...\n",
      " $ Specificity: num  0.974 0.983 0.983 0.997 0.99 ...\n",
      " $ F1score    : num  0.01914 0.00858 0.01536 0 0.00684 ...\n",
      " $ MCC        : num  0.02474 0.00567 0.01554 -0.00281 0.00311 ...\n",
      " $ NPV        : num  0.997 0.997 0.997 0.997 0.997 ...\n",
      " $ Tool       : chr  \"CellChat\" \"CellChat\" \"CellChat\" \"CellChat\" ...\n"
     ]
    }
   ],
   "source": [
    "ssp <- rbind(cc,it,scsr,cci[-ccierror,],sc,cpdb,nm)\n",
    "ssp[,1:7] <- unlist(ssp[,1:7])\n",
    "ssp[,1] <- as.numeric(ssp[,1])\n",
    "ssp[,2] <- as.numeric(ssp[,2])\n",
    "ssp[,3] <- as.numeric(ssp[,3])\n",
    "ssp[,4] <- as.numeric(ssp[,4])\n",
    "ssp[,5] <- as.numeric(ssp[,5])\n",
    "ssp[,6] <- as.numeric(ssp[,6])\n",
    "str(ssp)\n",
    "write.table(ssp, \"Result/ssp.txt\", sep = \"\\t\", quote = FALSE, row.names = FALSE)"
   ]
  },
  {
   "cell_type": "code",
   "execution_count": 194,
   "id": "886b3e88",
   "metadata": {},
   "outputs": [
    {
     "data": {
      "image/png": "[encoded data removed]",
      "text/plain": [
       "plot without title"
      ]
     },
     "metadata": {
      "image/png": {
       "height": 420,
       "width": 420
      }
     },
     "output_type": "display_data"
    }
   ],
   "source": [
    "p1 <- ggplot(data=ssp, aes(x=Tool, y=Precision)) + geom_boxplot(color=\"black\", aes(fill=Tool)) + scale_fill_brewer(palette = \"Set3\") + theme_classic() + labs(x=NULL,y=NULL,title=\"Precision\") + theme(axis.text.x = element_text(angle = 45, size=15, vjust=1, hjust=1), axis.text.y = element_text(size = 12), plot.title = element_text(hjust = .5, size = 20),legend.position=\"none\")\n",
    "p2 <- ggplot(data=ssp, aes(x=Tool, y=Sensitivity)) + geom_boxplot(color=\"black\", aes(fill=Tool)) + scale_fill_brewer(palette = \"Set3\") + theme_classic() + labs(x=NULL,y=NULL,title=\"Sensitivity\") + theme(axis.text.x = element_text(angle = 45, size=15, vjust=1, hjust=1), axis.text.y = element_text(size = 12), plot.title = element_text(hjust = .5, size = 20),legend.position=\"none\")\n",
    "p3 <- ggplot(data=ssp, aes(x=Tool, y=Specificity)) + geom_boxplot(color=\"black\", aes(fill=Tool)) + scale_fill_brewer(palette = \"Set3\") + theme_classic() + labs(x=NULL,y=NULL,title=\"Specificity\") + theme(axis.text.x = element_text(angle = 45, size=15, vjust=1, hjust=1), axis.text.y = element_text(size = 12), plot.title = element_text(hjust = .5, size = 20),legend.position=\"none\")\n",
    "p1+p2+p3"
   ]
  },
  {
   "cell_type": "code",
   "execution_count": null,
   "id": "d251ba3d",
   "metadata": {},
   "outputs": [],
   "source": [
    "ggsave(\"Result/ssp.pdf\", width=15,height=6)"
   ]
  },
  {
   "cell_type": "code",
   "execution_count": 23,
   "id": "a2affc87",
   "metadata": {},
   "outputs": [
    {
     "data": {
      "image/png": "[encoded data removed]",
      "text/plain": [
       "plot without title"
      ]
     },
     "metadata": {
      "image/png": {
       "height": 420,
       "width": 420
      }
     },
     "output_type": "display_data"
    }
   ],
   "source": [
    "p4 <- ggplot(data=ssp, aes(x=Tool, y=F1score)) + geom_boxplot(color=\"black\", aes(fill=Tool)) + scale_fill_brewer(palette = \"Set3\") + theme_classic() + labs(x=NULL,y=NULL,title=\"F1 score\") + theme(axis.text.x = element_text(angle = 45, size=15, vjust=1, hjust=1), axis.text.y = element_text(size = 12), plot.title = element_text(hjust = .5, size = 20),legend.position=\"none\")\n",
    "p5 <- ggplot(data=ssp, aes(x=Tool, y=MCC)) + geom_boxplot(color=\"black\", aes(fill=Tool)) + scale_fill_brewer(palette = \"Set3\") + theme_classic() + labs(x=NULL,y=NULL,title=\"MCC\") + theme(axis.text.x = element_text(angle = 45, size=15, vjust=1, hjust=1), axis.text.y = element_text(size = 12), plot.title = element_text(hjust = .5, size = 20),legend.position=\"none\")\n",
    "p6 <- ggplot(data=ssp, aes(x=Tool, y=NPV)) + geom_boxplot(color=\"black\", aes(fill=Tool)) + scale_fill_brewer(palette = \"Set3\") + theme_classic() + labs(x=NULL,y=NULL,title=\"NPV\") + theme(axis.text.x = element_text(angle = 45, size=15, vjust=1, hjust=1), axis.text.y = element_text(size = 12), plot.title = element_text(hjust = .5, size = 20),legend.position=\"none\")\n",
    "p4+p5+p6"
   ]
  },
  {
   "cell_type": "code",
   "execution_count": 196,
   "id": "bad811e8",
   "metadata": {},
   "outputs": [],
   "source": [
    "ggsave(\"Result/f1mcc.pdf\", width=12,height=12)"
   ]
  },
  {
   "cell_type": "code",
   "execution_count": 24,
   "id": "4071033d",
   "metadata": {},
   "outputs": [
    {
     "data": {
      "text/plain": [
       "R version 4.2.2 Patched (2022-11-10 r83330)\n",
       "Platform: x86_64-pc-linux-gnu (64-bit)\n",
       "Running under: Ubuntu 20.04.5 LTS\n",
       "\n",
       "Matrix products: default\n",
       "BLAS:   /usr/lib/x86_64-linux-gnu/blas/libblas.so.3.9.0\n",
       "LAPACK: /usr/lib/x86_64-linux-gnu/lapack/liblapack.so.3.9.0\n",
       "\n",
       "locale:\n",
       " [1] LC_CTYPE=en_US.UTF-8       LC_NUMERIC=C              \n",
       " [3] LC_TIME=zh_CN.UTF-8        LC_COLLATE=en_US.UTF-8    \n",
       " [5] LC_MONETARY=zh_CN.UTF-8    LC_MESSAGES=en_US.UTF-8   \n",
       " [7] LC_PAPER=zh_CN.UTF-8       LC_NAME=C                 \n",
       " [9] LC_ADDRESS=C               LC_TELEPHONE=C            \n",
       "[11] LC_MEASUREMENT=zh_CN.UTF-8 LC_IDENTIFICATION=C       \n",
       "\n",
       "attached base packages:\n",
       "[1] parallel  stats     graphics  grDevices utils     datasets  methods  \n",
       "[8] base     \n",
       "\n",
       "other attached packages:\n",
       " [1] forcats_0.5.1           stringr_1.4.0           purrr_0.3.4            \n",
       " [4] readr_2.1.2             tidyr_1.2.0             tibble_3.1.7           \n",
       " [7] tidyverse_1.3.1         ggpubr_0.5.0            scMLnet_0.1.0          \n",
       "[10] CCInx_0.5.1             shiny_1.7.1             SingleCellSignalR_1.8.0\n",
       "[13] CellChat_1.1.3          Biobase_2.56.0          BiocGenerics_0.42.0    \n",
       "[16] ggplot2_3.4.0           igraph_1.3.1            iTALK_0.1.0            \n",
       "[19] Matrix_1.5-1            patchwork_1.1.1         dplyr_1.0.9            \n",
       "[22] sp_1.5-0                SeuratObject_4.1.0      Seurat_4.1.1           \n",
       "\n",
       "loaded via a namespace (and not attached):\n",
       "  [1] statnet.common_4.6.0        rsvd_1.0.5                 \n",
       "  [3] ica_1.0-2                   svglite_2.1.0              \n",
       "  [5] foreach_1.5.2               lmtest_0.9-40              \n",
       "  [7] crayon_1.5.1                V8_4.2.0                   \n",
       "  [9] spatstat.core_2.4-4         MASS_7.3-58                \n",
       " [11] MAST_1.22.0                 backports_1.4.1            \n",
       " [13] nlme_3.1-160                reprex_2.0.1               \n",
       " [15] qlcMatrix_0.9.7             rlang_1.0.6                \n",
       " [17] readxl_1.4.0                XVector_0.36.0             \n",
       " [19] ROCR_1.0-11                 irlba_2.3.5                \n",
       " [21] SparseM_1.81                limma_3.52.1               \n",
       " [23] BiocParallel_1.30.2         rjson_0.2.21               \n",
       " [25] bit64_4.0.5                 glue_1.6.2                 \n",
       " [27] pheatmap_1.0.12             rngtools_1.5.2             \n",
       " [29] sctransform_0.3.3           spatstat.sparse_2.1-1      \n",
       " [31] AnnotationDbi_1.58.0        spatstat.geom_2.4-0        \n",
       " [33] VGAM_1.1-6                  haven_2.5.0                \n",
       " [35] tidyselect_1.1.2            SummarizedExperiment_1.26.1\n",
       " [37] fitdistrplus_1.1-8          XML_3.99-0.10              \n",
       " [39] DEsingle_1.16.0             zoo_1.8-10                 \n",
       " [41] xtable_1.8-4                MatrixModels_0.5-0         \n",
       " [43] magrittr_2.0.3              evaluate_0.15              \n",
       " [45] scuttle_1.6.2               cli_3.4.1                  \n",
       " [47] zlibbioc_1.42.0             rstudioapi_0.13            \n",
       " [49] miniUI_0.1.1.1              rpart_4.1.19               \n",
       " [51] BiocSingular_1.12.0         clue_0.3-60                \n",
       " [53] leidenbase_0.1.11           multtest_2.52.0            \n",
       " [55] cluster_2.1.4               caTools_1.18.2             \n",
       " [57] pcaMethods_1.88.0           pbdZMQ_0.3-7               \n",
       " [59] KEGGREST_1.36.0             quantreg_5.93              \n",
       " [61] ggrepel_0.9.1               listenv_0.8.0              \n",
       " [63] Biostrings_2.64.0           png_0.1-7                  \n",
       " [65] future_1.26.1               withr_2.5.0                \n",
       " [67] bitops_1.0-7                slam_0.1-50                \n",
       " [69] cellranger_1.1.0            plyr_1.8.7                 \n",
       " [71] sparsesvd_0.2               pracma_2.3.8               \n",
       " [73] dqrng_0.3.0                 coda_0.19-4                \n",
       " [75] pillar_1.7.0                gplots_3.1.3               \n",
       " [77] GlobalOptions_0.1.2         cachem_1.0.6               \n",
       " [79] pscl_1.5.5                  fs_1.5.2                   \n",
       " [81] flexmix_2.3-17              GetoptLong_1.0.5           \n",
       " [83] DelayedMatrixStats_1.18.0   gamlss.data_6.0-2          \n",
       " [85] vctrs_0.5.1                 ellipsis_0.3.2             \n",
       " [87] generics_0.1.2              randomcoloR_1.1.0.1        \n",
       " [89] NMF_0.24.0                  tools_4.2.2                \n",
       " [91] munsell_0.5.0               distillery_1.2-1           \n",
       " [93] DelayedArray_0.22.0         fastmap_1.1.0              \n",
       " [95] HSMMSingleCell_1.16.0       compiler_4.2.2             \n",
       " [97] abind_1.4-5                 httpuv_1.6.5               \n",
       " [99] extRemes_2.1-2              pkgmaker_0.32.2            \n",
       "[101] plotly_4.10.0               rgeos_0.5-9                \n",
       "[103] GenomeInfoDbData_1.2.8      gridExtra_2.3              \n",
       "[105] edgeR_3.38.1                lattice_0.20-45            \n",
       "[107] deldir_1.0-6                utf8_1.2.2                 \n",
       "[109] later_1.3.0                 jsonlite_1.8.0             \n",
       "[111] scales_1.2.0                docopt_0.7.1               \n",
       "[113] ScaledMatrix_1.4.0          carData_3.0-5              \n",
       "[115] pbapply_1.5-0               sparseMatrixStats_1.8.0    \n",
       "[117] genefilter_1.78.0           lazyeval_0.2.2             \n",
       "[119] promises_1.2.0.1            car_3.0-13                 \n",
       "[121] doParallel_1.0.17           goftest_1.2-3              \n",
       "[123] spatstat.utils_2.3-1        reticulate_1.25            \n",
       "[125] brew_1.0-7                  sna_2.6                    \n",
       "[127] sandwich_3.0-1              cowplot_1.1.1              \n",
       "[129] statmod_1.4.36              Rtsne_0.16                 \n",
       "[131] uwot_0.1.11                 Rook_1.1-1                 \n",
       "[133] survival_3.3-1              numDeriv_2016.8-1.1        \n",
       "[135] systemfonts_1.0.4           DDRTree_0.1.5              \n",
       "[137] htmltools_0.5.2             memoise_2.0.1              \n",
       "[139] modeltools_0.2-23           locfit_1.5-9.5             \n",
       "[141] IRanges_2.30.0              viridisLite_0.4.0          \n",
       "[143] digest_0.6.29               assertthat_0.2.1           \n",
       "[145] mime_0.12                   repr_1.1.4                 \n",
       "[147] registry_0.5-1              SIMLR_1.22.0               \n",
       "[149] RSQLite_2.2.14              future.apply_1.9.0         \n",
       "[151] RcppArmadillo_0.11.1.1.0    data.table_1.14.2          \n",
       "[153] blob_1.2.3                  S4Vectors_0.34.0           \n",
       "[155] labeling_0.4.2              fastICA_1.2-3              \n",
       "[157] splines_4.2.2               Cairo_1.5-15               \n",
       "[159] RCurl_1.98-1.6              broom_0.8.0                \n",
       "[161] monocle_2.24.0              hms_1.1.1                  \n",
       "[163] modelr_0.1.8                colorspace_2.0-3           \n",
       "[165] base64enc_0.1-3             BiocManager_1.30.17        \n",
       "[167] GenomicRanges_1.48.0        shape_1.4.6                \n",
       "[169] maxLik_1.5-2                nnet_7.3-18                \n",
       "[171] Rcpp_1.0.8.3                RANN_2.6.1                 \n",
       "[173] mvtnorm_1.1-3               circlize_0.4.15            \n",
       "[175] fansi_1.0.3                 tzdb_0.3.0                 \n",
       "[177] parallelly_1.32.0           IRdisplay_1.1              \n",
       "[179] R6_2.5.1                    grid_4.2.2                 \n",
       "[181] ggridges_0.5.3              lifecycle_1.0.3            \n",
       "[183] bluster_1.6.0               miscTools_0.6-26           \n",
       "[185] ggsignif_0.6.3              curl_4.3.2                 \n",
       "[187] leiden_0.4.2                scde_2.24.0                \n",
       "[189] RcppAnnoy_0.0.19            RColorBrewer_1.1-3         \n",
       "[191] iterators_1.0.14            htmlwidgets_1.5.4          \n",
       "[193] beachmat_2.12.0             polyclip_1.10-0            \n",
       "[195] RMTstat_0.3.1               network_1.17.1             \n",
       "[197] gamlss_5.4-3                rvest_1.0.2                \n",
       "[199] ComplexHeatmap_2.12.0       mgcv_1.8-41                \n",
       "[201] globals_0.15.0              spatstat.random_2.2-0      \n",
       "[203] bdsmatrix_1.3-4             progressr_0.10.1           \n",
       "[205] lubridate_1.8.0             codetools_0.2-18           \n",
       "[207] Lmoments_1.3-1              matrixStats_0.62.0         \n",
       "[209] metapod_1.4.0               FNN_1.1.3.1                \n",
       "[211] gtools_3.9.2.1              prettyunits_1.1.1          \n",
       "[213] dbplyr_2.1.1                SingleCellExperiment_1.18.0\n",
       "[215] gridBase_0.4-7              RSpectra_0.16-1            \n",
       "[217] GenomeInfoDb_1.32.2         gtable_0.3.0               \n",
       "[219] DBI_1.1.2                   ggalluvial_0.12.3          \n",
       "[221] stats4_4.2.2                tensor_1.5                 \n",
       "[223] httr_1.4.3                  KernSmooth_2.23-20         \n",
       "[225] stringi_1.7.6               progress_1.2.2             \n",
       "[227] farver_2.1.0                reshape2_1.4.4             \n",
       "[229] uuid_1.1-0                  annotate_1.74.0            \n",
       "[231] viridis_0.6.2               xml2_1.3.3                 \n",
       "[233] combinat_0.0-8              bbmle_1.0.25               \n",
       "[235] IRkernel_1.3.0.9000         BiocNeighbors_1.14.0       \n",
       "[237] geneplotter_1.74.0          scattermore_0.8            \n",
       "[239] DESeq2_1.36.0               scran_1.24.0               \n",
       "[241] bit_4.0.4                   MatrixGenerics_1.8.0       \n",
       "[243] spatstat.data_2.2-0         pkgconfig_2.0.3            \n",
       "[245] gamlss.dist_6.0-3           rstatix_0.7.1              "
      ]
     },
     "metadata": {},
     "output_type": "display_data"
    }
   ],
   "source": [
    "sessionInfo()"
   ]
  },
  {
   "cell_type": "markdown",
   "id": "2b476d09",
   "metadata": {},
   "source": [
    "Last updated: 2023.2.7"
   ]
  }
 ],
 "metadata": {
  "kernelspec": {
   "display_name": "R",
   "language": "R",
   "name": "ir"
  },
  "language_info": {
   "codemirror_mode": "r",
   "file_extension": ".r",
   "mimetype": "text/x-r-source",
   "name": "R",
   "pygments_lexer": "r",
   "version": "4.2.2"
  }
 },
 "nbformat": 4,
 "nbformat_minor": 5
}
