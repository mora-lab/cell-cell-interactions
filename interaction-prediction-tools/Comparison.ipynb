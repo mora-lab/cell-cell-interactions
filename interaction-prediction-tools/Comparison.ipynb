{
 "cells": [
  {
   "cell_type": "markdown",
   "id": "76a620e7",
   "metadata": {},
   "source": [
    "## A Simple Output Comparison of Different Prediction Tools"
   ]
  },
  {
   "attachments": {},
   "cell_type": "markdown",
   "id": "22135cf3",
   "metadata": {},
   "source": [
    "|     |  L-R pairs information | Network | Circos plot | Heatmap | Bubble plot |\n",
    "|:-------:|:-:|:-:|:-:|:-:|:-:|\n",
    "|NicheNet|√|√|√|√|√|\n",
    "|NATMI|√|√|√|√||\n",
    "|iTalk|√|√|√|||\n",
    "|scTensor|√|√||√||\n",
    "|CellPhoneDB|√|||√|√|\n",
    "|SoptSC|√|||√||\n",
    "|scMLnet|√|√||||\n",
    "|COMUNET|√|√||||\n",
    "|SingleCellSignalR|√||√|||\n",
    "|CCInx|√|√||||\n",
    "|celltalker|√||√|||\n",
    "|PyMINEr|√|||||\n"
    "|CellChat|√||√|√|√|"
   ]
  },
  {
   "cell_type": "markdown",
   "id": "03dc71ef",
   "metadata": {},
   "source": [
    "Last updated: June 12, 2021"
   ]
  }
 ],
 "metadata": {
  "kernelspec": {
   "display_name": "R",
   "language": "R",
   "name": "ir"
  },
  "language_info": {
   "codemirror_mode": "r",
   "file_extension": ".r",
   "mimetype": "text/x-r-source",
   "name": "R",
   "pygments_lexer": "r",
   "version": "4.1.0"
  }
 },
 "nbformat": 4,
 "nbformat_minor": 5
}
