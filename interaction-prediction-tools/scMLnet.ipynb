{
 "cells": [
  {
   "cell_type": "markdown",
   "metadata": {},
   "source": [
    "# scMLnet\n",
    "\n",
    "**Language:** R (for statistical analysis) and Python (for visualization)\n",
    "\n",
    "**Paper:** Cheng, J., et al., Inferring microenvironmental regulation of gene expression from single-cell RNA sequencing data using scMLnet with an application to COVID-19. Brief Bioinform, 2020.\n",
    "\n",
    "**Code Resource:** https://github.com/SunXQlab/scMLnet\n",
    "\n",
    "**Claiming:** Inference of intercellular and intracellular signaling networks (ligand-receptor-TF-target gene)\n",
    "\n",
    "**Method:** Fisher's exact test and correlation, overlapping molecules\n",
    "\n",
    "**Database:** 1. ligand-receptor information: 2557 pairs (from DLRP, IUPHAR, HPMR, HPRD, STRING databases and previos studies); 2. receptor-TF information: 39141 pairs (from STRING databases); 3. TF-target gene information (from TRED, KEGG, GeneCards and TRANSFAC databases)\n"
   ]
  },
  {
   "cell_type": "markdown",
   "metadata": {},
   "source": [
    "## Input\n",
    "1. scRNA-seq data: gene-expression matrix (raw) with rows as genes and columns as cells\n",
    "2. cell type annotation\n",
    "3. cell type: senders and receivers\n",
    "\n",
    "For this tutorial, we will use scMLnet to construct the multi-layer signaling network between B cells and Secretory cells from scRNA-Seq data of BALF in COVID-19 patients.\n",
    "\n",
    "Link of expression matrix and annotation: https://zenodo.org/record/4267609#.YNVskzoRVhF\n",
    "\n",
    "Link of prior information: https://zenodo.org/record/5031204#.YNVtkzoRVhE"
   ]
  },
  {
   "cell_type": "markdown",
   "metadata": {},
   "source": [
    "## Installation\n"
   ]
  },
  {
   "cell_type": "markdown",
   "metadata": {},
   "source": [
    "### Preparation"
   ]
  },
  {
   "cell_type": "code",
   "execution_count": 1,
   "metadata": {},
   "outputs": [
    {
     "name": "stderr",
     "output_type": "stream",
     "text": [
      "Attaching SeuratObject\n",
      "\n"
     ]
    }
   ],
   "source": [
    "# Required packages\n",
    "    library(Seurat)\n",
    "    library(Matrix)\n",
    "    library(parallel)\n",
    "    library(scMLnet)"
   ]
  },
  {
   "cell_type": "code",
   "execution_count": 2,
   "metadata": {},
   "outputs": [],
   "source": [
    "# Input data\n",
    "    # import sample data\n",
    "    GCMat <- readRDS(\"data.Rdata\")\n",
    "    GCMat<- as(GCMat,\"dgCMatrix\")\n",
    "    \n",
    "    # import sample annotation\n",
    "    BarCluFile <- \"barcodetype.txt\"\n",
    "    BarCluTable <- read.table(BarCluFile,sep = \"\\t\",header = TRUE,stringsAsFactors = FALSE)"
   ]
  },
  {
   "cell_type": "code",
   "execution_count": 7,
   "metadata": {},
   "outputs": [
    {
     "data": {
      "text/html": [
       "<table class=\"dataframe\">\n",
       "<caption>A matrix: 6 × 44513 of type dbl</caption>\n",
       "<thead>\n",
       "\t<tr><th></th><th scope=col>AAACCTGAGATGTCGG-1_5</th><th scope=col>AAACCTGAGGCTCATT-1_5</th><th scope=col>AAACCTGCAATCCGAT-1_5</th><th scope=col>AAACCTGCATGGTCAT-1_5</th><th scope=col>AAACCTGGTTTAGCTG-1_5</th><th scope=col>AAACCTGTCAATCACG-1_5</th><th scope=col>AAACCTGTCCGAGCCA-1_5</th><th scope=col>AAACCTGTCCTCCTAG-1_5</th><th scope=col>AAACGGGAGAACTCGG-1_5</th><th scope=col>AAACGGGAGTCAAGCG-1_5</th><th scope=col>⋯</th><th scope=col>TTTGGTTCACGAGAGT-1_13</th><th scope=col>TTTGGTTCACTATCTT-1_13</th><th scope=col>TTTGGTTCATCGGGTC-1_13</th><th scope=col>TTTGGTTGTCTCTCTG-1_13</th><th scope=col>TTTGGTTTCAAACCAC-1_13</th><th scope=col>TTTGGTTTCGCTTGTC-1_13</th><th scope=col>TTTGTCAAGAAACGCC-1_13</th><th scope=col>TTTGTCACAACACCCG-1_13</th><th scope=col>TTTGTCAGTCTGCAAT-1_13</th><th scope=col>TTTGTCAGTGTTGGGA-1_13</th></tr>\n",
       "</thead>\n",
       "<tbody>\n",
       "\t<tr><th scope=row>AL627309.1</th><td>0</td><td>0</td><td>0</td><td>0</td><td>0</td><td>0</td><td>0</td><td>0</td><td>0</td><td>0</td><td>⋯</td><td>0</td><td>0</td><td>0</td><td>0</td><td>0</td><td>0</td><td>0</td><td>0</td><td>0</td><td>0</td></tr>\n",
       "\t<tr><th scope=row>AL669831.5</th><td>0</td><td>0</td><td>0</td><td>0</td><td>0</td><td>0</td><td>0</td><td>0</td><td>0</td><td>0</td><td>⋯</td><td>0</td><td>0</td><td>0</td><td>0</td><td>0</td><td>0</td><td>0</td><td>0</td><td>0</td><td>0</td></tr>\n",
       "\t<tr><th scope=row>FAM87B</th><td>0</td><td>0</td><td>0</td><td>0</td><td>0</td><td>0</td><td>0</td><td>0</td><td>0</td><td>0</td><td>⋯</td><td>0</td><td>0</td><td>0</td><td>0</td><td>0</td><td>0</td><td>0</td><td>0</td><td>0</td><td>0</td></tr>\n",
       "\t<tr><th scope=row>LINC00115</th><td>0</td><td>0</td><td>0</td><td>0</td><td>0</td><td>0</td><td>0</td><td>0</td><td>0</td><td>0</td><td>⋯</td><td>0</td><td>0</td><td>0</td><td>0</td><td>0</td><td>0</td><td>0</td><td>0</td><td>0</td><td>0</td></tr>\n",
       "\t<tr><th scope=row>FAM41C</th><td>0</td><td>0</td><td>0</td><td>0</td><td>0</td><td>0</td><td>0</td><td>0</td><td>0</td><td>0</td><td>⋯</td><td>0</td><td>0</td><td>0</td><td>0</td><td>0</td><td>0</td><td>0</td><td>0</td><td>0</td><td>0</td></tr>\n",
       "\t<tr><th scope=row>NOC2L</th><td>0</td><td>1</td><td>0</td><td>0</td><td>0</td><td>0</td><td>0</td><td>0</td><td>0</td><td>1</td><td>⋯</td><td>0</td><td>1</td><td>0</td><td>0</td><td>1</td><td>0</td><td>0</td><td>0</td><td>2</td><td>0</td></tr>\n",
       "</tbody>\n",
       "</table>\n"
      ],
      "text/latex": [
       "A matrix: 6 × 44513 of type dbl\n",
       "\\begin{tabular}{r|lllllllllllllllllllll}\n",
       "  & AAACCTGAGATGTCGG-1\\_5 & AAACCTGAGGCTCATT-1\\_5 & AAACCTGCAATCCGAT-1\\_5 & AAACCTGCATGGTCAT-1\\_5 & AAACCTGGTTTAGCTG-1\\_5 & AAACCTGTCAATCACG-1\\_5 & AAACCTGTCCGAGCCA-1\\_5 & AAACCTGTCCTCCTAG-1\\_5 & AAACGGGAGAACTCGG-1\\_5 & AAACGGGAGTCAAGCG-1\\_5 & ⋯ & TTTGGTTCACGAGAGT-1\\_13 & TTTGGTTCACTATCTT-1\\_13 & TTTGGTTCATCGGGTC-1\\_13 & TTTGGTTGTCTCTCTG-1\\_13 & TTTGGTTTCAAACCAC-1\\_13 & TTTGGTTTCGCTTGTC-1\\_13 & TTTGTCAAGAAACGCC-1\\_13 & TTTGTCACAACACCCG-1\\_13 & TTTGTCAGTCTGCAAT-1\\_13 & TTTGTCAGTGTTGGGA-1\\_13\\\\\n",
       "\\hline\n",
       "\tAL627309.1 & 0 & 0 & 0 & 0 & 0 & 0 & 0 & 0 & 0 & 0 & ⋯ & 0 & 0 & 0 & 0 & 0 & 0 & 0 & 0 & 0 & 0\\\\\n",
       "\tAL669831.5 & 0 & 0 & 0 & 0 & 0 & 0 & 0 & 0 & 0 & 0 & ⋯ & 0 & 0 & 0 & 0 & 0 & 0 & 0 & 0 & 0 & 0\\\\\n",
       "\tFAM87B & 0 & 0 & 0 & 0 & 0 & 0 & 0 & 0 & 0 & 0 & ⋯ & 0 & 0 & 0 & 0 & 0 & 0 & 0 & 0 & 0 & 0\\\\\n",
       "\tLINC00115 & 0 & 0 & 0 & 0 & 0 & 0 & 0 & 0 & 0 & 0 & ⋯ & 0 & 0 & 0 & 0 & 0 & 0 & 0 & 0 & 0 & 0\\\\\n",
       "\tFAM41C & 0 & 0 & 0 & 0 & 0 & 0 & 0 & 0 & 0 & 0 & ⋯ & 0 & 0 & 0 & 0 & 0 & 0 & 0 & 0 & 0 & 0\\\\\n",
       "\tNOC2L & 0 & 1 & 0 & 0 & 0 & 0 & 0 & 0 & 0 & 1 & ⋯ & 0 & 1 & 0 & 0 & 1 & 0 & 0 & 0 & 2 & 0\\\\\n",
       "\\end{tabular}\n"
      ],
      "text/markdown": [
       "\n",
       "A matrix: 6 × 44513 of type dbl\n",
       "\n",
       "| <!--/--> | AAACCTGAGATGTCGG-1_5 | AAACCTGAGGCTCATT-1_5 | AAACCTGCAATCCGAT-1_5 | AAACCTGCATGGTCAT-1_5 | AAACCTGGTTTAGCTG-1_5 | AAACCTGTCAATCACG-1_5 | AAACCTGTCCGAGCCA-1_5 | AAACCTGTCCTCCTAG-1_5 | AAACGGGAGAACTCGG-1_5 | AAACGGGAGTCAAGCG-1_5 | ⋯ | TTTGGTTCACGAGAGT-1_13 | TTTGGTTCACTATCTT-1_13 | TTTGGTTCATCGGGTC-1_13 | TTTGGTTGTCTCTCTG-1_13 | TTTGGTTTCAAACCAC-1_13 | TTTGGTTTCGCTTGTC-1_13 | TTTGTCAAGAAACGCC-1_13 | TTTGTCACAACACCCG-1_13 | TTTGTCAGTCTGCAAT-1_13 | TTTGTCAGTGTTGGGA-1_13 |\n",
       "|---|---|---|---|---|---|---|---|---|---|---|---|---|---|---|---|---|---|---|---|---|---|\n",
       "| AL627309.1 | 0 | 0 | 0 | 0 | 0 | 0 | 0 | 0 | 0 | 0 | ⋯ | 0 | 0 | 0 | 0 | 0 | 0 | 0 | 0 | 0 | 0 |\n",
       "| AL669831.5 | 0 | 0 | 0 | 0 | 0 | 0 | 0 | 0 | 0 | 0 | ⋯ | 0 | 0 | 0 | 0 | 0 | 0 | 0 | 0 | 0 | 0 |\n",
       "| FAM87B | 0 | 0 | 0 | 0 | 0 | 0 | 0 | 0 | 0 | 0 | ⋯ | 0 | 0 | 0 | 0 | 0 | 0 | 0 | 0 | 0 | 0 |\n",
       "| LINC00115 | 0 | 0 | 0 | 0 | 0 | 0 | 0 | 0 | 0 | 0 | ⋯ | 0 | 0 | 0 | 0 | 0 | 0 | 0 | 0 | 0 | 0 |\n",
       "| FAM41C | 0 | 0 | 0 | 0 | 0 | 0 | 0 | 0 | 0 | 0 | ⋯ | 0 | 0 | 0 | 0 | 0 | 0 | 0 | 0 | 0 | 0 |\n",
       "| NOC2L | 0 | 1 | 0 | 0 | 0 | 0 | 0 | 0 | 0 | 1 | ⋯ | 0 | 1 | 0 | 0 | 1 | 0 | 0 | 0 | 2 | 0 |\n",
       "\n"
      ],
      "text/plain": [
       "           AAACCTGAGATGTCGG-1_5 AAACCTGAGGCTCATT-1_5 AAACCTGCAATCCGAT-1_5\n",
       "AL627309.1 0                    0                    0                   \n",
       "AL669831.5 0                    0                    0                   \n",
       "FAM87B     0                    0                    0                   \n",
       "LINC00115  0                    0                    0                   \n",
       "FAM41C     0                    0                    0                   \n",
       "NOC2L      0                    1                    0                   \n",
       "           AAACCTGCATGGTCAT-1_5 AAACCTGGTTTAGCTG-1_5 AAACCTGTCAATCACG-1_5\n",
       "AL627309.1 0                    0                    0                   \n",
       "AL669831.5 0                    0                    0                   \n",
       "FAM87B     0                    0                    0                   \n",
       "LINC00115  0                    0                    0                   \n",
       "FAM41C     0                    0                    0                   \n",
       "NOC2L      0                    0                    0                   \n",
       "           AAACCTGTCCGAGCCA-1_5 AAACCTGTCCTCCTAG-1_5 AAACGGGAGAACTCGG-1_5\n",
       "AL627309.1 0                    0                    0                   \n",
       "AL669831.5 0                    0                    0                   \n",
       "FAM87B     0                    0                    0                   \n",
       "LINC00115  0                    0                    0                   \n",
       "FAM41C     0                    0                    0                   \n",
       "NOC2L      0                    0                    0                   \n",
       "           AAACGGGAGTCAAGCG-1_5 ⋯ TTTGGTTCACGAGAGT-1_13 TTTGGTTCACTATCTT-1_13\n",
       "AL627309.1 0                    ⋯ 0                     0                    \n",
       "AL669831.5 0                    ⋯ 0                     0                    \n",
       "FAM87B     0                    ⋯ 0                     0                    \n",
       "LINC00115  0                    ⋯ 0                     0                    \n",
       "FAM41C     0                    ⋯ 0                     0                    \n",
       "NOC2L      1                    ⋯ 0                     1                    \n",
       "           TTTGGTTCATCGGGTC-1_13 TTTGGTTGTCTCTCTG-1_13 TTTGGTTTCAAACCAC-1_13\n",
       "AL627309.1 0                     0                     0                    \n",
       "AL669831.5 0                     0                     0                    \n",
       "FAM87B     0                     0                     0                    \n",
       "LINC00115  0                     0                     0                    \n",
       "FAM41C     0                     0                     0                    \n",
       "NOC2L      0                     0                     1                    \n",
       "           TTTGGTTTCGCTTGTC-1_13 TTTGTCAAGAAACGCC-1_13 TTTGTCACAACACCCG-1_13\n",
       "AL627309.1 0                     0                     0                    \n",
       "AL669831.5 0                     0                     0                    \n",
       "FAM87B     0                     0                     0                    \n",
       "LINC00115  0                     0                     0                    \n",
       "FAM41C     0                     0                     0                    \n",
       "NOC2L      0                     0                     0                    \n",
       "           TTTGTCAGTCTGCAAT-1_13 TTTGTCAGTGTTGGGA-1_13\n",
       "AL627309.1 0                     0                    \n",
       "AL669831.5 0                     0                    \n",
       "FAM87B     0                     0                    \n",
       "LINC00115  0                     0                    \n",
       "FAM41C     0                     0                    \n",
       "NOC2L      2                     0                    "
      ]
     },
     "metadata": {},
     "output_type": "display_data"
    },
    {
     "data": {
      "text/html": [
       "<table class=\"dataframe\">\n",
       "<caption>A data.frame: 6 × 2</caption>\n",
       "<thead>\n",
       "\t<tr><th></th><th scope=col>Barcode</th><th scope=col>Cluster</th></tr>\n",
       "\t<tr><th></th><th scope=col>&lt;chr&gt;</th><th scope=col>&lt;chr&gt;</th></tr>\n",
       "</thead>\n",
       "<tbody>\n",
       "\t<tr><th scope=row>1</th><td>AAACCTGAGATGTCGG-1_5</td><td>T cells    </td></tr>\n",
       "\t<tr><th scope=row>2</th><td>AAACCTGAGGCTCATT-1_5</td><td>macrophages</td></tr>\n",
       "\t<tr><th scope=row>3</th><td>AAACCTGCAATCCGAT-1_5</td><td>macrophages</td></tr>\n",
       "\t<tr><th scope=row>4</th><td>AAACCTGCATGGTCAT-1_5</td><td>T cells    </td></tr>\n",
       "\t<tr><th scope=row>5</th><td>AAACCTGGTTTAGCTG-1_5</td><td>T cells    </td></tr>\n",
       "\t<tr><th scope=row>6</th><td>AAACCTGTCAATCACG-1_5</td><td>T cells    </td></tr>\n",
       "</tbody>\n",
       "</table>\n"
      ],
      "text/latex": [
       "A data.frame: 6 × 2\n",
       "\\begin{tabular}{r|ll}\n",
       "  & Barcode & Cluster\\\\\n",
       "  & <chr> & <chr>\\\\\n",
       "\\hline\n",
       "\t1 & AAACCTGAGATGTCGG-1\\_5 & T cells    \\\\\n",
       "\t2 & AAACCTGAGGCTCATT-1\\_5 & macrophages\\\\\n",
       "\t3 & AAACCTGCAATCCGAT-1\\_5 & macrophages\\\\\n",
       "\t4 & AAACCTGCATGGTCAT-1\\_5 & T cells    \\\\\n",
       "\t5 & AAACCTGGTTTAGCTG-1\\_5 & T cells    \\\\\n",
       "\t6 & AAACCTGTCAATCACG-1\\_5 & T cells    \\\\\n",
       "\\end{tabular}\n"
      ],
      "text/markdown": [
       "\n",
       "A data.frame: 6 × 2\n",
       "\n",
       "| <!--/--> | Barcode &lt;chr&gt; | Cluster &lt;chr&gt; |\n",
       "|---|---|---|\n",
       "| 1 | AAACCTGAGATGTCGG-1_5 | T cells     |\n",
       "| 2 | AAACCTGAGGCTCATT-1_5 | macrophages |\n",
       "| 3 | AAACCTGCAATCCGAT-1_5 | macrophages |\n",
       "| 4 | AAACCTGCATGGTCAT-1_5 | T cells     |\n",
       "| 5 | AAACCTGGTTTAGCTG-1_5 | T cells     |\n",
       "| 6 | AAACCTGTCAATCACG-1_5 | T cells     |\n",
       "\n"
      ],
      "text/plain": [
       "  Barcode              Cluster    \n",
       "1 AAACCTGAGATGTCGG-1_5 T cells    \n",
       "2 AAACCTGAGGCTCATT-1_5 macrophages\n",
       "3 AAACCTGCAATCCGAT-1_5 macrophages\n",
       "4 AAACCTGCATGGTCAT-1_5 T cells    \n",
       "5 AAACCTGGTTTAGCTG-1_5 T cells    \n",
       "6 AAACCTGTCAATCACG-1_5 T cells    "
      ]
     },
     "metadata": {},
     "output_type": "display_data"
    }
   ],
   "source": [
    "head(as.matrix(GCMat))\n",
    "head(BarCluTable)"
   ]
  },
  {
   "cell_type": "markdown",
   "metadata": {},
   "source": [
    "We next define the receiver cell and sender cell that we want to explorer the cell-cell communication between them. In this example, we focus on the inter-/intracellular signaling network between B cells as senders and Secretory cells as receivers."
   ]
  },
  {
   "cell_type": "code",
   "execution_count": 8,
   "metadata": {},
   "outputs": [],
   "source": [
    "    types <- unique(BarCluTable$Cluster)\n",
    "    \n",
    "    LigClu <- \"B cells\"       #types[4]\n",
    "    RecClu <- \"Secretory\"     #types[8]"
   ]
  },
  {
   "cell_type": "markdown",
   "metadata": {},
   "source": [
    "### Default Parameters"
   ]
  },
  {
   "cell_type": "code",
   "execution_count": 9,
   "metadata": {},
   "outputs": [],
   "source": [
    "    pval <- 0.05\n",
    "    logfc <- 0.15\n",
    "    LigRecLib <- \"LigRec.txt\"\n",
    "    TFTarLib <- \"TFTargetGene.txt\"\n",
    "    RecTFLib <- \"RecTF.txt\""
   ]
  },
  {
   "cell_type": "markdown",
   "metadata": {},
   "source": [
    "### Construction of Multi-layer Signaling Networks\n",
    "If we use the same code as the tutorial from https://github.com/SunXQlab/scMLnet/blob/master/vignettes/Tutorial_of_scMLnet.md, errors would happen. Here we choose to turn the *GCMat* into a matrix to avoid the errors (may lead to a longer analysis time)."
   ]
  },
  {
   "cell_type": "code",
   "execution_count": 11,
   "metadata": {},
   "outputs": [
    {
     "name": "stdout",
     "output_type": "stream",
     "text": [
      "[1] \"check table cell:\"\n",
      "[1] 44513     2\n",
      "[1] \"Rec Cluster:\"\n",
      "[1] \"Secretory\"\n",
      "[1] \"Lig Cluster:\"\n",
      "[1] \"B cells\"\n",
      "[1] \"p val:\"\n",
      "[1] 0.05\n",
      "[1] \"logfc:\"\n",
      "[1] 0.15\n",
      "[1] \"get High Exp Gene in Secretory\"\n",
      "[1] \"Secretory:1231\"\n",
      "[1] \"gene:23916\"\n",
      "[1] \"logfc.threshold:\"\n",
      "[1] 0.15\n"
     ]
    },
    {
     "name": "stderr",
     "output_type": "stream",
     "text": [
      "Warning message in if (class(x = data) == \"data.frame\") {:\n",
      "“the condition has length > 1 and only the first element will be used”\n",
      "Warning message in if (class(x = data) != \"dgCMatrix\") {:\n",
      "“the condition has length > 1 and only the first element will be used”\n"
     ]
    },
    {
     "name": "stdout",
     "output_type": "stream",
     "text": [
      "[1] \"T-test in parallel\"\n",
      "[1] \"find high gene num:5602\"\n",
      "[1] \"-----------------------\"\n",
      "[1] \"get High Exp Gene in B cells\"\n",
      "[1] \"B cells:185\"\n",
      "[1] \"gene:23916\"\n",
      "[1] \"logfc.threshold:\"\n",
      "[1] 0.15\n"
     ]
    },
    {
     "name": "stderr",
     "output_type": "stream",
     "text": [
      "Warning message in if (class(x = data) == \"data.frame\") {:\n",
      "“the condition has length > 1 and only the first element will be used”\n",
      "Warning message in if (class(x = data) != \"dgCMatrix\") {:\n",
      "“the condition has length > 1 and only the first element will be used”\n"
     ]
    },
    {
     "name": "stdout",
     "output_type": "stream",
     "text": [
      "[1] \"T-test in parallel\"\n",
      "[1] \"find high gene num:723\"\n",
      "[1] \"-----------------------\"\n",
      "[1] \"Lig_Rec Num:18\"\n",
      "[1] \"TF_Target Num:1330\"\n",
      "[1] \"XZRec_XZTF Num:4707\"\n",
      "[1] \"Rec common in LigRec and RecTF:\"\n",
      "[1] \"TF common in RecTF and TFTar:\"\n",
      "[1] \"calculate Cor between RecTF\"\n",
      "[1] \"calculate Cor between TFTar\"\n"
     ]
    }
   ],
   "source": [
    "    netList <- RunMLnet(as.matrix(GCMat), BarCluFile, RecClu, LigClu, \n",
    "                        pval, logfc, \n",
    "                        LigRecLib, TFTarLib, RecTFLib)"
   ]
  },
  {
   "cell_type": "code",
   "execution_count": 13,
   "metadata": {},
   "outputs": [
    {
     "name": "stdout",
     "output_type": "stream",
     "text": [
      "List of 3\n",
      " $ LigRec: chr \"LTB_CD40\"\n",
      " $ RecTF : chr [1:41] \"CD40_FOSL1\" \"CD40_NR3C1\" \"CD40_ZFP36\" \"CD40_SRF\" ...\n",
      " $ TFTar : chr [1:488] \"ABL1_BAX\" \"ABL1_BCL2\" \"ABL1_BCL6\" \"ABL1_CDKN1A\" ...\n"
     ]
    }
   ],
   "source": [
    "str(netList)"
   ]
  },
  {
   "cell_type": "markdown",
   "metadata": {},
   "source": [
    "### Save and Visualization of Multi-layer Signaling Networks"
   ]
  },
  {
   "cell_type": "code",
   "execution_count": 16,
   "metadata": {},
   "outputs": [
    {
     "name": "stdout",
     "output_type": "stream",
     "text": [
      "Save Results\n",
      "Finish!\n"
     ]
    }
   ],
   "source": [
    "workdir <- \"sample\"\n",
    "DrawMLnet(netList,LigClu,RecClu,workdir,plotMLnet = F)"
   ]
  },
  {
   "cell_type": "markdown",
   "metadata": {},
   "source": [
    "If we set up the Python home path(python.exe) in Windows and set plotMLnet to TRUE, the signaling networks would be created automatically."
   ]
  },
  {
   "cell_type": "code",
   "execution_count": null,
   "metadata": {},
   "outputs": [],
   "source": [
    "workdir <- \"sample\"\n",
    "PyHome <- \"D:/Miniconda3/envs/R36/python.exe\" #for Window\n",
    "DrawMLnet(netList,LigClu,RecClu,workdir,PyHome,plotMLnet = T)"
   ]
  },
  {
   "cell_type": "code",
   "execution_count": null,
   "metadata": {},
   "outputs": [],
   "source": []
  },
  {
   "cell_type": "code",
   "execution_count": null,
   "metadata": {},
   "outputs": [],
   "source": []
  },
  {
   "cell_type": "markdown",
   "metadata": {},
   "source": [
    "Last updated: June 12,2021"
   ]
  }
 ],
 "metadata": {
  "kernelspec": {
   "display_name": "R",
   "language": "R",
   "name": "ir"
  },
  "language_info": {
   "codemirror_mode": "r",
   "file_extension": ".r",
   "mimetype": "text/x-r-source",
   "name": "R",
   "pygments_lexer": "r",
   "version": "4.1.0"
  }
 },
 "nbformat": 4,
 "nbformat_minor": 4
}
