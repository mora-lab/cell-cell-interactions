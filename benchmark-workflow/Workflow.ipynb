{
 "cells": [
  {
   "cell_type": "markdown",
   "id": "010056f1",
   "metadata": {},
   "source": [
    "## 1. Data Preparation"
   ]
  },
  {
   "cell_type": "code",
   "execution_count": 33,
   "id": "7d84bffe",
   "metadata": {},
   "outputs": [],
   "source": [
    "# load packages\n",
    "suppressPackageStartupMessages(library(Seurat))\n",
    "suppressPackageStartupMessages(library(dplyr))\n",
    "suppressPackageStartupMessages(library(patchwork))\n",
    "suppressPackageStartupMessages(library(Matrix))\n",
    "suppressPackageStartupMessages(library(parallel))\n",
    "suppressPackageStartupMessages(library(iTALK))\n",
    "suppressPackageStartupMessages(library(CellChat))\n",
    "suppressPackageStartupMessages(library(SingleCellSignalR))\n",
    "suppressPackageStartupMessages(library(CCInx))\n",
    "suppressPackageStartupMessages(library(scMLnet))\n",
    "\n",
    "# load tool functions\n",
    "source(\"https://raw.githubusercontent.com/mora-lab/cell-cell-interactions/main/benchmark-workflow/R/run_CellChat.R\")\n",
    "source(\"https://raw.githubusercontent.com/mora-lab/cell-cell-interactions/main/benchmark-workflow/R/run_iTalk.R\")\n",
    "source(\"https://raw.githubusercontent.com/mora-lab/cell-cell-interactions/main/benchmark-workflow/R/run_SingleCellSignalR.R\")\n",
    "source(\"https://raw.githubusercontent.com/mora-lab/cell-cell-interactions/main/benchmark-workflow/R/run_scMLnet.R\")\n",
    "source(\"https://raw.githubusercontent.com/mora-lab/cell-cell-interactions/main/benchmark-workflow/R/run_CCInx.R\")\n",
    "source(\"https://raw.githubusercontent.com/mora-lab/cell-cell-interactions/main/benchmark-workflow/R/CellChat_SSP_calculation.R\")\n",
    "source(\"https://raw.githubusercontent.com/mora-lab/cell-cell-interactions/main/benchmark-workflow/R/iTalk_SSP_calculation.R\")\n",
    "source(\"https://raw.githubusercontent.com/mora-lab/cell-cell-interactions/main/benchmark-workflow/R/SingleCellSignalR_SSP_calculation.R\")\n",
    "source(\"https://raw.githubusercontent.com/mora-lab/cell-cell-interactions/main/benchmark-workflow/R/CCInx_SSP_calculation.R\")\n",
    "source(\"https://raw.githubusercontent.com/mora-lab/cell-cell-interactions/main/benchmark-workflow/R/scMLnet_SSP_calculation.R\")"
   ]
  },
  {
   "cell_type": "code",
   "execution_count": 11,
   "id": "94af2e30",
   "metadata": {},
   "outputs": [],
   "source": [
    "# load single-cell sample data\n",
    "GSE122960 <- readRDS(\"https://zenodo.org/record/6497091/files/GSE122960.rds?download=1\")\n",
    "GSE128033 <- readRDS(\"https://zenodo.org/record/6497091/files/GSE128033.rds?download=1\")\n",
    "GSE135893 <- readRDS(\"https://zenodo.org/record/6497091/files/GSE135893.rds?download=1\")\n",
    "GSE136831 <- readRDS(\"https://zenodo.org/record/6497091/files/GSE136831.rds?download=1\")"
   ]
  },
  {
   "cell_type": "markdown",
   "id": "23d89144",
   "metadata": {},
   "source": [
    "All sample data has been processed, R scripts of processing can be found here: \n",
    "https://github.com/mora-lab/cell-cell-interactions/tree/main/benchmark-workflow/R"
   ]
  },
  {
   "cell_type": "code",
   "execution_count": 15,
   "id": "ce4919e6",
   "metadata": {},
   "outputs": [
    {
     "data": {
      "text/html": [
       "<style>\n",
       ".list-inline {list-style: none; margin:0; padding: 0}\n",
       ".list-inline>li {display: inline-block}\n",
       ".list-inline>li:not(:last-child)::after {content: \"\\00b7\"; padding: 0 .5ex}\n",
       "</style>\n",
       "<ol class=list-inline><li>'Macrophage'</li><li>'Fibroblast'</li><li>'AT2'</li><li>'Monocyte'</li><li>'Tcell'</li><li>'AT1'</li><li>'Endothelial'</li><li>'Mast'</li></ol>\n"
      ],
      "text/latex": [
       "\\begin{enumerate*}\n",
       "\\item 'Macrophage'\n",
       "\\item 'Fibroblast'\n",
       "\\item 'AT2'\n",
       "\\item 'Monocyte'\n",
       "\\item 'Tcell'\n",
       "\\item 'AT1'\n",
       "\\item 'Endothelial'\n",
       "\\item 'Mast'\n",
       "\\end{enumerate*}\n"
      ],
      "text/markdown": [
       "1. 'Macrophage'\n",
       "2. 'Fibroblast'\n",
       "3. 'AT2'\n",
       "4. 'Monocyte'\n",
       "5. 'Tcell'\n",
       "6. 'AT1'\n",
       "7. 'Endothelial'\n",
       "8. 'Mast'\n",
       "\n",
       "\n"
      ],
      "text/plain": [
       "[1] \"Macrophage\"  \"Fibroblast\"  \"AT2\"         \"Monocyte\"    \"Tcell\"      \n",
       "[6] \"AT1\"         \"Endothelial\" \"Mast\"       "
      ]
     },
     "metadata": {},
     "output_type": "display_data"
    }
   ],
   "source": [
    "# cell types of the samples\n",
    "unique(GSE122960$cell.type)"
   ]
  },
  {
   "cell_type": "code",
   "execution_count": null,
   "id": "7c4f7b7f",
   "metadata": {},
   "outputs": [],
   "source": [
    "# Subsample all data by patients as single samples\n",
    "sampledata <- unique(GSE122960$orig.ident)\n",
    "for(x in sampledata){\n",
    "  sub <- subset(GSE122960, ori.ident == x)\n",
    "  saveRDS(sub,paste(\"Dataset/GSE122960/\", x, \".rds\", sep = \"\"))\n",
    "}\n",
    "\n",
    "sampledata <- unique(GSE128033$orig.ident)\n",
    "for(x in sampledata){\n",
    "  sub <- subset(GSE128033, ori.ident == x)\n",
    "  saveRDS(sub,paste(\"Dataset/GSE128033/\", x, \".rds\", sep = \"\"))\n",
    "}\n",
    "\n",
    "sampledata <- unique(GSE135893$Sample_Name)\n",
    "for(x in sampledata){\n",
    "  sub <- subset(GSE135893, Sample_Name == x)\n",
    "  saveRDS(sub,paste(\"Dataset/GSE135893/\", x, \".rds\", sep = \"\"))\n",
    "}\n",
    "\n",
    "sampledata <- unique(GSE136831$orig.ident)\n",
    "for(x in sampledata){\n",
    "  sub <- subset(GSE136831, ori.ident == x)\n",
    "  saveRDS(sub,paste(\"Dataset/GSE136831/\", x, \".rds\", sep = \"\"))\n",
    "}"
   ]
  },
  {
   "cell_type": "code",
   "execution_count": 20,
   "id": "1640a872",
   "metadata": {},
   "outputs": [
    {
     "data": {
      "text/html": [
       "<style>\n",
       ".list-inline {list-style: none; margin:0; padding: 0}\n",
       ".list-inline>li {display: inline-block}\n",
       ".list-inline>li:not(:last-child)::after {content: \"\\00b7\"; padding: 0 .5ex}\n",
       "</style>\n",
       "<ol class=list-inline><li>'IPF_01.rds'</li><li>'IPF_02.rds'</li><li>'IPF_03.rds'</li><li>'IPF_04.rds'</li></ol>\n"
      ],
      "text/latex": [
       "\\begin{enumerate*}\n",
       "\\item 'IPF\\_01.rds'\n",
       "\\item 'IPF\\_02.rds'\n",
       "\\item 'IPF\\_03.rds'\n",
       "\\item 'IPF\\_04.rds'\n",
       "\\end{enumerate*}\n"
      ],
      "text/markdown": [
       "1. 'IPF_01.rds'\n",
       "2. 'IPF_02.rds'\n",
       "3. 'IPF_03.rds'\n",
       "4. 'IPF_04.rds'\n",
       "\n",
       "\n"
      ],
      "text/plain": [
       "[1] \"IPF_01.rds\" \"IPF_02.rds\" \"IPF_03.rds\" \"IPF_04.rds\""
      ]
     },
     "metadata": {},
     "output_type": "display_data"
    },
    {
     "data": {
      "text/html": [
       "<style>\n",
       ".list-inline {list-style: none; margin:0; padding: 0}\n",
       ".list-inline>li {display: inline-block}\n",
       ".list-inline>li:not(:last-child)::after {content: \"\\00b7\"; padding: 0 .5ex}\n",
       "</style>\n",
       "<ol class=list-inline><li>'SC153IPFLOW.rds'</li><li>'SC154IPFUP.rds'</li><li>'SC87IPFLOW.rds'</li><li>'SC88IPFUP.rds'</li><li>'SC89IPFLOW.rds'</li><li>'SC93IPFLOW.rds'</li><li>'SC94IPFUP.rds'</li><li>'SC95IPFLOW.rds'</li></ol>\n"
      ],
      "text/latex": [
       "\\begin{enumerate*}\n",
       "\\item 'SC153IPFLOW.rds'\n",
       "\\item 'SC154IPFUP.rds'\n",
       "\\item 'SC87IPFLOW.rds'\n",
       "\\item 'SC88IPFUP.rds'\n",
       "\\item 'SC89IPFLOW.rds'\n",
       "\\item 'SC93IPFLOW.rds'\n",
       "\\item 'SC94IPFUP.rds'\n",
       "\\item 'SC95IPFLOW.rds'\n",
       "\\end{enumerate*}\n"
      ],
      "text/markdown": [
       "1. 'SC153IPFLOW.rds'\n",
       "2. 'SC154IPFUP.rds'\n",
       "3. 'SC87IPFLOW.rds'\n",
       "4. 'SC88IPFUP.rds'\n",
       "5. 'SC89IPFLOW.rds'\n",
       "6. 'SC93IPFLOW.rds'\n",
       "7. 'SC94IPFUP.rds'\n",
       "8. 'SC95IPFLOW.rds'\n",
       "\n",
       "\n"
      ],
      "text/plain": [
       "[1] \"SC153IPFLOW.rds\" \"SC154IPFUP.rds\"  \"SC87IPFLOW.rds\"  \"SC88IPFUP.rds\"  \n",
       "[5] \"SC89IPFLOW.rds\"  \"SC93IPFLOW.rds\"  \"SC94IPFUP.rds\"   \"SC95IPFLOW.rds\" "
      ]
     },
     "metadata": {},
     "output_type": "display_data"
    },
    {
     "data": {
      "text/html": [
       "<style>\n",
       ".list-inline {list-style: none; margin:0; padding: 0}\n",
       ".list-inline>li {display: inline-block}\n",
       ".list-inline>li:not(:last-child)::after {content: \"\\00b7\"; padding: 0 .5ex}\n",
       "</style>\n",
       "<ol class=list-inline><li>'TILD001.rds'</li><li>'TILD006.rds'</li><li>'TILD010.rds'</li><li>'TILD015.rds'</li><li>'TILD028.rds'</li><li>'VUILD53.rds'</li><li>'VUILD59.rds'</li><li>'VUILD60.rds'</li><li>'VUILD61.rds'</li><li>'VUILD63.rds'</li><li>'VUILD64.rds'</li><li>'VUILD65.rds'</li></ol>\n"
      ],
      "text/latex": [
       "\\begin{enumerate*}\n",
       "\\item 'TILD001.rds'\n",
       "\\item 'TILD006.rds'\n",
       "\\item 'TILD010.rds'\n",
       "\\item 'TILD015.rds'\n",
       "\\item 'TILD028.rds'\n",
       "\\item 'VUILD53.rds'\n",
       "\\item 'VUILD59.rds'\n",
       "\\item 'VUILD60.rds'\n",
       "\\item 'VUILD61.rds'\n",
       "\\item 'VUILD63.rds'\n",
       "\\item 'VUILD64.rds'\n",
       "\\item 'VUILD65.rds'\n",
       "\\end{enumerate*}\n"
      ],
      "text/markdown": [
       "1. 'TILD001.rds'\n",
       "2. 'TILD006.rds'\n",
       "3. 'TILD010.rds'\n",
       "4. 'TILD015.rds'\n",
       "5. 'TILD028.rds'\n",
       "6. 'VUILD53.rds'\n",
       "7. 'VUILD59.rds'\n",
       "8. 'VUILD60.rds'\n",
       "9. 'VUILD61.rds'\n",
       "10. 'VUILD63.rds'\n",
       "11. 'VUILD64.rds'\n",
       "12. 'VUILD65.rds'\n",
       "\n",
       "\n"
      ],
      "text/plain": [
       " [1] \"TILD001.rds\" \"TILD006.rds\" \"TILD010.rds\" \"TILD015.rds\" \"TILD028.rds\"\n",
       " [6] \"VUILD53.rds\" \"VUILD59.rds\" \"VUILD60.rds\" \"VUILD61.rds\" \"VUILD63.rds\"\n",
       "[11] \"VUILD64.rds\" \"VUILD65.rds\""
      ]
     },
     "metadata": {},
     "output_type": "display_data"
    },
    {
     "data": {
      "text/html": [
       "<style>\n",
       ".list-inline {list-style: none; margin:0; padding: 0}\n",
       ".list-inline>li {display: inline-block}\n",
       ".list-inline>li:not(:last-child)::after {content: \"\\00b7\"; padding: 0 .5ex}\n",
       "</style>\n",
       "<ol class=list-inline><li>'010I.rds'</li><li>'021I.rds'</li><li>'022I.rds'</li><li>'025I.rds'</li><li>'034I.rds'</li><li>'040I.rds'</li><li>'041I.rds'</li><li>'051I.rds'</li><li>'053I.rds'</li><li>'063I.rds'</li><li>'123I.rds'</li><li>'135I.rds'</li><li>'138I.rds'</li><li>'145I.rds'</li><li>'157I.rds'</li><li>'158I.rds'</li><li>'166I.rds'</li><li>'174I.rds'</li><li>'177I.rds'</li><li>'179I.rds'</li><li>'209I.rds'</li><li>'210I.rds'</li><li>'212I.rds'</li><li>'214I.rds'</li><li>'221I.rds'</li><li>'222I.rds'</li><li>'225I.rds'</li><li>'228I.rds'</li><li>'29I.rds'</li><li>'47I.rds'</li><li>'49I.rds'</li><li>'59I.rds'</li></ol>\n"
      ],
      "text/latex": [
       "\\begin{enumerate*}\n",
       "\\item '010I.rds'\n",
       "\\item '021I.rds'\n",
       "\\item '022I.rds'\n",
       "\\item '025I.rds'\n",
       "\\item '034I.rds'\n",
       "\\item '040I.rds'\n",
       "\\item '041I.rds'\n",
       "\\item '051I.rds'\n",
       "\\item '053I.rds'\n",
       "\\item '063I.rds'\n",
       "\\item '123I.rds'\n",
       "\\item '135I.rds'\n",
       "\\item '138I.rds'\n",
       "\\item '145I.rds'\n",
       "\\item '157I.rds'\n",
       "\\item '158I.rds'\n",
       "\\item '166I.rds'\n",
       "\\item '174I.rds'\n",
       "\\item '177I.rds'\n",
       "\\item '179I.rds'\n",
       "\\item '209I.rds'\n",
       "\\item '210I.rds'\n",
       "\\item '212I.rds'\n",
       "\\item '214I.rds'\n",
       "\\item '221I.rds'\n",
       "\\item '222I.rds'\n",
       "\\item '225I.rds'\n",
       "\\item '228I.rds'\n",
       "\\item '29I.rds'\n",
       "\\item '47I.rds'\n",
       "\\item '49I.rds'\n",
       "\\item '59I.rds'\n",
       "\\end{enumerate*}\n"
      ],
      "text/markdown": [
       "1. '010I.rds'\n",
       "2. '021I.rds'\n",
       "3. '022I.rds'\n",
       "4. '025I.rds'\n",
       "5. '034I.rds'\n",
       "6. '040I.rds'\n",
       "7. '041I.rds'\n",
       "8. '051I.rds'\n",
       "9. '053I.rds'\n",
       "10. '063I.rds'\n",
       "11. '123I.rds'\n",
       "12. '135I.rds'\n",
       "13. '138I.rds'\n",
       "14. '145I.rds'\n",
       "15. '157I.rds'\n",
       "16. '158I.rds'\n",
       "17. '166I.rds'\n",
       "18. '174I.rds'\n",
       "19. '177I.rds'\n",
       "20. '179I.rds'\n",
       "21. '209I.rds'\n",
       "22. '210I.rds'\n",
       "23. '212I.rds'\n",
       "24. '214I.rds'\n",
       "25. '221I.rds'\n",
       "26. '222I.rds'\n",
       "27. '225I.rds'\n",
       "28. '228I.rds'\n",
       "29. '29I.rds'\n",
       "30. '47I.rds'\n",
       "31. '49I.rds'\n",
       "32. '59I.rds'\n",
       "\n",
       "\n"
      ],
      "text/plain": [
       " [1] \"010I.rds\" \"021I.rds\" \"022I.rds\" \"025I.rds\" \"034I.rds\" \"040I.rds\"\n",
       " [7] \"041I.rds\" \"051I.rds\" \"053I.rds\" \"063I.rds\" \"123I.rds\" \"135I.rds\"\n",
       "[13] \"138I.rds\" \"145I.rds\" \"157I.rds\" \"158I.rds\" \"166I.rds\" \"174I.rds\"\n",
       "[19] \"177I.rds\" \"179I.rds\" \"209I.rds\" \"210I.rds\" \"212I.rds\" \"214I.rds\"\n",
       "[25] \"221I.rds\" \"222I.rds\" \"225I.rds\" \"228I.rds\" \"29I.rds\"  \"47I.rds\" \n",
       "[31] \"49I.rds\"  \"59I.rds\" "
      ]
     },
     "metadata": {},
     "output_type": "display_data"
    }
   ],
   "source": [
    "# all single samples\n",
    "list.files(\"Dataset/GSE122960/\")\n",
    "list.files(\"Dataset/GSE128033/\")\n",
    "list.files(\"Dataset/GSE135893/\")\n",
    "list.files(\"Dataset/GSE136831/\")"
   ]
  },
  {
   "cell_type": "code",
   "execution_count": 7,
   "id": "1051a964",
   "metadata": {},
   "outputs": [
    {
     "data": {
      "text/html": [
       "56"
      ],
      "text/latex": [
       "56"
      ],
      "text/markdown": [
       "56"
      ],
      "text/plain": [
       "[1] 56"
      ]
     },
     "metadata": {},
     "output_type": "display_data"
    }
   ],
   "source": [
    "allsample <- c(paste(\"Dataset/GSE122960/\",list.files(\"Dataset/GSE122960/\"),sep=\"\"), \n",
    "               paste(\"Dataset/GSE128033/\",list.files(\"Dataset/GSE128033/\"),sep=\"\"), \n",
    "               paste(\"Dataset/GSE135893/\",list.files(\"Dataset/GSE135893/\"),sep=\"\"), \n",
    "               paste(\"Dataset/GSE136831/\",list.files(\"Dataset/GSE136831/\"),sep=\"\"))\n",
    "length(allsample) # amount of sample"
   ]
  },
  {
   "cell_type": "code",
   "execution_count": null,
   "id": "3aff5c39",
   "metadata": {},
   "outputs": [],
   "source": [
    "# remove original datasets to release memory\n",
    "rm(GSE122960)\n",
    "rm(GSE128033)\n",
    "rm(GSE135893)\n",
    "rm(GSE136831)\n",
    "gc()"
   ]
  },
  {
   "cell_type": "code",
   "execution_count": 8,
   "id": "f8bde9fa",
   "metadata": {},
   "outputs": [
    {
     "name": "stdout",
     "output_type": "stream",
     "text": [
      "'data.frame':\t208 obs. of  4 variables:\n",
      " $ source  : chr  \"AT1\" \"AT1\" \"AT1\" \"AT1\" ...\n",
      " $ target  : chr  \"Monocyte\" \"Monocyte\" \"Monocyte\" \"Macrophage\" ...\n",
      " $ ligand  : chr  \"TGFB1\" \"TGFB1\" \"TGFB1\" \"TGFB1\" ...\n",
      " $ receptor: chr  \"TGFBR1\" \"TGFBR2\" \"TGFBR3\" \"TGFBR1\" ...\n"
     ]
    },
    {
     "data": {
      "text/html": [
       "<table class=\"dataframe\">\n",
       "<caption>A data.frame: 6 × 4</caption>\n",
       "<thead>\n",
       "\t<tr><th></th><th scope=col>source</th><th scope=col>target</th><th scope=col>ligand</th><th scope=col>receptor</th></tr>\n",
       "\t<tr><th></th><th scope=col>&lt;chr&gt;</th><th scope=col>&lt;chr&gt;</th><th scope=col>&lt;chr&gt;</th><th scope=col>&lt;chr&gt;</th></tr>\n",
       "</thead>\n",
       "<tbody>\n",
       "\t<tr><th scope=row>1</th><td>AT1</td><td>Monocyte  </td><td>TGFB1</td><td>TGFBR1</td></tr>\n",
       "\t<tr><th scope=row>2</th><td>AT1</td><td>Monocyte  </td><td>TGFB1</td><td>TGFBR2</td></tr>\n",
       "\t<tr><th scope=row>3</th><td>AT1</td><td>Monocyte  </td><td>TGFB1</td><td>TGFBR3</td></tr>\n",
       "\t<tr><th scope=row>4</th><td>AT1</td><td>Macrophage</td><td>TGFB1</td><td>TGFBR1</td></tr>\n",
       "\t<tr><th scope=row>5</th><td>AT1</td><td>Macrophage</td><td>TGFB1</td><td>TGFBR2</td></tr>\n",
       "\t<tr><th scope=row>6</th><td>AT1</td><td>Macrophage</td><td>TGFB1</td><td>TGFBR3</td></tr>\n",
       "</tbody>\n",
       "</table>\n"
      ],
      "text/latex": [
       "A data.frame: 6 × 4\n",
       "\\begin{tabular}{r|llll}\n",
       "  & source & target & ligand & receptor\\\\\n",
       "  & <chr> & <chr> & <chr> & <chr>\\\\\n",
       "\\hline\n",
       "\t1 & AT1 & Monocyte   & TGFB1 & TGFBR1\\\\\n",
       "\t2 & AT1 & Monocyte   & TGFB1 & TGFBR2\\\\\n",
       "\t3 & AT1 & Monocyte   & TGFB1 & TGFBR3\\\\\n",
       "\t4 & AT1 & Macrophage & TGFB1 & TGFBR1\\\\\n",
       "\t5 & AT1 & Macrophage & TGFB1 & TGFBR2\\\\\n",
       "\t6 & AT1 & Macrophage & TGFB1 & TGFBR3\\\\\n",
       "\\end{tabular}\n"
      ],
      "text/markdown": [
       "\n",
       "A data.frame: 6 × 4\n",
       "\n",
       "| <!--/--> | source &lt;chr&gt; | target &lt;chr&gt; | ligand &lt;chr&gt; | receptor &lt;chr&gt; |\n",
       "|---|---|---|---|---|\n",
       "| 1 | AT1 | Monocyte   | TGFB1 | TGFBR1 |\n",
       "| 2 | AT1 | Monocyte   | TGFB1 | TGFBR2 |\n",
       "| 3 | AT1 | Monocyte   | TGFB1 | TGFBR3 |\n",
       "| 4 | AT1 | Macrophage | TGFB1 | TGFBR1 |\n",
       "| 5 | AT1 | Macrophage | TGFB1 | TGFBR2 |\n",
       "| 6 | AT1 | Macrophage | TGFB1 | TGFBR3 |\n",
       "\n"
      ],
      "text/plain": [
       "  source target     ligand receptor\n",
       "1 AT1    Monocyte   TGFB1  TGFBR1  \n",
       "2 AT1    Monocyte   TGFB1  TGFBR2  \n",
       "3 AT1    Monocyte   TGFB1  TGFBR3  \n",
       "4 AT1    Macrophage TGFB1  TGFBR1  \n",
       "5 AT1    Macrophage TGFB1  TGFBR2  \n",
       "6 AT1    Macrophage TGFB1  TGFBR3  "
      ]
     },
     "metadata": {},
     "output_type": "display_data"
    }
   ],
   "source": [
    "# load gold standard sample\n",
    "gold <- read.table(\"https://raw.githubusercontent.com/mora-lab/cell-cell-interactions/main/benchmark-workflow/data/IPF gold standard.txt\", header = TRUE, sep = \"\\t\")\n",
    "str(gold)\n",
    "head(gold)"
   ]
  },
  {
   "cell_type": "code",
   "execution_count": 9,
   "id": "fcdbab37",
   "metadata": {
    "scrolled": false
   },
   "outputs": [
    {
     "name": "stderr",
     "output_type": "stream",
     "text": [
      "Warning message in rec$Receptor == genes:\n",
      "“longer object length is not a multiple of shorter object length”\n",
      "Warning message in tf$TF == rec$TF:\n",
      "“longer object length is not a multiple of shorter object length”\n"
     ]
    }
   ],
   "source": [
    "# select wanted genes for CellChat, iTalk, SingleCellSignalR, CCInx, CellPhoneDB and NATMI\n",
    "genes <- unique(c(gold$ligand, gold$receptor))\n",
    "# select wanted genes for scMLnet\n",
    "rec <- read.table(\"https://raw.githubusercontent.com/mora-lab/cell-cell-interactions/main/benchmark-workflow/R/scMLnet_database/RecTF.txt\", header = T, sep = \"\\t\")\n",
    "tf <- read.table(\"https://raw.githubusercontent.com/mora-lab/cell-cell-interactions/main/benchmark-workflow/R/scMLnet_database/TFTargetGene.txt\", header = T, sep = \"\\t\")\n",
    "rec <- rec[rec$Receptor == genes,]\n",
    "tf <- tf[tf$TF == rec$TF,]\n",
    "genes2 <- unique(c(genes, rec$TF, tf$Targets))"
   ]
  },
  {
   "cell_type": "markdown",
   "id": "4bd5763f",
   "metadata": {},
   "source": [
    "## 2. Cell-cell Interaction Prediction and SSP calculation (R tools) "
   ]
  },
  {
   "cell_type": "code",
   "execution_count": 13,
   "id": "17983e34",
   "metadata": {},
   "outputs": [
    {
     "name": "stderr",
     "output_type": "stream",
     "text": [
      "Create a CellChat object from a data matrix\n",
      "\n",
      "Set cell identities for the new CellChat object\n",
      "\n"
     ]
    },
    {
     "name": "stdout",
     "output_type": "stream",
     "text": [
      "[1] \"Total predicted L-R pairs: 16\"\n",
      "[1] \"Time comsuming:\"\n",
      "   user  system elapsed \n",
      "  6.816   0.120   8.590 \n"
     ]
    },
    {
     "name": "stderr",
     "output_type": "stream",
     "text": [
      "Create a CellChat object from a data matrix\n",
      "\n",
      "Set cell identities for the new CellChat object\n",
      "\n"
     ]
    },
    {
     "name": "stdout",
     "output_type": "stream",
     "text": [
      "[1] \"Total predicted L-R pairs: 6\"\n",
      "[1] \"Time comsuming:\"\n",
      "   user  system elapsed \n",
      "  6.525   0.289   8.114 \n"
     ]
    },
    {
     "name": "stderr",
     "output_type": "stream",
     "text": [
      "Create a CellChat object from a data matrix\n",
      "\n",
      "Set cell identities for the new CellChat object\n",
      "\n"
     ]
    },
    {
     "name": "stdout",
     "output_type": "stream",
     "text": [
      "[1] \"Total predicted L-R pairs: 5\"\n",
      "[1] \"Time comsuming:\"\n",
      "   user  system elapsed \n",
      "  7.241   0.074   7.599 \n"
     ]
    },
    {
     "name": "stderr",
     "output_type": "stream",
     "text": [
      "Create a CellChat object from a data matrix\n",
      "\n",
      "Set cell identities for the new CellChat object\n",
      "\n"
     ]
    },
    {
     "name": "stdout",
     "output_type": "stream",
     "text": [
      "[1] \"Total predicted L-R pairs: 0\"\n",
      "[1] \"Time comsuming:\"\n",
      "   user  system elapsed \n",
      "  8.256   0.066   8.563 \n"
     ]
    },
    {
     "name": "stderr",
     "output_type": "stream",
     "text": [
      "Create a CellChat object from a data matrix\n",
      "\n",
      "Set cell identities for the new CellChat object\n",
      "\n"
     ]
    },
    {
     "name": "stdout",
     "output_type": "stream",
     "text": [
      "[1] \"Total predicted L-R pairs: 7\"\n",
      "[1] \"Time comsuming:\"\n",
      "   user  system elapsed \n",
      "  6.991   0.051   7.064 \n"
     ]
    },
    {
     "name": "stderr",
     "output_type": "stream",
     "text": [
      "Create a CellChat object from a data matrix\n",
      "\n",
      "Set cell identities for the new CellChat object\n",
      "\n"
     ]
    },
    {
     "name": "stdout",
     "output_type": "stream",
     "text": [
      "[1] \"Total predicted L-R pairs: 7\"\n",
      "[1] \"Time comsuming:\"\n",
      "   user  system elapsed \n",
      "  7.330   0.027   7.362 \n"
     ]
    },
    {
     "name": "stderr",
     "output_type": "stream",
     "text": [
      "Create a CellChat object from a data matrix\n",
      "\n",
      "Set cell identities for the new CellChat object\n",
      "\n"
     ]
    },
    {
     "name": "stdout",
     "output_type": "stream",
     "text": [
      "[1] \"Total predicted L-R pairs: 3\"\n",
      "[1] \"Time comsuming:\"\n",
      "   user  system elapsed \n",
      "  7.659   0.020   7.695 \n"
     ]
    },
    {
     "name": "stderr",
     "output_type": "stream",
     "text": [
      "Create a CellChat object from a data matrix\n",
      "\n",
      "Set cell identities for the new CellChat object\n",
      "\n"
     ]
    },
    {
     "name": "stdout",
     "output_type": "stream",
     "text": [
      "[1] \"Total predicted L-R pairs: 5\"\n",
      "[1] \"Time comsuming:\"\n",
      "   user  system elapsed \n",
      "  7.880   0.041   7.926 \n"
     ]
    },
    {
     "name": "stderr",
     "output_type": "stream",
     "text": [
      "Create a CellChat object from a data matrix\n",
      "\n",
      "Set cell identities for the new CellChat object\n",
      "\n"
     ]
    },
    {
     "name": "stdout",
     "output_type": "stream",
     "text": [
      "[1] \"Total predicted L-R pairs: 9\"\n",
      "[1] \"Time comsuming:\"\n",
      "   user  system elapsed \n",
      "  7.968   0.248   8.486 \n"
     ]
    },
    {
     "name": "stderr",
     "output_type": "stream",
     "text": [
      "Create a CellChat object from a data matrix\n",
      "\n",
      "Set cell identities for the new CellChat object\n",
      "\n"
     ]
    },
    {
     "name": "stdout",
     "output_type": "stream",
     "text": [
      "[1] \"Total predicted L-R pairs: 10\"\n",
      "[1] \"Time comsuming:\"\n",
      "   user  system elapsed \n",
      "  7.801   0.633  10.088 \n"
     ]
    },
    {
     "name": "stderr",
     "output_type": "stream",
     "text": [
      "Create a CellChat object from a data matrix\n",
      "\n",
      "Set cell identities for the new CellChat object\n",
      "\n"
     ]
    },
    {
     "name": "stdout",
     "output_type": "stream",
     "text": [
      "[1] \"Total predicted L-R pairs: 6\"\n",
      "[1] \"Time comsuming:\"\n",
      "   user  system elapsed \n",
      "  7.147   0.130   8.483 \n"
     ]
    },
    {
     "name": "stderr",
     "output_type": "stream",
     "text": [
      "Create a CellChat object from a data matrix\n",
      "\n",
      "Set cell identities for the new CellChat object\n",
      "\n"
     ]
    },
    {
     "name": "stdout",
     "output_type": "stream",
     "text": [
      "[1] \"Total predicted L-R pairs: 11\"\n",
      "[1] \"Time comsuming:\"\n",
      "   user  system elapsed \n",
      "  7.118   0.226   8.079 \n"
     ]
    },
    {
     "name": "stderr",
     "output_type": "stream",
     "text": [
      "Create a CellChat object from a data matrix\n",
      "\n",
      "Set cell identities for the new CellChat object\n",
      "\n"
     ]
    },
    {
     "name": "stdout",
     "output_type": "stream",
     "text": [
      "[1] \"Total predicted L-R pairs: 21\"\n",
      "[1] \"Time comsuming:\"\n",
      "   user  system elapsed \n",
      "  6.464   0.346   7.556 \n"
     ]
    },
    {
     "name": "stderr",
     "output_type": "stream",
     "text": [
      "Create a CellChat object from a data matrix\n",
      "\n",
      "Set cell identities for the new CellChat object\n",
      "\n"
     ]
    },
    {
     "name": "stdout",
     "output_type": "stream",
     "text": [
      "[1] \"Total predicted L-R pairs: 3\"\n",
      "[1] \"Time comsuming:\"\n",
      "   user  system elapsed \n",
      "  6.400   0.012   6.654 \n"
     ]
    },
    {
     "name": "stderr",
     "output_type": "stream",
     "text": [
      "Create a CellChat object from a data matrix\n",
      "\n",
      "Set cell identities for the new CellChat object\n",
      "\n"
     ]
    },
    {
     "name": "stdout",
     "output_type": "stream",
     "text": [
      "[1] \"Total predicted L-R pairs: 8\"\n",
      "[1] \"Time comsuming:\"\n",
      "   user  system elapsed \n",
      "  6.092   0.314   7.148 \n"
     ]
    },
    {
     "name": "stderr",
     "output_type": "stream",
     "text": [
      "Create a CellChat object from a data matrix\n",
      "\n",
      "Set cell identities for the new CellChat object\n",
      "\n"
     ]
    },
    {
     "name": "stdout",
     "output_type": "stream",
     "text": [
      "[1] \"Total predicted L-R pairs: 30\"\n",
      "[1] \"Time comsuming:\"\n",
      "   user  system elapsed \n",
      " 10.114   0.098  12.732 \n"
     ]
    },
    {
     "name": "stderr",
     "output_type": "stream",
     "text": [
      "Create a CellChat object from a data matrix\n",
      "\n",
      "Set cell identities for the new CellChat object\n",
      "\n"
     ]
    },
    {
     "name": "stdout",
     "output_type": "stream",
     "text": [
      "[1] \"Total predicted L-R pairs: 5\"\n",
      "[1] \"Time comsuming:\"\n",
      "   user  system elapsed \n",
      "  7.533   0.279   8.855 \n"
     ]
    },
    {
     "name": "stderr",
     "output_type": "stream",
     "text": [
      "Create a CellChat object from a data matrix\n",
      "\n",
      "Set cell identities for the new CellChat object\n",
      "\n"
     ]
    },
    {
     "name": "stdout",
     "output_type": "stream",
     "text": [
      "[1] \"Total predicted L-R pairs: 3\"\n",
      "[1] \"Time comsuming:\"\n",
      "   user  system elapsed \n",
      "  5.657   0.026   5.727 \n"
     ]
    },
    {
     "name": "stderr",
     "output_type": "stream",
     "text": [
      "Create a CellChat object from a data matrix\n",
      "\n",
      "Set cell identities for the new CellChat object\n",
      "\n"
     ]
    },
    {
     "name": "stdout",
     "output_type": "stream",
     "text": [
      "[1] \"Total predicted L-R pairs: 4\"\n",
      "[1] \"Time comsuming:\"\n",
      "   user  system elapsed \n",
      " 11.054   0.076  11.184 \n"
     ]
    },
    {
     "name": "stderr",
     "output_type": "stream",
     "text": [
      "Create a CellChat object from a data matrix\n",
      "\n",
      "Set cell identities for the new CellChat object\n",
      "\n"
     ]
    },
    {
     "name": "stdout",
     "output_type": "stream",
     "text": [
      "[1] \"Total predicted L-R pairs: 20\"\n",
      "[1] \"Time comsuming:\"\n",
      "   user  system elapsed \n",
      "  7.219   0.003   7.305 \n"
     ]
    },
    {
     "name": "stderr",
     "output_type": "stream",
     "text": [
      "Create a CellChat object from a data matrix\n",
      "\n",
      "Set cell identities for the new CellChat object\n",
      "\n"
     ]
    },
    {
     "name": "stdout",
     "output_type": "stream",
     "text": [
      "[1] \"Total predicted L-R pairs: 4\"\n",
      "[1] \"Time comsuming:\"\n",
      "   user  system elapsed \n",
      "  6.677   0.034   6.801 \n"
     ]
    },
    {
     "name": "stderr",
     "output_type": "stream",
     "text": [
      "Create a CellChat object from a data matrix\n",
      "\n",
      "Set cell identities for the new CellChat object\n",
      "\n"
     ]
    },
    {
     "name": "stdout",
     "output_type": "stream",
     "text": [
      "[1] \"Total predicted L-R pairs: 2\"\n",
      "[1] \"Time comsuming:\"\n",
      "   user  system elapsed \n",
      "  4.769   0.005   4.925 \n"
     ]
    },
    {
     "name": "stderr",
     "output_type": "stream",
     "text": [
      "Create a CellChat object from a data matrix\n",
      "\n",
      "Set cell identities for the new CellChat object\n",
      "\n"
     ]
    },
    {
     "name": "stdout",
     "output_type": "stream",
     "text": [
      "[1] \"Total predicted L-R pairs: 10\"\n",
      "[1] \"Time comsuming:\"\n",
      "   user  system elapsed \n",
      "  5.966   0.008   6.083 \n"
     ]
    },
    {
     "name": "stderr",
     "output_type": "stream",
     "text": [
      "Create a CellChat object from a data matrix\n",
      "\n",
      "Set cell identities for the new CellChat object\n",
      "\n"
     ]
    },
    {
     "name": "stdout",
     "output_type": "stream",
     "text": [
      "[1] \"Total predicted L-R pairs: 4\"\n",
      "[1] \"Time comsuming:\"\n",
      "   user  system elapsed \n",
      "  5.202   0.000   5.262 \n"
     ]
    },
    {
     "name": "stderr",
     "output_type": "stream",
     "text": [
      "Create a CellChat object from a data matrix\n",
      "\n",
      "Set cell identities for the new CellChat object\n",
      "\n"
     ]
    },
    {
     "name": "stdout",
     "output_type": "stream",
     "text": [
      "[1] \"Total predicted L-R pairs: 20\"\n",
      "[1] \"Time comsuming:\"\n",
      "   user  system elapsed \n",
      "  7.492   0.022   7.577 \n"
     ]
    },
    {
     "name": "stderr",
     "output_type": "stream",
     "text": [
      "Create a CellChat object from a data matrix\n",
      "\n",
      "Set cell identities for the new CellChat object\n",
      "\n"
     ]
    },
    {
     "name": "stdout",
     "output_type": "stream",
     "text": [
      "[1] \"Total predicted L-R pairs: 19\"\n",
      "[1] \"Time comsuming:\"\n",
      "   user  system elapsed \n",
      "  7.264   0.015   7.373 \n"
     ]
    },
    {
     "name": "stderr",
     "output_type": "stream",
     "text": [
      "Create a CellChat object from a data matrix\n",
      "\n",
      "Set cell identities for the new CellChat object\n",
      "\n"
     ]
    },
    {
     "name": "stdout",
     "output_type": "stream",
     "text": [
      "[1] \"Total predicted L-R pairs: 11\"\n",
      "[1] \"Time comsuming:\"\n",
      "   user  system elapsed \n",
      "  7.021   0.024   7.106 \n"
     ]
    },
    {
     "name": "stderr",
     "output_type": "stream",
     "text": [
      "Create a CellChat object from a data matrix\n",
      "\n",
      "Set cell identities for the new CellChat object\n",
      "\n"
     ]
    },
    {
     "name": "stdout",
     "output_type": "stream",
     "text": [
      "[1] \"Total predicted L-R pairs: 6\"\n",
      "[1] \"Time comsuming:\"\n",
      "   user  system elapsed \n",
      "  5.521   0.000   5.612 \n"
     ]
    },
    {
     "name": "stderr",
     "output_type": "stream",
     "text": [
      "Create a CellChat object from a data matrix\n",
      "\n",
      "Set cell identities for the new CellChat object\n",
      "\n"
     ]
    },
    {
     "name": "stdout",
     "output_type": "stream",
     "text": [
      "[1] \"Total predicted L-R pairs: 14\"\n",
      "[1] \"Time comsuming:\"\n",
      "   user  system elapsed \n",
      "  7.115   0.004   7.227 \n"
     ]
    },
    {
     "name": "stderr",
     "output_type": "stream",
     "text": [
      "Create a CellChat object from a data matrix\n",
      "\n",
      "Set cell identities for the new CellChat object\n",
      "\n"
     ]
    },
    {
     "name": "stdout",
     "output_type": "stream",
     "text": [
      "[1] \"Total predicted L-R pairs: 16\"\n",
      "[1] \"Time comsuming:\"\n",
      "   user  system elapsed \n",
      "  7.073   0.019   7.140 \n"
     ]
    },
    {
     "name": "stderr",
     "output_type": "stream",
     "text": [
      "Create a CellChat object from a data matrix\n",
      "\n",
      "Set cell identities for the new CellChat object\n",
      "\n"
     ]
    },
    {
     "name": "stdout",
     "output_type": "stream",
     "text": [
      "[1] \"Total predicted L-R pairs: 16\"\n",
      "[1] \"Time comsuming:\"\n",
      "   user  system elapsed \n",
      "  7.333   0.000   7.338 \n"
     ]
    },
    {
     "name": "stderr",
     "output_type": "stream",
     "text": [
      "Create a CellChat object from a data matrix\n",
      "\n",
      "Set cell identities for the new CellChat object\n",
      "\n"
     ]
    },
    {
     "name": "stdout",
     "output_type": "stream",
     "text": [
      "[1] \"Total predicted L-R pairs: 19\"\n",
      "[1] \"Time comsuming:\"\n",
      "   user  system elapsed \n",
      "  8.590   0.010   8.645 \n"
     ]
    },
    {
     "name": "stderr",
     "output_type": "stream",
     "text": [
      "Create a CellChat object from a data matrix\n",
      "\n",
      "Set cell identities for the new CellChat object\n",
      "\n"
     ]
    },
    {
     "name": "stdout",
     "output_type": "stream",
     "text": [
      "[1] \"Total predicted L-R pairs: 6\"\n",
      "[1] \"Time comsuming:\"\n",
      "   user  system elapsed \n",
      "  6.130   0.000   6.165 \n"
     ]
    },
    {
     "name": "stderr",
     "output_type": "stream",
     "text": [
      "Create a CellChat object from a data matrix\n",
      "\n",
      "Set cell identities for the new CellChat object\n",
      "\n"
     ]
    },
    {
     "name": "stdout",
     "output_type": "stream",
     "text": [
      "[1] \"Total predicted L-R pairs: 11\"\n",
      "[1] \"Time comsuming:\"\n",
      "   user  system elapsed \n",
      "  6.176   0.033   6.247 \n"
     ]
    },
    {
     "name": "stderr",
     "output_type": "stream",
     "text": [
      "Create a CellChat object from a data matrix\n",
      "\n",
      "Set cell identities for the new CellChat object\n",
      "\n"
     ]
    },
    {
     "name": "stdout",
     "output_type": "stream",
     "text": [
      "[1] \"Total predicted L-R pairs: 5\"\n",
      "[1] \"Time comsuming:\"\n",
      "   user  system elapsed \n",
      "  5.808   0.000   5.876 \n"
     ]
    },
    {
     "name": "stderr",
     "output_type": "stream",
     "text": [
      "Create a CellChat object from a data matrix\n",
      "\n",
      "Set cell identities for the new CellChat object\n",
      "\n"
     ]
    },
    {
     "name": "stdout",
     "output_type": "stream",
     "text": [
      "[1] \"Total predicted L-R pairs: 6\"\n",
      "[1] \"Time comsuming:\"\n",
      "   user  system elapsed \n",
      "  8.189   0.020   8.286 \n"
     ]
    },
    {
     "name": "stderr",
     "output_type": "stream",
     "text": [
      "Create a CellChat object from a data matrix\n",
      "\n",
      "Set cell identities for the new CellChat object\n",
      "\n"
     ]
    },
    {
     "name": "stdout",
     "output_type": "stream",
     "text": [
      "[1] \"Total predicted L-R pairs: 31\"\n",
      "[1] \"Time comsuming:\"\n",
      "   user  system elapsed \n",
      "  7.438   0.005   7.467 \n"
     ]
    },
    {
     "name": "stderr",
     "output_type": "stream",
     "text": [
      "Create a CellChat object from a data matrix\n",
      "\n",
      "Set cell identities for the new CellChat object\n",
      "\n"
     ]
    },
    {
     "name": "stdout",
     "output_type": "stream",
     "text": [
      "[1] \"Total predicted L-R pairs: 12\"\n",
      "[1] \"Time comsuming:\"\n",
      "   user  system elapsed \n",
      "  6.613   0.000   6.624 \n"
     ]
    },
    {
     "name": "stderr",
     "output_type": "stream",
     "text": [
      "Create a CellChat object from a data matrix\n",
      "\n",
      "Set cell identities for the new CellChat object\n",
      "\n"
     ]
    },
    {
     "name": "stdout",
     "output_type": "stream",
     "text": [
      "[1] \"Total predicted L-R pairs: 16\"\n",
      "[1] \"Time comsuming:\"\n",
      "   user  system elapsed \n",
      "  7.954   0.035   8.018 \n"
     ]
    },
    {
     "name": "stderr",
     "output_type": "stream",
     "text": [
      "Create a CellChat object from a data matrix\n",
      "\n",
      "Set cell identities for the new CellChat object\n",
      "\n"
     ]
    },
    {
     "name": "stdout",
     "output_type": "stream",
     "text": [
      "[1] \"Total predicted L-R pairs: 7\"\n",
      "[1] \"Time comsuming:\"\n",
      "   user  system elapsed \n",
      "  7.313   0.005   7.356 \n"
     ]
    },
    {
     "name": "stderr",
     "output_type": "stream",
     "text": [
      "Create a CellChat object from a data matrix\n",
      "\n",
      "Set cell identities for the new CellChat object\n",
      "\n"
     ]
    },
    {
     "name": "stdout",
     "output_type": "stream",
     "text": [
      "[1] \"Total predicted L-R pairs: 3\"\n",
      "[1] \"Time comsuming:\"\n",
      "   user  system elapsed \n",
      "  7.181   0.004   7.220 \n"
     ]
    },
    {
     "name": "stderr",
     "output_type": "stream",
     "text": [
      "Create a CellChat object from a data matrix\n",
      "\n",
      "Set cell identities for the new CellChat object\n",
      "\n"
     ]
    },
    {
     "name": "stdout",
     "output_type": "stream",
     "text": [
      "[1] \"Total predicted L-R pairs: 20\"\n",
      "[1] \"Time comsuming:\"\n",
      "   user  system elapsed \n",
      "  7.309   0.000   7.341 \n"
     ]
    },
    {
     "name": "stderr",
     "output_type": "stream",
     "text": [
      "Create a CellChat object from a data matrix\n",
      "\n",
      "Set cell identities for the new CellChat object\n",
      "\n"
     ]
    },
    {
     "name": "stdout",
     "output_type": "stream",
     "text": [
      "[1] \"Total predicted L-R pairs: 6\"\n",
      "[1] \"Time comsuming:\"\n",
      "   user  system elapsed \n",
      "  6.755   0.031   6.969 \n"
     ]
    },
    {
     "name": "stderr",
     "output_type": "stream",
     "text": [
      "Create a CellChat object from a data matrix\n",
      "\n",
      "Set cell identities for the new CellChat object\n",
      "\n"
     ]
    },
    {
     "name": "stdout",
     "output_type": "stream",
     "text": [
      "[1] \"Total predicted L-R pairs: 10\"\n",
      "[1] \"Time comsuming:\"\n",
      "   user  system elapsed \n",
      "  7.042   0.050   7.104 \n"
     ]
    },
    {
     "name": "stderr",
     "output_type": "stream",
     "text": [
      "Create a CellChat object from a data matrix\n",
      "\n",
      "Set cell identities for the new CellChat object\n",
      "\n"
     ]
    },
    {
     "name": "stdout",
     "output_type": "stream",
     "text": [
      "[1] \"Total predicted L-R pairs: 6\"\n",
      "[1] \"Time comsuming:\"\n",
      "   user  system elapsed \n",
      "  5.922   0.033   5.960 \n"
     ]
    },
    {
     "name": "stderr",
     "output_type": "stream",
     "text": [
      "Create a CellChat object from a data matrix\n",
      "\n",
      "Set cell identities for the new CellChat object\n",
      "\n"
     ]
    },
    {
     "name": "stdout",
     "output_type": "stream",
     "text": [
      "[1] \"Total predicted L-R pairs: 10\"\n",
      "[1] \"Time comsuming:\"\n",
      "   user  system elapsed \n",
      "  6.533   0.033   6.600 \n"
     ]
    },
    {
     "name": "stderr",
     "output_type": "stream",
     "text": [
      "Create a CellChat object from a data matrix\n",
      "\n",
      "Set cell identities for the new CellChat object\n",
      "\n"
     ]
    },
    {
     "name": "stdout",
     "output_type": "stream",
     "text": [
      "[1] \"Total predicted L-R pairs: 10\"\n",
      "[1] \"Time comsuming:\"\n",
      "   user  system elapsed \n",
      "  6.052   0.035   6.093 \n"
     ]
    },
    {
     "name": "stderr",
     "output_type": "stream",
     "text": [
      "Create a CellChat object from a data matrix\n",
      "\n",
      "Set cell identities for the new CellChat object\n",
      "\n"
     ]
    },
    {
     "name": "stdout",
     "output_type": "stream",
     "text": [
      "[1] \"Total predicted L-R pairs: 0\"\n",
      "[1] \"Time comsuming:\"\n",
      "   user  system elapsed \n",
      "  4.836   0.046   4.890 \n"
     ]
    },
    {
     "name": "stderr",
     "output_type": "stream",
     "text": [
      "Create a CellChat object from a data matrix\n",
      "\n",
      "Set cell identities for the new CellChat object\n",
      "\n"
     ]
    },
    {
     "name": "stdout",
     "output_type": "stream",
     "text": [
      "[1] \"Total predicted L-R pairs: 6\"\n",
      "[1] \"Time comsuming:\"\n",
      "   user  system elapsed \n",
      "  6.931   0.051   6.992 \n"
     ]
    },
    {
     "name": "stderr",
     "output_type": "stream",
     "text": [
      "Create a CellChat object from a data matrix\n",
      "\n",
      "Set cell identities for the new CellChat object\n",
      "\n"
     ]
    },
    {
     "name": "stdout",
     "output_type": "stream",
     "text": [
      "[1] \"Total predicted L-R pairs: 13\"\n",
      "[1] \"Time comsuming:\"\n",
      "   user  system elapsed \n",
      "  9.237   0.030   9.281 \n"
     ]
    },
    {
     "name": "stderr",
     "output_type": "stream",
     "text": [
      "Create a CellChat object from a data matrix\n",
      "\n",
      "Set cell identities for the new CellChat object\n",
      "\n"
     ]
    },
    {
     "name": "stdout",
     "output_type": "stream",
     "text": [
      "[1] \"Total predicted L-R pairs: 13\"\n",
      "[1] \"Time comsuming:\"\n",
      "   user  system elapsed \n",
      " 10.475   0.060  10.574 \n"
     ]
    },
    {
     "name": "stderr",
     "output_type": "stream",
     "text": [
      "Create a CellChat object from a data matrix\n",
      "\n",
      "Set cell identities for the new CellChat object\n",
      "\n"
     ]
    },
    {
     "name": "stdout",
     "output_type": "stream",
     "text": [
      "[1] \"Total predicted L-R pairs: 6\"\n",
      "[1] \"Time comsuming:\"\n",
      "   user  system elapsed \n",
      "  6.045   0.052   6.117 \n"
     ]
    },
    {
     "name": "stderr",
     "output_type": "stream",
     "text": [
      "Create a CellChat object from a data matrix\n",
      "\n",
      "Set cell identities for the new CellChat object\n",
      "\n"
     ]
    },
    {
     "name": "stdout",
     "output_type": "stream",
     "text": [
      "[1] \"Total predicted L-R pairs: 14\"\n",
      "[1] \"Time comsuming:\"\n",
      "   user  system elapsed \n",
      "  5.922   0.050   6.038 \n"
     ]
    },
    {
     "name": "stderr",
     "output_type": "stream",
     "text": [
      "Create a CellChat object from a data matrix\n",
      "\n",
      "Set cell identities for the new CellChat object\n",
      "\n"
     ]
    },
    {
     "name": "stdout",
     "output_type": "stream",
     "text": [
      "[1] \"Total predicted L-R pairs: 9\"\n",
      "[1] \"Time comsuming:\"\n",
      "   user  system elapsed \n",
      "  5.919   0.022   5.949 \n"
     ]
    },
    {
     "name": "stderr",
     "output_type": "stream",
     "text": [
      "Create a CellChat object from a data matrix\n",
      "\n",
      "Set cell identities for the new CellChat object\n",
      "\n"
     ]
    },
    {
     "name": "stdout",
     "output_type": "stream",
     "text": [
      "[1] \"Total predicted L-R pairs: 2\"\n",
      "[1] \"Time comsuming:\"\n",
      "   user  system elapsed \n",
      "  6.597   0.048   6.678 \n"
     ]
    },
    {
     "name": "stderr",
     "output_type": "stream",
     "text": [
      "Create a CellChat object from a data matrix\n",
      "\n",
      "Set cell identities for the new CellChat object\n",
      "\n"
     ]
    },
    {
     "name": "stdout",
     "output_type": "stream",
     "text": [
      "[1] \"Total predicted L-R pairs: 25\"\n",
      "[1] \"Time comsuming:\"\n",
      "   user  system elapsed \n",
      "  6.435   0.040   6.574 \n"
     ]
    }
   ],
   "source": [
    "# CellChat\n",
    "cclrpairs <- list()\n",
    "ccssp <- data.frame()\n",
    "ccroc <- data.frame()\n",
    "for (sample in allsample){\n",
    "  seu <- readRDS(sample)\n",
    "  seu <- subset(seu, features = genes)\n",
    "  cc <- run_CellChat(seu)\n",
    "  cclrpairs[[sample]] <- cc\n",
    "  result <- run_CellChat_SSP(cc,seu,gold)\n",
    "  ccroc <- rbind(ccroc, result[[\"ROC\"]])\n",
    "  ccssp <- rbind(ccssp, result[[\"SSP\"]])\n",
    "}"
   ]
  },
  {
   "cell_type": "code",
   "execution_count": 14,
   "id": "b37eefd0",
   "metadata": {},
   "outputs": [
    {
     "data": {
      "text/html": [
       "<table class=\"dataframe\">\n",
       "<caption>A data.frame: 6 × 6</caption>\n",
       "<thead>\n",
       "\t<tr><th></th><th scope=col>source</th><th scope=col>target</th><th scope=col>ligand</th><th scope=col>receptor</th><th scope=col>prob</th><th scope=col>pval</th></tr>\n",
       "\t<tr><th></th><th scope=col>&lt;chr&gt;</th><th scope=col>&lt;chr&gt;</th><th scope=col>&lt;chr&gt;</th><th scope=col>&lt;chr&gt;</th><th scope=col>&lt;dbl&gt;</th><th scope=col>&lt;dbl&gt;</th></tr>\n",
       "</thead>\n",
       "<tbody>\n",
       "\t<tr><th scope=row>1</th><td>Macrophage</td><td>AT1</td><td>TGFB1</td><td>TGFBR1</td><td>0.008518130</td><td>0.00</td></tr>\n",
       "\t<tr><th scope=row>2</th><td>Macrophage</td><td>AT1</td><td>TGFB1</td><td>TGFBR2</td><td>0.008518130</td><td>0.00</td></tr>\n",
       "\t<tr><th scope=row>21</th><td>Monocyte  </td><td>AT1</td><td>TGFB1</td><td>TGFBR1</td><td>0.005556187</td><td>0.00</td></tr>\n",
       "\t<tr><th scope=row>22</th><td>Monocyte  </td><td>AT1</td><td>TGFB1</td><td>TGFBR2</td><td>0.005556187</td><td>0.00</td></tr>\n",
       "\t<tr><th scope=row>3</th><td>Tcell     </td><td>AT1</td><td>TGFB1</td><td>TGFBR1</td><td>0.002560141</td><td>0.02</td></tr>\n",
       "\t<tr><th scope=row>31</th><td>Tcell     </td><td>AT1</td><td>TGFB1</td><td>TGFBR2</td><td>0.002560141</td><td>0.02</td></tr>\n",
       "</tbody>\n",
       "</table>\n"
      ],
      "text/latex": [
       "A data.frame: 6 × 6\n",
       "\\begin{tabular}{r|llllll}\n",
       "  & source & target & ligand & receptor & prob & pval\\\\\n",
       "  & <chr> & <chr> & <chr> & <chr> & <dbl> & <dbl>\\\\\n",
       "\\hline\n",
       "\t1 & Macrophage & AT1 & TGFB1 & TGFBR1 & 0.008518130 & 0.00\\\\\n",
       "\t2 & Macrophage & AT1 & TGFB1 & TGFBR2 & 0.008518130 & 0.00\\\\\n",
       "\t21 & Monocyte   & AT1 & TGFB1 & TGFBR1 & 0.005556187 & 0.00\\\\\n",
       "\t22 & Monocyte   & AT1 & TGFB1 & TGFBR2 & 0.005556187 & 0.00\\\\\n",
       "\t3 & Tcell      & AT1 & TGFB1 & TGFBR1 & 0.002560141 & 0.02\\\\\n",
       "\t31 & Tcell      & AT1 & TGFB1 & TGFBR2 & 0.002560141 & 0.02\\\\\n",
       "\\end{tabular}\n"
      ],
      "text/markdown": [
       "\n",
       "A data.frame: 6 × 6\n",
       "\n",
       "| <!--/--> | source &lt;chr&gt; | target &lt;chr&gt; | ligand &lt;chr&gt; | receptor &lt;chr&gt; | prob &lt;dbl&gt; | pval &lt;dbl&gt; |\n",
       "|---|---|---|---|---|---|---|\n",
       "| 1 | Macrophage | AT1 | TGFB1 | TGFBR1 | 0.008518130 | 0.00 |\n",
       "| 2 | Macrophage | AT1 | TGFB1 | TGFBR2 | 0.008518130 | 0.00 |\n",
       "| 21 | Monocyte   | AT1 | TGFB1 | TGFBR1 | 0.005556187 | 0.00 |\n",
       "| 22 | Monocyte   | AT1 | TGFB1 | TGFBR2 | 0.005556187 | 0.00 |\n",
       "| 3 | Tcell      | AT1 | TGFB1 | TGFBR1 | 0.002560141 | 0.02 |\n",
       "| 31 | Tcell      | AT1 | TGFB1 | TGFBR2 | 0.002560141 | 0.02 |\n",
       "\n"
      ],
      "text/plain": [
       "   source     target ligand receptor prob        pval\n",
       "1  Macrophage AT1    TGFB1  TGFBR1   0.008518130 0.00\n",
       "2  Macrophage AT1    TGFB1  TGFBR2   0.008518130 0.00\n",
       "21 Monocyte   AT1    TGFB1  TGFBR1   0.005556187 0.00\n",
       "22 Monocyte   AT1    TGFB1  TGFBR2   0.005556187 0.00\n",
       "3  Tcell      AT1    TGFB1  TGFBR1   0.002560141 0.02\n",
       "31 Tcell      AT1    TGFB1  TGFBR2   0.002560141 0.02"
      ]
     },
     "metadata": {},
     "output_type": "display_data"
    },
    {
     "data": {
      "text/html": [
       "<table class=\"dataframe\">\n",
       "<caption>A data.frame: 6 × 3</caption>\n",
       "<thead>\n",
       "\t<tr><th></th><th scope=col>Accuracy</th><th scope=col>Sensitivity</th><th scope=col>Specificity</th></tr>\n",
       "\t<tr><th></th><th scope=col>&lt;dbl&gt;</th><th scope=col>&lt;dbl&gt;</th><th scope=col>&lt;dbl&gt;</th></tr>\n",
       "</thead>\n",
       "<tbody>\n",
       "\t<tr><th scope=row>1</th><td>0.8910714</td><td>0.038961039</td><td>0.9964895</td></tr>\n",
       "\t<tr><th scope=row>2</th><td>0.8919643</td><td>0.008333333</td><td>0.9980000</td></tr>\n",
       "\t<tr><th scope=row>3</th><td>0.8924107</td><td>0.008333333</td><td>0.9985000</td></tr>\n",
       "\t<tr><th scope=row>4</th><td>0.8928571</td><td>0.000000000</td><td>0.9995002</td></tr>\n",
       "\t<tr><th scope=row>5</th><td>0.8901786</td><td>0.008438819</td><td>0.9974962</td></tr>\n",
       "\t<tr><th scope=row>6</th><td>0.8933036</td><td>0.017094017</td><td>0.9985000</td></tr>\n",
       "</tbody>\n",
       "</table>\n"
      ],
      "text/latex": [
       "A data.frame: 6 × 3\n",
       "\\begin{tabular}{r|lll}\n",
       "  & Accuracy & Sensitivity & Specificity\\\\\n",
       "  & <dbl> & <dbl> & <dbl>\\\\\n",
       "\\hline\n",
       "\t1 & 0.8910714 & 0.038961039 & 0.9964895\\\\\n",
       "\t2 & 0.8919643 & 0.008333333 & 0.9980000\\\\\n",
       "\t3 & 0.8924107 & 0.008333333 & 0.9985000\\\\\n",
       "\t4 & 0.8928571 & 0.000000000 & 0.9995002\\\\\n",
       "\t5 & 0.8901786 & 0.008438819 & 0.9974962\\\\\n",
       "\t6 & 0.8933036 & 0.017094017 & 0.9985000\\\\\n",
       "\\end{tabular}\n"
      ],
      "text/markdown": [
       "\n",
       "A data.frame: 6 × 3\n",
       "\n",
       "| <!--/--> | Accuracy &lt;dbl&gt; | Sensitivity &lt;dbl&gt; | Specificity &lt;dbl&gt; |\n",
       "|---|---|---|---|\n",
       "| 1 | 0.8910714 | 0.038961039 | 0.9964895 |\n",
       "| 2 | 0.8919643 | 0.008333333 | 0.9980000 |\n",
       "| 3 | 0.8924107 | 0.008333333 | 0.9985000 |\n",
       "| 4 | 0.8928571 | 0.000000000 | 0.9995002 |\n",
       "| 5 | 0.8901786 | 0.008438819 | 0.9974962 |\n",
       "| 6 | 0.8933036 | 0.017094017 | 0.9985000 |\n",
       "\n"
      ],
      "text/plain": [
       "  Accuracy  Sensitivity Specificity\n",
       "1 0.8910714 0.038961039 0.9964895  \n",
       "2 0.8919643 0.008333333 0.9980000  \n",
       "3 0.8924107 0.008333333 0.9985000  \n",
       "4 0.8928571 0.000000000 0.9995002  \n",
       "5 0.8901786 0.008438819 0.9974962  \n",
       "6 0.8933036 0.017094017 0.9985000  "
      ]
     },
     "metadata": {},
     "output_type": "display_data"
    },
    {
     "data": {
      "text/html": [
       "<table class=\"dataframe\">\n",
       "<caption>A data.frame: 6 × 2</caption>\n",
       "<thead>\n",
       "\t<tr><th></th><th scope=col>TPR</th><th scope=col>FPR</th></tr>\n",
       "\t<tr><th></th><th scope=col>&lt;dbl&gt;</th><th scope=col>&lt;dbl&gt;</th></tr>\n",
       "</thead>\n",
       "<tbody>\n",
       "\t<tr><th scope=row>1</th><td>0.038961039</td><td>0.0035105316</td></tr>\n",
       "\t<tr><th scope=row>2</th><td>0.008333333</td><td>0.0020000000</td></tr>\n",
       "\t<tr><th scope=row>3</th><td>0.008333333</td><td>0.0015000000</td></tr>\n",
       "\t<tr><th scope=row>4</th><td>0.000000000</td><td>0.0004997501</td></tr>\n",
       "\t<tr><th scope=row>5</th><td>0.008438819</td><td>0.0025037556</td></tr>\n",
       "\t<tr><th scope=row>6</th><td>0.017094017</td><td>0.0015000000</td></tr>\n",
       "</tbody>\n",
       "</table>\n"
      ],
      "text/latex": [
       "A data.frame: 6 × 2\n",
       "\\begin{tabular}{r|ll}\n",
       "  & TPR & FPR\\\\\n",
       "  & <dbl> & <dbl>\\\\\n",
       "\\hline\n",
       "\t1 & 0.038961039 & 0.0035105316\\\\\n",
       "\t2 & 0.008333333 & 0.0020000000\\\\\n",
       "\t3 & 0.008333333 & 0.0015000000\\\\\n",
       "\t4 & 0.000000000 & 0.0004997501\\\\\n",
       "\t5 & 0.008438819 & 0.0025037556\\\\\n",
       "\t6 & 0.017094017 & 0.0015000000\\\\\n",
       "\\end{tabular}\n"
      ],
      "text/markdown": [
       "\n",
       "A data.frame: 6 × 2\n",
       "\n",
       "| <!--/--> | TPR &lt;dbl&gt; | FPR &lt;dbl&gt; |\n",
       "|---|---|---|\n",
       "| 1 | 0.038961039 | 0.0035105316 |\n",
       "| 2 | 0.008333333 | 0.0020000000 |\n",
       "| 3 | 0.008333333 | 0.0015000000 |\n",
       "| 4 | 0.000000000 | 0.0004997501 |\n",
       "| 5 | 0.008438819 | 0.0025037556 |\n",
       "| 6 | 0.017094017 | 0.0015000000 |\n",
       "\n"
      ],
      "text/plain": [
       "  TPR         FPR         \n",
       "1 0.038961039 0.0035105316\n",
       "2 0.008333333 0.0020000000\n",
       "3 0.008333333 0.0015000000\n",
       "4 0.000000000 0.0004997501\n",
       "5 0.008438819 0.0025037556\n",
       "6 0.017094017 0.0015000000"
      ]
     },
     "metadata": {},
     "output_type": "display_data"
    }
   ],
   "source": [
    "head(cclrpairs[[1]])\n",
    "head(ccssp)\n",
    "head(ccroc)"
   ]
  },
  {
   "cell_type": "code",
   "execution_count": 27,
   "id": "0138b3d4",
   "metadata": {},
   "outputs": [
    {
     "name": "stdout",
     "output_type": "stream",
     "text": [
      "[1] \"Total predicted L-R pairs: 524\"\n",
      "[1] \"Choose top L-R pairs: 196\"\n",
      "[1] \"Time comsuming:\"\n",
      "   user  system elapsed \n",
      "  0.127   0.000   0.129 \n",
      "[1] \"Total predicted L-R pairs: 474\"\n",
      "[1] \"Choose top L-R pairs: 196\"\n",
      "[1] \"Time comsuming:\"\n",
      "   user  system elapsed \n",
      "  0.120   0.000   0.121 \n",
      "[1] \"Total predicted L-R pairs: 581\"\n",
      "[1] \"Choose top L-R pairs: 196\"\n",
      "[1] \"Time comsuming:\"\n",
      "   user  system elapsed \n",
      "  0.123   0.000   0.123 \n",
      "[1] \"Total predicted L-R pairs: 495\"\n",
      "[1] \"Choose top L-R pairs: 196\"\n",
      "[1] \"Time comsuming:\"\n",
      "   user  system elapsed \n",
      "  0.132   0.000   0.133 \n",
      "[1] \"Total predicted L-R pairs: 488\"\n",
      "[1] \"Choose top L-R pairs: 196\"\n",
      "[1] \"Time comsuming:\"\n",
      "   user  system elapsed \n",
      "  0.117   0.000   0.117 \n",
      "[1] \"Total predicted L-R pairs: 500\"\n",
      "[1] \"Choose top L-R pairs: 196\"\n",
      "[1] \"Time comsuming:\"\n",
      "   user  system elapsed \n",
      "  0.122   0.000   0.122 \n",
      "[1] \"Total predicted L-R pairs: 503\"\n",
      "[1] \"Choose top L-R pairs: 196\"\n",
      "[1] \"Time comsuming:\"\n",
      "   user  system elapsed \n",
      "  0.151   0.007   0.158 \n",
      "[1] \"Total predicted L-R pairs: 449\"\n",
      "[1] \"Choose top L-R pairs: 196\"\n",
      "[1] \"Time comsuming:\"\n",
      "   user  system elapsed \n",
      "  0.124   0.000   0.124 \n",
      "[1] \"Total predicted L-R pairs: 480\"\n",
      "[1] \"Choose top L-R pairs: 196\"\n",
      "[1] \"Time comsuming:\"\n",
      "   user  system elapsed \n",
      "  0.124   0.000   0.124 \n",
      "[1] \"Total predicted L-R pairs: 494\"\n",
      "[1] \"Choose top L-R pairs: 196\"\n",
      "[1] \"Time comsuming:\"\n",
      "   user  system elapsed \n",
      "  0.116   0.000   0.115 \n",
      "[1] \"Total predicted L-R pairs: 472\"\n",
      "[1] \"Choose top L-R pairs: 196\"\n",
      "[1] \"Time comsuming:\"\n",
      "   user  system elapsed \n",
      "  0.132   0.000   0.132 \n",
      "[1] \"Total predicted L-R pairs: 498\"\n",
      "[1] \"Choose top L-R pairs: 196\"\n",
      "[1] \"Time comsuming:\"\n",
      "   user  system elapsed \n",
      "  0.112   0.000   0.112 \n",
      "[1] \"Total predicted L-R pairs: 409\"\n",
      "[1] \"Choose top L-R pairs: 196\"\n",
      "[1] \"Time comsuming:\"\n",
      "   user  system elapsed \n",
      "  0.101   0.000   0.101 \n",
      "[1] \"Total predicted L-R pairs: 381\"\n",
      "[1] \"Choose top L-R pairs: 196\"\n",
      "[1] \"Time comsuming:\"\n",
      "   user  system elapsed \n",
      "  0.115   0.000   0.116 \n",
      "[1] \"Total predicted L-R pairs: 469\"\n",
      "[1] \"Choose top L-R pairs: 196\"\n",
      "[1] \"Time comsuming:\"\n",
      "   user  system elapsed \n",
      "   0.11    0.00    0.11 \n",
      "[1] \"Total predicted L-R pairs: 556\"\n",
      "[1] \"Choose top L-R pairs: 196\"\n",
      "[1] \"Time comsuming:\"\n",
      "   user  system elapsed \n",
      "  0.162   0.000   0.162 \n",
      "[1] \"Total predicted L-R pairs: 511\"\n",
      "[1] \"Choose top L-R pairs: 196\"\n",
      "[1] \"Time comsuming:\"\n",
      "   user  system elapsed \n",
      "  0.121   0.000   0.122 \n",
      "[1] \"Total predicted L-R pairs: 479\"\n",
      "[1] \"Choose top L-R pairs: 196\"\n",
      "[1] \"Time comsuming:\"\n",
      "   user  system elapsed \n",
      "  0.103   0.000   0.103 \n",
      "[1] \"Total predicted L-R pairs: 408\"\n",
      "[1] \"Choose top L-R pairs: 196\"\n",
      "[1] \"Time comsuming:\"\n",
      "   user  system elapsed \n",
      "  0.159   0.000   0.159 \n",
      "[1] \"Total predicted L-R pairs: 513\"\n",
      "[1] \"Choose top L-R pairs: 196\"\n",
      "[1] \"Time comsuming:\"\n",
      "   user  system elapsed \n",
      "  0.114   0.000   0.113 \n",
      "[1] \"Total predicted L-R pairs: 562\"\n",
      "[1] \"Choose top L-R pairs: 196\"\n",
      "[1] \"Time comsuming:\"\n",
      "   user  system elapsed \n",
      "  0.116   0.000   0.117 \n",
      "[1] \"Total predicted L-R pairs: 304\"\n",
      "[1] \"Choose top L-R pairs: 196\"\n",
      "[1] \"Time comsuming:\"\n",
      "   user  system elapsed \n",
      "  0.098   0.000   0.099 \n",
      "[1] \"Total predicted L-R pairs: 529\"\n",
      "[1] \"Choose top L-R pairs: 196\"\n",
      "[1] \"Time comsuming:\"\n",
      "   user  system elapsed \n",
      "  0.105   0.000   0.106 \n",
      "[1] \"Total predicted L-R pairs: 396\"\n",
      "[1] \"Choose top L-R pairs: 196\"\n",
      "[1] \"Time comsuming:\"\n",
      "   user  system elapsed \n",
      "  0.101   0.000   0.101 \n",
      "[1] \"Total predicted L-R pairs: 380\"\n",
      "[1] \"Choose top L-R pairs: 196\"\n",
      "[1] \"Time comsuming:\"\n",
      "   user  system elapsed \n",
      "  0.117   0.000   0.117 \n",
      "[1] \"Total predicted L-R pairs: 467\"\n",
      "[1] \"Choose top L-R pairs: 196\"\n",
      "[1] \"Time comsuming:\"\n",
      "   user  system elapsed \n",
      "  0.109   0.000   0.109 \n",
      "[1] \"Total predicted L-R pairs: 409\"\n",
      "[1] \"Choose top L-R pairs: 196\"\n",
      "[1] \"Time comsuming:\"\n",
      "   user  system elapsed \n",
      "  0.115   0.000   0.115 \n",
      "[1] \"Total predicted L-R pairs: 338\"\n",
      "[1] \"Choose top L-R pairs: 196\"\n",
      "[1] \"Time comsuming:\"\n",
      "   user  system elapsed \n",
      "  0.103   0.000   0.103 \n",
      "[1] \"Total predicted L-R pairs: 438\"\n",
      "[1] \"Choose top L-R pairs: 196\"\n",
      "[1] \"Time comsuming:\"\n",
      "   user  system elapsed \n",
      "  0.114   0.000   0.114 \n",
      "[1] \"Total predicted L-R pairs: 399\"\n",
      "[1] \"Choose top L-R pairs: 196\"\n",
      "[1] \"Time comsuming:\"\n",
      "   user  system elapsed \n",
      "  0.113   0.000   0.114 \n",
      "[1] \"Total predicted L-R pairs: 464\"\n",
      "[1] \"Choose top L-R pairs: 196\"\n",
      "[1] \"Time comsuming:\"\n",
      "   user  system elapsed \n",
      "  0.116   0.000   0.116 \n",
      "[1] \"Total predicted L-R pairs: 447\"\n",
      "[1] \"Choose top L-R pairs: 196\"\n",
      "[1] \"Time comsuming:\"\n",
      "   user  system elapsed \n",
      "  0.135   0.000   0.135 \n",
      "[1] \"Total predicted L-R pairs: 363\"\n",
      "[1] \"Choose top L-R pairs: 196\"\n",
      "[1] \"Time comsuming:\"\n",
      "   user  system elapsed \n",
      "  0.107   0.000   0.107 \n",
      "[1] \"Total predicted L-R pairs: 420\"\n",
      "[1] \"Choose top L-R pairs: 196\"\n",
      "[1] \"Time comsuming:\"\n",
      "   user  system elapsed \n",
      "  0.103   0.000   0.103 \n",
      "[1] \"Total predicted L-R pairs: 344\"\n",
      "[1] \"Choose top L-R pairs: 196\"\n",
      "[1] \"Time comsuming:\"\n",
      "   user  system elapsed \n",
      "  0.101   0.000   0.101 \n",
      "[1] \"Total predicted L-R pairs: 413\"\n",
      "[1] \"Choose top L-R pairs: 196\"\n",
      "[1] \"Time comsuming:\"\n",
      "   user  system elapsed \n",
      "  0.157   0.000   0.157 \n",
      "[1] \"Total predicted L-R pairs: 463\"\n",
      "[1] \"Choose top L-R pairs: 196\"\n",
      "[1] \"Time comsuming:\"\n",
      "   user  system elapsed \n",
      "  0.117   0.000   0.117 \n",
      "[1] \"Total predicted L-R pairs: 406\"\n",
      "[1] \"Choose top L-R pairs: 196\"\n",
      "[1] \"Time comsuming:\"\n",
      "   user  system elapsed \n",
      "  0.112   0.000   0.113 \n",
      "[1] \"Total predicted L-R pairs: 371\"\n",
      "[1] \"Choose top L-R pairs: 196\"\n",
      "[1] \"Time comsuming:\"\n",
      "   user  system elapsed \n",
      "  0.125   0.000   0.125 \n",
      "[1] \"Total predicted L-R pairs: 405\"\n",
      "[1] \"Choose top L-R pairs: 196\"\n",
      "[1] \"Time comsuming:\"\n",
      "   user  system elapsed \n",
      "  0.121   0.000   0.121 \n",
      "[1] \"Total predicted L-R pairs: 430\"\n",
      "[1] \"Choose top L-R pairs: 196\"\n",
      "[1] \"Time comsuming:\"\n",
      "   user  system elapsed \n",
      "  0.123   0.000   0.122 \n",
      "[1] \"Total predicted L-R pairs: 433\"\n",
      "[1] \"Choose top L-R pairs: 196\"\n",
      "[1] \"Time comsuming:\"\n",
      "   user  system elapsed \n",
      "  0.115   0.000   0.115 \n",
      "[1] \"Total predicted L-R pairs: 426\"\n",
      "[1] \"Choose top L-R pairs: 196\"\n",
      "[1] \"Time comsuming:\"\n",
      "   user  system elapsed \n",
      "  0.115   0.000   0.115 \n",
      "[1] \"Total predicted L-R pairs: 482\"\n",
      "[1] \"Choose top L-R pairs: 196\"\n",
      "[1] \"Time comsuming:\"\n",
      "   user  system elapsed \n",
      "  0.119   0.000   0.119 \n",
      "[1] \"Total predicted L-R pairs: 257\"\n",
      "[1] \"Choose top L-R pairs: 196\"\n",
      "[1] \"Time comsuming:\"\n",
      "   user  system elapsed \n",
      "  0.111   0.000   0.111 \n",
      "[1] \"Total predicted L-R pairs: 498\"\n",
      "[1] \"Choose top L-R pairs: 196\"\n",
      "[1] \"Time comsuming:\"\n",
      "   user  system elapsed \n",
      "  0.111   0.000   0.111 \n",
      "[1] \"Total predicted L-R pairs: 365\"\n",
      "[1] \"Choose top L-R pairs: 196\"\n",
      "[1] \"Time comsuming:\"\n",
      "   user  system elapsed \n",
      "   0.11    0.00    0.11 \n",
      "[1] \"Total predicted L-R pairs: 354\"\n",
      "[1] \"Choose top L-R pairs: 196\"\n",
      "[1] \"Time comsuming:\"\n",
      "   user  system elapsed \n",
      "  0.097   0.000   0.098 \n",
      "[1] \"Total predicted L-R pairs: 364\"\n",
      "[1] \"Choose top L-R pairs: 196\"\n",
      "[1] \"Time comsuming:\"\n",
      "   user  system elapsed \n",
      "  0.118   0.000   0.118 \n",
      "[1] \"Total predicted L-R pairs: 438\"\n",
      "[1] \"Choose top L-R pairs: 196\"\n",
      "[1] \"Time comsuming:\"\n",
      "   user  system elapsed \n",
      "  0.132   0.000   0.132 \n",
      "[1] \"Total predicted L-R pairs: 431\"\n",
      "[1] \"Choose top L-R pairs: 196\"\n",
      "[1] \"Time comsuming:\"\n",
      "   user  system elapsed \n",
      "  0.176   0.000   0.177 \n",
      "[1] \"Total predicted L-R pairs: 318\"\n",
      "[1] \"Choose top L-R pairs: 196\"\n",
      "[1] \"Time comsuming:\"\n",
      "   user  system elapsed \n",
      "  0.109   0.000   0.109 \n",
      "[1] \"Total predicted L-R pairs: 442\"\n",
      "[1] \"Choose top L-R pairs: 196\"\n",
      "[1] \"Time comsuming:\"\n",
      "   user  system elapsed \n",
      "  0.102   0.000   0.101 \n",
      "[1] \"Total predicted L-R pairs: 372\"\n",
      "[1] \"Choose top L-R pairs: 196\"\n",
      "[1] \"Time comsuming:\"\n",
      "   user  system elapsed \n",
      "  0.103   0.000   0.103 \n",
      "[1] \"Total predicted L-R pairs: 452\"\n",
      "[1] \"Choose top L-R pairs: 196\"\n",
      "[1] \"Time comsuming:\"\n",
      "   user  system elapsed \n",
      "  0.117   0.000   0.117 \n",
      "[1] \"Total predicted L-R pairs: 480\"\n",
      "[1] \"Choose top L-R pairs: 196\"\n",
      "[1] \"Time comsuming:\"\n",
      "   user  system elapsed \n",
      "  0.104   0.000   0.104 \n"
     ]
    }
   ],
   "source": [
    "# iTalk\n",
    "itlrpairs <- list()\n",
    "itssp <- data.frame()\n",
    "itroc <- data.frame()\n",
    "for (sample in allsample){\n",
    "  seu <- readRDS(sample)\n",
    "  seu <- subset(seu, features = genes)\n",
    "  cc <- run_iTalk(seu,top = 196)\n",
    "  itlrpairs[[sample]] <- cc\n",
    "  result <- run_iTalk_SSP(cc,seu,gold)\n",
    "  itroc <- rbind(itroc, result[[\"ROC\"]])\n",
    "  itssp <- rbind(itssp, result[[\"SSP\"]])\n",
    "}"
   ]
  },
  {
   "cell_type": "code",
   "execution_count": 28,
   "id": "d1bcb7cf",
   "metadata": {},
   "outputs": [
    {
     "data": {
      "text/html": [
       "<table class=\"dataframe\">\n",
       "<caption>A data.frame: 6 × 6</caption>\n",
       "<thead>\n",
       "\t<tr><th></th><th scope=col>source</th><th scope=col>target</th><th scope=col>ligand</th><th scope=col>receptor</th><th scope=col>source_mean_exprs</th><th scope=col>target_mean_exprs</th></tr>\n",
       "\t<tr><th></th><th scope=col>&lt;chr&gt;</th><th scope=col>&lt;chr&gt;</th><th scope=col>&lt;chr&gt;</th><th scope=col>&lt;chr&gt;</th><th scope=col>&lt;dbl&gt;</th><th scope=col>&lt;dbl&gt;</th></tr>\n",
       "</thead>\n",
       "<tbody>\n",
       "\t<tr><th scope=row>2</th><td>Fibroblast </td><td>Fibroblast</td><td>CTGF </td><td>LRP1 </td><td>1.6200148</td><td>0.8041356</td></tr>\n",
       "\t<tr><th scope=row>1</th><td>Fibroblast </td><td>Macrophage</td><td>CTGF </td><td>LRP1 </td><td>1.6200148</td><td>0.7642434</td></tr>\n",
       "\t<tr><th scope=row>20</th><td>Endothelial</td><td>Fibroblast</td><td>CTGF </td><td>LRP1 </td><td>1.0156124</td><td>0.8041356</td></tr>\n",
       "\t<tr><th scope=row>19</th><td>Endothelial</td><td>Macrophage</td><td>CTGF </td><td>LRP1 </td><td>1.0156124</td><td>0.7642434</td></tr>\n",
       "\t<tr><th scope=row>170</th><td>Monocyte   </td><td>AT1       </td><td>TGFB1</td><td>ITGB6</td><td>0.4554678</td><td>1.6820414</td></tr>\n",
       "\t<tr><th scope=row>161</th><td>Macrophage </td><td>AT1       </td><td>TGFB1</td><td>ITGB6</td><td>0.4263154</td><td>1.6820414</td></tr>\n",
       "</tbody>\n",
       "</table>\n"
      ],
      "text/latex": [
       "A data.frame: 6 × 6\n",
       "\\begin{tabular}{r|llllll}\n",
       "  & source & target & ligand & receptor & source\\_mean\\_exprs & target\\_mean\\_exprs\\\\\n",
       "  & <chr> & <chr> & <chr> & <chr> & <dbl> & <dbl>\\\\\n",
       "\\hline\n",
       "\t2 & Fibroblast  & Fibroblast & CTGF  & LRP1  & 1.6200148 & 0.8041356\\\\\n",
       "\t1 & Fibroblast  & Macrophage & CTGF  & LRP1  & 1.6200148 & 0.7642434\\\\\n",
       "\t20 & Endothelial & Fibroblast & CTGF  & LRP1  & 1.0156124 & 0.8041356\\\\\n",
       "\t19 & Endothelial & Macrophage & CTGF  & LRP1  & 1.0156124 & 0.7642434\\\\\n",
       "\t170 & Monocyte    & AT1        & TGFB1 & ITGB6 & 0.4554678 & 1.6820414\\\\\n",
       "\t161 & Macrophage  & AT1        & TGFB1 & ITGB6 & 0.4263154 & 1.6820414\\\\\n",
       "\\end{tabular}\n"
      ],
      "text/markdown": [
       "\n",
       "A data.frame: 6 × 6\n",
       "\n",
       "| <!--/--> | source &lt;chr&gt; | target &lt;chr&gt; | ligand &lt;chr&gt; | receptor &lt;chr&gt; | source_mean_exprs &lt;dbl&gt; | target_mean_exprs &lt;dbl&gt; |\n",
       "|---|---|---|---|---|---|---|\n",
       "| 2 | Fibroblast  | Fibroblast | CTGF  | LRP1  | 1.6200148 | 0.8041356 |\n",
       "| 1 | Fibroblast  | Macrophage | CTGF  | LRP1  | 1.6200148 | 0.7642434 |\n",
       "| 20 | Endothelial | Fibroblast | CTGF  | LRP1  | 1.0156124 | 0.8041356 |\n",
       "| 19 | Endothelial | Macrophage | CTGF  | LRP1  | 1.0156124 | 0.7642434 |\n",
       "| 170 | Monocyte    | AT1        | TGFB1 | ITGB6 | 0.4554678 | 1.6820414 |\n",
       "| 161 | Macrophage  | AT1        | TGFB1 | ITGB6 | 0.4263154 | 1.6820414 |\n",
       "\n"
      ],
      "text/plain": [
       "    source      target     ligand receptor source_mean_exprs target_mean_exprs\n",
       "2   Fibroblast  Fibroblast CTGF   LRP1     1.6200148         0.8041356        \n",
       "1   Fibroblast  Macrophage CTGF   LRP1     1.6200148         0.7642434        \n",
       "20  Endothelial Fibroblast CTGF   LRP1     1.0156124         0.8041356        \n",
       "19  Endothelial Macrophage CTGF   LRP1     1.0156124         0.7642434        \n",
       "170 Monocyte    AT1        TGFB1  ITGB6    0.4554678         1.6820414        \n",
       "161 Macrophage  AT1        TGFB1  ITGB6    0.4263154         1.6820414        "
      ]
     },
     "metadata": {},
     "output_type": "display_data"
    },
    {
     "data": {
      "text/html": [
       "<table class=\"dataframe\">\n",
       "<caption>A data.frame: 6 × 3</caption>\n",
       "<thead>\n",
       "\t<tr><th></th><th scope=col>Accuracy</th><th scope=col>Sensitivity</th><th scope=col>Specificity</th></tr>\n",
       "\t<tr><th></th><th scope=col>&lt;dbl&gt;</th><th scope=col>&lt;dbl&gt;</th><th scope=col>&lt;dbl&gt;</th></tr>\n",
       "</thead>\n",
       "<tbody>\n",
       "\t<tr><th scope=row>1</th><td>0.9035326</td><td>0.3235294</td><td>0.9522761</td></tr>\n",
       "\t<tr><th scope=row>2</th><td>0.9028533</td><td>0.3103448</td><td>0.9512463</td></tr>\n",
       "\t<tr><th scope=row>3</th><td>0.8885870</td><td>0.2574257</td><td>0.9468242</td></tr>\n",
       "\t<tr><th scope=row>4</th><td>0.8977582</td><td>0.2572816</td><td>0.9476765</td></tr>\n",
       "\t<tr><th scope=row>5</th><td>0.8889266</td><td>0.2378641</td><td>0.9458564</td></tr>\n",
       "\t<tr><th scope=row>6</th><td>0.8987772</td><td>0.2912621</td><td>0.9500367</td></tr>\n",
       "</tbody>\n",
       "</table>\n"
      ],
      "text/latex": [
       "A data.frame: 6 × 3\n",
       "\\begin{tabular}{r|lll}\n",
       "  & Accuracy & Sensitivity & Specificity\\\\\n",
       "  & <dbl> & <dbl> & <dbl>\\\\\n",
       "\\hline\n",
       "\t1 & 0.9035326 & 0.3235294 & 0.9522761\\\\\n",
       "\t2 & 0.9028533 & 0.3103448 & 0.9512463\\\\\n",
       "\t3 & 0.8885870 & 0.2574257 & 0.9468242\\\\\n",
       "\t4 & 0.8977582 & 0.2572816 & 0.9476765\\\\\n",
       "\t5 & 0.8889266 & 0.2378641 & 0.9458564\\\\\n",
       "\t6 & 0.8987772 & 0.2912621 & 0.9500367\\\\\n",
       "\\end{tabular}\n"
      ],
      "text/markdown": [
       "\n",
       "A data.frame: 6 × 3\n",
       "\n",
       "| <!--/--> | Accuracy &lt;dbl&gt; | Sensitivity &lt;dbl&gt; | Specificity &lt;dbl&gt; |\n",
       "|---|---|---|---|\n",
       "| 1 | 0.9035326 | 0.3235294 | 0.9522761 |\n",
       "| 2 | 0.9028533 | 0.3103448 | 0.9512463 |\n",
       "| 3 | 0.8885870 | 0.2574257 | 0.9468242 |\n",
       "| 4 | 0.8977582 | 0.2572816 | 0.9476765 |\n",
       "| 5 | 0.8889266 | 0.2378641 | 0.9458564 |\n",
       "| 6 | 0.8987772 | 0.2912621 | 0.9500367 |\n",
       "\n"
      ],
      "text/plain": [
       "  Accuracy  Sensitivity Specificity\n",
       "1 0.9035326 0.3235294   0.9522761  \n",
       "2 0.9028533 0.3103448   0.9512463  \n",
       "3 0.8885870 0.2574257   0.9468242  \n",
       "4 0.8977582 0.2572816   0.9476765  \n",
       "5 0.8889266 0.2378641   0.9458564  \n",
       "6 0.8987772 0.2912621   0.9500367  "
      ]
     },
     "metadata": {},
     "output_type": "display_data"
    },
    {
     "data": {
      "text/html": [
       "<table class=\"dataframe\">\n",
       "<caption>A data.frame: 6 × 2</caption>\n",
       "<thead>\n",
       "\t<tr><th></th><th scope=col>TPR</th><th scope=col>FPR</th></tr>\n",
       "\t<tr><th></th><th scope=col>&lt;dbl&gt;</th><th scope=col>&lt;dbl&gt;</th></tr>\n",
       "</thead>\n",
       "<tbody>\n",
       "\t<tr><th scope=row>1</th><td>0.3235294</td><td>0.04772394</td></tr>\n",
       "\t<tr><th scope=row>2</th><td>0.3103448</td><td>0.04875367</td></tr>\n",
       "\t<tr><th scope=row>3</th><td>0.2574257</td><td>0.05317578</td></tr>\n",
       "\t<tr><th scope=row>4</th><td>0.2572816</td><td>0.05232345</td></tr>\n",
       "\t<tr><th scope=row>5</th><td>0.2378641</td><td>0.05414365</td></tr>\n",
       "\t<tr><th scope=row>6</th><td>0.2912621</td><td>0.04996326</td></tr>\n",
       "</tbody>\n",
       "</table>\n"
      ],
      "text/latex": [
       "A data.frame: 6 × 2\n",
       "\\begin{tabular}{r|ll}\n",
       "  & TPR & FPR\\\\\n",
       "  & <dbl> & <dbl>\\\\\n",
       "\\hline\n",
       "\t1 & 0.3235294 & 0.04772394\\\\\n",
       "\t2 & 0.3103448 & 0.04875367\\\\\n",
       "\t3 & 0.2574257 & 0.05317578\\\\\n",
       "\t4 & 0.2572816 & 0.05232345\\\\\n",
       "\t5 & 0.2378641 & 0.05414365\\\\\n",
       "\t6 & 0.2912621 & 0.04996326\\\\\n",
       "\\end{tabular}\n"
      ],
      "text/markdown": [
       "\n",
       "A data.frame: 6 × 2\n",
       "\n",
       "| <!--/--> | TPR &lt;dbl&gt; | FPR &lt;dbl&gt; |\n",
       "|---|---|---|\n",
       "| 1 | 0.3235294 | 0.04772394 |\n",
       "| 2 | 0.3103448 | 0.04875367 |\n",
       "| 3 | 0.2574257 | 0.05317578 |\n",
       "| 4 | 0.2572816 | 0.05232345 |\n",
       "| 5 | 0.2378641 | 0.05414365 |\n",
       "| 6 | 0.2912621 | 0.04996326 |\n",
       "\n"
      ],
      "text/plain": [
       "  TPR       FPR       \n",
       "1 0.3235294 0.04772394\n",
       "2 0.3103448 0.04875367\n",
       "3 0.2574257 0.05317578\n",
       "4 0.2572816 0.05232345\n",
       "5 0.2378641 0.05414365\n",
       "6 0.2912621 0.04996326"
      ]
     },
     "metadata": {},
     "output_type": "display_data"
    }
   ],
   "source": [
    "head(itlrpairs[[1]])\n",
    "head(itssp)\n",
    "head(itroc)"
   ]
  },
  {
   "cell_type": "code",
   "execution_count": 17,
   "id": "feaf2e5d",
   "metadata": {},
   "outputs": [
    {
     "name": "stdout",
     "output_type": "stream",
     "text": [
      "[1] \"Total predicted L-R pairs: 42\"\n",
      "[1] \"Time comsuming:\"\n",
      "   user  system elapsed \n",
      "  0.551   0.012   0.576 \n",
      "[1] \"Total predicted L-R pairs: 14\"\n",
      "[1] \"Time comsuming:\"\n",
      "   user  system elapsed \n",
      "  0.481   0.015   0.540 \n",
      "[1] \"Total predicted L-R pairs: 17\"\n",
      "[1] \"Time comsuming:\"\n",
      "   user  system elapsed \n",
      "  0.816   0.008   0.827 \n",
      "[1] \"Total predicted L-R pairs: 33\"\n",
      "[1] \"Time comsuming:\"\n",
      "   user  system elapsed \n",
      "  1.422   0.017   1.441 \n",
      "[1] \"Total predicted L-R pairs: 30\"\n",
      "[1] \"Time comsuming:\"\n",
      "   user  system elapsed \n",
      "  0.739   0.008   0.748 \n",
      "[1] \"Total predicted L-R pairs: 23\"\n",
      "[1] \"Time comsuming:\"\n",
      "   user  system elapsed \n",
      "  0.848   0.016   0.866 \n",
      "[1] \"Total predicted L-R pairs: 8\"\n",
      "[1] \"Time comsuming:\"\n",
      "   user  system elapsed \n",
      "  1.043   0.010   1.053 \n",
      "[1] \"Total predicted L-R pairs: 24\"\n",
      "[1] \"Time comsuming:\"\n",
      "   user  system elapsed \n",
      "  1.659   0.019   1.679 \n",
      "[1] \"Total predicted L-R pairs: 14\"\n",
      "[1] \"Time comsuming:\"\n",
      "   user  system elapsed \n",
      "  0.991   0.002   0.994 \n",
      "[1] \"Total predicted L-R pairs: 30\"\n",
      "[1] \"Time comsuming:\"\n",
      "   user  system elapsed \n",
      "  0.683   0.000   0.684 \n",
      "[1] \"Total predicted L-R pairs: 37\"\n",
      "[1] \"Time comsuming:\"\n",
      "   user  system elapsed \n",
      "  0.474   0.000   0.475 \n",
      "[1] \"Total predicted L-R pairs: 49\"\n",
      "[1] \"Time comsuming:\"\n",
      "   user  system elapsed \n",
      "  0.533   0.000   0.534 \n",
      "[1] \"Total predicted L-R pairs: 59\"\n",
      "[1] \"Time comsuming:\"\n",
      "   user  system elapsed \n",
      "  0.232   0.007   0.239 \n",
      "[1] \"Total predicted L-R pairs: 44\"\n",
      "[1] \"Time comsuming:\"\n",
      "   user  system elapsed \n",
      "  0.687   0.002   0.689 \n",
      "[1] \"Total predicted L-R pairs: 73\"\n",
      "[1] \"Time comsuming:\"\n",
      "   user  system elapsed \n",
      "  0.319   0.000   0.319 \n",
      "[1] \"Total predicted L-R pairs: 22\"\n",
      "[1] \"Time comsuming:\"\n",
      "   user  system elapsed \n",
      "  1.503   0.005   1.509 \n",
      "[1] \"Total predicted L-R pairs: 35\"\n",
      "[1] \"Time comsuming:\"\n",
      "   user  system elapsed \n",
      "  0.881   0.001   0.883 \n",
      "[1] \"Total predicted L-R pairs: 55\"\n",
      "[1] \"Time comsuming:\"\n",
      "   user  system elapsed \n",
      "  0.227   0.000   0.227 \n",
      "[1] \"Total predicted L-R pairs: 20\"\n",
      "[1] \"Time comsuming:\"\n",
      "   user  system elapsed \n",
      "  2.308   0.005   2.316 \n",
      "[1] \"Total predicted L-R pairs: 45\"\n",
      "[1] \"Time comsuming:\"\n",
      "   user  system elapsed \n",
      "  1.272   0.024   1.298 \n",
      "[1] \"Total predicted L-R pairs: 47\"\n",
      "[1] \"Time comsuming:\"\n",
      "   user  system elapsed \n",
      "  0.631   0.000   0.631 \n",
      "[1] \"Total predicted L-R pairs: 7\"\n",
      "[1] \"Time comsuming:\"\n",
      "   user  system elapsed \n",
      "  0.211   0.001   0.212 \n",
      "[1] \"Total predicted L-R pairs: 74\"\n",
      "[1] \"Time comsuming:\"\n",
      "   user  system elapsed \n",
      "  0.264   0.000   0.264 \n",
      "[1] \"Total predicted L-R pairs: 54\"\n",
      "[1] \"Time comsuming:\"\n",
      "   user  system elapsed \n",
      "  0.212   0.001   0.213 \n",
      "[1] \"Total predicted L-R pairs: 26\"\n",
      "[1] \"Time comsuming:\"\n",
      "   user  system elapsed \n",
      "  0.810   0.001   0.815 \n",
      "[1] \"Total predicted L-R pairs: 46\"\n",
      "[1] \"Time comsuming:\"\n",
      "   user  system elapsed \n",
      "  0.496   0.001   0.498 \n",
      "[1] \"Total predicted L-R pairs: 15\"\n",
      "[1] \"Time comsuming:\"\n",
      "   user  system elapsed \n",
      "  0.732   0.008   0.742 \n",
      "[1] \"Total predicted L-R pairs: 15\"\n",
      "[1] \"Time comsuming:\"\n",
      "   user  system elapsed \n",
      "  0.248   0.001   0.249 \n",
      "[1] \"Total predicted L-R pairs: 20\"\n",
      "[1] \"Time comsuming:\"\n",
      "   user  system elapsed \n",
      "  0.718   0.002   0.719 \n",
      "[1] \"Total predicted L-R pairs: 23\"\n",
      "[1] \"Time comsuming:\"\n",
      "   user  system elapsed \n",
      "  0.706   0.000   0.707 \n",
      "[1] \"Total predicted L-R pairs: 20\"\n",
      "[1] \"Time comsuming:\"\n",
      "   user  system elapsed \n",
      "   0.70    0.01    0.71 \n",
      "[1] \"Total predicted L-R pairs: 16\"\n",
      "[1] \"Time comsuming:\"\n",
      "   user  system elapsed \n",
      "  1.424   0.012   1.437 \n",
      "[1] \"Total predicted L-R pairs: 18\"\n",
      "[1] \"Time comsuming:\"\n",
      "   user  system elapsed \n",
      "  0.483   0.002   0.485 \n",
      "[1] \"Total predicted L-R pairs: 30\"\n",
      "[1] \"Time comsuming:\"\n",
      "   user  system elapsed \n",
      "  0.242   0.000   0.242 \n",
      "[1] \"Total predicted L-R pairs: 11\"\n",
      "[1] \"Time comsuming:\"\n",
      "   user  system elapsed \n",
      "  0.259   0.001   0.260 \n",
      "[1] \"Total predicted L-R pairs: 25\"\n",
      "[1] \"Time comsuming:\"\n",
      "   user  system elapsed \n",
      "  1.280   0.002   1.283 \n",
      "[1] \"Total predicted L-R pairs: 9\"\n",
      "[1] \"Time comsuming:\"\n",
      "   user  system elapsed \n",
      "  0.746   0.009   0.756 \n",
      "[1] \"Total predicted L-R pairs: 37\"\n",
      "[1] \"Time comsuming:\"\n",
      "   user  system elapsed \n",
      "  0.639   0.000   0.640 \n",
      "[1] \"Total predicted L-R pairs: 13\"\n",
      "[1] \"Time comsuming:\"\n",
      "   user  system elapsed \n",
      "  1.179   0.003   1.183 \n",
      "[1] \"Total predicted L-R pairs: 30\"\n",
      "[1] \"Time comsuming:\"\n",
      "   user  system elapsed \n",
      "  1.028   0.009   1.038 \n",
      "[1] \"Total predicted L-R pairs: 23\"\n",
      "[1] \"Time comsuming:\"\n",
      "   user  system elapsed \n",
      "  0.999   0.010   1.009 \n",
      "[1] \"Total predicted L-R pairs: 26\"\n",
      "[1] \"Time comsuming:\"\n",
      "   user  system elapsed \n",
      "  0.759   0.001   0.761 \n",
      "[1] \"Total predicted L-R pairs: 25\"\n",
      "[1] \"Time comsuming:\"\n",
      "   user  system elapsed \n",
      "  0.693   0.003   0.728 \n",
      "[1] \"Total predicted L-R pairs: 21\"\n",
      "[1] \"Time comsuming:\"\n",
      "   user  system elapsed \n",
      "   0.77    0.00    0.77 \n",
      "[1] \"Total predicted L-R pairs: 20\"\n",
      "[1] \"Time comsuming:\"\n",
      "   user  system elapsed \n",
      "  0.642   0.005   0.649 \n",
      "[1] \"Total predicted L-R pairs: 18\"\n",
      "[1] \"Time comsuming:\"\n",
      "   user  system elapsed \n",
      "  0.319   0.000   0.320 \n",
      "[1] \"Total predicted L-R pairs: 9\"\n",
      "[1] \"Time comsuming:\"\n",
      "   user  system elapsed \n",
      "  0.399   0.000   0.400 \n",
      "[1] \"Total predicted L-R pairs: 61\"\n",
      "[1] \"Time comsuming:\"\n",
      "   user  system elapsed \n",
      "  0.200   0.004   0.205 \n",
      "[1] \"Total predicted L-R pairs: 24\"\n",
      "[1] \"Time comsuming:\"\n",
      "   user  system elapsed \n",
      "  1.497   0.019   1.519 \n",
      "[1] \"Total predicted L-R pairs: 26\"\n",
      "[1] \"Time comsuming:\"\n",
      "   user  system elapsed \n",
      "  1.532   0.012   1.547 \n",
      "[1] \"Total predicted L-R pairs: 28\"\n",
      "[1] \"Time comsuming:\"\n",
      "   user  system elapsed \n",
      "  1.910   0.004   1.917 \n",
      "[1] \"Total predicted L-R pairs: 32\"\n",
      "[1] \"Time comsuming:\"\n",
      "   user  system elapsed \n",
      "  0.613   0.000   0.614 \n",
      "[1] \"Total predicted L-R pairs: 30\"\n",
      "[1] \"Time comsuming:\"\n",
      "   user  system elapsed \n",
      "  0.201   0.007   0.208 \n",
      "[1] \"Total predicted L-R pairs: 29\"\n",
      "[1] \"Time comsuming:\"\n",
      "   user  system elapsed \n",
      "  0.328   0.000   0.329 \n",
      "[1] \"Total predicted L-R pairs: 32\"\n",
      "[1] \"Time comsuming:\"\n",
      "   user  system elapsed \n",
      "  0.686   0.013   0.699 \n",
      "[1] \"Total predicted L-R pairs: 18\"\n",
      "[1] \"Time comsuming:\"\n",
      "   user  system elapsed \n",
      "  0.199   0.000   0.199 \n"
     ]
    }
   ],
   "source": [
    "# SingleCellSignalR (threshold: LRscore > 0.5)\n",
    "scsrlrpairs <- list()\n",
    "scsrssp <- data.frame()\n",
    "scsrroc <- data.frame()\n",
    "for (sample in allsample){\n",
    "  seu <- readRDS(sample)\n",
    "  seu <- subset(seu, features = genes)\n",
    "  cc <- run_SingleCellSignalR(seu)\n",
    "  scsrlrpairs[[sample]] <- cc\n",
    "  result <- run_SingleCellSignalR_SSP(cc,seu,gold)\n",
    "  scsrroc <- rbind(scsrroc, result[[\"ROC\"]])\n",
    "  scsrssp <- rbind(scsrssp, result[[\"SSP\"]])\n",
    "}"
   ]
  },
  {
   "cell_type": "code",
   "execution_count": 18,
   "id": "50520dc0",
   "metadata": {},
   "outputs": [
    {
     "data": {
      "text/html": [
       "<table class=\"dataframe\">\n",
       "<caption>A data.frame: 6 × 5</caption>\n",
       "<thead>\n",
       "\t<tr><th></th><th scope=col>source</th><th scope=col>target</th><th scope=col>ligand</th><th scope=col>receptor</th><th scope=col>LRscore</th></tr>\n",
       "\t<tr><th></th><th scope=col>&lt;chr&gt;</th><th scope=col>&lt;chr&gt;</th><th scope=col>&lt;chr&gt;</th><th scope=col>&lt;chr&gt;</th><th scope=col>&lt;chr&gt;</th></tr>\n",
       "</thead>\n",
       "<tbody>\n",
       "\t<tr><th scope=row>1</th><td>Macrophage</td><td>Tcell     </td><td>CCL2</td><td>CCR4 </td><td>0.556732057614387</td></tr>\n",
       "\t<tr><th scope=row>2</th><td>Macrophage</td><td>Tcell     </td><td>CCL3</td><td>CCR4 </td><td>0.516319938302632</td></tr>\n",
       "\t<tr><th scope=row>3</th><td>Fibroblast</td><td>Macrophage</td><td>CCL2</td><td>CCR1 </td><td>0.815656113635841</td></tr>\n",
       "\t<tr><th scope=row>4</th><td>Fibroblast</td><td>Macrophage</td><td>CCL2</td><td>CCR5 </td><td>0.645739829044227</td></tr>\n",
       "\t<tr><th scope=row>5</th><td>Fibroblast</td><td>Macrophage</td><td>CSF1</td><td>CSF1R</td><td>0.620898851228885</td></tr>\n",
       "\t<tr><th scope=row>6</th><td>Fibroblast</td><td>AT2       </td><td>CCL2</td><td>CCR1 </td><td>0.506646176724377</td></tr>\n",
       "</tbody>\n",
       "</table>\n"
      ],
      "text/latex": [
       "A data.frame: 6 × 5\n",
       "\\begin{tabular}{r|lllll}\n",
       "  & source & target & ligand & receptor & LRscore\\\\\n",
       "  & <chr> & <chr> & <chr> & <chr> & <chr>\\\\\n",
       "\\hline\n",
       "\t1 & Macrophage & Tcell      & CCL2 & CCR4  & 0.556732057614387\\\\\n",
       "\t2 & Macrophage & Tcell      & CCL3 & CCR4  & 0.516319938302632\\\\\n",
       "\t3 & Fibroblast & Macrophage & CCL2 & CCR1  & 0.815656113635841\\\\\n",
       "\t4 & Fibroblast & Macrophage & CCL2 & CCR5  & 0.645739829044227\\\\\n",
       "\t5 & Fibroblast & Macrophage & CSF1 & CSF1R & 0.620898851228885\\\\\n",
       "\t6 & Fibroblast & AT2        & CCL2 & CCR1  & 0.506646176724377\\\\\n",
       "\\end{tabular}\n"
      ],
      "text/markdown": [
       "\n",
       "A data.frame: 6 × 5\n",
       "\n",
       "| <!--/--> | source &lt;chr&gt; | target &lt;chr&gt; | ligand &lt;chr&gt; | receptor &lt;chr&gt; | LRscore &lt;chr&gt; |\n",
       "|---|---|---|---|---|---|\n",
       "| 1 | Macrophage | Tcell      | CCL2 | CCR4  | 0.556732057614387 |\n",
       "| 2 | Macrophage | Tcell      | CCL3 | CCR4  | 0.516319938302632 |\n",
       "| 3 | Fibroblast | Macrophage | CCL2 | CCR1  | 0.815656113635841 |\n",
       "| 4 | Fibroblast | Macrophage | CCL2 | CCR5  | 0.645739829044227 |\n",
       "| 5 | Fibroblast | Macrophage | CSF1 | CSF1R | 0.620898851228885 |\n",
       "| 6 | Fibroblast | AT2        | CCL2 | CCR1  | 0.506646176724377 |\n",
       "\n"
      ],
      "text/plain": [
       "  source     target     ligand receptor LRscore          \n",
       "1 Macrophage Tcell      CCL2   CCR4     0.556732057614387\n",
       "2 Macrophage Tcell      CCL3   CCR4     0.516319938302632\n",
       "3 Fibroblast Macrophage CCL2   CCR1     0.815656113635841\n",
       "4 Fibroblast Macrophage CCL2   CCR5     0.645739829044227\n",
       "5 Fibroblast Macrophage CSF1   CSF1R    0.620898851228885\n",
       "6 Fibroblast AT2        CCL2   CCR1     0.506646176724377"
      ]
     },
     "metadata": {},
     "output_type": "display_data"
    },
    {
     "data": {
      "text/html": [
       "<table class=\"dataframe\">\n",
       "<caption>A data.frame: 6 × 3</caption>\n",
       "<thead>\n",
       "\t<tr><th></th><th scope=col>Accuracy</th><th scope=col>Sensitivity</th><th scope=col>Specificity</th></tr>\n",
       "\t<tr><th></th><th scope=col>&lt;dbl&gt;</th><th scope=col>&lt;dbl&gt;</th><th scope=col>&lt;dbl&gt;</th></tr>\n",
       "</thead>\n",
       "<tbody>\n",
       "\t<tr><th scope=row>1</th><td>0.9128289</td><td>0.07070707</td><td>0.9874664</td></tr>\n",
       "\t<tr><th scope=row>2</th><td>0.9185855</td><td>0.03535354</td><td>0.9968666</td></tr>\n",
       "\t<tr><th scope=row>3</th><td>0.9173520</td><td>0.03535354</td><td>0.9955237</td></tr>\n",
       "\t<tr><th scope=row>4</th><td>0.9099507</td><td>0.03030303</td><td>0.9879141</td></tr>\n",
       "\t<tr><th scope=row>5</th><td>0.9095395</td><td>0.02020202</td><td>0.9883617</td></tr>\n",
       "\t<tr><th scope=row>6</th><td>0.9157072</td><td>0.04040404</td><td>0.9932856</td></tr>\n",
       "</tbody>\n",
       "</table>\n"
      ],
      "text/latex": [
       "A data.frame: 6 × 3\n",
       "\\begin{tabular}{r|lll}\n",
       "  & Accuracy & Sensitivity & Specificity\\\\\n",
       "  & <dbl> & <dbl> & <dbl>\\\\\n",
       "\\hline\n",
       "\t1 & 0.9128289 & 0.07070707 & 0.9874664\\\\\n",
       "\t2 & 0.9185855 & 0.03535354 & 0.9968666\\\\\n",
       "\t3 & 0.9173520 & 0.03535354 & 0.9955237\\\\\n",
       "\t4 & 0.9099507 & 0.03030303 & 0.9879141\\\\\n",
       "\t5 & 0.9095395 & 0.02020202 & 0.9883617\\\\\n",
       "\t6 & 0.9157072 & 0.04040404 & 0.9932856\\\\\n",
       "\\end{tabular}\n"
      ],
      "text/markdown": [
       "\n",
       "A data.frame: 6 × 3\n",
       "\n",
       "| <!--/--> | Accuracy &lt;dbl&gt; | Sensitivity &lt;dbl&gt; | Specificity &lt;dbl&gt; |\n",
       "|---|---|---|---|\n",
       "| 1 | 0.9128289 | 0.07070707 | 0.9874664 |\n",
       "| 2 | 0.9185855 | 0.03535354 | 0.9968666 |\n",
       "| 3 | 0.9173520 | 0.03535354 | 0.9955237 |\n",
       "| 4 | 0.9099507 | 0.03030303 | 0.9879141 |\n",
       "| 5 | 0.9095395 | 0.02020202 | 0.9883617 |\n",
       "| 6 | 0.9157072 | 0.04040404 | 0.9932856 |\n",
       "\n"
      ],
      "text/plain": [
       "  Accuracy  Sensitivity Specificity\n",
       "1 0.9128289 0.07070707  0.9874664  \n",
       "2 0.9185855 0.03535354  0.9968666  \n",
       "3 0.9173520 0.03535354  0.9955237  \n",
       "4 0.9099507 0.03030303  0.9879141  \n",
       "5 0.9095395 0.02020202  0.9883617  \n",
       "6 0.9157072 0.04040404  0.9932856  "
      ]
     },
     "metadata": {},
     "output_type": "display_data"
    },
    {
     "data": {
      "text/html": [
       "<table class=\"dataframe\">\n",
       "<caption>A data.frame: 6 × 2</caption>\n",
       "<thead>\n",
       "\t<tr><th></th><th scope=col>TPR</th><th scope=col>FPR</th></tr>\n",
       "\t<tr><th></th><th scope=col>&lt;dbl&gt;</th><th scope=col>&lt;dbl&gt;</th></tr>\n",
       "</thead>\n",
       "<tbody>\n",
       "\t<tr><th scope=row>1</th><td>0.07070707</td><td>0.012533572</td></tr>\n",
       "\t<tr><th scope=row>2</th><td>0.03535354</td><td>0.003133393</td></tr>\n",
       "\t<tr><th scope=row>3</th><td>0.03535354</td><td>0.004476276</td></tr>\n",
       "\t<tr><th scope=row>4</th><td>0.03030303</td><td>0.012085944</td></tr>\n",
       "\t<tr><th scope=row>5</th><td>0.02020202</td><td>0.011638317</td></tr>\n",
       "\t<tr><th scope=row>6</th><td>0.04040404</td><td>0.006714414</td></tr>\n",
       "</tbody>\n",
       "</table>\n"
      ],
      "text/latex": [
       "A data.frame: 6 × 2\n",
       "\\begin{tabular}{r|ll}\n",
       "  & TPR & FPR\\\\\n",
       "  & <dbl> & <dbl>\\\\\n",
       "\\hline\n",
       "\t1 & 0.07070707 & 0.012533572\\\\\n",
       "\t2 & 0.03535354 & 0.003133393\\\\\n",
       "\t3 & 0.03535354 & 0.004476276\\\\\n",
       "\t4 & 0.03030303 & 0.012085944\\\\\n",
       "\t5 & 0.02020202 & 0.011638317\\\\\n",
       "\t6 & 0.04040404 & 0.006714414\\\\\n",
       "\\end{tabular}\n"
      ],
      "text/markdown": [
       "\n",
       "A data.frame: 6 × 2\n",
       "\n",
       "| <!--/--> | TPR &lt;dbl&gt; | FPR &lt;dbl&gt; |\n",
       "|---|---|---|\n",
       "| 1 | 0.07070707 | 0.012533572 |\n",
       "| 2 | 0.03535354 | 0.003133393 |\n",
       "| 3 | 0.03535354 | 0.004476276 |\n",
       "| 4 | 0.03030303 | 0.012085944 |\n",
       "| 5 | 0.02020202 | 0.011638317 |\n",
       "| 6 | 0.04040404 | 0.006714414 |\n",
       "\n"
      ],
      "text/plain": [
       "  TPR        FPR        \n",
       "1 0.07070707 0.012533572\n",
       "2 0.03535354 0.003133393\n",
       "3 0.03535354 0.004476276\n",
       "4 0.03030303 0.012085944\n",
       "5 0.02020202 0.011638317\n",
       "6 0.04040404 0.006714414"
      ]
     },
     "metadata": {},
     "output_type": "display_data"
    }
   ],
   "source": [
    "head(scsrlrpairs[[1]])\n",
    "head(scsrssp)\n",
    "head(scsrroc)"
   ]
  },
  {
   "cell_type": "code",
   "execution_count": 34,
   "id": "7a9e77d7",
   "metadata": {},
   "outputs": [
    {
     "name": "stderr",
     "output_type": "stream",
     "text": [
      "-- Calculating cluster-wise gene statistics --\n",
      "\n",
      "-- Calculating cluster-wise gene statistics --\n",
      "\n",
      "Scaling node weights per cell type...\n",
      "\n",
      "Building node metadata...\n",
      "\n",
      "Building edge list...\n",
      "\n"
     ]
    },
    {
     "name": "stdout",
     "output_type": "stream",
     "text": [
      "[1] \"Total predicted L-R pairs: 3906\"\n",
      "[1] \"Choose top L-R pairs: 196\"\n",
      "[1] \"Time comsuming:\"\n",
      "   user  system elapsed \n",
      "  0.350   0.000   0.395 \n"
     ]
    },
    {
     "name": "stderr",
     "output_type": "stream",
     "text": [
      "-- Calculating cluster-wise gene statistics --\n",
      "\n",
      "-- Calculating cluster-wise gene statistics --\n",
      "\n",
      "Scaling node weights per cell type...\n",
      "\n",
      "Building node metadata...\n",
      "\n",
      "Building edge list...\n",
      "\n"
     ]
    },
    {
     "name": "stdout",
     "output_type": "stream",
     "text": [
      "[1] \"Total predicted L-R pairs: 4158\"\n",
      "[1] \"Choose top L-R pairs: 196\"\n",
      "[1] \"Time comsuming:\"\n",
      "   user  system elapsed \n",
      "  0.347   0.000   0.426 \n"
     ]
    },
    {
     "name": "stderr",
     "output_type": "stream",
     "text": [
      "-- Calculating cluster-wise gene statistics --\n",
      "\n",
      "-- Calculating cluster-wise gene statistics --\n",
      "\n",
      "Scaling node weights per cell type...\n",
      "\n",
      "Building node metadata...\n",
      "\n",
      "Building edge list...\n",
      "\n"
     ]
    },
    {
     "name": "stdout",
     "output_type": "stream",
     "text": [
      "[1] \"Total predicted L-R pairs: 4370\"\n",
      "[1] \"Choose top L-R pairs: 196\"\n",
      "[1] \"Time comsuming:\"\n",
      "   user  system elapsed \n",
      "  0.934   0.035   1.069 \n"
     ]
    },
    {
     "name": "stderr",
     "output_type": "stream",
     "text": [
      "-- Calculating cluster-wise gene statistics --\n",
      "\n",
      "-- Calculating cluster-wise gene statistics --\n",
      "\n",
      "Scaling node weights per cell type...\n",
      "\n",
      "Building node metadata...\n",
      "\n",
      "Building edge list...\n",
      "\n"
     ]
    },
    {
     "name": "stdout",
     "output_type": "stream",
     "text": [
      "[1] \"Total predicted L-R pairs: 2546\"\n",
      "[1] \"Choose top L-R pairs: 196\"\n",
      "[1] \"Time comsuming:\"\n",
      "   user  system elapsed \n",
      "  0.301   0.021   0.409 \n"
     ]
    },
    {
     "name": "stderr",
     "output_type": "stream",
     "text": [
      "-- Calculating cluster-wise gene statistics --\n",
      "\n",
      "-- Calculating cluster-wise gene statistics --\n",
      "\n",
      "Scaling node weights per cell type...\n",
      "\n",
      "Building node metadata...\n",
      "\n",
      "Building edge list...\n",
      "\n"
     ]
    },
    {
     "name": "stdout",
     "output_type": "stream",
     "text": [
      "[1] \"Total predicted L-R pairs: 3481\"\n",
      "[1] \"Choose top L-R pairs: 196\"\n",
      "[1] \"Time comsuming:\"\n",
      "   user  system elapsed \n",
      "  0.305   0.007   0.404 \n"
     ]
    },
    {
     "name": "stderr",
     "output_type": "stream",
     "text": [
      "-- Calculating cluster-wise gene statistics --\n",
      "\n",
      "-- Calculating cluster-wise gene statistics --\n",
      "\n",
      "Scaling node weights per cell type...\n",
      "\n",
      "Building node metadata...\n",
      "\n",
      "Building edge list...\n",
      "\n"
     ]
    },
    {
     "name": "stdout",
     "output_type": "stream",
     "text": [
      "[1] \"Total predicted L-R pairs: 3675\"\n",
      "[1] \"Choose top L-R pairs: 196\"\n",
      "[1] \"Time comsuming:\"\n",
      "   user  system elapsed \n",
      "  0.317   0.000   0.387 \n"
     ]
    },
    {
     "name": "stderr",
     "output_type": "stream",
     "text": [
      "-- Calculating cluster-wise gene statistics --\n",
      "\n",
      "-- Calculating cluster-wise gene statistics --\n",
      "\n",
      "Scaling node weights per cell type...\n",
      "\n",
      "Building node metadata...\n",
      "\n",
      "Building edge list...\n",
      "\n"
     ]
    },
    {
     "name": "stdout",
     "output_type": "stream",
     "text": [
      "[1] \"Total predicted L-R pairs: 4688\"\n",
      "[1] \"Choose top L-R pairs: 196\"\n",
      "[1] \"Time comsuming:\"\n",
      "   user  system elapsed \n",
      "  0.320   0.021   0.414 \n"
     ]
    },
    {
     "name": "stderr",
     "output_type": "stream",
     "text": [
      "-- Calculating cluster-wise gene statistics --\n",
      "\n",
      "-- Calculating cluster-wise gene statistics --\n",
      "\n",
      "Scaling node weights per cell type...\n",
      "\n",
      "Building node metadata...\n",
      "\n",
      "Building edge list...\n",
      "\n"
     ]
    },
    {
     "name": "stdout",
     "output_type": "stream",
     "text": [
      "[1] \"Total predicted L-R pairs: 4405\"\n",
      "[1] \"Choose top L-R pairs: 196\"\n",
      "[1] \"Time comsuming:\"\n",
      "   user  system elapsed \n",
      "  0.947   0.014   0.986 \n"
     ]
    },
    {
     "name": "stderr",
     "output_type": "stream",
     "text": [
      "-- Calculating cluster-wise gene statistics --\n",
      "\n",
      "-- Calculating cluster-wise gene statistics --\n",
      "\n",
      "Scaling node weights per cell type...\n",
      "\n",
      "Building node metadata...\n",
      "\n",
      "Building edge list...\n",
      "\n"
     ]
    },
    {
     "name": "stdout",
     "output_type": "stream",
     "text": [
      "[1] \"Total predicted L-R pairs: 5133\"\n",
      "[1] \"Choose top L-R pairs: 196\"\n",
      "[1] \"Time comsuming:\"\n",
      "   user  system elapsed \n",
      "  0.326   0.015   0.340 \n"
     ]
    },
    {
     "name": "stderr",
     "output_type": "stream",
     "text": [
      "-- Calculating cluster-wise gene statistics --\n",
      "\n",
      "-- Calculating cluster-wise gene statistics --\n",
      "\n",
      "Scaling node weights per cell type...\n",
      "\n",
      "Building node metadata...\n",
      "\n",
      "Building edge list...\n",
      "\n"
     ]
    },
    {
     "name": "stdout",
     "output_type": "stream",
     "text": [
      "[1] \"Total predicted L-R pairs: 3955\"\n",
      "[1] \"Choose top L-R pairs: 196\"\n",
      "[1] \"Time comsuming:\"\n",
      "   user  system elapsed \n",
      "  0.315   0.021   0.346 \n"
     ]
    },
    {
     "name": "stderr",
     "output_type": "stream",
     "text": [
      "-- Calculating cluster-wise gene statistics --\n",
      "\n",
      "-- Calculating cluster-wise gene statistics --\n",
      "\n",
      "Scaling node weights per cell type...\n",
      "\n",
      "Building node metadata...\n",
      "\n",
      "Building edge list...\n",
      "\n"
     ]
    },
    {
     "name": "stdout",
     "output_type": "stream",
     "text": [
      "[1] \"Total predicted L-R pairs: 3189\"\n",
      "[1] \"Choose top L-R pairs: 196\"\n",
      "[1] \"Time comsuming:\"\n",
      "   user  system elapsed \n",
      "  0.333   0.007   0.341 \n"
     ]
    },
    {
     "name": "stderr",
     "output_type": "stream",
     "text": [
      "-- Calculating cluster-wise gene statistics --\n",
      "\n",
      "-- Calculating cluster-wise gene statistics --\n",
      "\n",
      "Scaling node weights per cell type...\n",
      "\n",
      "Building node metadata...\n",
      "\n",
      "Building edge list...\n",
      "\n"
     ]
    },
    {
     "name": "stdout",
     "output_type": "stream",
     "text": [
      "[1] \"Total predicted L-R pairs: 3658\"\n",
      "[1] \"Choose top L-R pairs: 196\"\n",
      "[1] \"Time comsuming:\"\n",
      "   user  system elapsed \n",
      "  0.341   0.000   0.341 \n"
     ]
    },
    {
     "name": "stderr",
     "output_type": "stream",
     "text": [
      "-- Calculating cluster-wise gene statistics --\n",
      "\n",
      "-- Calculating cluster-wise gene statistics --\n",
      "\n",
      "Scaling node weights per cell type...\n",
      "\n",
      "Building node metadata...\n",
      "\n",
      "Building edge list...\n",
      "\n"
     ]
    },
    {
     "name": "stdout",
     "output_type": "stream",
     "text": [
      "[1] \"Total predicted L-R pairs: 1792\"\n",
      "[1] \"Choose top L-R pairs: 196\"\n",
      "[1] \"Time comsuming:\"\n",
      "   user  system elapsed \n",
      "  0.227   0.007   0.235 \n"
     ]
    },
    {
     "name": "stderr",
     "output_type": "stream",
     "text": [
      "-- Calculating cluster-wise gene statistics --\n",
      "\n",
      "-- Calculating cluster-wise gene statistics --\n",
      "\n",
      "Scaling node weights per cell type...\n",
      "\n",
      "Building node metadata...\n",
      "\n",
      "Building edge list...\n",
      "\n"
     ]
    },
    {
     "name": "stdout",
     "output_type": "stream",
     "text": [
      "[1] \"Total predicted L-R pairs: 1827\"\n",
      "[1] \"Choose top L-R pairs: 196\"\n",
      "[1] \"Time comsuming:\"\n",
      "   user  system elapsed \n",
      "  0.229   0.000   0.230 \n"
     ]
    },
    {
     "name": "stderr",
     "output_type": "stream",
     "text": [
      "-- Calculating cluster-wise gene statistics --\n",
      "\n",
      "-- Calculating cluster-wise gene statistics --\n",
      "\n",
      "Scaling node weights per cell type...\n",
      "\n",
      "Building node metadata...\n",
      "\n",
      "Building edge list...\n",
      "\n"
     ]
    },
    {
     "name": "stdout",
     "output_type": "stream",
     "text": [
      "[1] \"Total predicted L-R pairs: 1457\"\n",
      "[1] \"Choose top L-R pairs: 196\"\n",
      "[1] \"Time comsuming:\"\n",
      "   user  system elapsed \n",
      "  0.244   0.007   0.251 \n"
     ]
    },
    {
     "name": "stderr",
     "output_type": "stream",
     "text": [
      "-- Calculating cluster-wise gene statistics --\n",
      "\n",
      "-- Calculating cluster-wise gene statistics --\n",
      "\n",
      "Scaling node weights per cell type...\n",
      "\n",
      "Building node metadata...\n",
      "\n",
      "Building edge list...\n",
      "\n"
     ]
    },
    {
     "name": "stdout",
     "output_type": "stream",
     "text": [
      "[1] \"Total predicted L-R pairs: 4067\"\n",
      "[1] \"Choose top L-R pairs: 196\"\n",
      "[1] \"Time comsuming:\"\n",
      "   user  system elapsed \n",
      "  0.315   0.007   0.323 \n"
     ]
    },
    {
     "name": "stderr",
     "output_type": "stream",
     "text": [
      "-- Calculating cluster-wise gene statistics --\n",
      "\n",
      "-- Calculating cluster-wise gene statistics --\n",
      "\n",
      "Scaling node weights per cell type...\n",
      "\n",
      "Building node metadata...\n",
      "\n",
      "Building edge list...\n",
      "\n"
     ]
    },
    {
     "name": "stdout",
     "output_type": "stream",
     "text": [
      "[1] \"Total predicted L-R pairs: 3908\"\n",
      "[1] \"Choose top L-R pairs: 196\"\n",
      "[1] \"Time comsuming:\"\n",
      "   user  system elapsed \n",
      "  0.341   0.000   0.347 \n",
      "[1] \"Total predicted L-R pairs: 0\"\n"
     ]
    },
    {
     "name": "stderr",
     "output_type": "stream",
     "text": [
      "-- Calculating cluster-wise gene statistics --\n",
      "\n",
      "-- Calculating cluster-wise gene statistics --\n",
      "\n",
      "Scaling node weights per cell type...\n",
      "\n",
      "Building node metadata...\n",
      "\n",
      "Building edge list...\n",
      "\n"
     ]
    },
    {
     "name": "stdout",
     "output_type": "stream",
     "text": [
      "[1] \"Total predicted L-R pairs: 2812\"\n",
      "[1] \"Choose top L-R pairs: 196\"\n",
      "[1] \"Time comsuming:\"\n",
      "   user  system elapsed \n",
      "  0.279   0.029   0.318 \n"
     ]
    },
    {
     "name": "stderr",
     "output_type": "stream",
     "text": [
      "-- Calculating cluster-wise gene statistics --\n",
      "\n",
      "-- Calculating cluster-wise gene statistics --\n",
      "\n",
      "Scaling node weights per cell type...\n",
      "\n",
      "Building node metadata...\n",
      "\n",
      "Building edge list...\n",
      "\n"
     ]
    },
    {
     "name": "stdout",
     "output_type": "stream",
     "text": [
      "[1] \"Total predicted L-R pairs: 2723\"\n",
      "[1] \"Choose top L-R pairs: 196\"\n",
      "[1] \"Time comsuming:\"\n",
      "   user  system elapsed \n",
      "  0.283   0.000   0.295 \n"
     ]
    },
    {
     "name": "stderr",
     "output_type": "stream",
     "text": [
      "-- Calculating cluster-wise gene statistics --\n",
      "\n",
      "-- Calculating cluster-wise gene statistics --\n",
      "\n",
      "Scaling node weights per cell type...\n",
      "\n",
      "Building node metadata...\n",
      "\n",
      "Building edge list...\n",
      "\n"
     ]
    },
    {
     "name": "stdout",
     "output_type": "stream",
     "text": [
      "[1] \"Total predicted L-R pairs: 3276\"\n",
      "[1] \"Choose top L-R pairs: 196\"\n",
      "[1] \"Time comsuming:\"\n",
      "   user  system elapsed \n",
      "  0.297   0.000   0.312 \n",
      "[1] \"Total predicted L-R pairs: 0\"\n",
      "[1] \"Total predicted L-R pairs: 0\"\n",
      "[1] \"Total predicted L-R pairs: 0\"\n"
     ]
    },
    {
     "name": "stderr",
     "output_type": "stream",
     "text": [
      "-- Calculating cluster-wise gene statistics --\n",
      "\n",
      "-- Calculating cluster-wise gene statistics --\n",
      "\n",
      "Scaling node weights per cell type...\n",
      "\n",
      "Building node metadata...\n",
      "\n",
      "Building edge list...\n",
      "\n"
     ]
    },
    {
     "name": "stdout",
     "output_type": "stream",
     "text": [
      "[1] \"Total predicted L-R pairs: 3460\"\n",
      "[1] \"Choose top L-R pairs: 196\"\n",
      "[1] \"Time comsuming:\"\n",
      "   user  system elapsed \n",
      "  0.313   0.000   0.318 \n"
     ]
    },
    {
     "name": "stderr",
     "output_type": "stream",
     "text": [
      "-- Calculating cluster-wise gene statistics --\n",
      "\n",
      "-- Calculating cluster-wise gene statistics --\n",
      "\n",
      "Scaling node weights per cell type...\n",
      "\n",
      "Building node metadata...\n",
      "\n",
      "Building edge list...\n",
      "\n"
     ]
    },
    {
     "name": "stdout",
     "output_type": "stream",
     "text": [
      "[1] \"Total predicted L-R pairs: 3698\"\n",
      "[1] \"Choose top L-R pairs: 196\"\n",
      "[1] \"Time comsuming:\"\n",
      "   user  system elapsed \n",
      "  0.973   0.015   1.000 \n"
     ]
    },
    {
     "name": "stderr",
     "output_type": "stream",
     "text": [
      "-- Calculating cluster-wise gene statistics --\n",
      "\n",
      "-- Calculating cluster-wise gene statistics --\n",
      "\n",
      "Scaling node weights per cell type...\n",
      "\n",
      "Building node metadata...\n",
      "\n",
      "Building edge list...\n",
      "\n"
     ]
    },
    {
     "name": "stdout",
     "output_type": "stream",
     "text": [
      "[1] \"Total predicted L-R pairs: 3960\"\n",
      "[1] \"Choose top L-R pairs: 196\"\n",
      "[1] \"Time comsuming:\"\n",
      "   user  system elapsed \n",
      "  0.309   0.007   0.320 \n",
      "[1] \"Total predicted L-R pairs: 0\"\n"
     ]
    },
    {
     "name": "stderr",
     "output_type": "stream",
     "text": [
      "-- Calculating cluster-wise gene statistics --\n",
      "\n",
      "-- Calculating cluster-wise gene statistics --\n",
      "\n",
      "Scaling node weights per cell type...\n",
      "\n",
      "Building node metadata...\n",
      "\n",
      "Building edge list...\n",
      "\n"
     ]
    },
    {
     "name": "stdout",
     "output_type": "stream",
     "text": [
      "[1] \"Total predicted L-R pairs: 3072\"\n",
      "[1] \"Choose top L-R pairs: 196\"\n",
      "[1] \"Time comsuming:\"\n",
      "   user  system elapsed \n",
      "  0.302   0.000   0.311 \n"
     ]
    },
    {
     "name": "stderr",
     "output_type": "stream",
     "text": [
      "-- Calculating cluster-wise gene statistics --\n",
      "\n",
      "-- Calculating cluster-wise gene statistics --\n",
      "\n",
      "Scaling node weights per cell type...\n",
      "\n",
      "Building node metadata...\n",
      "\n",
      "Building edge list...\n",
      "\n"
     ]
    },
    {
     "name": "stdout",
     "output_type": "stream",
     "text": [
      "[1] \"Total predicted L-R pairs: 3241\"\n",
      "[1] \"Choose top L-R pairs: 196\"\n",
      "[1] \"Time comsuming:\"\n",
      "   user  system elapsed \n",
      "  0.289   0.015   0.321 \n",
      "[1] \"Total predicted L-R pairs: 0\"\n"
     ]
    },
    {
     "name": "stderr",
     "output_type": "stream",
     "text": [
      "-- Calculating cluster-wise gene statistics --\n",
      "\n",
      "-- Calculating cluster-wise gene statistics --\n",
      "\n",
      "Scaling node weights per cell type...\n",
      "\n",
      "Building node metadata...\n",
      "\n",
      "Building edge list...\n",
      "\n"
     ]
    },
    {
     "name": "stdout",
     "output_type": "stream",
     "text": [
      "[1] \"Total predicted L-R pairs: 2971\"\n",
      "[1] \"Choose top L-R pairs: 196\"\n",
      "[1] \"Time comsuming:\"\n",
      "   user  system elapsed \n",
      "  0.336   0.007   0.357 \n",
      "[1] \"Total predicted L-R pairs: 0\"\n",
      "[1] \"Total predicted L-R pairs: 0\"\n",
      "[1] \"Total predicted L-R pairs: 0\"\n"
     ]
    },
    {
     "name": "stderr",
     "output_type": "stream",
     "text": [
      "-- Calculating cluster-wise gene statistics --\n",
      "\n",
      "-- Calculating cluster-wise gene statistics --\n",
      "\n",
      "Scaling node weights per cell type...\n",
      "\n",
      "Building node metadata...\n",
      "\n",
      "Building edge list...\n",
      "\n"
     ]
    },
    {
     "name": "stdout",
     "output_type": "stream",
     "text": [
      "[1] \"Total predicted L-R pairs: 2954\"\n",
      "[1] \"Choose top L-R pairs: 196\"\n",
      "[1] \"Time comsuming:\"\n",
      "   user  system elapsed \n",
      "  0.311   0.000   0.344 \n",
      "[1] \"Total predicted L-R pairs: 0\"\n"
     ]
    },
    {
     "name": "stderr",
     "output_type": "stream",
     "text": [
      "-- Calculating cluster-wise gene statistics --\n",
      "\n",
      "-- Calculating cluster-wise gene statistics --\n",
      "\n",
      "Scaling node weights per cell type...\n",
      "\n",
      "Building node metadata...\n",
      "\n",
      "Building edge list...\n",
      "\n"
     ]
    },
    {
     "name": "stdout",
     "output_type": "stream",
     "text": [
      "[1] \"Total predicted L-R pairs: 2392\"\n",
      "[1] \"Choose top L-R pairs: 196\"\n",
      "[1] \"Time comsuming:\"\n",
      "   user  system elapsed \n",
      "  0.304   0.014   0.331 \n"
     ]
    },
    {
     "name": "stderr",
     "output_type": "stream",
     "text": [
      "-- Calculating cluster-wise gene statistics --\n",
      "\n",
      "-- Calculating cluster-wise gene statistics --\n",
      "\n",
      "Scaling node weights per cell type...\n",
      "\n",
      "Building node metadata...\n",
      "\n",
      "Building edge list...\n",
      "\n"
     ]
    },
    {
     "name": "stdout",
     "output_type": "stream",
     "text": [
      "[1] \"Total predicted L-R pairs: 3220\"\n",
      "[1] \"Choose top L-R pairs: 196\"\n",
      "[1] \"Time comsuming:\"\n",
      "   user  system elapsed \n",
      "  0.309   0.006   0.318 \n"
     ]
    },
    {
     "name": "stderr",
     "output_type": "stream",
     "text": [
      "-- Calculating cluster-wise gene statistics --\n",
      "\n",
      "-- Calculating cluster-wise gene statistics --\n",
      "\n",
      "Scaling node weights per cell type...\n",
      "\n",
      "Building node metadata...\n",
      "\n",
      "Building edge list...\n",
      "\n"
     ]
    },
    {
     "name": "stdout",
     "output_type": "stream",
     "text": [
      "[1] \"Total predicted L-R pairs: 3119\"\n",
      "[1] \"Choose top L-R pairs: 196\"\n",
      "[1] \"Time comsuming:\"\n",
      "   user  system elapsed \n",
      "  0.313   0.000   0.347 \n"
     ]
    },
    {
     "name": "stderr",
     "output_type": "stream",
     "text": [
      "-- Calculating cluster-wise gene statistics --\n",
      "\n",
      "-- Calculating cluster-wise gene statistics --\n",
      "\n",
      "Scaling node weights per cell type...\n",
      "\n",
      "Building node metadata...\n",
      "\n",
      "Building edge list...\n",
      "\n"
     ]
    },
    {
     "name": "stdout",
     "output_type": "stream",
     "text": [
      "[1] \"Total predicted L-R pairs: 2773\"\n",
      "[1] \"Choose top L-R pairs: 196\"\n",
      "[1] \"Time comsuming:\"\n",
      "   user  system elapsed \n",
      "  0.350   0.015   0.395 \n"
     ]
    },
    {
     "name": "stderr",
     "output_type": "stream",
     "text": [
      "-- Calculating cluster-wise gene statistics --\n",
      "\n",
      "-- Calculating cluster-wise gene statistics --\n",
      "\n",
      "Scaling node weights per cell type...\n",
      "\n",
      "Building node metadata...\n",
      "\n",
      "Building edge list...\n",
      "\n"
     ]
    },
    {
     "name": "stdout",
     "output_type": "stream",
     "text": [
      "[1] \"Total predicted L-R pairs: 3131\"\n",
      "[1] \"Choose top L-R pairs: 196\"\n",
      "[1] \"Time comsuming:\"\n",
      "   user  system elapsed \n",
      "  0.334   0.008   0.363 \n"
     ]
    },
    {
     "name": "stderr",
     "output_type": "stream",
     "text": [
      "-- Calculating cluster-wise gene statistics --\n",
      "\n",
      "-- Calculating cluster-wise gene statistics --\n",
      "\n",
      "Scaling node weights per cell type...\n",
      "\n",
      "Building node metadata...\n",
      "\n",
      "Building edge list...\n",
      "\n"
     ]
    },
    {
     "name": "stdout",
     "output_type": "stream",
     "text": [
      "[1] \"Total predicted L-R pairs: 2436\"\n",
      "[1] \"Choose top L-R pairs: 196\"\n",
      "[1] \"Time comsuming:\"\n",
      "   user  system elapsed \n",
      "  0.275   0.001   0.290 \n",
      "[1] \"Total predicted L-R pairs: 0\"\n"
     ]
    },
    {
     "name": "stderr",
     "output_type": "stream",
     "text": [
      "-- Calculating cluster-wise gene statistics --\n",
      "\n",
      "-- Calculating cluster-wise gene statistics --\n",
      "\n",
      "Scaling node weights per cell type...\n",
      "\n",
      "Building node metadata...\n",
      "\n",
      "Building edge list...\n",
      "\n"
     ]
    },
    {
     "name": "stdout",
     "output_type": "stream",
     "text": [
      "[1] \"Total predicted L-R pairs: 1814\"\n",
      "[1] \"Choose top L-R pairs: 196\"\n",
      "[1] \"Time comsuming:\"\n",
      "   user  system elapsed \n",
      "  0.254   0.000   0.287 \n",
      "[1] \"Total predicted L-R pairs: 0\"\n",
      "[1] \"Total predicted L-R pairs: 0\"\n"
     ]
    },
    {
     "name": "stderr",
     "output_type": "stream",
     "text": [
      "-- Calculating cluster-wise gene statistics --\n",
      "\n",
      "-- Calculating cluster-wise gene statistics --\n",
      "\n",
      "Scaling node weights per cell type...\n",
      "\n",
      "Building node metadata...\n",
      "\n",
      "Building edge list...\n",
      "\n"
     ]
    },
    {
     "name": "stdout",
     "output_type": "stream",
     "text": [
      "[1] \"Total predicted L-R pairs: 1170\"\n",
      "[1] \"Choose top L-R pairs: 196\"\n",
      "[1] \"Time comsuming:\"\n",
      "   user  system elapsed \n",
      "  0.253   0.000   0.289 \n"
     ]
    },
    {
     "name": "stderr",
     "output_type": "stream",
     "text": [
      "-- Calculating cluster-wise gene statistics --\n",
      "\n",
      "-- Calculating cluster-wise gene statistics --\n",
      "\n",
      "Scaling node weights per cell type...\n",
      "\n",
      "Building node metadata...\n",
      "\n",
      "Building edge list...\n",
      "\n"
     ]
    },
    {
     "name": "stdout",
     "output_type": "stream",
     "text": [
      "[1] \"Total predicted L-R pairs: 2145\"\n",
      "[1] \"Choose top L-R pairs: 196\"\n",
      "[1] \"Time comsuming:\"\n",
      "   user  system elapsed \n",
      "  0.260   0.000   0.331 \n"
     ]
    },
    {
     "name": "stderr",
     "output_type": "stream",
     "text": [
      "-- Calculating cluster-wise gene statistics --\n",
      "\n",
      "-- Calculating cluster-wise gene statistics --\n",
      "\n",
      "Scaling node weights per cell type...\n",
      "\n",
      "Building node metadata...\n",
      "\n",
      "Building edge list...\n",
      "\n"
     ]
    },
    {
     "name": "stdout",
     "output_type": "stream",
     "text": [
      "[1] \"Total predicted L-R pairs: 3163\"\n",
      "[1] \"Choose top L-R pairs: 196\"\n",
      "[1] \"Time comsuming:\"\n",
      "   user  system elapsed \n",
      "  0.366   0.007   0.393 \n"
     ]
    },
    {
     "name": "stderr",
     "output_type": "stream",
     "text": [
      "-- Calculating cluster-wise gene statistics --\n",
      "\n",
      "-- Calculating cluster-wise gene statistics --\n",
      "\n",
      "Scaling node weights per cell type...\n",
      "\n",
      "Building node metadata...\n",
      "\n",
      "Building edge list...\n",
      "\n"
     ]
    },
    {
     "name": "stdout",
     "output_type": "stream",
     "text": [
      "[1] \"Total predicted L-R pairs: 3342\"\n",
      "[1] \"Choose top L-R pairs: 196\"\n",
      "[1] \"Time comsuming:\"\n",
      "   user  system elapsed \n",
      "  0.351   0.007   0.368 \n"
     ]
    },
    {
     "name": "stderr",
     "output_type": "stream",
     "text": [
      "-- Calculating cluster-wise gene statistics --\n",
      "\n",
      "-- Calculating cluster-wise gene statistics --\n",
      "\n",
      "Scaling node weights per cell type...\n",
      "\n",
      "Building node metadata...\n",
      "\n",
      "Building edge list...\n",
      "\n"
     ]
    },
    {
     "name": "stdout",
     "output_type": "stream",
     "text": [
      "[1] \"Total predicted L-R pairs: 2171\"\n",
      "[1] \"Choose top L-R pairs: 196\"\n",
      "[1] \"Time comsuming:\"\n",
      "   user  system elapsed \n",
      "  0.252   0.000   0.270 \n",
      "[1] \"Total predicted L-R pairs: 0\"\n"
     ]
    },
    {
     "name": "stderr",
     "output_type": "stream",
     "text": [
      "-- Calculating cluster-wise gene statistics --\n",
      "\n",
      "-- Calculating cluster-wise gene statistics --\n",
      "\n",
      "Scaling node weights per cell type...\n",
      "\n",
      "Building node metadata...\n",
      "\n",
      "Building edge list...\n",
      "\n"
     ]
    },
    {
     "name": "stdout",
     "output_type": "stream",
     "text": [
      "[1] \"Total predicted L-R pairs: 1591\"\n",
      "[1] \"Choose top L-R pairs: 196\"\n",
      "[1] \"Time comsuming:\"\n",
      "   user  system elapsed \n",
      "  0.220   0.007   0.247 \n",
      "[1] \"Total predicted L-R pairs: 0\"\n",
      "[1] \"Total predicted L-R pairs: 0\"\n"
     ]
    }
   ],
   "source": [
    "# CCInx\n",
    "ccilrpairs <- list()\n",
    "ccissp <- data.frame()\n",
    "cciroc <- data.frame()\n",
    "for (sample in allsample){\n",
    "  seu <- readRDS(sample)\n",
    "  seu <- subset(seu, features = genes)\n",
    "  cc <- run_CCInx(seu,top = 196)\n",
    "  ccilrpairs[[sample]] <- cc\n",
    "  result <- run_CCInx_SSP(cc,seu,gold)\n",
    "  cciroc <- rbind(cciroc, result[[\"ROC\"]])\n",
    "  ccissp <- rbind(ccissp, result[[\"SSP\"]])\n",
    "}"
   ]
  },
  {
   "cell_type": "code",
   "execution_count": 20,
   "id": "6988f4be",
   "metadata": {},
   "outputs": [
    {
     "data": {
      "text/html": [
       "<table class=\"dataframe\">\n",
       "<caption>A data.frame: 6 × 5</caption>\n",
       "<thead>\n",
       "\t<tr><th></th><th scope=col>source</th><th scope=col>target</th><th scope=col>ligand</th><th scope=col>receptor</th><th scope=col>edgeWeight</th></tr>\n",
       "\t<tr><th></th><th scope=col>&lt;chr&gt;</th><th scope=col>&lt;chr&gt;</th><th scope=col>&lt;chr&gt;</th><th scope=col>&lt;chr&gt;</th><th scope=col>&lt;chr&gt;</th></tr>\n",
       "</thead>\n",
       "<tbody>\n",
       "\t<tr><th scope=row>1</th><td>AT2        </td><td>Monocyte   </td><td>ITGB6 </td><td>ITGB1 </td><td>1                </td></tr>\n",
       "\t<tr><th scope=row>2</th><td>AT1        </td><td>Monocyte   </td><td>ITGB6 </td><td>ITGB1 </td><td>1                </td></tr>\n",
       "\t<tr><th scope=row>3</th><td>Endothelial</td><td>Fibroblast </td><td>TGFBR2</td><td>CTGF  </td><td>0.999846834494715</td></tr>\n",
       "\t<tr><th scope=row>4</th><td>Endothelial</td><td>Monocyte   </td><td>TGFBR2</td><td>ITGB1 </td><td>0.999846834494715</td></tr>\n",
       "\t<tr><th scope=row>5</th><td>Endothelial</td><td>Endothelial</td><td>CTGF  </td><td>TGFBR2</td><td>0.999846834494715</td></tr>\n",
       "\t<tr><th scope=row>6</th><td>Endothelial</td><td>Endothelial</td><td>TGFBR2</td><td>CTGF  </td><td>0.999846834494715</td></tr>\n",
       "</tbody>\n",
       "</table>\n"
      ],
      "text/latex": [
       "A data.frame: 6 × 5\n",
       "\\begin{tabular}{r|lllll}\n",
       "  & source & target & ligand & receptor & edgeWeight\\\\\n",
       "  & <chr> & <chr> & <chr> & <chr> & <chr>\\\\\n",
       "\\hline\n",
       "\t1 & AT2         & Monocyte    & ITGB6  & ITGB1  & 1                \\\\\n",
       "\t2 & AT1         & Monocyte    & ITGB6  & ITGB1  & 1                \\\\\n",
       "\t3 & Endothelial & Fibroblast  & TGFBR2 & CTGF   & 0.999846834494715\\\\\n",
       "\t4 & Endothelial & Monocyte    & TGFBR2 & ITGB1  & 0.999846834494715\\\\\n",
       "\t5 & Endothelial & Endothelial & CTGF   & TGFBR2 & 0.999846834494715\\\\\n",
       "\t6 & Endothelial & Endothelial & TGFBR2 & CTGF   & 0.999846834494715\\\\\n",
       "\\end{tabular}\n"
      ],
      "text/markdown": [
       "\n",
       "A data.frame: 6 × 5\n",
       "\n",
       "| <!--/--> | source &lt;chr&gt; | target &lt;chr&gt; | ligand &lt;chr&gt; | receptor &lt;chr&gt; | edgeWeight &lt;chr&gt; |\n",
       "|---|---|---|---|---|---|\n",
       "| 1 | AT2         | Monocyte    | ITGB6  | ITGB1  | 1                 |\n",
       "| 2 | AT1         | Monocyte    | ITGB6  | ITGB1  | 1                 |\n",
       "| 3 | Endothelial | Fibroblast  | TGFBR2 | CTGF   | 0.999846834494715 |\n",
       "| 4 | Endothelial | Monocyte    | TGFBR2 | ITGB1  | 0.999846834494715 |\n",
       "| 5 | Endothelial | Endothelial | CTGF   | TGFBR2 | 0.999846834494715 |\n",
       "| 6 | Endothelial | Endothelial | TGFBR2 | CTGF   | 0.999846834494715 |\n",
       "\n"
      ],
      "text/plain": [
       "  source      target      ligand receptor edgeWeight       \n",
       "1 AT2         Monocyte    ITGB6  ITGB1    1                \n",
       "2 AT1         Monocyte    ITGB6  ITGB1    1                \n",
       "3 Endothelial Fibroblast  TGFBR2 CTGF     0.999846834494715\n",
       "4 Endothelial Monocyte    TGFBR2 ITGB1    0.999846834494715\n",
       "5 Endothelial Endothelial CTGF   TGFBR2   0.999846834494715\n",
       "6 Endothelial Endothelial TGFBR2 CTGF     0.999846834494715"
      ]
     },
     "metadata": {},
     "output_type": "display_data"
    },
    {
     "data": {
      "text/html": [
       "<table class=\"dataframe\">\n",
       "<caption>A data.frame: 6 × 3</caption>\n",
       "<thead>\n",
       "\t<tr><th></th><th scope=col>Accuracy</th><th scope=col>Sensitivity</th><th scope=col>Specificity</th></tr>\n",
       "\t<tr><th></th><th scope=col>&lt;dbl&gt;</th><th scope=col>&lt;dbl&gt;</th><th scope=col>&lt;dbl&gt;</th></tr>\n",
       "</thead>\n",
       "<tbody>\n",
       "\t<tr><th scope=row>1</th><td>0.9375000</td><td>0.01587302</td><td>0.9437318</td></tr>\n",
       "\t<tr><th scope=row>2</th><td>0.9429977</td><td>0.02105263</td><td>0.9442994</td></tr>\n",
       "\t<tr><th scope=row>3</th><td>0.9398148</td><td>0.02631579</td><td>0.9443797</td></tr>\n",
       "\t<tr><th scope=row>4</th><td>0.9372106</td><td>0.00000000</td><td>0.9429403</td></tr>\n",
       "\t<tr><th scope=row>5</th><td>0.9389468</td><td>0.03157895</td><td>0.9445903</td></tr>\n",
       "\t<tr><th scope=row>6</th><td>0.9398148</td><td>0.03157895</td><td>0.9446387</td></tr>\n",
       "</tbody>\n",
       "</table>\n"
      ],
      "text/latex": [
       "A data.frame: 6 × 3\n",
       "\\begin{tabular}{r|lll}\n",
       "  & Accuracy & Sensitivity & Specificity\\\\\n",
       "  & <dbl> & <dbl> & <dbl>\\\\\n",
       "\\hline\n",
       "\t1 & 0.9375000 & 0.01587302 & 0.9437318\\\\\n",
       "\t2 & 0.9429977 & 0.02105263 & 0.9442994\\\\\n",
       "\t3 & 0.9398148 & 0.02631579 & 0.9443797\\\\\n",
       "\t4 & 0.9372106 & 0.00000000 & 0.9429403\\\\\n",
       "\t5 & 0.9389468 & 0.03157895 & 0.9445903\\\\\n",
       "\t6 & 0.9398148 & 0.03157895 & 0.9446387\\\\\n",
       "\\end{tabular}\n"
      ],
      "text/markdown": [
       "\n",
       "A data.frame: 6 × 3\n",
       "\n",
       "| <!--/--> | Accuracy &lt;dbl&gt; | Sensitivity &lt;dbl&gt; | Specificity &lt;dbl&gt; |\n",
       "|---|---|---|---|\n",
       "| 1 | 0.9375000 | 0.01587302 | 0.9437318 |\n",
       "| 2 | 0.9429977 | 0.02105263 | 0.9442994 |\n",
       "| 3 | 0.9398148 | 0.02631579 | 0.9443797 |\n",
       "| 4 | 0.9372106 | 0.00000000 | 0.9429403 |\n",
       "| 5 | 0.9389468 | 0.03157895 | 0.9445903 |\n",
       "| 6 | 0.9398148 | 0.03157895 | 0.9446387 |\n",
       "\n"
      ],
      "text/plain": [
       "  Accuracy  Sensitivity Specificity\n",
       "1 0.9375000 0.01587302  0.9437318  \n",
       "2 0.9429977 0.02105263  0.9442994  \n",
       "3 0.9398148 0.02631579  0.9443797  \n",
       "4 0.9372106 0.00000000  0.9429403  \n",
       "5 0.9389468 0.03157895  0.9445903  \n",
       "6 0.9398148 0.03157895  0.9446387  "
      ]
     },
     "metadata": {},
     "output_type": "display_data"
    },
    {
     "data": {
      "text/html": [
       "<table class=\"dataframe\">\n",
       "<caption>A data.frame: 6 × 2</caption>\n",
       "<thead>\n",
       "\t<tr><th></th><th scope=col>TPR</th><th scope=col>FPR</th></tr>\n",
       "\t<tr><th></th><th scope=col>&lt;dbl&gt;</th><th scope=col>&lt;dbl&gt;</th></tr>\n",
       "</thead>\n",
       "<tbody>\n",
       "\t<tr><th scope=row>1</th><td>0.01587302</td><td>0.05626822</td></tr>\n",
       "\t<tr><th scope=row>2</th><td>0.02105263</td><td>0.05570061</td></tr>\n",
       "\t<tr><th scope=row>3</th><td>0.02631579</td><td>0.05562027</td></tr>\n",
       "\t<tr><th scope=row>4</th><td>0.00000000</td><td>0.05705968</td></tr>\n",
       "\t<tr><th scope=row>5</th><td>0.03157895</td><td>0.05540974</td></tr>\n",
       "\t<tr><th scope=row>6</th><td>0.03157895</td><td>0.05536131</td></tr>\n",
       "</tbody>\n",
       "</table>\n"
      ],
      "text/latex": [
       "A data.frame: 6 × 2\n",
       "\\begin{tabular}{r|ll}\n",
       "  & TPR & FPR\\\\\n",
       "  & <dbl> & <dbl>\\\\\n",
       "\\hline\n",
       "\t1 & 0.01587302 & 0.05626822\\\\\n",
       "\t2 & 0.02105263 & 0.05570061\\\\\n",
       "\t3 & 0.02631579 & 0.05562027\\\\\n",
       "\t4 & 0.00000000 & 0.05705968\\\\\n",
       "\t5 & 0.03157895 & 0.05540974\\\\\n",
       "\t6 & 0.03157895 & 0.05536131\\\\\n",
       "\\end{tabular}\n"
      ],
      "text/markdown": [
       "\n",
       "A data.frame: 6 × 2\n",
       "\n",
       "| <!--/--> | TPR &lt;dbl&gt; | FPR &lt;dbl&gt; |\n",
       "|---|---|---|\n",
       "| 1 | 0.01587302 | 0.05626822 |\n",
       "| 2 | 0.02105263 | 0.05570061 |\n",
       "| 3 | 0.02631579 | 0.05562027 |\n",
       "| 4 | 0.00000000 | 0.05705968 |\n",
       "| 5 | 0.03157895 | 0.05540974 |\n",
       "| 6 | 0.03157895 | 0.05536131 |\n",
       "\n"
      ],
      "text/plain": [
       "  TPR        FPR       \n",
       "1 0.01587302 0.05626822\n",
       "2 0.02105263 0.05570061\n",
       "3 0.02631579 0.05562027\n",
       "4 0.00000000 0.05705968\n",
       "5 0.03157895 0.05540974\n",
       "6 0.03157895 0.05536131"
      ]
     },
     "metadata": {},
     "output_type": "display_data"
    }
   ],
   "source": [
    "head(ccilrpairs[[1]])\n",
    "head(ccissp)\n",
    "head(cciroc)"
   ]
  },
  {
   "cell_type": "code",
   "execution_count": 25,
   "id": "eab84fba",
   "metadata": {
    "scrolled": true
   },
   "outputs": [
    {
     "name": "stdout",
     "output_type": "stream",
     "text": [
      "[1] \"Total predicted L-R pairs: 0\"\n",
      "[1] \"Time comsuming:\"\n",
      "   user  system elapsed \n",
      "182.340   0.612 184.061 \n",
      "[1] \"Total predicted L-R pairs: 0\"\n",
      "[1] \"Time comsuming:\"\n",
      "   user  system elapsed \n",
      "187.252   0.332 187.724 \n",
      "[1] \"Total predicted L-R pairs: 0\"\n",
      "[1] \"Time comsuming:\"\n",
      "   user  system elapsed \n",
      "182.890   0.355 183.359 \n",
      "[1] \"Total predicted L-R pairs: 0\"\n",
      "[1] \"Time comsuming:\"\n",
      "   user  system elapsed \n",
      "157.776   0.313 158.180 \n",
      "[1] \"Total predicted L-R pairs: 0\"\n",
      "[1] \"Time comsuming:\"\n",
      "   user  system elapsed \n",
      "171.682   0.306 172.151 \n",
      "[1] \"Total predicted L-R pairs: 0\"\n",
      "[1] \"Time comsuming:\"\n",
      "   user  system elapsed \n",
      "172.095   0.425 172.586 \n",
      "[1] \"Total predicted L-R pairs: 2\"\n",
      "[1] \"Time comsuming:\"\n",
      "   user  system elapsed \n",
      "175.950   0.451 176.448 \n",
      "[1] \"Total predicted L-R pairs: 0\"\n",
      "[1] \"Time comsuming:\"\n",
      "   user  system elapsed \n",
      "178.885   0.419 179.397 \n",
      "[1] \"Total predicted L-R pairs: 4\"\n",
      "[1] \"Time comsuming:\"\n",
      "   user  system elapsed \n",
      "180.908   0.385 181.342 \n",
      "[1] \"Total predicted L-R pairs: 0\"\n",
      "[1] \"Time comsuming:\"\n",
      "   user  system elapsed \n",
      "173.870   0.630 176.056 \n",
      "[1] \"Total predicted L-R pairs: 1\"\n",
      "[1] \"Time comsuming:\"\n",
      "   user  system elapsed \n",
      "171.877   0.036 173.948 \n",
      "[1] \"Total predicted L-R pairs: 0\"\n",
      "[1] \"Time comsuming:\"\n",
      "   user  system elapsed \n",
      "177.676   0.021 177.803 \n",
      "[1] \"Total predicted L-R pairs: 0\"\n",
      "[1] \"Time comsuming:\"\n",
      "   user  system elapsed \n",
      "131.193   0.016 131.525 \n",
      "[1] \"Total predicted L-R pairs: 0\"\n",
      "[1] \"Time comsuming:\"\n",
      "   user  system elapsed \n",
      "130.232   0.015 130.380 \n",
      "[1] \"Total predicted L-R pairs: 0\"\n",
      "[1] \"Time comsuming:\"\n",
      "   user  system elapsed \n",
      "171.271   0.019 171.423 \n",
      "[1] \"Total predicted L-R pairs: 0\"\n",
      "[1] \"Time comsuming:\"\n",
      "   user  system elapsed \n",
      "179.095   0.035 179.279 \n",
      "[1] \"Total predicted L-R pairs: 0\"\n",
      "[1] \"Time comsuming:\"\n",
      "   user  system elapsed \n",
      "182.239   0.015 182.492 \n",
      "[1] \"Total predicted L-R pairs: 0\"\n",
      "[1] \"Time comsuming:\"\n",
      "   user  system elapsed \n",
      "132.804   0.026 132.887 \n",
      "[1] \"Total predicted L-R pairs: 0\"\n",
      "[1] \"Time comsuming:\"\n",
      "   user  system elapsed \n",
      "135.298   0.067 135.430 \n",
      "[1] \"Total predicted L-R pairs: 0\"\n",
      "[1] \"Time comsuming:\"\n",
      "   user  system elapsed \n",
      "182.945   0.016 183.034 \n",
      "[1] \"Total predicted L-R pairs: 0\"\n",
      "[1] \"Time comsuming:\"\n",
      "   user  system elapsed \n",
      "191.426   0.052 191.644 \n",
      "[1] \"Total predicted L-R pairs: 0\"\n",
      "[1] \"Time comsuming:\"\n",
      "   user  system elapsed \n",
      " 68.938   0.011  68.997 \n",
      "[1] \"Total predicted L-R pairs: 0\"\n",
      "[1] \"Time comsuming:\"\n",
      "   user  system elapsed \n",
      "134.256   0.047 134.354 \n",
      "[1] \"Total predicted L-R pairs: 0\"\n",
      "[1] \"Time comsuming:\"\n",
      "   user  system elapsed \n",
      " 98.736   0.012  98.777 \n",
      "[1] \"Total predicted L-R pairs: 0\"\n",
      "[1] \"Time comsuming:\"\n",
      "   user  system elapsed \n",
      "195.167   0.071 195.408 \n",
      "[1] \"Total predicted L-R pairs: 2\"\n",
      "[1] \"Time comsuming:\"\n",
      "   user  system elapsed \n",
      "193.481   0.069 193.763 \n",
      "[1] \"Total predicted L-R pairs: 0\"\n",
      "[1] \"Time comsuming:\"\n",
      "   user  system elapsed \n",
      "200.799   0.109 201.308 \n",
      "[1] \"Total predicted L-R pairs: 0\"\n",
      "[1] \"Time comsuming:\"\n",
      "   user  system elapsed \n",
      "111.865   0.097 112.005 \n",
      "[1] \"Total predicted L-R pairs: 0\"\n",
      "[1] \"Time comsuming:\"\n",
      "   user  system elapsed \n",
      "202.154   0.063 202.297 \n",
      "[1] \"Total predicted L-R pairs: 4\"\n",
      "[1] \"Time comsuming:\"\n",
      "   user  system elapsed \n",
      "201.915   0.263 202.454 \n",
      "[1] \"Total predicted L-R pairs: 0\"\n",
      "[1] \"Time comsuming:\"\n",
      "   user  system elapsed \n",
      "132.402   0.364 132.922 \n",
      "[1] \"Total predicted L-R pairs: 0\"\n",
      "[1] \"Time comsuming:\"\n",
      "   user  system elapsed \n",
      "179.956   0.511 180.806 \n",
      "[1] \"Total predicted L-R pairs: 0\"\n",
      "[1] \"Time comsuming:\"\n",
      "   user  system elapsed \n",
      " 96.048   0.263  96.404 \n",
      "[1] \"Total predicted L-R pairs: 0\"\n",
      "[1] \"Time comsuming:\"\n",
      "   user  system elapsed \n",
      "128.985   0.303 129.346 \n",
      "[1] \"Total predicted L-R pairs: 0\"\n",
      "[1] \"Time comsuming:\"\n",
      "   user  system elapsed \n",
      " 94.428   0.221  94.780 \n",
      "[1] \"Total predicted L-R pairs: 0\"\n",
      "[1] \"Time comsuming:\"\n",
      "   user  system elapsed \n",
      "178.719   0.461 179.322 \n",
      "[1] \"Total predicted L-R pairs: 3\"\n",
      "[1] \"Time comsuming:\"\n",
      "   user  system elapsed \n",
      "137.683   0.334 138.080 \n",
      "[1] \"Total predicted L-R pairs: 0\"\n",
      "[1] \"Time comsuming:\"\n",
      "   user  system elapsed \n",
      "178.013   0.431 178.551 \n",
      "[1] \"Total predicted L-R pairs: 0\"\n",
      "[1] \"Time comsuming:\"\n",
      "   user  system elapsed \n",
      "179.039   0.489 179.680 \n",
      "[1] \"Total predicted L-R pairs: 0\"\n",
      "[1] \"Time comsuming:\"\n",
      "   user  system elapsed \n",
      "179.660   0.512 180.294 \n",
      "[1] \"Total predicted L-R pairs: 0\"\n",
      "[1] \"Time comsuming:\"\n",
      "   user  system elapsed \n",
      "177.068   0.368 177.518 \n",
      "[1] \"Total predicted L-R pairs: 0\"\n",
      "[1] \"Time comsuming:\"\n",
      "   user  system elapsed \n",
      "175.804   0.346 176.242 \n",
      "[1] \"Total predicted L-R pairs: 0\"\n",
      "[1] \"Time comsuming:\"\n",
      "   user  system elapsed \n",
      "180.191   0.581 181.494 \n",
      "[1] \"Total predicted L-R pairs: 0\"\n",
      "[1] \"Time comsuming:\"\n",
      "   user  system elapsed \n",
      "133.854   0.336 134.363 \n",
      "[1] \"Total predicted L-R pairs: 0\"\n",
      "[1] \"Time comsuming:\"\n",
      "   user  system elapsed \n",
      " 96.164   0.262  96.614 \n",
      "[1] \"Total predicted L-R pairs: 0\"\n",
      "[1] \"Time comsuming:\"\n",
      "   user  system elapsed \n",
      " 59.465   0.184  59.916 \n",
      "[1] \"Total predicted L-R pairs: 0\"\n",
      "[1] \"Time comsuming:\"\n",
      "   user  system elapsed \n",
      " 65.588   0.034  65.856 \n",
      "[1] \"Total predicted L-R pairs: 0\"\n",
      "[1] \"Time comsuming:\"\n",
      "   user  system elapsed \n",
      "130.014   0.011 130.246 \n",
      "[1] \"Total predicted L-R pairs: 0\"\n",
      "[1] \"Time comsuming:\"\n",
      "   user  system elapsed \n",
      "135.403   0.006 135.774 \n",
      "[1] \"Total predicted L-R pairs: 0\"\n",
      "[1] \"Time comsuming:\"\n",
      "   user  system elapsed \n",
      "181.222   0.013 181.528 \n",
      "[1] \"Total predicted L-R pairs: 1\"\n",
      "[1] \"Time comsuming:\"\n",
      "   user  system elapsed \n",
      "184.763   0.028 185.155 \n",
      "[1] \"Total predicted L-R pairs: 0\"\n",
      "[1] \"Time comsuming:\"\n",
      "   user  system elapsed \n",
      "133.455   0.013 133.742 \n",
      "[1] \"Total predicted L-R pairs: 0\"\n",
      "[1] \"Time comsuming:\"\n",
      "   user  system elapsed \n",
      " 96.455   0.014  96.767 \n",
      "[1] \"Total predicted L-R pairs: 0\"\n",
      "[1] \"Time comsuming:\"\n",
      "   user  system elapsed \n",
      "134.592   0.019 134.755 \n",
      "[1] \"Total predicted L-R pairs: 0\"\n",
      "[1] \"Time comsuming:\"\n",
      "   user  system elapsed \n",
      "129.216   0.011 129.347 \n",
      "[1] \"Total predicted L-R pairs: 0\"\n",
      "[1] \"Time comsuming:\"\n",
      "   user  system elapsed \n",
      "137.234   0.023 137.699 \n"
     ]
    }
   ],
   "source": [
    "# scMLnet\n",
    "sclrpairs <- list()\n",
    "scssp <- data.frame()\n",
    "scroc <- data.frame()\n",
    "for (sample in allsample){\n",
    "  seu <- readRDS(sample)\n",
    "  seu <- subset(seu, features = genes2)\n",
    "  cc <- run_scMLnet(seu)\n",
    "  sclrpairs[[sample]] <- cc\n",
    "  result <- run_scMLnet_SSP(cc,seu,gold)\n",
    "  scroc <- rbind(scroc, result[[\"ROC\"]])\n",
    "  scssp <- rbind(scssp, result[[\"SSP\"]])\n",
    "}"
   ]
  },
  {
   "cell_type": "code",
   "execution_count": 23,
   "id": "a0326eb6",
   "metadata": {},
   "outputs": [
    {
     "data": {
      "text/html": [
       "<table class=\"dataframe\">\n",
       "<caption>A data.frame: 2 × 3</caption>\n",
       "<thead>\n",
       "\t<tr><th></th><th scope=col>source</th><th scope=col>target</th><th scope=col>ligrec</th></tr>\n",
       "\t<tr><th></th><th scope=col>&lt;chr&gt;</th><th scope=col>&lt;chr&gt;</th><th scope=col>&lt;chr&gt;</th></tr>\n",
       "</thead>\n",
       "<tbody>\n",
       "\t<tr><th scope=row>1</th><td>Monocyte</td><td>Fibroblast</td><td>IL1A_IL1R1</td></tr>\n",
       "\t<tr><th scope=row>2</th><td>Monocyte</td><td>Fibroblast</td><td>IL1B_IL1R1</td></tr>\n",
       "</tbody>\n",
       "</table>\n"
      ],
      "text/latex": [
       "A data.frame: 2 × 3\n",
       "\\begin{tabular}{r|lll}\n",
       "  & source & target & ligrec\\\\\n",
       "  & <chr> & <chr> & <chr>\\\\\n",
       "\\hline\n",
       "\t1 & Monocyte & Fibroblast & IL1A\\_IL1R1\\\\\n",
       "\t2 & Monocyte & Fibroblast & IL1B\\_IL1R1\\\\\n",
       "\\end{tabular}\n"
      ],
      "text/markdown": [
       "\n",
       "A data.frame: 2 × 3\n",
       "\n",
       "| <!--/--> | source &lt;chr&gt; | target &lt;chr&gt; | ligrec &lt;chr&gt; |\n",
       "|---|---|---|---|\n",
       "| 1 | Monocyte | Fibroblast | IL1A_IL1R1 |\n",
       "| 2 | Monocyte | Fibroblast | IL1B_IL1R1 |\n",
       "\n"
      ],
      "text/plain": [
       "  source   target     ligrec    \n",
       "1 Monocyte Fibroblast IL1A_IL1R1\n",
       "2 Monocyte Fibroblast IL1B_IL1R1"
      ]
     },
     "metadata": {},
     "output_type": "display_data"
    },
    {
     "data": {
      "text/html": [
       "<table class=\"dataframe\">\n",
       "<caption>A data.frame: 1 × 3</caption>\n",
       "<thead>\n",
       "\t<tr><th></th><th scope=col>Accuracy</th><th scope=col>Sensitivity</th><th scope=col>Specificity</th></tr>\n",
       "\t<tr><th></th><th scope=col>&lt;dbl&gt;</th><th scope=col>&lt;dbl&gt;</th><th scope=col>&lt;dbl&gt;</th></tr>\n",
       "</thead>\n",
       "<tbody>\n",
       "\t<tr><th scope=row>7</th><td>0.9201858</td><td>0.005291005</td><td>0.9995411</td></tr>\n",
       "</tbody>\n",
       "</table>\n"
      ],
      "text/latex": [
       "A data.frame: 1 × 3\n",
       "\\begin{tabular}{r|lll}\n",
       "  & Accuracy & Sensitivity & Specificity\\\\\n",
       "  & <dbl> & <dbl> & <dbl>\\\\\n",
       "\\hline\n",
       "\t7 & 0.9201858 & 0.005291005 & 0.9995411\\\\\n",
       "\\end{tabular}\n"
      ],
      "text/markdown": [
       "\n",
       "A data.frame: 1 × 3\n",
       "\n",
       "| <!--/--> | Accuracy &lt;dbl&gt; | Sensitivity &lt;dbl&gt; | Specificity &lt;dbl&gt; |\n",
       "|---|---|---|---|\n",
       "| 7 | 0.9201858 | 0.005291005 | 0.9995411 |\n",
       "\n"
      ],
      "text/plain": [
       "  Accuracy  Sensitivity Specificity\n",
       "7 0.9201858 0.005291005 0.9995411  "
      ]
     },
     "metadata": {},
     "output_type": "display_data"
    },
    {
     "data": {
      "text/html": [
       "<table class=\"dataframe\">\n",
       "<caption>A data.frame: 1 × 2</caption>\n",
       "<thead>\n",
       "\t<tr><th></th><th scope=col>TPR</th><th scope=col>FPR</th></tr>\n",
       "\t<tr><th></th><th scope=col>&lt;dbl&gt;</th><th scope=col>&lt;dbl&gt;</th></tr>\n",
       "</thead>\n",
       "<tbody>\n",
       "\t<tr><th scope=row>7</th><td>0.005291005</td><td>0.0004589261</td></tr>\n",
       "</tbody>\n",
       "</table>\n"
      ],
      "text/latex": [
       "A data.frame: 1 × 2\n",
       "\\begin{tabular}{r|ll}\n",
       "  & TPR & FPR\\\\\n",
       "  & <dbl> & <dbl>\\\\\n",
       "\\hline\n",
       "\t7 & 0.005291005 & 0.0004589261\\\\\n",
       "\\end{tabular}\n"
      ],
      "text/markdown": [
       "\n",
       "A data.frame: 1 × 2\n",
       "\n",
       "| <!--/--> | TPR &lt;dbl&gt; | FPR &lt;dbl&gt; |\n",
       "|---|---|---|\n",
       "| 7 | 0.005291005 | 0.0004589261 |\n",
       "\n"
      ],
      "text/plain": [
       "  TPR         FPR         \n",
       "7 0.005291005 0.0004589261"
      ]
     },
     "metadata": {},
     "output_type": "display_data"
    }
   ],
   "source": [
    "# show one positive result only\n",
    "head(sclrpairs[[7]])\n",
    "scssp[7,]\n",
    "scroc[7,]"
   ]
  },
  {
   "cell_type": "markdown",
   "id": "1dda6b13",
   "metadata": {},
   "source": [
    "## 3. Save SSP and ROC Results (R tools)"
   ]
  },
  {
   "cell_type": "code",
   "execution_count": 29,
   "id": "c4849220",
   "metadata": {},
   "outputs": [
    {
     "data": {
      "text/html": [
       "<table class=\"dataframe\">\n",
       "<caption>A data.frame: 6 × 4</caption>\n",
       "<thead>\n",
       "\t<tr><th></th><th scope=col>Accuracy</th><th scope=col>Sensitivity</th><th scope=col>Specificity</th><th scope=col>Tool</th></tr>\n",
       "\t<tr><th></th><th scope=col>&lt;dbl&gt;</th><th scope=col>&lt;dbl&gt;</th><th scope=col>&lt;dbl&gt;</th><th scope=col>&lt;chr&gt;</th></tr>\n",
       "</thead>\n",
       "<tbody>\n",
       "\t<tr><th scope=row>1</th><td>0.8910714</td><td>0.038961039</td><td>0.9964895</td><td>CellChat</td></tr>\n",
       "\t<tr><th scope=row>2</th><td>0.8919643</td><td>0.008333333</td><td>0.9980000</td><td>CellChat</td></tr>\n",
       "\t<tr><th scope=row>3</th><td>0.8924107</td><td>0.008333333</td><td>0.9985000</td><td>CellChat</td></tr>\n",
       "\t<tr><th scope=row>4</th><td>0.8928571</td><td>0.000000000</td><td>0.9995002</td><td>CellChat</td></tr>\n",
       "\t<tr><th scope=row>5</th><td>0.8901786</td><td>0.008438819</td><td>0.9974962</td><td>CellChat</td></tr>\n",
       "\t<tr><th scope=row>6</th><td>0.8933036</td><td>0.017094017</td><td>0.9985000</td><td>CellChat</td></tr>\n",
       "</tbody>\n",
       "</table>\n"
      ],
      "text/latex": [
       "A data.frame: 6 × 4\n",
       "\\begin{tabular}{r|llll}\n",
       "  & Accuracy & Sensitivity & Specificity & Tool\\\\\n",
       "  & <dbl> & <dbl> & <dbl> & <chr>\\\\\n",
       "\\hline\n",
       "\t1 & 0.8910714 & 0.038961039 & 0.9964895 & CellChat\\\\\n",
       "\t2 & 0.8919643 & 0.008333333 & 0.9980000 & CellChat\\\\\n",
       "\t3 & 0.8924107 & 0.008333333 & 0.9985000 & CellChat\\\\\n",
       "\t4 & 0.8928571 & 0.000000000 & 0.9995002 & CellChat\\\\\n",
       "\t5 & 0.8901786 & 0.008438819 & 0.9974962 & CellChat\\\\\n",
       "\t6 & 0.8933036 & 0.017094017 & 0.9985000 & CellChat\\\\\n",
       "\\end{tabular}\n"
      ],
      "text/markdown": [
       "\n",
       "A data.frame: 6 × 4\n",
       "\n",
       "| <!--/--> | Accuracy &lt;dbl&gt; | Sensitivity &lt;dbl&gt; | Specificity &lt;dbl&gt; | Tool &lt;chr&gt; |\n",
       "|---|---|---|---|---|\n",
       "| 1 | 0.8910714 | 0.038961039 | 0.9964895 | CellChat |\n",
       "| 2 | 0.8919643 | 0.008333333 | 0.9980000 | CellChat |\n",
       "| 3 | 0.8924107 | 0.008333333 | 0.9985000 | CellChat |\n",
       "| 4 | 0.8928571 | 0.000000000 | 0.9995002 | CellChat |\n",
       "| 5 | 0.8901786 | 0.008438819 | 0.9974962 | CellChat |\n",
       "| 6 | 0.8933036 | 0.017094017 | 0.9985000 | CellChat |\n",
       "\n"
      ],
      "text/plain": [
       "  Accuracy  Sensitivity Specificity Tool    \n",
       "1 0.8910714 0.038961039 0.9964895   CellChat\n",
       "2 0.8919643 0.008333333 0.9980000   CellChat\n",
       "3 0.8924107 0.008333333 0.9985000   CellChat\n",
       "4 0.8928571 0.000000000 0.9995002   CellChat\n",
       "5 0.8901786 0.008438819 0.9974962   CellChat\n",
       "6 0.8933036 0.017094017 0.9985000   CellChat"
      ]
     },
     "metadata": {},
     "output_type": "display_data"
    }
   ],
   "source": [
    "ssp <- rbind(ccssp,itssp,scsrssp,ccissp,scssp)\n",
    "tool <- rep(c(\"CellChat\",\"iTalk\",\"SingleCellSignalR\",\"CCInx\",\"scMLnet\"),each=56)\n",
    "ssp[,\"Tool\"] <- tool\n",
    "head(ssp)"
   ]
  },
  {
   "cell_type": "code",
   "execution_count": 30,
   "id": "80532089",
   "metadata": {},
   "outputs": [
    {
     "data": {
      "text/html": [
       "<table class=\"dataframe\">\n",
       "<caption>A data.frame: 6 × 3</caption>\n",
       "<thead>\n",
       "\t<tr><th></th><th scope=col>TPR</th><th scope=col>FPR</th><th scope=col>Tool</th></tr>\n",
       "\t<tr><th></th><th scope=col>&lt;dbl&gt;</th><th scope=col>&lt;dbl&gt;</th><th scope=col>&lt;chr&gt;</th></tr>\n",
       "</thead>\n",
       "<tbody>\n",
       "\t<tr><th scope=row>1</th><td>0.038961039</td><td>0.0035105316</td><td>CellChat</td></tr>\n",
       "\t<tr><th scope=row>2</th><td>0.008333333</td><td>0.0020000000</td><td>CellChat</td></tr>\n",
       "\t<tr><th scope=row>3</th><td>0.008333333</td><td>0.0015000000</td><td>CellChat</td></tr>\n",
       "\t<tr><th scope=row>4</th><td>0.000000000</td><td>0.0004997501</td><td>CellChat</td></tr>\n",
       "\t<tr><th scope=row>5</th><td>0.008438819</td><td>0.0025037556</td><td>CellChat</td></tr>\n",
       "\t<tr><th scope=row>6</th><td>0.017094017</td><td>0.0015000000</td><td>CellChat</td></tr>\n",
       "</tbody>\n",
       "</table>\n"
      ],
      "text/latex": [
       "A data.frame: 6 × 3\n",
       "\\begin{tabular}{r|lll}\n",
       "  & TPR & FPR & Tool\\\\\n",
       "  & <dbl> & <dbl> & <chr>\\\\\n",
       "\\hline\n",
       "\t1 & 0.038961039 & 0.0035105316 & CellChat\\\\\n",
       "\t2 & 0.008333333 & 0.0020000000 & CellChat\\\\\n",
       "\t3 & 0.008333333 & 0.0015000000 & CellChat\\\\\n",
       "\t4 & 0.000000000 & 0.0004997501 & CellChat\\\\\n",
       "\t5 & 0.008438819 & 0.0025037556 & CellChat\\\\\n",
       "\t6 & 0.017094017 & 0.0015000000 & CellChat\\\\\n",
       "\\end{tabular}\n"
      ],
      "text/markdown": [
       "\n",
       "A data.frame: 6 × 3\n",
       "\n",
       "| <!--/--> | TPR &lt;dbl&gt; | FPR &lt;dbl&gt; | Tool &lt;chr&gt; |\n",
       "|---|---|---|---|\n",
       "| 1 | 0.038961039 | 0.0035105316 | CellChat |\n",
       "| 2 | 0.008333333 | 0.0020000000 | CellChat |\n",
       "| 3 | 0.008333333 | 0.0015000000 | CellChat |\n",
       "| 4 | 0.000000000 | 0.0004997501 | CellChat |\n",
       "| 5 | 0.008438819 | 0.0025037556 | CellChat |\n",
       "| 6 | 0.017094017 | 0.0015000000 | CellChat |\n",
       "\n"
      ],
      "text/plain": [
       "  TPR         FPR          Tool    \n",
       "1 0.038961039 0.0035105316 CellChat\n",
       "2 0.008333333 0.0020000000 CellChat\n",
       "3 0.008333333 0.0015000000 CellChat\n",
       "4 0.000000000 0.0004997501 CellChat\n",
       "5 0.008438819 0.0025037556 CellChat\n",
       "6 0.017094017 0.0015000000 CellChat"
      ]
     },
     "metadata": {},
     "output_type": "display_data"
    }
   ],
   "source": [
    "roc <- rbind(ccroc,itroc,scsrroc,cciroc,scroc)\n",
    "tool <- rep(c(\"CellChat\",\"iTalk\",\"SingleCellSignalR\",\"CCInx\",\"scMLnet\"),each=56)\n",
    "roc[,\"Tool\"] <- tool\n",
    "head(roc)"
   ]
  },
  {
   "cell_type": "code",
   "execution_count": 31,
   "id": "f93df75e",
   "metadata": {},
   "outputs": [],
   "source": [
    "write.table(ssp,\"Result/sspR.txt\",sep=\"\\t\",quote = F)"
   ]
  },
  {
   "cell_type": "code",
   "execution_count": 32,
   "id": "0b0cccbf",
   "metadata": {},
   "outputs": [],
   "source": [
    "write.table(roc,\"Result/rocR.txt\",sep=\"\\t\",quote = F)"
   ]
  },
  {
   "cell_type": "markdown",
   "id": "be91c268",
   "metadata": {},
   "source": [
    "## 4. Cell-cell Interaction Prediction (Python tools)"
   ]
  },
  {
   "cell_type": "code",
   "execution_count": 13,
   "id": "2502f565",
   "metadata": {},
   "outputs": [],
   "source": [
    "source(\"https://raw.githubusercontent.com/mora-lab/cell-cell-interactions/main/benchmark-workflow/R/CellPhoneDB process.R\")\n",
    "source(\"https://raw.githubusercontent.com/mora-lab/cell-cell-interactions/main/benchmark-workflow/R/NATMI process.R\")\n",
    "# inputdata preparation\n",
    "for (sample in allsample){\n",
    "  seu <- readRDS(sample)\n",
    "  seu <- subset(seu, features = genes)\n",
    "  CellPhoneDB_process(seu,strsplit(strsplit(sample,split=\"/\")[[1]][3],split=\"\\\\.\")[[1]][1])\n",
    "  NATMI_process(seu,strsplit(strsplit(sample,split=\"/\")[[1]][3],split=\"\\\\.\")[[1]][1])\n",
    "}"
   ]
  },
  {
   "cell_type": "markdown",
   "id": "5057ba10",
   "metadata": {},
   "source": [
    "### Turn to Bash kernel:"
   ]
  },
  {
   "cell_type": "code",
   "execution_count": 1,
   "id": "c98a0ebc",
   "metadata": {},
   "outputs": [
    {
     "name": "stdout",
     "output_type": "stream",
     "text": [
      "\u001b[0m\u001b[01;34m010I\u001b[0m  \u001b[01;34m041I\u001b[0m  \u001b[01;34m138I\u001b[0m  \u001b[01;34m177I\u001b[0m  \u001b[01;34m221I\u001b[0m  \u001b[01;34m49I\u001b[0m     \u001b[01;34mSC153IPFLOW\u001b[0m  \u001b[01;34mSC94IPFUP\u001b[0m   \u001b[01;34mTILD028\u001b[0m  \u001b[01;34mVUILD64\u001b[0m\n",
      "\u001b[01;34m021I\u001b[0m  \u001b[01;34m051I\u001b[0m  \u001b[01;34m145I\u001b[0m  \u001b[01;34m179I\u001b[0m  \u001b[01;34m222I\u001b[0m  \u001b[01;34m59I\u001b[0m     \u001b[01;34mSC154IPFUP\u001b[0m   \u001b[01;34mSC95IPFLOW\u001b[0m  \u001b[01;34mVUILD53\u001b[0m  \u001b[01;34mVUILD65\u001b[0m\n",
      "\u001b[01;34m022I\u001b[0m  \u001b[01;34m053I\u001b[0m  \u001b[01;34m157I\u001b[0m  \u001b[01;34m209I\u001b[0m  \u001b[01;34m225I\u001b[0m  \u001b[01;34mIPF_01\u001b[0m  \u001b[01;34mSC87IPFLOW\u001b[0m   \u001b[01;34mTILD001\u001b[0m     \u001b[01;34mVUILD59\u001b[0m\n",
      "\u001b[01;34m025I\u001b[0m  \u001b[01;34m063I\u001b[0m  \u001b[01;34m158I\u001b[0m  \u001b[01;34m210I\u001b[0m  \u001b[01;34m228I\u001b[0m  \u001b[01;34mIPF_02\u001b[0m  \u001b[01;34mSC88IPFUP\u001b[0m    \u001b[01;34mTILD006\u001b[0m     \u001b[01;34mVUILD60\u001b[0m\n",
      "\u001b[01;34m034I\u001b[0m  \u001b[01;34m123I\u001b[0m  \u001b[01;34m166I\u001b[0m  \u001b[01;34m212I\u001b[0m  \u001b[01;34m29I\u001b[0m   \u001b[01;34mIPF_03\u001b[0m  \u001b[01;34mSC89IPFLOW\u001b[0m   \u001b[01;34mTILD010\u001b[0m     \u001b[01;34mVUILD61\u001b[0m\n",
      "\u001b[01;34m040I\u001b[0m  \u001b[01;34m135I\u001b[0m  \u001b[01;34m174I\u001b[0m  \u001b[01;34m214I\u001b[0m  \u001b[01;34m47I\u001b[0m   \u001b[01;34mIPF_04\u001b[0m  \u001b[01;34mSC93IPFLOW\u001b[0m   \u001b[01;34mTILD015\u001b[0m     \u001b[01;34mVUILD63\u001b[0m\n",
      "barcodes.tsv  features.tsv  matrix.mtx  meta.tsv\n"
     ]
    }
   ],
   "source": [
    "# CellPhoneDB\n",
    "ls Python/cpdb\n",
    "ls Python/cpdb/010I/"
   ]
  },
  {
   "cell_type": "code",
   "execution_count": 1,
   "id": "5b07b304",
   "metadata": {},
   "outputs": [
    {
     "name": "stdout",
     "output_type": "stream",
     "text": [
      "(cpdb) "
     ]
    },
    {
     "ename": "",
     "evalue": "1",
     "output_type": "error",
     "traceback": []
    }
   ],
   "source": [
    "source activate cpdb"
   ]
  },
  {
   "cell_type": "code",
   "execution_count": 2,
   "id": "c951e712",
   "metadata": {},
   "outputs": [
    {
     "name": "stdout",
     "output_type": "stream",
     "text": [
      "(cpdb) "
     ]
    },
    {
     "ename": "",
     "evalue": "1",
     "output_type": "error",
     "traceback": []
    }
   ],
   "source": [
    "for sample in Python/cpdb/*\n",
    "do\n",
    "\tcellphonedb method statistical_analysis $sample/meta.tsv $sample/ --counts-data hgnc_symbol --output-path $sample/out &>/dev/null\n",
    "done"
   ]
  },
  {
   "cell_type": "code",
   "execution_count": 4,
   "id": "a2e242c5",
   "metadata": {},
   "outputs": [
    {
     "name": "stdout",
     "output_type": "stream",
     "text": [
      "(cpdb) \u001b[0m\u001b[01;34m010I\u001b[0m  \u001b[01;34m041I\u001b[0m  \u001b[01;34m138I\u001b[0m  \u001b[01;34m177I\u001b[0m  \u001b[01;34m221I\u001b[0m  \u001b[01;34m49I\u001b[0m     \u001b[01;34mSC153IPFLOW\u001b[0m  \u001b[01;34mSC94IPFUP\u001b[0m   \u001b[01;34mTILD028\u001b[0m  \u001b[01;34mVUILD64\u001b[0m\n",
      "\u001b[01;34m021I\u001b[0m  \u001b[01;34m051I\u001b[0m  \u001b[01;34m145I\u001b[0m  \u001b[01;34m179I\u001b[0m  \u001b[01;34m222I\u001b[0m  \u001b[01;34m59I\u001b[0m     \u001b[01;34mSC154IPFUP\u001b[0m   \u001b[01;34mSC95IPFLOW\u001b[0m  \u001b[01;34mVUILD53\u001b[0m  \u001b[01;34mVUILD65\u001b[0m\n",
      "\u001b[01;34m022I\u001b[0m  \u001b[01;34m053I\u001b[0m  \u001b[01;34m157I\u001b[0m  \u001b[01;34m209I\u001b[0m  \u001b[01;34m225I\u001b[0m  \u001b[01;34mIPF_01\u001b[0m  \u001b[01;34mSC87IPFLOW\u001b[0m   \u001b[01;34mTILD001\u001b[0m     \u001b[01;34mVUILD59\u001b[0m\n",
      "\u001b[01;34m025I\u001b[0m  \u001b[01;34m063I\u001b[0m  \u001b[01;34m158I\u001b[0m  \u001b[01;34m210I\u001b[0m  \u001b[01;34m228I\u001b[0m  \u001b[01;34mIPF_02\u001b[0m  \u001b[01;34mSC88IPFUP\u001b[0m    \u001b[01;34mTILD006\u001b[0m     \u001b[01;34mVUILD60\u001b[0m\n",
      "\u001b[01;34m034I\u001b[0m  \u001b[01;34m123I\u001b[0m  \u001b[01;34m166I\u001b[0m  \u001b[01;34m212I\u001b[0m  \u001b[01;34m29I\u001b[0m   \u001b[01;34mIPF_03\u001b[0m  \u001b[01;34mSC89IPFLOW\u001b[0m   \u001b[01;34mTILD010\u001b[0m     \u001b[01;34mVUILD61\u001b[0m\n",
      "\u001b[01;34m040I\u001b[0m  \u001b[01;34m135I\u001b[0m  \u001b[01;34m174I\u001b[0m  \u001b[01;34m214I\u001b[0m  \u001b[01;34m47I\u001b[0m   \u001b[01;34mIPF_04\u001b[0m  \u001b[01;34mSC93IPFLOW\u001b[0m   \u001b[01;34mTILD015\u001b[0m     \u001b[01;34mVUILD63\u001b[0m\n",
      "(cpdb) ann.csv  em.csv\n",
      "(cpdb) "
     ]
    },
    {
     "ename": "",
     "evalue": "1",
     "output_type": "error",
     "traceback": []
    }
   ],
   "source": [
    "# NATMI\n",
    "ls Python/natmi\n",
    "ls Python/natmi/010I/"
   ]
  },
  {
   "cell_type": "code",
   "execution_count": 3,
   "id": "78e57ce9",
   "metadata": {},
   "outputs": [
    {
     "name": "stdout",
     "output_type": "stream",
     "text": [
      "(cpdb) "
     ]
    },
    {
     "ename": "",
     "evalue": "1",
     "output_type": "error",
     "traceback": []
    }
   ],
   "source": [
    "for sample in Python/natmi/*\n",
    "do\n",
    "\tdocker run --rm -it --name natmi -v /home/bioinformatics/Documents/Benchmark/$sample/:/opt/NATMI/workdir asrhou/natmi python ExtractEdges.py --emFile /opt/NATMI/workdir/em.csv --annFile /opt/NATMI/workdir/ann.csv --interDB lrc2p --out /opt/NATMI/workdir/out &>/dev/null\n",
    "done"
   ]
  },
  {
   "cell_type": "code",
   "execution_count": 4,
   "id": "bda38928",
   "metadata": {},
   "outputs": [
    {
     "name": "stdout",
     "output_type": "stream",
     "text": [
      "(cpdb) "
     ]
    },
    {
     "ename": "",
     "evalue": "1",
     "output_type": "error",
     "traceback": []
    }
   ],
   "source": [
    "for sample in Python/natmi/*\n",
    "do\n",
    "\tdocker run --rm -it --name natmi -v /home/bioinformatics/Documents/Benchmark/$sample/:/opt/NATMI/workdir asrhou/natmi python VisInteractions.py --sourceFolder /opt/NATMI/workdir/out --interDB lrc2p --weightType mean --detectionThreshold 0.2 &>/dev/null\n",
    "done"
   ]
  },
  {
   "cell_type": "markdown",
   "id": "90c002eb",
   "metadata": {},
   "source": [
    "### Turn back to R kernel:"
   ]
  },
  {
   "cell_type": "code",
   "execution_count": 55,
   "id": "3448cd90",
   "metadata": {},
   "outputs": [],
   "source": [
    "suppressPackageStartupMessages(library(Seurat))\n",
    "suppressPackageStartupMessages(library(dplyr))\n",
    "suppressPackageStartupMessages(library(patchwork))\n",
    "suppressPackageStartupMessages(library(Matrix))\n",
    "suppressPackageStartupMessages(library(parallel))\n",
    "source(\"https://raw.githubusercontent.com/mora-lab/cell-cell-interactions/main/benchmark-workflow/R/run_CellPhoneDB.R\")\n",
    "source(\"https://raw.githubusercontent.com/mora-lab/cell-cell-interactions/main/benchmark-workflow/R/run_NATMI.R\")\n",
    "source(\"https://raw.githubusercontent.com/mora-lab/cell-cell-interactions/main/benchmark-workflow/R/CellPhoneDB_SSP_calculation.R\")\n",
    "source(\"https://raw.githubusercontent.com/mora-lab/cell-cell-interactions/main/benchmark-workflow/R/NATMI_SSP_calculation.R\")\n",
    "gold <- read.table(\"https://raw.githubusercontent.com/mora-lab/cell-cell-interactions/main/benchmark-workflow/data/IPF gold standard.txt\", header = TRUE, sep = \"\\t\")\n",
    "genes <- unique(c(gold$ligand, gold$receptor))\n",
    "allsample <- c(paste(\"Dataset/GSE122960/\",list.files(\"Dataset/GSE122960/\"),sep=\"\"), \n",
    "               paste(\"Dataset/GSE128033/\",list.files(\"Dataset/GSE128033/\"),sep=\"\"), \n",
    "               paste(\"Dataset/GSE135893/\",list.files(\"Dataset/GSE135893/\"),sep=\"\"), \n",
    "               paste(\"Dataset/GSE136831/\",list.files(\"Dataset/GSE136831/\"),sep=\"\"))"
   ]
  },
  {
   "cell_type": "code",
   "execution_count": 10,
   "id": "b6afe670",
   "metadata": {
    "scrolled": true
   },
   "outputs": [
    {
     "name": "stdout",
     "output_type": "stream",
     "text": [
      "[1] \"Total predicted L-R pairs: 72\"\n",
      "[1] \"Total predicted L-R pairs: 64\"\n",
      "[1] \"Total predicted L-R pairs: 68\"\n",
      "[1] \"Total predicted L-R pairs: 5\"\n",
      "[1] \"Total predicted L-R pairs: 40\"\n",
      "[1] \"Total predicted L-R pairs: 25\"\n",
      "[1] \"Total predicted L-R pairs: 51\"\n",
      "[1] \"Total predicted L-R pairs: 35\"\n",
      "[1] \"Total predicted L-R pairs: 55\"\n",
      "[1] \"Total predicted L-R pairs: 63\"\n",
      "[1] \"Total predicted L-R pairs: 26\"\n",
      "[1] \"Total predicted L-R pairs: 68\"\n",
      "[1] \"Total predicted L-R pairs: 62\"\n",
      "[1] \"Total predicted L-R pairs: 18\"\n",
      "[1] \"Total predicted L-R pairs: 40\"\n",
      "[1] \"Total predicted L-R pairs: 80\"\n",
      "[1] \"Total predicted L-R pairs: 46\"\n",
      "[1] \"Total predicted L-R pairs: 26\"\n",
      "[1] \"Total predicted L-R pairs: 41\"\n",
      "[1] \"Total predicted L-R pairs: 37\"\n",
      "[1] \"Total predicted L-R pairs: 50\"\n",
      "[1] \"Total predicted L-R pairs: 25\"\n",
      "[1] \"Total predicted L-R pairs: 45\"\n",
      "[1] \"Total predicted L-R pairs: 14\"\n",
      "[1] \"Total predicted L-R pairs: 84\"\n",
      "[1] \"Total predicted L-R pairs: 74\"\n",
      "[1] \"Total predicted L-R pairs: 84\"\n",
      "[1] \"Total predicted L-R pairs: 29\"\n",
      "[1] \"Total predicted L-R pairs: 54\"\n",
      "[1] \"Total predicted L-R pairs: 83\"\n",
      "[1] \"Total predicted L-R pairs: 58\"\n",
      "[1] \"Total predicted L-R pairs: 58\"\n",
      "[1] \"Total predicted L-R pairs: 34\"\n",
      "[1] \"Total predicted L-R pairs: 36\"\n",
      "[1] \"Total predicted L-R pairs: 25\"\n",
      "[1] \"Total predicted L-R pairs: 52\"\n",
      "[1] \"Total predicted L-R pairs: 75\"\n",
      "[1] \"Total predicted L-R pairs: 62\"\n",
      "[1] \"Total predicted L-R pairs: 54\"\n",
      "[1] \"Total predicted L-R pairs: 45\"\n",
      "[1] \"Total predicted L-R pairs: 36\"\n",
      "[1] \"Total predicted L-R pairs: 59\"\n",
      "[1] \"Total predicted L-R pairs: 34\"\n",
      "[1] \"Total predicted L-R pairs: 47\"\n",
      "[1] \"Total predicted L-R pairs: 33\"\n",
      "[1] \"Total predicted L-R pairs: 33\"\n",
      "[1] \"Total predicted L-R pairs: 32\"\n",
      "[1] \"Total predicted L-R pairs: 18\"\n",
      "[1] \"Total predicted L-R pairs: 33\"\n",
      "[1] \"Total predicted L-R pairs: 56\"\n",
      "[1] \"Total predicted L-R pairs: 55\"\n",
      "[1] \"Total predicted L-R pairs: 35\"\n",
      "[1] \"Total predicted L-R pairs: 80\"\n",
      "[1] \"Total predicted L-R pairs: 31\"\n",
      "[1] \"Total predicted L-R pairs: 44\"\n",
      "[1] \"Total predicted L-R pairs: 56\"\n"
     ]
    }
   ],
   "source": [
    "# CellPhoneDB (threshold: pvalues < 0.05)\n",
    "cpdblrpairs <- list()\n",
    "cpdbssp <- data.frame()\n",
    "cpdbroc <- data.frame()\n",
    "for (sample in allsample){\n",
    "  seu <- readRDS(sample)\n",
    "  seu <- subset(seu, features = genes)\n",
    "  samplename <- strsplit(strsplit(sample,split=\"/\")[[1]][3],split=\"\\\\.\")[[1]][1]\n",
    "  cc <- run_CellPhoneDB_output(samplename)\n",
    "  cpdblrpairs[[sample]] <- cc\n",
    "  result <- run_CellPhoneDB_SSP(cc,seu,gold)\n",
    "  cpdbroc <- rbind(cpdbroc, result[[\"ROC\"]])\n",
    "  cpdbssp <- rbind(cpdbssp, result[[\"SSP\"]])\n",
    "}"
   ]
  },
  {
   "cell_type": "code",
   "execution_count": 5,
   "id": "d177e3b9",
   "metadata": {},
   "outputs": [
    {
     "data": {
      "text/html": [
       "<table class=\"dataframe\">\n",
       "<caption>A data.frame: 6 × 4</caption>\n",
       "<thead>\n",
       "\t<tr><th></th><th scope=col>cellA</th><th scope=col>cellB</th><th scope=col>geneA</th><th scope=col>geneB</th></tr>\n",
       "\t<tr><th></th><th scope=col>&lt;chr&gt;</th><th scope=col>&lt;chr&gt;</th><th scope=col>&lt;chr&gt;</th><th scope=col>&lt;chr&gt;</th></tr>\n",
       "</thead>\n",
       "<tbody>\n",
       "\t<tr><th scope=row>1</th><td>AT1        </td><td>Endothelial</td><td>TGFB1</td><td>TGFBR3</td></tr>\n",
       "\t<tr><th scope=row>2</th><td>AT1        </td><td>Fibroblast </td><td>PDGFA</td><td>PDGFRA</td></tr>\n",
       "\t<tr><th scope=row>3</th><td>AT2        </td><td>Endothelial</td><td>TGFB1</td><td>TGFBR3</td></tr>\n",
       "\t<tr><th scope=row>4</th><td>AT2        </td><td>Fibroblast </td><td>PDGFA</td><td>PDGFRA</td></tr>\n",
       "\t<tr><th scope=row>5</th><td>Endothelial</td><td>Endothelial</td><td>TGFB1</td><td>TGFBR3</td></tr>\n",
       "\t<tr><th scope=row>6</th><td>Endothelial</td><td>Fibroblast </td><td>PDGFB</td><td>PDGFRB</td></tr>\n",
       "</tbody>\n",
       "</table>\n"
      ],
      "text/latex": [
       "A data.frame: 6 × 4\n",
       "\\begin{tabular}{r|llll}\n",
       "  & cellA & cellB & geneA & geneB\\\\\n",
       "  & <chr> & <chr> & <chr> & <chr>\\\\\n",
       "\\hline\n",
       "\t1 & AT1         & Endothelial & TGFB1 & TGFBR3\\\\\n",
       "\t2 & AT1         & Fibroblast  & PDGFA & PDGFRA\\\\\n",
       "\t3 & AT2         & Endothelial & TGFB1 & TGFBR3\\\\\n",
       "\t4 & AT2         & Fibroblast  & PDGFA & PDGFRA\\\\\n",
       "\t5 & Endothelial & Endothelial & TGFB1 & TGFBR3\\\\\n",
       "\t6 & Endothelial & Fibroblast  & PDGFB & PDGFRB\\\\\n",
       "\\end{tabular}\n"
      ],
      "text/markdown": [
       "\n",
       "A data.frame: 6 × 4\n",
       "\n",
       "| <!--/--> | cellA &lt;chr&gt; | cellB &lt;chr&gt; | geneA &lt;chr&gt; | geneB &lt;chr&gt; |\n",
       "|---|---|---|---|---|\n",
       "| 1 | AT1         | Endothelial | TGFB1 | TGFBR3 |\n",
       "| 2 | AT1         | Fibroblast  | PDGFA | PDGFRA |\n",
       "| 3 | AT2         | Endothelial | TGFB1 | TGFBR3 |\n",
       "| 4 | AT2         | Fibroblast  | PDGFA | PDGFRA |\n",
       "| 5 | Endothelial | Endothelial | TGFB1 | TGFBR3 |\n",
       "| 6 | Endothelial | Fibroblast  | PDGFB | PDGFRB |\n",
       "\n"
      ],
      "text/plain": [
       "  cellA       cellB       geneA geneB \n",
       "1 AT1         Endothelial TGFB1 TGFBR3\n",
       "2 AT1         Fibroblast  PDGFA PDGFRA\n",
       "3 AT2         Endothelial TGFB1 TGFBR3\n",
       "4 AT2         Fibroblast  PDGFA PDGFRA\n",
       "5 Endothelial Endothelial TGFB1 TGFBR3\n",
       "6 Endothelial Fibroblast  PDGFB PDGFRB"
      ]
     },
     "metadata": {},
     "output_type": "display_data"
    },
    {
     "data": {
      "text/html": [
       "<table class=\"dataframe\">\n",
       "<caption>A data.frame: 6 × 3</caption>\n",
       "<thead>\n",
       "\t<tr><th></th><th scope=col>Accuracy</th><th scope=col>Sensitivity</th><th scope=col>Specificity</th></tr>\n",
       "\t<tr><th></th><th scope=col>&lt;dbl&gt;</th><th scope=col>&lt;dbl&gt;</th><th scope=col>&lt;dbl&gt;</th></tr>\n",
       "</thead>\n",
       "<tbody>\n",
       "\t<tr><th scope=row>1</th><td>0.9101562</td><td>0.14673913</td><td>0.9787234</td></tr>\n",
       "\t<tr><th scope=row>2</th><td>0.9118924</td><td>0.13586957</td><td>0.9815603</td></tr>\n",
       "\t<tr><th scope=row>3</th><td>0.9114583</td><td>0.13978495</td><td>0.9801512</td></tr>\n",
       "\t<tr><th scope=row>4</th><td>0.9188368</td><td>0.01604278</td><td>0.9990548</td></tr>\n",
       "\t<tr><th scope=row>5</th><td>0.9092882</td><td>0.05945946</td><td>0.9862754</td></tr>\n",
       "\t<tr><th scope=row>6</th><td>0.9140625</td><td>0.04301075</td><td>0.9919622</td></tr>\n",
       "</tbody>\n",
       "</table>\n"
      ],
      "text/latex": [
       "A data.frame: 6 × 3\n",
       "\\begin{tabular}{r|lll}\n",
       "  & Accuracy & Sensitivity & Specificity\\\\\n",
       "  & <dbl> & <dbl> & <dbl>\\\\\n",
       "\\hline\n",
       "\t1 & 0.9101562 & 0.14673913 & 0.9787234\\\\\n",
       "\t2 & 0.9118924 & 0.13586957 & 0.9815603\\\\\n",
       "\t3 & 0.9114583 & 0.13978495 & 0.9801512\\\\\n",
       "\t4 & 0.9188368 & 0.01604278 & 0.9990548\\\\\n",
       "\t5 & 0.9092882 & 0.05945946 & 0.9862754\\\\\n",
       "\t6 & 0.9140625 & 0.04301075 & 0.9919622\\\\\n",
       "\\end{tabular}\n"
      ],
      "text/markdown": [
       "\n",
       "A data.frame: 6 × 3\n",
       "\n",
       "| <!--/--> | Accuracy &lt;dbl&gt; | Sensitivity &lt;dbl&gt; | Specificity &lt;dbl&gt; |\n",
       "|---|---|---|---|\n",
       "| 1 | 0.9101562 | 0.14673913 | 0.9787234 |\n",
       "| 2 | 0.9118924 | 0.13586957 | 0.9815603 |\n",
       "| 3 | 0.9114583 | 0.13978495 | 0.9801512 |\n",
       "| 4 | 0.9188368 | 0.01604278 | 0.9990548 |\n",
       "| 5 | 0.9092882 | 0.05945946 | 0.9862754 |\n",
       "| 6 | 0.9140625 | 0.04301075 | 0.9919622 |\n",
       "\n"
      ],
      "text/plain": [
       "  Accuracy  Sensitivity Specificity\n",
       "1 0.9101562 0.14673913  0.9787234  \n",
       "2 0.9118924 0.13586957  0.9815603  \n",
       "3 0.9114583 0.13978495  0.9801512  \n",
       "4 0.9188368 0.01604278  0.9990548  \n",
       "5 0.9092882 0.05945946  0.9862754  \n",
       "6 0.9140625 0.04301075  0.9919622  "
      ]
     },
     "metadata": {},
     "output_type": "display_data"
    },
    {
     "data": {
      "text/html": [
       "<table class=\"dataframe\">\n",
       "<caption>A data.frame: 6 × 2</caption>\n",
       "<thead>\n",
       "\t<tr><th></th><th scope=col>TPR</th><th scope=col>FPR</th></tr>\n",
       "\t<tr><th></th><th scope=col>&lt;dbl&gt;</th><th scope=col>&lt;dbl&gt;</th></tr>\n",
       "</thead>\n",
       "<tbody>\n",
       "\t<tr><th scope=row>1</th><td>0.14673913</td><td>0.0212765957</td></tr>\n",
       "\t<tr><th scope=row>2</th><td>0.13586957</td><td>0.0184397163</td></tr>\n",
       "\t<tr><th scope=row>3</th><td>0.13978495</td><td>0.0198487713</td></tr>\n",
       "\t<tr><th scope=row>4</th><td>0.01604278</td><td>0.0009451796</td></tr>\n",
       "\t<tr><th scope=row>5</th><td>0.05945946</td><td>0.0137245622</td></tr>\n",
       "\t<tr><th scope=row>6</th><td>0.04301075</td><td>0.0080378251</td></tr>\n",
       "</tbody>\n",
       "</table>\n"
      ],
      "text/latex": [
       "A data.frame: 6 × 2\n",
       "\\begin{tabular}{r|ll}\n",
       "  & TPR & FPR\\\\\n",
       "  & <dbl> & <dbl>\\\\\n",
       "\\hline\n",
       "\t1 & 0.14673913 & 0.0212765957\\\\\n",
       "\t2 & 0.13586957 & 0.0184397163\\\\\n",
       "\t3 & 0.13978495 & 0.0198487713\\\\\n",
       "\t4 & 0.01604278 & 0.0009451796\\\\\n",
       "\t5 & 0.05945946 & 0.0137245622\\\\\n",
       "\t6 & 0.04301075 & 0.0080378251\\\\\n",
       "\\end{tabular}\n"
      ],
      "text/markdown": [
       "\n",
       "A data.frame: 6 × 2\n",
       "\n",
       "| <!--/--> | TPR &lt;dbl&gt; | FPR &lt;dbl&gt; |\n",
       "|---|---|---|\n",
       "| 1 | 0.14673913 | 0.0212765957 |\n",
       "| 2 | 0.13586957 | 0.0184397163 |\n",
       "| 3 | 0.13978495 | 0.0198487713 |\n",
       "| 4 | 0.01604278 | 0.0009451796 |\n",
       "| 5 | 0.05945946 | 0.0137245622 |\n",
       "| 6 | 0.04301075 | 0.0080378251 |\n",
       "\n"
      ],
      "text/plain": [
       "  TPR        FPR         \n",
       "1 0.14673913 0.0212765957\n",
       "2 0.13586957 0.0184397163\n",
       "3 0.13978495 0.0198487713\n",
       "4 0.01604278 0.0009451796\n",
       "5 0.05945946 0.0137245622\n",
       "6 0.04301075 0.0080378251"
      ]
     },
     "metadata": {},
     "output_type": "display_data"
    }
   ],
   "source": [
    "head(cpdblrpairs[[1]])\n",
    "head(cpdbssp)\n",
    "head(cpdbroc)"
   ]
  },
  {
   "cell_type": "code",
   "execution_count": 56,
   "id": "8df382b6",
   "metadata": {
    "scrolled": true
   },
   "outputs": [
    {
     "name": "stdout",
     "output_type": "stream",
     "text": [
      "[1] \"Total predicted L-R pairs: 148\"\n",
      "[1] \"Total predicted L-R pairs: 66\"\n",
      "[1] \"Total predicted L-R pairs: 131\"\n",
      "[1] \"Total predicted L-R pairs: 0\"\n",
      "[1] \"Total predicted L-R pairs: 64\"\n",
      "[1] \"Total predicted L-R pairs: 71\"\n",
      "[1] \"Total predicted L-R pairs: 73\"\n",
      "[1] \"Total predicted L-R pairs: 51\"\n",
      "[1] \"Total predicted L-R pairs: 89\"\n",
      "[1] \"Total predicted L-R pairs: 90\"\n",
      "[1] \"Total predicted L-R pairs: 69\"\n",
      "[1] \"Total predicted L-R pairs: 98\"\n",
      "[1] \"Total predicted L-R pairs: 144\"\n",
      "[1] \"Total predicted L-R pairs: 23\"\n",
      "[1] \"Total predicted L-R pairs: 107\"\n",
      "[1] \"Total predicted L-R pairs: 178\"\n",
      "[1] \"Total predicted L-R pairs: 124\"\n",
      "[1] \"Total predicted L-R pairs: 81\"\n",
      "[1] \"Total predicted L-R pairs: 74\"\n",
      "[1] \"Total predicted L-R pairs: 105\"\n",
      "[1] \"Total predicted L-R pairs: 113\"\n",
      "[1] \"Total predicted L-R pairs: 66\"\n",
      "[1] \"Total predicted L-R pairs: 130\"\n",
      "[1] \"Total predicted L-R pairs: 54\"\n",
      "[1] \"Total predicted L-R pairs: 160\"\n",
      "[1] \"Total predicted L-R pairs: 185\"\n",
      "[1] \"Total predicted L-R pairs: 122\"\n",
      "[1] \"Total predicted L-R pairs: 77\"\n",
      "[1] \"Total predicted L-R pairs: 187\"\n",
      "[1] \"Total predicted L-R pairs: 155\"\n",
      "[1] \"Total predicted L-R pairs: 152\"\n",
      "[1] \"Total predicted L-R pairs: 127\"\n",
      "[1] \"Total predicted L-R pairs: 102\"\n",
      "[1] \"Total predicted L-R pairs: 100\"\n",
      "[1] \"Total predicted L-R pairs: 71\"\n",
      "[1] \"Total predicted L-R pairs: 180\"\n",
      "[1] \"Total predicted L-R pairs: 196\"\n",
      "[1] \"Total predicted L-R pairs: 95\"\n",
      "[1] \"Total predicted L-R pairs: 150\"\n",
      "[1] \"Total predicted L-R pairs: 109\"\n",
      "[1] \"Total predicted L-R pairs: 91\"\n",
      "[1] \"Total predicted L-R pairs: 147\"\n",
      "[1] \"Total predicted L-R pairs: 62\"\n",
      "[1] \"Total predicted L-R pairs: 115\"\n",
      "[1] \"Total predicted L-R pairs: 106\"\n",
      "[1] \"Total predicted L-R pairs: 88\"\n",
      "[1] \"Total predicted L-R pairs: 104\"\n",
      "[1] \"Total predicted L-R pairs: 81\"\n",
      "[1] \"Total predicted L-R pairs: 75\"\n",
      "[1] \"Total predicted L-R pairs: 143\"\n",
      "[1] \"Total predicted L-R pairs: 128\"\n",
      "[1] \"Total predicted L-R pairs: 77\"\n",
      "[1] \"Total predicted L-R pairs: 163\"\n",
      "[1] \"Total predicted L-R pairs: 104\"\n",
      "[1] \"Total predicted L-R pairs: 107\"\n",
      "[1] \"Total predicted L-R pairs: 144\"\n"
     ]
    }
   ],
   "source": [
    "# NATMI (threshold: do not draw the interactions in which detection rates of the ligand and the receptor are lower than the threshold (default 0.2))\n",
    "nmlrpairs <- list()\n",
    "nmssp <- data.frame()\n",
    "nmroc <- data.frame()\n",
    "for (sample in allsample){\n",
    "  seu <- readRDS(sample)\n",
    "  seu <- subset(seu, features = genes)\n",
    "  samplename <- strsplit(strsplit(sample,split=\"/\")[[1]][3],split=\"\\\\.\")[[1]][1]\n",
    "  cc <- run_NATMI_output(samplename)\n",
    "  nmlrpairs[[sample]] <- cc\n",
    "  result <- run_NATMI_SSP(cc,seu,gold)\n",
    "  nmroc <- rbind(nmroc, result[[\"ROC\"]])\n",
    "  nmssp <- rbind(nmssp, result[[\"SSP\"]])\n",
    "}"
   ]
  },
  {
   "cell_type": "code",
   "execution_count": 8,
   "id": "566847d7",
   "metadata": {},
   "outputs": [
    {
     "data": {
      "text/html": [
       "<table class=\"dataframe\">\n",
       "<caption>A data.frame: 6 × 4</caption>\n",
       "<thead>\n",
       "\t<tr><th></th><th scope=col>source</th><th scope=col>target</th><th scope=col>ligand</th><th scope=col>receptor</th></tr>\n",
       "\t<tr><th></th><th scope=col>&lt;chr&gt;</th><th scope=col>&lt;chr&gt;</th><th scope=col>&lt;chr&gt;</th><th scope=col>&lt;chr&gt;</th></tr>\n",
       "</thead>\n",
       "<tbody>\n",
       "\t<tr><th scope=row>1</th><td>AT1       </td><td>Macrophage</td><td>CCL2</td><td>CCR1</td></tr>\n",
       "\t<tr><th scope=row>2</th><td>AT1       </td><td>Monocyte  </td><td>CCL2</td><td>CCR1</td></tr>\n",
       "\t<tr><th scope=row>3</th><td>Fibroblast</td><td>Macrophage</td><td>CCL2</td><td>CCR1</td></tr>\n",
       "\t<tr><th scope=row>4</th><td>Fibroblast</td><td>Monocyte  </td><td>CCL2</td><td>CCR1</td></tr>\n",
       "\t<tr><th scope=row>5</th><td>Macrophage</td><td>Macrophage</td><td>CCL2</td><td>CCR1</td></tr>\n",
       "\t<tr><th scope=row>6</th><td>Macrophage</td><td>Monocyte  </td><td>CCL2</td><td>CCR1</td></tr>\n",
       "</tbody>\n",
       "</table>\n"
      ],
      "text/latex": [
       "A data.frame: 6 × 4\n",
       "\\begin{tabular}{r|llll}\n",
       "  & source & target & ligand & receptor\\\\\n",
       "  & <chr> & <chr> & <chr> & <chr>\\\\\n",
       "\\hline\n",
       "\t1 & AT1        & Macrophage & CCL2 & CCR1\\\\\n",
       "\t2 & AT1        & Monocyte   & CCL2 & CCR1\\\\\n",
       "\t3 & Fibroblast & Macrophage & CCL2 & CCR1\\\\\n",
       "\t4 & Fibroblast & Monocyte   & CCL2 & CCR1\\\\\n",
       "\t5 & Macrophage & Macrophage & CCL2 & CCR1\\\\\n",
       "\t6 & Macrophage & Monocyte   & CCL2 & CCR1\\\\\n",
       "\\end{tabular}\n"
      ],
      "text/markdown": [
       "\n",
       "A data.frame: 6 × 4\n",
       "\n",
       "| <!--/--> | source &lt;chr&gt; | target &lt;chr&gt; | ligand &lt;chr&gt; | receptor &lt;chr&gt; |\n",
       "|---|---|---|---|---|\n",
       "| 1 | AT1        | Macrophage | CCL2 | CCR1 |\n",
       "| 2 | AT1        | Monocyte   | CCL2 | CCR1 |\n",
       "| 3 | Fibroblast | Macrophage | CCL2 | CCR1 |\n",
       "| 4 | Fibroblast | Monocyte   | CCL2 | CCR1 |\n",
       "| 5 | Macrophage | Macrophage | CCL2 | CCR1 |\n",
       "| 6 | Macrophage | Monocyte   | CCL2 | CCR1 |\n",
       "\n"
      ],
      "text/plain": [
       "  source     target     ligand receptor\n",
       "1 AT1        Macrophage CCL2   CCR1    \n",
       "2 AT1        Monocyte   CCL2   CCR1    \n",
       "3 Fibroblast Macrophage CCL2   CCR1    \n",
       "4 Fibroblast Monocyte   CCL2   CCR1    \n",
       "5 Macrophage Macrophage CCL2   CCR1    \n",
       "6 Macrophage Monocyte   CCL2   CCR1    "
      ]
     },
     "metadata": {},
     "output_type": "display_data"
    },
    {
     "data": {
      "text/html": [
       "<table class=\"dataframe\">\n",
       "<caption>A data.frame: 6 × 3</caption>\n",
       "<thead>\n",
       "\t<tr><th></th><th scope=col>Accuracy</th><th scope=col>Sensitivity</th><th scope=col>Specificity</th></tr>\n",
       "\t<tr><th></th><th scope=col>&lt;dbl&gt;</th><th scope=col>&lt;dbl&gt;</th><th scope=col>&lt;dbl&gt;</th></tr>\n",
       "</thead>\n",
       "<tbody>\n",
       "\t<tr><th scope=row>1</th><td>0.9026786</td><td>0.30978261</td><td>0.9557393</td></tr>\n",
       "\t<tr><th scope=row>2</th><td>0.9116071</td><td>0.14130435</td><td>0.9805447</td></tr>\n",
       "\t<tr><th scope=row>3</th><td>0.9013393</td><td>0.25543478</td><td>0.9591440</td></tr>\n",
       "\t<tr><th scope=row>4</th><td>0.9178571</td><td>0.00000000</td><td>0.9995139</td></tr>\n",
       "\t<tr><th scope=row>5</th><td>0.9035714</td><td>0.08695652</td><td>0.9766537</td></tr>\n",
       "\t<tr><th scope=row>6</th><td>0.9049107</td><td>0.11413043</td><td>0.9756809</td></tr>\n",
       "</tbody>\n",
       "</table>\n"
      ],
      "text/latex": [
       "A data.frame: 6 × 3\n",
       "\\begin{tabular}{r|lll}\n",
       "  & Accuracy & Sensitivity & Specificity\\\\\n",
       "  & <dbl> & <dbl> & <dbl>\\\\\n",
       "\\hline\n",
       "\t1 & 0.9026786 & 0.30978261 & 0.9557393\\\\\n",
       "\t2 & 0.9116071 & 0.14130435 & 0.9805447\\\\\n",
       "\t3 & 0.9013393 & 0.25543478 & 0.9591440\\\\\n",
       "\t4 & 0.9178571 & 0.00000000 & 0.9995139\\\\\n",
       "\t5 & 0.9035714 & 0.08695652 & 0.9766537\\\\\n",
       "\t6 & 0.9049107 & 0.11413043 & 0.9756809\\\\\n",
       "\\end{tabular}\n"
      ],
      "text/markdown": [
       "\n",
       "A data.frame: 6 × 3\n",
       "\n",
       "| <!--/--> | Accuracy &lt;dbl&gt; | Sensitivity &lt;dbl&gt; | Specificity &lt;dbl&gt; |\n",
       "|---|---|---|---|\n",
       "| 1 | 0.9026786 | 0.30978261 | 0.9557393 |\n",
       "| 2 | 0.9116071 | 0.14130435 | 0.9805447 |\n",
       "| 3 | 0.9013393 | 0.25543478 | 0.9591440 |\n",
       "| 4 | 0.9178571 | 0.00000000 | 0.9995139 |\n",
       "| 5 | 0.9035714 | 0.08695652 | 0.9766537 |\n",
       "| 6 | 0.9049107 | 0.11413043 | 0.9756809 |\n",
       "\n"
      ],
      "text/plain": [
       "  Accuracy  Sensitivity Specificity\n",
       "1 0.9026786 0.30978261  0.9557393  \n",
       "2 0.9116071 0.14130435  0.9805447  \n",
       "3 0.9013393 0.25543478  0.9591440  \n",
       "4 0.9178571 0.00000000  0.9995139  \n",
       "5 0.9035714 0.08695652  0.9766537  \n",
       "6 0.9049107 0.11413043  0.9756809  "
      ]
     },
     "metadata": {},
     "output_type": "display_data"
    },
    {
     "data": {
      "text/html": [
       "<table class=\"dataframe\">\n",
       "<caption>A data.frame: 6 × 2</caption>\n",
       "<thead>\n",
       "\t<tr><th></th><th scope=col>TPR</th><th scope=col>FPR</th></tr>\n",
       "\t<tr><th></th><th scope=col>&lt;dbl&gt;</th><th scope=col>&lt;dbl&gt;</th></tr>\n",
       "</thead>\n",
       "<tbody>\n",
       "\t<tr><th scope=row>1</th><td>0.30978261</td><td>0.0442607004</td></tr>\n",
       "\t<tr><th scope=row>2</th><td>0.14130435</td><td>0.0194552529</td></tr>\n",
       "\t<tr><th scope=row>3</th><td>0.25543478</td><td>0.0408560311</td></tr>\n",
       "\t<tr><th scope=row>4</th><td>0.00000000</td><td>0.0004861449</td></tr>\n",
       "\t<tr><th scope=row>5</th><td>0.08695652</td><td>0.0233463035</td></tr>\n",
       "\t<tr><th scope=row>6</th><td>0.11413043</td><td>0.0243190661</td></tr>\n",
       "</tbody>\n",
       "</table>\n"
      ],
      "text/latex": [
       "A data.frame: 6 × 2\n",
       "\\begin{tabular}{r|ll}\n",
       "  & TPR & FPR\\\\\n",
       "  & <dbl> & <dbl>\\\\\n",
       "\\hline\n",
       "\t1 & 0.30978261 & 0.0442607004\\\\\n",
       "\t2 & 0.14130435 & 0.0194552529\\\\\n",
       "\t3 & 0.25543478 & 0.0408560311\\\\\n",
       "\t4 & 0.00000000 & 0.0004861449\\\\\n",
       "\t5 & 0.08695652 & 0.0233463035\\\\\n",
       "\t6 & 0.11413043 & 0.0243190661\\\\\n",
       "\\end{tabular}\n"
      ],
      "text/markdown": [
       "\n",
       "A data.frame: 6 × 2\n",
       "\n",
       "| <!--/--> | TPR &lt;dbl&gt; | FPR &lt;dbl&gt; |\n",
       "|---|---|---|\n",
       "| 1 | 0.30978261 | 0.0442607004 |\n",
       "| 2 | 0.14130435 | 0.0194552529 |\n",
       "| 3 | 0.25543478 | 0.0408560311 |\n",
       "| 4 | 0.00000000 | 0.0004861449 |\n",
       "| 5 | 0.08695652 | 0.0233463035 |\n",
       "| 6 | 0.11413043 | 0.0243190661 |\n",
       "\n"
      ],
      "text/plain": [
       "  TPR        FPR         \n",
       "1 0.30978261 0.0442607004\n",
       "2 0.14130435 0.0194552529\n",
       "3 0.25543478 0.0408560311\n",
       "4 0.00000000 0.0004861449\n",
       "5 0.08695652 0.0233463035\n",
       "6 0.11413043 0.0243190661"
      ]
     },
     "metadata": {},
     "output_type": "display_data"
    }
   ],
   "source": [
    "head(nmlrpairs[[1]])\n",
    "head(nmssp)\n",
    "head(nmroc)"
   ]
  },
  {
   "cell_type": "markdown",
   "id": "75ca013c",
   "metadata": {},
   "source": [
    "## 5. Save SSP and ROC Results (Python tools)"
   ]
  },
  {
   "cell_type": "code",
   "execution_count": 11,
   "id": "d5b1b0d3",
   "metadata": {},
   "outputs": [
    {
     "data": {
      "text/html": [
       "<table class=\"dataframe\">\n",
       "<caption>A data.frame: 6 × 4</caption>\n",
       "<thead>\n",
       "\t<tr><th></th><th scope=col>Accuracy</th><th scope=col>Sensitivity</th><th scope=col>Specificity</th><th scope=col>Tool</th></tr>\n",
       "\t<tr><th></th><th scope=col>&lt;dbl&gt;</th><th scope=col>&lt;dbl&gt;</th><th scope=col>&lt;dbl&gt;</th><th scope=col>&lt;chr&gt;</th></tr>\n",
       "</thead>\n",
       "<tbody>\n",
       "\t<tr><th scope=row>1</th><td>0.9101562</td><td>0.14673913</td><td>0.9787234</td><td>CellPhoneDB</td></tr>\n",
       "\t<tr><th scope=row>2</th><td>0.9118924</td><td>0.13586957</td><td>0.9815603</td><td>CellPhoneDB</td></tr>\n",
       "\t<tr><th scope=row>3</th><td>0.9114583</td><td>0.13978495</td><td>0.9801512</td><td>CellPhoneDB</td></tr>\n",
       "\t<tr><th scope=row>4</th><td>0.9188368</td><td>0.01604278</td><td>0.9990548</td><td>CellPhoneDB</td></tr>\n",
       "\t<tr><th scope=row>5</th><td>0.9092882</td><td>0.05945946</td><td>0.9862754</td><td>CellPhoneDB</td></tr>\n",
       "\t<tr><th scope=row>6</th><td>0.9140625</td><td>0.04301075</td><td>0.9919622</td><td>CellPhoneDB</td></tr>\n",
       "</tbody>\n",
       "</table>\n"
      ],
      "text/latex": [
       "A data.frame: 6 × 4\n",
       "\\begin{tabular}{r|llll}\n",
       "  & Accuracy & Sensitivity & Specificity & Tool\\\\\n",
       "  & <dbl> & <dbl> & <dbl> & <chr>\\\\\n",
       "\\hline\n",
       "\t1 & 0.9101562 & 0.14673913 & 0.9787234 & CellPhoneDB\\\\\n",
       "\t2 & 0.9118924 & 0.13586957 & 0.9815603 & CellPhoneDB\\\\\n",
       "\t3 & 0.9114583 & 0.13978495 & 0.9801512 & CellPhoneDB\\\\\n",
       "\t4 & 0.9188368 & 0.01604278 & 0.9990548 & CellPhoneDB\\\\\n",
       "\t5 & 0.9092882 & 0.05945946 & 0.9862754 & CellPhoneDB\\\\\n",
       "\t6 & 0.9140625 & 0.04301075 & 0.9919622 & CellPhoneDB\\\\\n",
       "\\end{tabular}\n"
      ],
      "text/markdown": [
       "\n",
       "A data.frame: 6 × 4\n",
       "\n",
       "| <!--/--> | Accuracy &lt;dbl&gt; | Sensitivity &lt;dbl&gt; | Specificity &lt;dbl&gt; | Tool &lt;chr&gt; |\n",
       "|---|---|---|---|---|\n",
       "| 1 | 0.9101562 | 0.14673913 | 0.9787234 | CellPhoneDB |\n",
       "| 2 | 0.9118924 | 0.13586957 | 0.9815603 | CellPhoneDB |\n",
       "| 3 | 0.9114583 | 0.13978495 | 0.9801512 | CellPhoneDB |\n",
       "| 4 | 0.9188368 | 0.01604278 | 0.9990548 | CellPhoneDB |\n",
       "| 5 | 0.9092882 | 0.05945946 | 0.9862754 | CellPhoneDB |\n",
       "| 6 | 0.9140625 | 0.04301075 | 0.9919622 | CellPhoneDB |\n",
       "\n"
      ],
      "text/plain": [
       "  Accuracy  Sensitivity Specificity Tool       \n",
       "1 0.9101562 0.14673913  0.9787234   CellPhoneDB\n",
       "2 0.9118924 0.13586957  0.9815603   CellPhoneDB\n",
       "3 0.9114583 0.13978495  0.9801512   CellPhoneDB\n",
       "4 0.9188368 0.01604278  0.9990548   CellPhoneDB\n",
       "5 0.9092882 0.05945946  0.9862754   CellPhoneDB\n",
       "6 0.9140625 0.04301075  0.9919622   CellPhoneDB"
      ]
     },
     "metadata": {},
     "output_type": "display_data"
    }
   ],
   "source": [
    "ssp <- rbind(cpdbssp,nmssp)\n",
    "tool <- rep(c(\"CellPhoneDB\",\"NATMI\"),each=56)\n",
    "ssp[,\"Tool\"] <- tool\n",
    "head(ssp)"
   ]
  },
  {
   "cell_type": "code",
   "execution_count": 12,
   "id": "39cdce04",
   "metadata": {},
   "outputs": [
    {
     "data": {
      "text/html": [
       "<table class=\"dataframe\">\n",
       "<caption>A data.frame: 6 × 3</caption>\n",
       "<thead>\n",
       "\t<tr><th></th><th scope=col>TPR</th><th scope=col>FPR</th><th scope=col>Tool</th></tr>\n",
       "\t<tr><th></th><th scope=col>&lt;dbl&gt;</th><th scope=col>&lt;dbl&gt;</th><th scope=col>&lt;chr&gt;</th></tr>\n",
       "</thead>\n",
       "<tbody>\n",
       "\t<tr><th scope=row>1</th><td>0.14673913</td><td>0.0212765957</td><td>CellPhoneDB</td></tr>\n",
       "\t<tr><th scope=row>2</th><td>0.13586957</td><td>0.0184397163</td><td>CellPhoneDB</td></tr>\n",
       "\t<tr><th scope=row>3</th><td>0.13978495</td><td>0.0198487713</td><td>CellPhoneDB</td></tr>\n",
       "\t<tr><th scope=row>4</th><td>0.01604278</td><td>0.0009451796</td><td>CellPhoneDB</td></tr>\n",
       "\t<tr><th scope=row>5</th><td>0.05945946</td><td>0.0137245622</td><td>CellPhoneDB</td></tr>\n",
       "\t<tr><th scope=row>6</th><td>0.04301075</td><td>0.0080378251</td><td>CellPhoneDB</td></tr>\n",
       "</tbody>\n",
       "</table>\n"
      ],
      "text/latex": [
       "A data.frame: 6 × 3\n",
       "\\begin{tabular}{r|lll}\n",
       "  & TPR & FPR & Tool\\\\\n",
       "  & <dbl> & <dbl> & <chr>\\\\\n",
       "\\hline\n",
       "\t1 & 0.14673913 & 0.0212765957 & CellPhoneDB\\\\\n",
       "\t2 & 0.13586957 & 0.0184397163 & CellPhoneDB\\\\\n",
       "\t3 & 0.13978495 & 0.0198487713 & CellPhoneDB\\\\\n",
       "\t4 & 0.01604278 & 0.0009451796 & CellPhoneDB\\\\\n",
       "\t5 & 0.05945946 & 0.0137245622 & CellPhoneDB\\\\\n",
       "\t6 & 0.04301075 & 0.0080378251 & CellPhoneDB\\\\\n",
       "\\end{tabular}\n"
      ],
      "text/markdown": [
       "\n",
       "A data.frame: 6 × 3\n",
       "\n",
       "| <!--/--> | TPR &lt;dbl&gt; | FPR &lt;dbl&gt; | Tool &lt;chr&gt; |\n",
       "|---|---|---|---|\n",
       "| 1 | 0.14673913 | 0.0212765957 | CellPhoneDB |\n",
       "| 2 | 0.13586957 | 0.0184397163 | CellPhoneDB |\n",
       "| 3 | 0.13978495 | 0.0198487713 | CellPhoneDB |\n",
       "| 4 | 0.01604278 | 0.0009451796 | CellPhoneDB |\n",
       "| 5 | 0.05945946 | 0.0137245622 | CellPhoneDB |\n",
       "| 6 | 0.04301075 | 0.0080378251 | CellPhoneDB |\n",
       "\n"
      ],
      "text/plain": [
       "  TPR        FPR          Tool       \n",
       "1 0.14673913 0.0212765957 CellPhoneDB\n",
       "2 0.13586957 0.0184397163 CellPhoneDB\n",
       "3 0.13978495 0.0198487713 CellPhoneDB\n",
       "4 0.01604278 0.0009451796 CellPhoneDB\n",
       "5 0.05945946 0.0137245622 CellPhoneDB\n",
       "6 0.04301075 0.0080378251 CellPhoneDB"
      ]
     },
     "metadata": {},
     "output_type": "display_data"
    }
   ],
   "source": [
    "roc <- rbind(cpdbroc,nmroc)\n",
    "tool <- rep(c(\"CellPhoneDB\",\"NATMI\"),each=56)\n",
    "roc[,\"Tool\"] <- tool\n",
    "head(roc)"
   ]
  },
  {
   "cell_type": "code",
   "execution_count": 13,
   "id": "3df5be40",
   "metadata": {},
   "outputs": [],
   "source": [
    "write.table(ssp,\"Result/sspP.txt\",sep=\"\\t\",quote = F)"
   ]
  },
  {
   "cell_type": "code",
   "execution_count": 14,
   "id": "23735a54",
   "metadata": {},
   "outputs": [],
   "source": [
    "write.table(roc,\"Result/rocP.txt\",sep=\"\\t\",quote = F)"
   ]
  },
  {
   "cell_type": "markdown",
   "id": "d30bdf93",
   "metadata": {},
   "source": [
    "## 6. Results"
   ]
  },
  {
   "cell_type": "code",
   "execution_count": 35,
   "id": "d1c14bb5",
   "metadata": {},
   "outputs": [],
   "source": [
    "suppressPackageStartupMessages(library(ggplot2))\n",
    "\n",
    "# SSP\n",
    "sspR <- read.table(\"Result/sspR.txt\", header = T, sep = \"\\t\")\n",
    "sspP <- read.table(\"Result/sspP.txt\", header = T, sep = \"\\t\")"
   ]
  },
  {
   "cell_type": "code",
   "execution_count": 36,
   "id": "961c195f",
   "metadata": {},
   "outputs": [],
   "source": [
    "ssp <- as.data.frame(rbind(sspR,sspP))"
   ]
  },
  {
   "cell_type": "code",
   "execution_count": 37,
   "id": "e19c9cef",
   "metadata": {},
   "outputs": [
    {
     "data": {
      "image/png": "[encoded data removed]",
      "text/plain": [
       "plot without title"
      ]
     },
     "metadata": {
      "image/png": {
       "height": 420,
       "width": 420
      }
     },
     "output_type": "display_data"
    },
    {
     "data": {
      "image/png": "[encoded data removed]",
      "text/plain": [
       "plot without title"
      ]
     },
     "metadata": {
      "image/png": {
       "height": 420,
       "width": 420
      }
     },
     "output_type": "display_data"
    },
    {
     "data": {
      "image/png": "[encoded data removed]",
      "text/plain": [
       "plot without title"
      ]
     },
     "metadata": {
      "image/png": {
       "height": 420,
       "width": 420
      }
     },
     "output_type": "display_data"
    }
   ],
   "source": [
    "ggplot(data=ssp, aes(x=Tool, y=Accuracy)) + geom_boxplot() + theme_classic()\n",
    "ggplot(data=ssp, aes(x=Tool, y=Sensitivity)) + geom_boxplot() + theme_classic()\n",
    "ggplot(data=ssp, aes(x=Tool, y=Specificity)) + geom_boxplot() + theme_classic()"
   ]
  },
  {
   "cell_type": "code",
   "execution_count": 44,
   "id": "3a0ed624",
   "metadata": {},
   "outputs": [
    {
     "data": {
      "image/png": "[encoded data removed]",
      "text/plain": [
       "plot without title"
      ]
     },
     "metadata": {
      "image/png": {
       "height": 420,
       "width": 420
      }
     },
     "output_type": "display_data"
    },
    {
     "data": {
      "image/png": "[encoded data removed]",
      "text/plain": [
       "plot without title"
      ]
     },
     "metadata": {
      "image/png": {
       "height": 420,
       "width": 420
      }
     },
     "output_type": "display_data"
    },
    {
     "data": {
      "image/png": "[encoded data removed]",
      "text/plain": [
       "plot without title"
      ]
     },
     "metadata": {
      "image/png": {
       "height": 420,
       "width": 420
      }
     },
     "output_type": "display_data"
    }
   ],
   "source": [
    "ssp <- ssp[!(ssp$Sensitivity == 0),] # remove 0 L-R pair predicted results\n",
    "ggplot(data=ssp, aes(x=Tool, y=Accuracy)) + geom_boxplot() + theme_classic()\n",
    "ggplot(data=ssp, aes(x=Tool, y=Sensitivity)) + geom_boxplot() + theme_classic()\n",
    "ggplot(data=ssp, aes(x=Tool, y=Specificity)) + geom_boxplot() + theme_classic()"
   ]
  },
  {
   "cell_type": "code",
   "execution_count": 39,
   "id": "27305cdb",
   "metadata": {},
   "outputs": [],
   "source": [
    "# ROC\n",
    "rocR <- read.table(\"Result/rocR.txt\", header = T, sep = \"\\t\")\n",
    "rocP <- read.table(\"Result/rocP.txt\", header = T, sep = \"\\t\")"
   ]
  },
  {
   "cell_type": "code",
   "execution_count": 40,
   "id": "2c8018a3",
   "metadata": {},
   "outputs": [],
   "source": [
    "roc <- as.data.frame(rbind(rocR,rocP))"
   ]
  },
  {
   "cell_type": "code",
   "execution_count": 41,
   "id": "3e5a2659",
   "metadata": {},
   "outputs": [
    {
     "data": {
      "image/png": "[encoded data removed]",
      "text/plain": [
       "plot without title"
      ]
     },
     "metadata": {
      "image/png": {
       "height": 420,
       "width": 420
      }
     },
     "output_type": "display_data"
    }
   ],
   "source": [
    "ggplot(data = roc,aes(x=FPR, y=TPR)) + geom_point(aes(color=Tool)) + geom_segment(aes(x=0,y=0,xend=0.5,yend=0.5),linetype=\"dotted\")"
   ]
  },
  {
   "cell_type": "code",
   "execution_count": 46,
   "id": "a9483e1a",
   "metadata": {},
   "outputs": [
    {
     "data": {
      "image/png": "[encoded data removed]",
      "text/plain": [
       "plot without title"
      ]
     },
     "metadata": {
      "image/png": {
       "height": 420,
       "width": 420
      }
     },
     "output_type": "display_data"
    }
   ],
   "source": [
    "roc <- roc[!(roc$TPR == 0),] # remove 0 L-R pair predicted results\n",
    "ggplot(data = roc,aes(x=FPR, y=TPR)) + geom_point(aes(color=Tool)) + geom_segment(aes(x=0,y=0,xend=0.5,yend=0.5),linetype=\"dotted\")"
   ]
  },
  {
   "cell_type": "code",
   "execution_count": 58,
   "id": "a5e0f8a4",
   "metadata": {},
   "outputs": [
    {
     "name": "stderr",
     "output_type": "stream",
     "text": [
      "Saving 6.67 x 6.67 in image\n",
      "\n"
     ]
    }
   ],
   "source": [
    "ggsave(\"Result/ROC.pdf\")"
   ]
  },
  {
   "cell_type": "markdown",
   "id": "a5e3f8dd",
   "metadata": {},
   "source": [
    "Last modified: 2022.08.26"
   ]
  }
 ],
 "metadata": {
  "kernelspec": {
   "display_name": "Bash",
   "language": "bash",
   "name": "bash"
  },
  "language_info": {
   "codemirror_mode": "shell",
   "file_extension": ".sh",
   "mimetype": "text/x-sh",
   "name": "bash"
  }
 },
 "nbformat": 4,
 "nbformat_minor": 5
}
