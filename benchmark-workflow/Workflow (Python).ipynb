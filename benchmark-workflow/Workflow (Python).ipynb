{
 "cells": [
  {
   "cell_type": "markdown",
   "id": "0f6ac7df",
   "metadata": {},
   "source": [
    "## 1. Data Preparation"
   ]
  },
  {
   "cell_type": "markdown",
   "id": "bdd0a6db",
   "metadata": {},
   "source": [
    "### R kernel:"
   ]
  },
  {
   "cell_type": "code",
   "execution_count": 3,
   "id": "31e0e85a",
   "metadata": {},
   "outputs": [],
   "source": [
    "# load requirements\n",
    "library(dplyr)\n",
    "library(Seurat)\n",
    "library(SeuratObject)\n",
    "library(Matrix)\n",
    "source(\"https://raw.githubusercontent.com/mora-lab/cell-cell-interactions/main/benchmark-workflow/R/CellPhoneDB process.R\")\n",
    "source(\"https://raw.githubusercontent.com/mora-lab/cell-cell-interactions/main/benchmark-workflow/R/NATMI process.R\")\n",
    "source(\"https://raw.githubusercontent.com/mora-lab/cell-cell-interactions/main/benchmark-workflow/R/run_CellPhoneDB.R\")\n",
    "source(\"https://raw.githubusercontent.com/mora-lab/cell-cell-interactions/main/benchmark-workflow/R/run_NATMI.R\")"
   ]
  },
  {
   "cell_type": "code",
   "execution_count": 2,
   "id": "ab507691",
   "metadata": {},
   "outputs": [],
   "source": [
    "# load single-cell sample data\n",
    "sampleA <- readRDS(\"https://zenodo.org/record/6497091/files/GSE122960.rds?download=1\")\n",
    "sampleB <- readRDS(\"https://zenodo.org/record/6497091/files/GSE128033.rds?download=1\")\n",
    "sampleC <- readRDS(\"https://zenodo.org/record/6497091/files/GSE135893.rds?download=1\")\n",
    "sampleD <- readRDS(\"https://zenodo.org/record/6497091/files/GSE136831.rds?download=1\")"
   ]
  },
  {
   "cell_type": "code",
   "execution_count": 5,
   "id": "6020856c",
   "metadata": {},
   "outputs": [
    {
     "name": "stdout",
     "output_type": "stream",
     "text": [
      "Formal class 'dgCMatrix' [package \"Matrix\"] with 6 slots\n",
      "  ..@ i       : int [1:15028219] 33 35 45 54 55 59 61 72 86 97 ...\n",
      "  ..@ p       : int [1:10414] 0 3337 5097 7069 10281 13289 15511 18031 19740 21390 ...\n",
      "  ..@ Dim     : int [1:2] 33694 10413\n",
      "  ..@ Dimnames:List of 2\n",
      "  .. ..$ : chr [1:33694] \"RP11-34P13.3\" \"FAM138A\" \"OR4F5\" \"RP11-34P13.7\" ...\n",
      "  .. ..$ : chr [1:10413] \"AAACCTGAGCACCGCT-1_2\" \"AAACCTGCACAGATTC-1_2\" \"AAACCTGGTAAGGGCT-1_2\" \"AAACCTGGTCAAACTC-1_2\" ...\n",
      "  ..@ x       : num [1:15028219] 0.686 0.401 1.09 0.401 0.686 ...\n",
      "  ..@ factors : list()\n",
      "Formal class 'dgCMatrix' [package \"Matrix\"] with 6 slots\n",
      "  ..@ i       : int [1:39789428] 47 59 86 97 153 176 189 197 216 219 ...\n",
      "  ..@ p       : int [1:20628] 0 1379 2847 7202 8373 9651 13150 14990 16263 18922 ...\n",
      "  ..@ Dim     : int [1:2] 45068 20627\n",
      "  ..@ Dimnames:List of 2\n",
      "  .. ..$ : chr [1:45068] \"RP11-34P13.3\" \"FAM138A\" \"OR4F5\" \"RP11-34P13.7\" ...\n",
      "  .. ..$ : chr [1:20627] \"AAACCTGAGAGGACGG-1_2\" \"AAACCTGAGCGTCAAG-1_2\" \"AAACCTGCAGGAATGC-1_2\" \"AAACCTGCATTCCTCG-1_2\" ...\n",
      "  ..@ x       : num [1:39789428] 1.2 1.73 1.2 1.2 2.97 ...\n",
      "  ..@ factors : list()\n",
      "Formal class 'dgCMatrix' [package \"Matrix\"] with 6 slots\n",
      "  ..@ i       : int [1:60386718] 27 37 49 54 59 61 63 67 69 72 ...\n",
      "  ..@ p       : int [1:28779] 0 4133 7586 9719 11958 14647 16357 19497 22648 25794 ...\n",
      "  ..@ Dim     : int [1:2] 33694 28778\n",
      "  ..@ Dimnames:List of 2\n",
      "  .. ..$ : chr [1:33694] \"RP11-34P13.3\" \"FAM138A\" \"OR4F5\" \"RP11-34P13.7\" ...\n",
      "  .. ..$ : chr [1:28778] \"F00431_AACACGTGTCTAACGT\" \"F00431_CTGAAGTGTATAATGG\" \"F01172_CGAATGTAGGTAGCTG\" \"F01172_CTCTACGAGGTAGCTG\" ...\n",
      "  ..@ x       : num [1:60386718] 0.436 0.436 0.436 0.436 0.738 ...\n",
      "  ..@ factors : list()\n",
      "Formal class 'dgCMatrix' [package \"Matrix\"] with 6 slots\n",
      "  ..@ i       : int [1:178143321] 8 22 23 27 39 40 42 53 59 63 ...\n",
      "  ..@ p       : int [1:78431] 0 1812 3673 6039 7531 9442 11531 14945 17378 19635 ...\n",
      "  ..@ Dim     : int [1:2] 45947 78430\n",
      "  ..@ Dimnames:List of 2\n",
      "  .. ..$ : chr [1:45947] \"TSPAN6\" \"TNMD\" \"DPM1\" \"SCYL3\" ...\n",
      "  .. ..$ : chr [1:78430] \"010I_AAACCTGAGAAGCCCA\" \"010I_AAACCTGAGCTAAGAT\" \"010I_AAACCTGAGTACGTAA\" \"010I_AAACCTGAGTCGAGTG\" ...\n",
      "  ..@ x       : num [1:178143321] 1.15 1.15 2.01 1.15 2.27 ...\n",
      "  ..@ factors : list()\n"
     ]
    }
   ],
   "source": [
    "# normalized data of the sample\n",
    "str(sampleA@assays$RNA@data)\n",
    "str(sampleB@assays$RNA@data)\n",
    "str(sampleC@assays$RNA@data)\n",
    "str(sampleD@assays$RNA@data)"
   ]
  },
  {
   "cell_type": "code",
   "execution_count": 5,
   "id": "7c2be687",
   "metadata": {},
   "outputs": [
    {
     "data": {
      "text/plain": [
       "\n",
       " Macrophage  Fibroblast         AT2    Monocyte       Tcell         AT1 \n",
       "       5892         147        2293         774         645         210 \n",
       "Endothelial        Mast \n",
       "        299         153 "
      ]
     },
     "metadata": {},
     "output_type": "display_data"
    },
    {
     "data": {
      "text/plain": [
       "\n",
       "Endothelial         AT2  Macrophage    Monocyte  Fibroblast       Tcell \n",
       "       2553        1548        7622        1153        3420        1693 \n",
       "       Mast         AT1 \n",
       "       1405        1233 "
      ]
     },
     "metadata": {},
     "output_type": "display_data"
    },
    {
     "data": {
      "text/plain": [
       "\n",
       "        AT2         AT1 Endothelial        Mast    Monocyte       Tcell \n",
       "       3225          96        3496         360        2113        2829 \n",
       " Macrophage  Fibroblast \n",
       "      16507         152 "
      ]
     },
     "metadata": {},
     "output_type": "display_data"
    },
    {
     "data": {
      "text/plain": [
       "\n",
       " Macrophage    Monocyte       Tcell        Mast  Fibroblast         AT2 \n",
       "      60483        6793        5088         572        1443         496 \n",
       "Endothelial         AT1 \n",
       "       3379         176 "
      ]
     },
     "metadata": {},
     "output_type": "display_data"
    }
   ],
   "source": [
    "# cell types and amounts of the sample\n",
    "table(Idents(sampleA))\n",
    "table(Idents(sampleB))\n",
    "table(Idents(sampleC))\n",
    "table(Idents(sampleD))"
   ]
  },
  {
   "cell_type": "code",
   "execution_count": 4,
   "id": "48d91397",
   "metadata": {},
   "outputs": [
    {
     "name": "stdout",
     "output_type": "stream",
     "text": [
      "'data.frame':\t208 obs. of  4 variables:\n",
      " $ source  : chr  \"AT1\" \"AT1\" \"AT1\" \"AT1\" ...\n",
      " $ target  : chr  \"Monocyte\" \"Monocyte\" \"Monocyte\" \"Macrophage\" ...\n",
      " $ ligand  : chr  \"TGFB1\" \"TGFB1\" \"TGFB1\" \"TGFB1\" ...\n",
      " $ receptor: chr  \"TGFBR1\" \"TGFBR2\" \"TGFBR3\" \"TGFBR1\" ...\n"
     ]
    },
    {
     "data": {
      "text/html": [
       "<table class=\"dataframe\">\n",
       "<caption>A data.frame: 6 × 4</caption>\n",
       "<thead>\n",
       "\t<tr><th></th><th scope=col>source</th><th scope=col>target</th><th scope=col>ligand</th><th scope=col>receptor</th></tr>\n",
       "\t<tr><th></th><th scope=col>&lt;chr&gt;</th><th scope=col>&lt;chr&gt;</th><th scope=col>&lt;chr&gt;</th><th scope=col>&lt;chr&gt;</th></tr>\n",
       "</thead>\n",
       "<tbody>\n",
       "\t<tr><th scope=row>1</th><td>AT1</td><td>Monocyte  </td><td>TGFB1</td><td>TGFBR1</td></tr>\n",
       "\t<tr><th scope=row>2</th><td>AT1</td><td>Monocyte  </td><td>TGFB1</td><td>TGFBR2</td></tr>\n",
       "\t<tr><th scope=row>3</th><td>AT1</td><td>Monocyte  </td><td>TGFB1</td><td>TGFBR3</td></tr>\n",
       "\t<tr><th scope=row>4</th><td>AT1</td><td>Macrophage</td><td>TGFB1</td><td>TGFBR1</td></tr>\n",
       "\t<tr><th scope=row>5</th><td>AT1</td><td>Macrophage</td><td>TGFB1</td><td>TGFBR2</td></tr>\n",
       "\t<tr><th scope=row>6</th><td>AT1</td><td>Macrophage</td><td>TGFB1</td><td>TGFBR3</td></tr>\n",
       "</tbody>\n",
       "</table>\n"
      ],
      "text/latex": [
       "A data.frame: 6 × 4\n",
       "\\begin{tabular}{r|llll}\n",
       "  & source & target & ligand & receptor\\\\\n",
       "  & <chr> & <chr> & <chr> & <chr>\\\\\n",
       "\\hline\n",
       "\t1 & AT1 & Monocyte   & TGFB1 & TGFBR1\\\\\n",
       "\t2 & AT1 & Monocyte   & TGFB1 & TGFBR2\\\\\n",
       "\t3 & AT1 & Monocyte   & TGFB1 & TGFBR3\\\\\n",
       "\t4 & AT1 & Macrophage & TGFB1 & TGFBR1\\\\\n",
       "\t5 & AT1 & Macrophage & TGFB1 & TGFBR2\\\\\n",
       "\t6 & AT1 & Macrophage & TGFB1 & TGFBR3\\\\\n",
       "\\end{tabular}\n"
      ],
      "text/markdown": [
       "\n",
       "A data.frame: 6 × 4\n",
       "\n",
       "| <!--/--> | source &lt;chr&gt; | target &lt;chr&gt; | ligand &lt;chr&gt; | receptor &lt;chr&gt; |\n",
       "|---|---|---|---|---|\n",
       "| 1 | AT1 | Monocyte   | TGFB1 | TGFBR1 |\n",
       "| 2 | AT1 | Monocyte   | TGFB1 | TGFBR2 |\n",
       "| 3 | AT1 | Monocyte   | TGFB1 | TGFBR3 |\n",
       "| 4 | AT1 | Macrophage | TGFB1 | TGFBR1 |\n",
       "| 5 | AT1 | Macrophage | TGFB1 | TGFBR2 |\n",
       "| 6 | AT1 | Macrophage | TGFB1 | TGFBR3 |\n",
       "\n"
      ],
      "text/plain": [
       "  source target     ligand receptor\n",
       "1 AT1    Monocyte   TGFB1  TGFBR1  \n",
       "2 AT1    Monocyte   TGFB1  TGFBR2  \n",
       "3 AT1    Monocyte   TGFB1  TGFBR3  \n",
       "4 AT1    Macrophage TGFB1  TGFBR1  \n",
       "5 AT1    Macrophage TGFB1  TGFBR2  \n",
       "6 AT1    Macrophage TGFB1  TGFBR3  "
      ]
     },
     "metadata": {},
     "output_type": "display_data"
    }
   ],
   "source": [
    "# load gold standard sample\n",
    "gold <- read.table(\"https://raw.githubusercontent.com/mora-lab/cell-cell-interactions/main/benchmark-workflow/data/IPF gold standard.txt\", header = TRUE, sep = \"\\t\")\n",
    "str(gold)\n",
    "head(gold)"
   ]
  },
  {
   "cell_type": "code",
   "execution_count": 5,
   "id": "65b541f2",
   "metadata": {},
   "outputs": [],
   "source": [
    "# remove unwanted genes for prediction\n",
    "genes <- unique(c(gold$ligand, gold$receptor))\n",
    "sampleA <- subset(sampleA, features = genes) \n",
    "sampleB <- subset(sampleB, features = genes)\n",
    "sampleC <- subset(sampleC, features = genes) \n",
    "sampleD <- subset(sampleD, features = genes) "
   ]
  },
  {
   "cell_type": "markdown",
   "id": "16eeeccb",
   "metadata": {},
   "source": [
    "## 2. Cell-cell Interaction Prediction "
   ]
  },
  {
   "cell_type": "code",
   "execution_count": 6,
   "id": "22ecfab8",
   "metadata": {},
   "outputs": [],
   "source": [
    "# CellPhoneDB\n",
    "CellPhoneDB_process(sampleA)\n",
    "CellPhoneDB_process(sampleB)\n",
    "CellPhoneDB_process(sampleC)\n",
    "CellPhoneDB_process(sampleD)"
   ]
  },
  {
   "cell_type": "markdown",
   "id": "29d9fab0",
   "metadata": {},
   "source": [
    "### Python kernel:"
   ]
  },
  {
   "cell_type": "code",
   "execution_count": 1,
   "id": "6330f175",
   "metadata": {},
   "outputs": [
    {
     "name": "stdout",
     "output_type": "stream",
     "text": [
      "cpdb:\r\n",
      "sampleA  sampleB  sampleC  sampleD\r\n",
      "\r\n",
      "cpdb/sampleA:\r\n",
      "barcodes.tsv  features.tsv  matrix.mtx\tmeta.tsv\r\n",
      "\r\n",
      "cpdb/sampleB:\r\n",
      "barcodes.tsv  features.tsv  matrix.mtx\tmeta.tsv\r\n",
      "\r\n",
      "cpdb/sampleC:\r\n",
      "barcodes.tsv  features.tsv  matrix.mtx\tmeta.tsv\r\n",
      "\r\n",
      "cpdb/sampleD:\r\n",
      "barcodes.tsv  features.tsv  matrix.mtx\tmeta.tsv\r\n"
     ]
    }
   ],
   "source": [
    "!ls -AR cpdb"
   ]
  },
  {
   "cell_type": "code",
   "execution_count": 2,
   "id": "58d3fcd2",
   "metadata": {},
   "outputs": [],
   "source": [
    "!source activate cpdb"
   ]
  },
  {
   "cell_type": "code",
   "execution_count": 2,
   "id": "0451347d",
   "metadata": {},
   "outputs": [
    {
     "name": "stdout",
     "output_type": "stream",
     "text": [
      "[ ][APP][25/04/22-16:52:37][WARNING] Latest local available version is `v2.0.0`, using it\n",
      "[ ][APP][25/04/22-16:52:37][WARNING] User selected downloaded database `v2.0.0` is available, using it\n",
      "[ ][CORE][25/04/22-16:52:37][INFO] Initializing SqlAlchemy CellPhoneDB Core\n",
      "[ ][CORE][25/04/22-16:52:37][INFO] Using custom database at /home/bioinformatics/.cpdb/releases/v2.0.0/cellphone.db\n",
      "[ ][APP][25/04/22-16:52:37][INFO] Launching Method cpdb_statistical_analysis_local_method_launcher\n",
      "[ ][APP][25/04/22-16:52:37][INFO] Launching Method _set_paths\n",
      "[ ][APP][25/04/22-16:52:37][INFO] Launching Method _load_meta_counts\n",
      "[ ][APP][25/04/22-16:52:37][INFO] Launching Method _check_counts_data\n",
      "[ ][CORE][25/04/22-16:52:37][INFO] Launching Method cpdb_statistical_analysis_launcher\n",
      "[ ][CORE][25/04/22-16:52:37][INFO] Launching Method _counts_validations\n",
      "[ ][CORE][25/04/22-16:52:37][INFO] Launching Method get_interactions_genes_complex\n",
      "[ ][CORE][25/04/22-16:52:38][INFO] [Cluster Statistical Analysis] Threshold:0.1 Iterations:1000 Debug-seed:-1 Threads:4 Precision:3\n",
      "[ ][CORE][25/04/22-16:52:39][INFO] Running Real Analysis\n",
      "[ ][CORE][25/04/22-16:52:39][INFO] Running Statistical Analysis\n",
      "[ ][CORE][25/04/22-17:34:43][INFO] Building Pvalues result\n",
      "[ ][CORE][25/04/22-17:34:43][INFO] Building results\n",
      "\u001b[0m"
     ]
    }
   ],
   "source": [
    "!cellphonedb method statistical_analysis cpdb/sampleA/meta.tsv cpdb/sampleA/ --counts-data hgnc_symbol --output-path cpdb/sampleA/out"
   ]
  },
  {
   "cell_type": "code",
   "execution_count": 3,
   "id": "5d22dd59",
   "metadata": {},
   "outputs": [
    {
     "name": "stdout",
     "output_type": "stream",
     "text": [
      "[ ][APP][25/04/22-17:34:45][WARNING] Latest local available version is `v2.0.0`, using it\n",
      "[ ][APP][25/04/22-17:34:45][WARNING] User selected downloaded database `v2.0.0` is available, using it\n",
      "[ ][CORE][25/04/22-17:34:45][INFO] Initializing SqlAlchemy CellPhoneDB Core\n",
      "[ ][CORE][25/04/22-17:34:45][INFO] Using custom database at /home/bioinformatics/.cpdb/releases/v2.0.0/cellphone.db\n",
      "[ ][APP][25/04/22-17:34:45][INFO] Launching Method cpdb_statistical_analysis_local_method_launcher\n",
      "[ ][APP][25/04/22-17:34:45][INFO] Launching Method _set_paths\n",
      "[ ][APP][25/04/22-17:34:45][INFO] Launching Method _load_meta_counts\n",
      "[ ][APP][25/04/22-17:34:45][INFO] Launching Method _check_counts_data\n",
      "[ ][CORE][25/04/22-17:34:45][INFO] Launching Method cpdb_statistical_analysis_launcher\n",
      "[ ][CORE][25/04/22-17:34:45][INFO] Launching Method _counts_validations\n",
      "[ ][CORE][25/04/22-17:34:45][INFO] Launching Method get_interactions_genes_complex\n",
      "[ ][CORE][25/04/22-17:34:46][INFO] [Cluster Statistical Analysis] Threshold:0.1 Iterations:1000 Debug-seed:-1 Threads:4 Precision:3\n",
      "[ ][CORE][25/04/22-17:34:46][INFO] Running Real Analysis\n",
      "[ ][CORE][25/04/22-17:34:46][INFO] Running Statistical Analysis\n",
      "[ ][CORE][25/04/22-18:55:31][INFO] Building Pvalues result\n",
      "[ ][CORE][25/04/22-18:55:31][INFO] Building results\n",
      "\u001b[0m"
     ]
    }
   ],
   "source": [
    "!cellphonedb method statistical_analysis cpdb/sampleB/meta.tsv cpdb/sampleB/ --counts-data hgnc_symbol --output-path cpdb/sampleB/out"
   ]
  },
  {
   "cell_type": "code",
   "execution_count": 4,
   "id": "b4a10b00",
   "metadata": {},
   "outputs": [
    {
     "name": "stdout",
     "output_type": "stream",
     "text": [
      "[ ][APP][25/04/22-18:55:33][WARNING] Latest local available version is `v2.0.0`, using it\n",
      "[ ][APP][25/04/22-18:55:33][WARNING] User selected downloaded database `v2.0.0` is available, using it\n",
      "[ ][CORE][25/04/22-18:55:33][INFO] Initializing SqlAlchemy CellPhoneDB Core\n",
      "[ ][CORE][25/04/22-18:55:33][INFO] Using custom database at /home/bioinformatics/.cpdb/releases/v2.0.0/cellphone.db\n",
      "[ ][APP][25/04/22-18:55:33][INFO] Launching Method cpdb_statistical_analysis_local_method_launcher\n",
      "[ ][APP][25/04/22-18:55:33][INFO] Launching Method _set_paths\n",
      "[ ][APP][25/04/22-18:55:33][INFO] Launching Method _load_meta_counts\n",
      "[ ][APP][25/04/22-18:55:33][INFO] Launching Method _check_counts_data\n",
      "[ ][CORE][25/04/22-18:55:33][INFO] Launching Method cpdb_statistical_analysis_launcher\n",
      "[ ][CORE][25/04/22-18:55:33][INFO] Launching Method _counts_validations\n",
      "[ ][CORE][25/04/22-18:55:34][INFO] Launching Method get_interactions_genes_complex\n",
      "[ ][CORE][25/04/22-18:55:34][INFO] [Cluster Statistical Analysis] Threshold:0.1 Iterations:1000 Debug-seed:-1 Threads:4 Precision:3\n",
      "[ ][CORE][25/04/22-18:55:35][INFO] Running Real Analysis\n",
      "[ ][CORE][25/04/22-18:55:35][INFO] Running Statistical Analysis\n",
      "[ ][CORE][25/04/22-20:48:21][INFO] Building Pvalues result\n",
      "[ ][CORE][25/04/22-20:48:21][INFO] Building results\n",
      "\u001b[0m"
     ]
    }
   ],
   "source": [
    "!cellphonedb method statistical_analysis cpdb/sampleC/meta.tsv cpdb/sampleC/ --counts-data hgnc_symbol --output-path cpdb/sampleC/out"
   ]
  },
  {
   "cell_type": "code",
   "execution_count": 5,
   "id": "63dad869",
   "metadata": {},
   "outputs": [
    {
     "name": "stdout",
     "output_type": "stream",
     "text": [
      "[ ][APP][25/04/22-20:48:22][WARNING] Latest local available version is `v2.0.0`, using it\n",
      "[ ][APP][25/04/22-20:48:22][WARNING] User selected downloaded database `v2.0.0` is available, using it\n",
      "[ ][CORE][25/04/22-20:48:22][INFO] Initializing SqlAlchemy CellPhoneDB Core\n",
      "[ ][CORE][25/04/22-20:48:22][INFO] Using custom database at /home/bioinformatics/.cpdb/releases/v2.0.0/cellphone.db\n",
      "[ ][APP][25/04/22-20:48:22][INFO] Launching Method cpdb_statistical_analysis_local_method_launcher\n",
      "[ ][APP][25/04/22-20:48:22][INFO] Launching Method _set_paths\n",
      "[ ][APP][25/04/22-20:48:22][INFO] Launching Method _load_meta_counts\n",
      "[ ][APP][25/04/22-20:48:23][INFO] Launching Method _check_counts_data\n",
      "[ ][CORE][25/04/22-20:48:23][INFO] Launching Method cpdb_statistical_analysis_launcher\n",
      "[ ][CORE][25/04/22-20:48:23][INFO] Launching Method _counts_validations\n",
      "[ ][CORE][25/04/22-20:48:23][INFO] Launching Method get_interactions_genes_complex\n",
      "[ ][CORE][25/04/22-20:48:23][INFO] [Cluster Statistical Analysis] Threshold:0.1 Iterations:1000 Debug-seed:-1 Threads:4 Precision:3\n",
      "[ ][CORE][25/04/22-20:48:24][INFO] Running Real Analysis\n",
      "[ ][CORE][25/04/22-20:48:24][INFO] Running Statistical Analysis\n",
      "[ ][CORE][26/04/22-02:01:40][INFO] Building Pvalues result\n",
      "[ ][CORE][26/04/22-02:01:40][INFO] Building results\n",
      "\u001b[0m"
     ]
    }
   ],
   "source": [
    "!cellphonedb method statistical_analysis cpdb/sampleD/meta.tsv cpdb/sampleD/ --counts-data hgnc_symbol --output-path cpdb/sampleD/out"
   ]
  },
  {
   "cell_type": "markdown",
   "id": "98ad4c93",
   "metadata": {},
   "source": [
    "### R kernel:"
   ]
  },
  {
   "cell_type": "code",
   "execution_count": 12,
   "id": "9ee4144f",
   "metadata": {},
   "outputs": [
    {
     "data": {
      "text/html": [
       "<table class=\"dataframe\">\n",
       "<caption>A data.frame: 6 × 4</caption>\n",
       "<thead>\n",
       "\t<tr><th></th><th scope=col>cellA</th><th scope=col>cellB</th><th scope=col>geneA</th><th scope=col>geneB</th></tr>\n",
       "\t<tr><th></th><th scope=col>&lt;chr&gt;</th><th scope=col>&lt;chr&gt;</th><th scope=col>&lt;chr&gt;</th><th scope=col>&lt;chr&gt;</th></tr>\n",
       "</thead>\n",
       "<tbody>\n",
       "\t<tr><th scope=row>1</th><td>AT1        </td><td>Endothelial</td><td>TGFB1</td><td>TGFBR3</td></tr>\n",
       "\t<tr><th scope=row>2</th><td>AT1        </td><td>Fibroblast </td><td>PDGFA</td><td>PDGFRA</td></tr>\n",
       "\t<tr><th scope=row>3</th><td>Endothelial</td><td>Endothelial</td><td>TGFB1</td><td>TGFBR3</td></tr>\n",
       "\t<tr><th scope=row>4</th><td>Endothelial</td><td>Fibroblast </td><td>PDGFB</td><td>PDGFRA</td></tr>\n",
       "\t<tr><th scope=row>5</th><td>Endothelial</td><td>Fibroblast </td><td>PDGFB</td><td>PDGFRB</td></tr>\n",
       "\t<tr><th scope=row>6</th><td>Endothelial</td><td>Fibroblast </td><td>PDGFB</td><td>LRP1  </td></tr>\n",
       "</tbody>\n",
       "</table>\n"
      ],
      "text/latex": [
       "A data.frame: 6 × 4\n",
       "\\begin{tabular}{r|llll}\n",
       "  & cellA & cellB & geneA & geneB\\\\\n",
       "  & <chr> & <chr> & <chr> & <chr>\\\\\n",
       "\\hline\n",
       "\t1 & AT1         & Endothelial & TGFB1 & TGFBR3\\\\\n",
       "\t2 & AT1         & Fibroblast  & PDGFA & PDGFRA\\\\\n",
       "\t3 & Endothelial & Endothelial & TGFB1 & TGFBR3\\\\\n",
       "\t4 & Endothelial & Fibroblast  & PDGFB & PDGFRA\\\\\n",
       "\t5 & Endothelial & Fibroblast  & PDGFB & PDGFRB\\\\\n",
       "\t6 & Endothelial & Fibroblast  & PDGFB & LRP1  \\\\\n",
       "\\end{tabular}\n"
      ],
      "text/markdown": [
       "\n",
       "A data.frame: 6 × 4\n",
       "\n",
       "| <!--/--> | cellA &lt;chr&gt; | cellB &lt;chr&gt; | geneA &lt;chr&gt; | geneB &lt;chr&gt; |\n",
       "|---|---|---|---|---|\n",
       "| 1 | AT1         | Endothelial | TGFB1 | TGFBR3 |\n",
       "| 2 | AT1         | Fibroblast  | PDGFA | PDGFRA |\n",
       "| 3 | Endothelial | Endothelial | TGFB1 | TGFBR3 |\n",
       "| 4 | Endothelial | Fibroblast  | PDGFB | PDGFRA |\n",
       "| 5 | Endothelial | Fibroblast  | PDGFB | PDGFRB |\n",
       "| 6 | Endothelial | Fibroblast  | PDGFB | LRP1   |\n",
       "\n"
      ],
      "text/plain": [
       "  cellA       cellB       geneA geneB \n",
       "1 AT1         Endothelial TGFB1 TGFBR3\n",
       "2 AT1         Fibroblast  PDGFA PDGFRA\n",
       "3 Endothelial Endothelial TGFB1 TGFBR3\n",
       "4 Endothelial Fibroblast  PDGFB PDGFRA\n",
       "5 Endothelial Fibroblast  PDGFB PDGFRB\n",
       "6 Endothelial Fibroblast  PDGFB LRP1  "
      ]
     },
     "metadata": {},
     "output_type": "display_data"
    }
   ],
   "source": [
    "CellPhoneDBA <- run_CellPhoneDB_output(\"sampleA\")\n",
    "head(CellPhoneDBA)"
   ]
  },
  {
   "cell_type": "code",
   "execution_count": 13,
   "id": "c5372529",
   "metadata": {},
   "outputs": [
    {
     "data": {
      "text/html": [
       "<table class=\"dataframe\">\n",
       "<caption>A data.frame: 6 × 4</caption>\n",
       "<thead>\n",
       "\t<tr><th></th><th scope=col>cellA</th><th scope=col>cellB</th><th scope=col>geneA</th><th scope=col>geneB</th></tr>\n",
       "\t<tr><th></th><th scope=col>&lt;chr&gt;</th><th scope=col>&lt;chr&gt;</th><th scope=col>&lt;chr&gt;</th><th scope=col>&lt;chr&gt;</th></tr>\n",
       "</thead>\n",
       "<tbody>\n",
       "\t<tr><th scope=row>1</th><td>AT2        </td><td>Endothelial</td><td>TGFB1 </td><td>TGFBR3</td></tr>\n",
       "\t<tr><th scope=row>2</th><td>AT2        </td><td>Fibroblast </td><td>PDGFA </td><td>PDGFRA</td></tr>\n",
       "\t<tr><th scope=row>3</th><td>Endothelial</td><td>Endothelial</td><td>TGFB1 </td><td>TGFBR3</td></tr>\n",
       "\t<tr><th scope=row>4</th><td>Fibroblast </td><td>AT2        </td><td>IGF1  </td><td>IGF1R </td></tr>\n",
       "\t<tr><th scope=row>5</th><td>Fibroblast </td><td>AT2        </td><td>PDGFRA</td><td>PDGFC </td></tr>\n",
       "\t<tr><th scope=row>6</th><td>Fibroblast </td><td>Endothelial</td><td>TGFB1 </td><td>TGFBR3</td></tr>\n",
       "</tbody>\n",
       "</table>\n"
      ],
      "text/latex": [
       "A data.frame: 6 × 4\n",
       "\\begin{tabular}{r|llll}\n",
       "  & cellA & cellB & geneA & geneB\\\\\n",
       "  & <chr> & <chr> & <chr> & <chr>\\\\\n",
       "\\hline\n",
       "\t1 & AT2         & Endothelial & TGFB1  & TGFBR3\\\\\n",
       "\t2 & AT2         & Fibroblast  & PDGFA  & PDGFRA\\\\\n",
       "\t3 & Endothelial & Endothelial & TGFB1  & TGFBR3\\\\\n",
       "\t4 & Fibroblast  & AT2         & IGF1   & IGF1R \\\\\n",
       "\t5 & Fibroblast  & AT2         & PDGFRA & PDGFC \\\\\n",
       "\t6 & Fibroblast  & Endothelial & TGFB1  & TGFBR3\\\\\n",
       "\\end{tabular}\n"
      ],
      "text/markdown": [
       "\n",
       "A data.frame: 6 × 4\n",
       "\n",
       "| <!--/--> | cellA &lt;chr&gt; | cellB &lt;chr&gt; | geneA &lt;chr&gt; | geneB &lt;chr&gt; |\n",
       "|---|---|---|---|---|\n",
       "| 1 | AT2         | Endothelial | TGFB1  | TGFBR3 |\n",
       "| 2 | AT2         | Fibroblast  | PDGFA  | PDGFRA |\n",
       "| 3 | Endothelial | Endothelial | TGFB1  | TGFBR3 |\n",
       "| 4 | Fibroblast  | AT2         | IGF1   | IGF1R  |\n",
       "| 5 | Fibroblast  | AT2         | PDGFRA | PDGFC  |\n",
       "| 6 | Fibroblast  | Endothelial | TGFB1  | TGFBR3 |\n",
       "\n"
      ],
      "text/plain": [
       "  cellA       cellB       geneA  geneB \n",
       "1 AT2         Endothelial TGFB1  TGFBR3\n",
       "2 AT2         Fibroblast  PDGFA  PDGFRA\n",
       "3 Endothelial Endothelial TGFB1  TGFBR3\n",
       "4 Fibroblast  AT2         IGF1   IGF1R \n",
       "5 Fibroblast  AT2         PDGFRA PDGFC \n",
       "6 Fibroblast  Endothelial TGFB1  TGFBR3"
      ]
     },
     "metadata": {},
     "output_type": "display_data"
    }
   ],
   "source": [
    "CellPhoneDBB <- run_CellPhoneDB_output(\"sampleB\")\n",
    "head(CellPhoneDBB)"
   ]
  },
  {
   "cell_type": "code",
   "execution_count": 14,
   "id": "905125af",
   "metadata": {},
   "outputs": [
    {
     "data": {
      "text/html": [
       "<table class=\"dataframe\">\n",
       "<caption>A data.frame: 6 × 4</caption>\n",
       "<thead>\n",
       "\t<tr><th></th><th scope=col>cellA</th><th scope=col>cellB</th><th scope=col>geneA</th><th scope=col>geneB</th></tr>\n",
       "\t<tr><th></th><th scope=col>&lt;chr&gt;</th><th scope=col>&lt;chr&gt;</th><th scope=col>&lt;chr&gt;</th><th scope=col>&lt;chr&gt;</th></tr>\n",
       "</thead>\n",
       "<tbody>\n",
       "\t<tr><th scope=row>1</th><td>AT1        </td><td>Fibroblast </td><td>PDGFA</td><td>PDGFRA</td></tr>\n",
       "\t<tr><th scope=row>2</th><td>AT2        </td><td>Endothelial</td><td>TGFB1</td><td>TGFBR3</td></tr>\n",
       "\t<tr><th scope=row>3</th><td>Endothelial</td><td>Endothelial</td><td>TGFB1</td><td>TGFBR3</td></tr>\n",
       "\t<tr><th scope=row>4</th><td>Endothelial</td><td>Fibroblast </td><td>PDGFB</td><td>PDGFRA</td></tr>\n",
       "\t<tr><th scope=row>5</th><td>Endothelial</td><td>Fibroblast </td><td>PDGFB</td><td>PDGFRB</td></tr>\n",
       "\t<tr><th scope=row>6</th><td>Endothelial</td><td>Fibroblast </td><td>PDGFB</td><td>LRP1  </td></tr>\n",
       "</tbody>\n",
       "</table>\n"
      ],
      "text/latex": [
       "A data.frame: 6 × 4\n",
       "\\begin{tabular}{r|llll}\n",
       "  & cellA & cellB & geneA & geneB\\\\\n",
       "  & <chr> & <chr> & <chr> & <chr>\\\\\n",
       "\\hline\n",
       "\t1 & AT1         & Fibroblast  & PDGFA & PDGFRA\\\\\n",
       "\t2 & AT2         & Endothelial & TGFB1 & TGFBR3\\\\\n",
       "\t3 & Endothelial & Endothelial & TGFB1 & TGFBR3\\\\\n",
       "\t4 & Endothelial & Fibroblast  & PDGFB & PDGFRA\\\\\n",
       "\t5 & Endothelial & Fibroblast  & PDGFB & PDGFRB\\\\\n",
       "\t6 & Endothelial & Fibroblast  & PDGFB & LRP1  \\\\\n",
       "\\end{tabular}\n"
      ],
      "text/markdown": [
       "\n",
       "A data.frame: 6 × 4\n",
       "\n",
       "| <!--/--> | cellA &lt;chr&gt; | cellB &lt;chr&gt; | geneA &lt;chr&gt; | geneB &lt;chr&gt; |\n",
       "|---|---|---|---|---|\n",
       "| 1 | AT1         | Fibroblast  | PDGFA | PDGFRA |\n",
       "| 2 | AT2         | Endothelial | TGFB1 | TGFBR3 |\n",
       "| 3 | Endothelial | Endothelial | TGFB1 | TGFBR3 |\n",
       "| 4 | Endothelial | Fibroblast  | PDGFB | PDGFRA |\n",
       "| 5 | Endothelial | Fibroblast  | PDGFB | PDGFRB |\n",
       "| 6 | Endothelial | Fibroblast  | PDGFB | LRP1   |\n",
       "\n"
      ],
      "text/plain": [
       "  cellA       cellB       geneA geneB \n",
       "1 AT1         Fibroblast  PDGFA PDGFRA\n",
       "2 AT2         Endothelial TGFB1 TGFBR3\n",
       "3 Endothelial Endothelial TGFB1 TGFBR3\n",
       "4 Endothelial Fibroblast  PDGFB PDGFRA\n",
       "5 Endothelial Fibroblast  PDGFB PDGFRB\n",
       "6 Endothelial Fibroblast  PDGFB LRP1  "
      ]
     },
     "metadata": {},
     "output_type": "display_data"
    }
   ],
   "source": [
    "CellPhoneDBC <- run_CellPhoneDB_output(\"sampleC\")\n",
    "head(CellPhoneDBC)"
   ]
  },
  {
   "cell_type": "code",
   "execution_count": 15,
   "id": "591b55f8",
   "metadata": {},
   "outputs": [
    {
     "data": {
      "text/html": [
       "<table class=\"dataframe\">\n",
       "<caption>A data.frame: 6 × 4</caption>\n",
       "<thead>\n",
       "\t<tr><th></th><th scope=col>cellA</th><th scope=col>cellB</th><th scope=col>geneA</th><th scope=col>geneB</th></tr>\n",
       "\t<tr><th></th><th scope=col>&lt;chr&gt;</th><th scope=col>&lt;chr&gt;</th><th scope=col>&lt;chr&gt;</th><th scope=col>&lt;chr&gt;</th></tr>\n",
       "</thead>\n",
       "<tbody>\n",
       "\t<tr><th scope=row>1</th><td>AT1        </td><td>Endothelial</td><td>TGFB1</td><td>TGFBR3</td></tr>\n",
       "\t<tr><th scope=row>2</th><td>AT1        </td><td>Fibroblast </td><td>TGFB1</td><td>TGFBR3</td></tr>\n",
       "\t<tr><th scope=row>3</th><td>AT2        </td><td>Endothelial</td><td>TGFB1</td><td>TGFBR3</td></tr>\n",
       "\t<tr><th scope=row>4</th><td>AT2        </td><td>Fibroblast </td><td>TGFB1</td><td>TGFBR3</td></tr>\n",
       "\t<tr><th scope=row>5</th><td>Endothelial</td><td>Endothelial</td><td>TGFB1</td><td>TGFBR3</td></tr>\n",
       "\t<tr><th scope=row>6</th><td>Endothelial</td><td>Fibroblast </td><td>PDGFB</td><td>PDGFRB</td></tr>\n",
       "</tbody>\n",
       "</table>\n"
      ],
      "text/latex": [
       "A data.frame: 6 × 4\n",
       "\\begin{tabular}{r|llll}\n",
       "  & cellA & cellB & geneA & geneB\\\\\n",
       "  & <chr> & <chr> & <chr> & <chr>\\\\\n",
       "\\hline\n",
       "\t1 & AT1         & Endothelial & TGFB1 & TGFBR3\\\\\n",
       "\t2 & AT1         & Fibroblast  & TGFB1 & TGFBR3\\\\\n",
       "\t3 & AT2         & Endothelial & TGFB1 & TGFBR3\\\\\n",
       "\t4 & AT2         & Fibroblast  & TGFB1 & TGFBR3\\\\\n",
       "\t5 & Endothelial & Endothelial & TGFB1 & TGFBR3\\\\\n",
       "\t6 & Endothelial & Fibroblast  & PDGFB & PDGFRB\\\\\n",
       "\\end{tabular}\n"
      ],
      "text/markdown": [
       "\n",
       "A data.frame: 6 × 4\n",
       "\n",
       "| <!--/--> | cellA &lt;chr&gt; | cellB &lt;chr&gt; | geneA &lt;chr&gt; | geneB &lt;chr&gt; |\n",
       "|---|---|---|---|---|\n",
       "| 1 | AT1         | Endothelial | TGFB1 | TGFBR3 |\n",
       "| 2 | AT1         | Fibroblast  | TGFB1 | TGFBR3 |\n",
       "| 3 | AT2         | Endothelial | TGFB1 | TGFBR3 |\n",
       "| 4 | AT2         | Fibroblast  | TGFB1 | TGFBR3 |\n",
       "| 5 | Endothelial | Endothelial | TGFB1 | TGFBR3 |\n",
       "| 6 | Endothelial | Fibroblast  | PDGFB | PDGFRB |\n",
       "\n"
      ],
      "text/plain": [
       "  cellA       cellB       geneA geneB \n",
       "1 AT1         Endothelial TGFB1 TGFBR3\n",
       "2 AT1         Fibroblast  TGFB1 TGFBR3\n",
       "3 AT2         Endothelial TGFB1 TGFBR3\n",
       "4 AT2         Fibroblast  TGFB1 TGFBR3\n",
       "5 Endothelial Endothelial TGFB1 TGFBR3\n",
       "6 Endothelial Fibroblast  PDGFB PDGFRB"
      ]
     },
     "metadata": {},
     "output_type": "display_data"
    }
   ],
   "source": [
    "CellPhoneDBD <- run_CellPhoneDB_output(\"sampleD\")\n",
    "head(CellPhoneDBD)"
   ]
  },
  {
   "cell_type": "code",
   "execution_count": 16,
   "id": "18686be6",
   "metadata": {},
   "outputs": [],
   "source": [
    "# NATMI\n",
    "NATMI_process(sampleA)\n",
    "NATMI_process(sampleB)\n",
    "NATMI_process(sampleC)\n",
    "NATMI_process(sampleD)"
   ]
  },
  {
   "cell_type": "markdown",
   "id": "33d3db65",
   "metadata": {},
   "source": [
    "### Python kernel:"
   ]
  },
  {
   "cell_type": "code",
   "execution_count": 1,
   "id": "a90f3405",
   "metadata": {},
   "outputs": [
    {
     "name": "stdout",
     "output_type": "stream",
     "text": [
      "natmi:\r\n",
      "sampleA  sampleB  sampleC  sampleD\r\n",
      "\r\n",
      "natmi/sampleA:\r\n",
      "ann.csv  em.csv\r\n",
      "\r\n",
      "natmi/sampleB:\r\n",
      "ann.csv  em.csv\r\n",
      "\r\n",
      "natmi/sampleC:\r\n",
      "ann.csv  em.csv\r\n",
      "\r\n",
      "natmi/sampleD:\r\n",
      "ann.csv  em.csv\r\n"
     ]
    }
   ],
   "source": [
    "!ls -AR natmi"
   ]
  },
  {
   "cell_type": "code",
   "execution_count": 2,
   "id": "927d1b95",
   "metadata": {},
   "outputs": [
    {
     "name": "stdout",
     "output_type": "stream",
     "text": [
      "===================================================\n",
      "Input data:\n",
      "Species to obtain abundance data: human\n",
      "The expression matrix file: /opt/NATMI/workdir/em.csv\n",
      "The metafile: /opt/NATMI/workdir/ann.csv\n",
      "The ligand-receptor interaction database: lrc2p.csv\n",
      "Species to obtain ligand-receptor interactions: human\n",
      "The number of cores to use: 1\n",
      "The folder to save all results: /opt/NATMI/workdir/out\n",
      "===================================================\n",
      "#### the folder \"/opt/NATMI/workdir/out\" has been created to save the analysis results\n",
      "#### cluster the expression matrix\n",
      "#### generate cell-to-cell interactions\n",
      "#### extract signaling factors\n",
      "#### construct signaling interactions\n",
      "#### collected 1512 LR-mediated edges\n",
      "#### DONE\n"
     ]
    }
   ],
   "source": [
    "!docker run --rm -it --name natmi -v /home/bioinformatics/Documents/Benchmark/Python/natmi/sampleA/:/opt/NATMI/workdir asrhou/natmi python ExtractEdges.py --emFile /opt/NATMI/workdir/em.csv --annFile /opt/NATMI/workdir/ann.csv --interDB lrc2p --out /opt/NATMI/workdir/out"
   ]
  },
  {
   "cell_type": "code",
   "execution_count": 3,
   "id": "73bd44b5",
   "metadata": {},
   "outputs": [
    {
     "name": "stdout",
     "output_type": "stream",
     "text": [
      "===================================================\n",
      "Input data:\n",
      "The source dataset folder: /opt/NATMI/workdir/out\n",
      "The ligand-receptor interaction database: lrc2p\n",
      "The weight type of cell-to-cell signaling: mean\n",
      "The detection threshold for interactions to draw is: 0.2\n",
      "The specicificity threshold for interactions to draw is: 0\n",
      "The expression threshold for interactions to draw is: 0\n",
      "The network layout: kk\n",
      "The font size for cluster labels: 8\n",
      "The edge width: 0\n",
      "The maximum radius of the clusters: 0\n",
      "The relative distance between clusters: 1\n",
      "The plot width: 12\n",
      "The plot height: 10\n",
      "The plot format: pdf\n",
      "===================================================\n",
      "#### start to construct the cell-to-cell communication network\n",
      "#### 51 edges are loaded\n",
      "#### plotting the weighted directed cell-to-cell communication network\n",
      "#### the folder \"/opt/NATMI/workdir/out/Network_exp_0_spe_0_det_0.2_top_0_signal_lrc2p_weight_mean\" has been created to save the analysis results\n",
      "#### DONE\n"
     ]
    }
   ],
   "source": [
    "!docker run --rm -it --name natmi -v /home/bioinformatics/Documents/Benchmark/Python/natmi/sampleA/:/opt/NATMI/workdir asrhou/natmi python VisInteractions.py --sourceFolder /opt/NATMI/workdir/out --interDB lrc2p --weightType mean --detectionThreshold 0.2"
   ]
  },
  {
   "cell_type": "code",
   "execution_count": 4,
   "id": "447f7ebf",
   "metadata": {},
   "outputs": [
    {
     "name": "stdout",
     "output_type": "stream",
     "text": [
      "===================================================\n",
      "Input data:\n",
      "Species to obtain abundance data: human\n",
      "The expression matrix file: /opt/NATMI/workdir/em.csv\n",
      "The metafile: /opt/NATMI/workdir/ann.csv\n",
      "The ligand-receptor interaction database: lrc2p.csv\n",
      "Species to obtain ligand-receptor interactions: human\n",
      "The number of cores to use: 1\n",
      "The folder to save all results: /opt/NATMI/workdir/out\n",
      "===================================================\n",
      "#### the folder \"/opt/NATMI/workdir/out\" has been created to save the analysis results\n",
      "#### cluster the expression matrix\n",
      "#### generate cell-to-cell interactions\n",
      "#### extract signaling factors\n",
      "#### construct signaling interactions\n",
      "#### collected 1856 LR-mediated edges\n",
      "#### DONE\n"
     ]
    }
   ],
   "source": [
    "!docker run --rm -it --name natmi -v /home/bioinformatics/Documents/Benchmark/Python/natmi/sampleB/:/opt/NATMI/workdir asrhou/natmi python ExtractEdges.py --emFile /opt/NATMI/workdir/em.csv --annFile /opt/NATMI/workdir/ann.csv --interDB lrc2p --out /opt/NATMI/workdir/out"
   ]
  },
  {
   "cell_type": "code",
   "execution_count": 7,
   "id": "341220ce",
   "metadata": {},
   "outputs": [
    {
     "name": "stdout",
     "output_type": "stream",
     "text": [
      "===================================================\n",
      "Input data:\n",
      "The source dataset folder: /opt/NATMI/workdir/out\n",
      "The ligand-receptor interaction database: lrc2p\n",
      "The weight type of cell-to-cell signaling: mean\n",
      "The detection threshold for interactions to draw is: 0.2\n",
      "The specicificity threshold for interactions to draw is: 0\n",
      "The expression threshold for interactions to draw is: 0\n",
      "The network layout: kk\n",
      "The font size for cluster labels: 8\n",
      "The edge width: 0\n",
      "The maximum radius of the clusters: 0\n",
      "The relative distance between clusters: 1\n",
      "The plot width: 12\n",
      "The plot height: 10\n",
      "The plot format: pdf\n",
      "===================================================\n",
      "#### start to construct the cell-to-cell communication network\n",
      "#### 85 edges are loaded\n",
      "#### plotting the weighted directed cell-to-cell communication network\n",
      "#### the folder \"/opt/NATMI/workdir/out/Network_exp_0_spe_0_det_0.2_top_0_signal_lrc2p_weight_mean\" has been created to save the analysis results\n",
      "#### DONE\n"
     ]
    }
   ],
   "source": [
    "!docker run --rm -it --name natmi -v /home/bioinformatics/Documents/Benchmark/Python/natmi/sampleB/:/opt/NATMI/workdir asrhou/natmi python VisInteractions.py --sourceFolder /opt/NATMI/workdir/out --interDB lrc2p --weightType mean --detectionThreshold 0.2"
   ]
  },
  {
   "cell_type": "code",
   "execution_count": 5,
   "id": "95df6342",
   "metadata": {
    "scrolled": true
   },
   "outputs": [
    {
     "name": "stdout",
     "output_type": "stream",
     "text": [
      "===================================================\n",
      "Input data:\n",
      "Species to obtain abundance data: human\n",
      "The expression matrix file: /opt/NATMI/workdir/em.csv\n",
      "The metafile: /opt/NATMI/workdir/ann.csv\n",
      "The ligand-receptor interaction database: lrc2p.csv\n",
      "Species to obtain ligand-receptor interactions: human\n",
      "The number of cores to use: 1\n",
      "The folder to save all results: /opt/NATMI/workdir/out\n",
      "===================================================\n",
      "#### the folder \"/opt/NATMI/workdir/out\" has been created to save the analysis results\n",
      "#### cluster the expression matrix\n",
      "#### generate cell-to-cell interactions\n",
      "#### extract signaling factors\n",
      "#### construct signaling interactions\n",
      "#### collected 1521 LR-mediated edges\n",
      "#### DONE\n"
     ]
    }
   ],
   "source": [
    "!docker run --rm -it --name natmi -v /home/bioinformatics/Documents/Benchmark/Python/natmi/sampleC/:/opt/NATMI/workdir asrhou/natmi python ExtractEdges.py --emFile /opt/NATMI/workdir/em.csv --annFile /opt/NATMI/workdir/ann.csv --interDB lrc2p --out /opt/NATMI/workdir/out"
   ]
  },
  {
   "cell_type": "code",
   "execution_count": 8,
   "id": "f591e049",
   "metadata": {},
   "outputs": [
    {
     "name": "stdout",
     "output_type": "stream",
     "text": [
      "===================================================\n",
      "Input data:\n",
      "The source dataset folder: /opt/NATMI/workdir/out\n",
      "The ligand-receptor interaction database: lrc2p\n",
      "The weight type of cell-to-cell signaling: mean\n",
      "The detection threshold for interactions to draw is: 0.2\n",
      "The specicificity threshold for interactions to draw is: 0\n",
      "The expression threshold for interactions to draw is: 0\n",
      "The network layout: kk\n",
      "The font size for cluster labels: 8\n",
      "The edge width: 0\n",
      "The maximum radius of the clusters: 0\n",
      "The relative distance between clusters: 1\n",
      "The plot width: 12\n",
      "The plot height: 10\n",
      "The plot format: pdf\n",
      "===================================================\n",
      "#### start to construct the cell-to-cell communication network\n",
      "#### 132 edges are loaded\n",
      "#### plotting the weighted directed cell-to-cell communication network\n",
      "#### the folder \"/opt/NATMI/workdir/out/Network_exp_0_spe_0_det_0.2_top_0_signal_lrc2p_weight_mean\" has been created to save the analysis results\n",
      "#### DONE\n"
     ]
    }
   ],
   "source": [
    "!docker run --rm -it --name natmi -v /home/bioinformatics/Documents/Benchmark/Python/natmi/sampleC/:/opt/NATMI/workdir asrhou/natmi python VisInteractions.py --sourceFolder /opt/NATMI/workdir/out --interDB lrc2p --weightType mean --detectionThreshold 0.2"
   ]
  },
  {
   "cell_type": "code",
   "execution_count": 6,
   "id": "460ed22e",
   "metadata": {},
   "outputs": [
    {
     "name": "stdout",
     "output_type": "stream",
     "text": [
      "===================================================\n",
      "Input data:\n",
      "Species to obtain abundance data: human\n",
      "The expression matrix file: /opt/NATMI/workdir/em.csv\n",
      "The metafile: /opt/NATMI/workdir/ann.csv\n",
      "The ligand-receptor interaction database: lrc2p.csv\n",
      "Species to obtain ligand-receptor interactions: human\n",
      "The number of cores to use: 1\n",
      "The folder to save all results: /opt/NATMI/workdir/out\n",
      "===================================================\n",
      "#### the folder \"/opt/NATMI/workdir/out\" has been created to save the analysis results\n",
      "#### cluster the expression matrix\n",
      "#### generate cell-to-cell interactions\n",
      "#### extract signaling factors\n",
      "#### construct signaling interactions\n",
      "#### collected 1674 LR-mediated edges\n",
      "#### DONE\n"
     ]
    }
   ],
   "source": [
    "!docker run --rm -it --name natmi -v /home/bioinformatics/Documents/Benchmark/Python/natmi/sampleD/:/opt/NATMI/workdir asrhou/natmi python ExtractEdges.py --emFile /opt/NATMI/workdir/em.csv --annFile /opt/NATMI/workdir/ann.csv --interDB lrc2p --out /opt/NATMI/workdir/out"
   ]
  },
  {
   "cell_type": "code",
   "execution_count": 9,
   "id": "a2b77533",
   "metadata": {},
   "outputs": [
    {
     "name": "stdout",
     "output_type": "stream",
     "text": [
      "===================================================\n",
      "Input data:\n",
      "The source dataset folder: /opt/NATMI/workdir/out\n",
      "The ligand-receptor interaction database: lrc2p\n",
      "The weight type of cell-to-cell signaling: mean\n",
      "The detection threshold for interactions to draw is: 0.2\n",
      "The specicificity threshold for interactions to draw is: 0\n",
      "The expression threshold for interactions to draw is: 0\n",
      "The network layout: kk\n",
      "The font size for cluster labels: 8\n",
      "The edge width: 0\n",
      "The maximum radius of the clusters: 0\n",
      "The relative distance between clusters: 1\n",
      "The plot width: 12\n",
      "The plot height: 10\n",
      "The plot format: pdf\n",
      "===================================================\n",
      "#### start to construct the cell-to-cell communication network\n",
      "#### 172 edges are loaded\n",
      "#### plotting the weighted directed cell-to-cell communication network\n",
      "#### the folder \"/opt/NATMI/workdir/out/Network_exp_0_spe_0_det_0.2_top_0_signal_lrc2p_weight_mean\" has been created to save the analysis results\n",
      "#### DONE\n"
     ]
    }
   ],
   "source": [
    "!docker run --rm -it --name natmi -v /home/bioinformatics/Documents/Benchmark/Python/natmi/sampleD/:/opt/NATMI/workdir asrhou/natmi python VisInteractions.py --sourceFolder /opt/NATMI/workdir/out --interDB lrc2p --weightType mean --detectionThreshold 0.2"
   ]
  },
  {
   "cell_type": "markdown",
   "id": "e7d9ce7b",
   "metadata": {},
   "source": [
    "### R kernel:"
   ]
  },
  {
   "cell_type": "code",
   "execution_count": 23,
   "id": "f1089005",
   "metadata": {},
   "outputs": [
    {
     "data": {
      "text/html": [
       "<table class=\"dataframe\">\n",
       "<caption>A data.frame: 6 × 4</caption>\n",
       "<thead>\n",
       "\t<tr><th></th><th scope=col>source</th><th scope=col>target</th><th scope=col>ligand</th><th scope=col>receptor</th></tr>\n",
       "\t<tr><th></th><th scope=col>&lt;chr&gt;</th><th scope=col>&lt;chr&gt;</th><th scope=col>&lt;chr&gt;</th><th scope=col>&lt;chr&gt;</th></tr>\n",
       "</thead>\n",
       "<tbody>\n",
       "\t<tr><th scope=row>1</th><td>AT1       </td><td>Macrophage</td><td>CCL2</td><td>CCR1</td></tr>\n",
       "\t<tr><th scope=row>2</th><td>AT1       </td><td>Monocyte  </td><td>CCL2</td><td>CCR1</td></tr>\n",
       "\t<tr><th scope=row>3</th><td>Fibroblast</td><td>Macrophage</td><td>CCL2</td><td>CCR1</td></tr>\n",
       "\t<tr><th scope=row>4</th><td>Fibroblast</td><td>Monocyte  </td><td>CCL2</td><td>CCR1</td></tr>\n",
       "\t<tr><th scope=row>5</th><td>Macrophage</td><td>Macrophage</td><td>CCL2</td><td>CCR1</td></tr>\n",
       "\t<tr><th scope=row>6</th><td>Macrophage</td><td>Monocyte  </td><td>CCL2</td><td>CCR1</td></tr>\n",
       "</tbody>\n",
       "</table>\n"
      ],
      "text/latex": [
       "A data.frame: 6 × 4\n",
       "\\begin{tabular}{r|llll}\n",
       "  & source & target & ligand & receptor\\\\\n",
       "  & <chr> & <chr> & <chr> & <chr>\\\\\n",
       "\\hline\n",
       "\t1 & AT1        & Macrophage & CCL2 & CCR1\\\\\n",
       "\t2 & AT1        & Monocyte   & CCL2 & CCR1\\\\\n",
       "\t3 & Fibroblast & Macrophage & CCL2 & CCR1\\\\\n",
       "\t4 & Fibroblast & Monocyte   & CCL2 & CCR1\\\\\n",
       "\t5 & Macrophage & Macrophage & CCL2 & CCR1\\\\\n",
       "\t6 & Macrophage & Monocyte   & CCL2 & CCR1\\\\\n",
       "\\end{tabular}\n"
      ],
      "text/markdown": [
       "\n",
       "A data.frame: 6 × 4\n",
       "\n",
       "| <!--/--> | source &lt;chr&gt; | target &lt;chr&gt; | ligand &lt;chr&gt; | receptor &lt;chr&gt; |\n",
       "|---|---|---|---|---|\n",
       "| 1 | AT1        | Macrophage | CCL2 | CCR1 |\n",
       "| 2 | AT1        | Monocyte   | CCL2 | CCR1 |\n",
       "| 3 | Fibroblast | Macrophage | CCL2 | CCR1 |\n",
       "| 4 | Fibroblast | Monocyte   | CCL2 | CCR1 |\n",
       "| 5 | Macrophage | Macrophage | CCL2 | CCR1 |\n",
       "| 6 | Macrophage | Monocyte   | CCL2 | CCR1 |\n",
       "\n"
      ],
      "text/plain": [
       "  source     target     ligand receptor\n",
       "1 AT1        Macrophage CCL2   CCR1    \n",
       "2 AT1        Monocyte   CCL2   CCR1    \n",
       "3 Fibroblast Macrophage CCL2   CCR1    \n",
       "4 Fibroblast Monocyte   CCL2   CCR1    \n",
       "5 Macrophage Macrophage CCL2   CCR1    \n",
       "6 Macrophage Monocyte   CCL2   CCR1    "
      ]
     },
     "metadata": {},
     "output_type": "display_data"
    }
   ],
   "source": [
    "NATMIA <- run_NATMI_output(\"sampleA\")\n",
    "head(NATMIA)"
   ]
  },
  {
   "cell_type": "code",
   "execution_count": 24,
   "id": "f2bf1e19",
   "metadata": {},
   "outputs": [
    {
     "data": {
      "text/html": [
       "<table class=\"dataframe\">\n",
       "<caption>A data.frame: 6 × 4</caption>\n",
       "<thead>\n",
       "\t<tr><th></th><th scope=col>source</th><th scope=col>target</th><th scope=col>ligand</th><th scope=col>receptor</th></tr>\n",
       "\t<tr><th></th><th scope=col>&lt;chr&gt;</th><th scope=col>&lt;chr&gt;</th><th scope=col>&lt;chr&gt;</th><th scope=col>&lt;chr&gt;</th></tr>\n",
       "</thead>\n",
       "<tbody>\n",
       "\t<tr><th scope=row>1</th><td>Endothelial</td><td>Macrophage</td><td>CCL2</td><td>CCR1</td></tr>\n",
       "\t<tr><th scope=row>2</th><td>Fibroblast </td><td>Macrophage</td><td>CCL2</td><td>CCR1</td></tr>\n",
       "\t<tr><th scope=row>3</th><td>Macrophage </td><td>Macrophage</td><td>CCL2</td><td>CCR1</td></tr>\n",
       "\t<tr><th scope=row>4</th><td>Monocyte   </td><td>Macrophage</td><td>CCL2</td><td>CCR1</td></tr>\n",
       "\t<tr><th scope=row>5</th><td>Macrophage </td><td>Macrophage</td><td>CCL3</td><td>CCR1</td></tr>\n",
       "\t<tr><th scope=row>6</th><td>Monocyte   </td><td>Macrophage</td><td>CCL3</td><td>CCR1</td></tr>\n",
       "</tbody>\n",
       "</table>\n"
      ],
      "text/latex": [
       "A data.frame: 6 × 4\n",
       "\\begin{tabular}{r|llll}\n",
       "  & source & target & ligand & receptor\\\\\n",
       "  & <chr> & <chr> & <chr> & <chr>\\\\\n",
       "\\hline\n",
       "\t1 & Endothelial & Macrophage & CCL2 & CCR1\\\\\n",
       "\t2 & Fibroblast  & Macrophage & CCL2 & CCR1\\\\\n",
       "\t3 & Macrophage  & Macrophage & CCL2 & CCR1\\\\\n",
       "\t4 & Monocyte    & Macrophage & CCL2 & CCR1\\\\\n",
       "\t5 & Macrophage  & Macrophage & CCL3 & CCR1\\\\\n",
       "\t6 & Monocyte    & Macrophage & CCL3 & CCR1\\\\\n",
       "\\end{tabular}\n"
      ],
      "text/markdown": [
       "\n",
       "A data.frame: 6 × 4\n",
       "\n",
       "| <!--/--> | source &lt;chr&gt; | target &lt;chr&gt; | ligand &lt;chr&gt; | receptor &lt;chr&gt; |\n",
       "|---|---|---|---|---|\n",
       "| 1 | Endothelial | Macrophage | CCL2 | CCR1 |\n",
       "| 2 | Fibroblast  | Macrophage | CCL2 | CCR1 |\n",
       "| 3 | Macrophage  | Macrophage | CCL2 | CCR1 |\n",
       "| 4 | Monocyte    | Macrophage | CCL2 | CCR1 |\n",
       "| 5 | Macrophage  | Macrophage | CCL3 | CCR1 |\n",
       "| 6 | Monocyte    | Macrophage | CCL3 | CCR1 |\n",
       "\n"
      ],
      "text/plain": [
       "  source      target     ligand receptor\n",
       "1 Endothelial Macrophage CCL2   CCR1    \n",
       "2 Fibroblast  Macrophage CCL2   CCR1    \n",
       "3 Macrophage  Macrophage CCL2   CCR1    \n",
       "4 Monocyte    Macrophage CCL2   CCR1    \n",
       "5 Macrophage  Macrophage CCL3   CCR1    \n",
       "6 Monocyte    Macrophage CCL3   CCR1    "
      ]
     },
     "metadata": {},
     "output_type": "display_data"
    }
   ],
   "source": [
    "NATMIB <- run_NATMI_output(\"sampleB\")\n",
    "head(NATMIB)"
   ]
  },
  {
   "cell_type": "code",
   "execution_count": 25,
   "id": "82d84484",
   "metadata": {},
   "outputs": [
    {
     "data": {
      "text/html": [
       "<table class=\"dataframe\">\n",
       "<caption>A data.frame: 6 × 4</caption>\n",
       "<thead>\n",
       "\t<tr><th></th><th scope=col>source</th><th scope=col>target</th><th scope=col>ligand</th><th scope=col>receptor</th></tr>\n",
       "\t<tr><th></th><th scope=col>&lt;chr&gt;</th><th scope=col>&lt;chr&gt;</th><th scope=col>&lt;chr&gt;</th><th scope=col>&lt;chr&gt;</th></tr>\n",
       "</thead>\n",
       "<tbody>\n",
       "\t<tr><th scope=row>1</th><td>Endothelial</td><td>Macrophage</td><td>CCL2</td><td>CCR1</td></tr>\n",
       "\t<tr><th scope=row>2</th><td>Endothelial</td><td>Monocyte  </td><td>CCL2</td><td>CCR1</td></tr>\n",
       "\t<tr><th scope=row>3</th><td>Fibroblast </td><td>Macrophage</td><td>CCL2</td><td>CCR1</td></tr>\n",
       "\t<tr><th scope=row>4</th><td>Fibroblast </td><td>Monocyte  </td><td>CCL2</td><td>CCR1</td></tr>\n",
       "\t<tr><th scope=row>5</th><td>Macrophage </td><td>Macrophage</td><td>CCL2</td><td>CCR1</td></tr>\n",
       "\t<tr><th scope=row>6</th><td>Macrophage </td><td>Monocyte  </td><td>CCL2</td><td>CCR1</td></tr>\n",
       "</tbody>\n",
       "</table>\n"
      ],
      "text/latex": [
       "A data.frame: 6 × 4\n",
       "\\begin{tabular}{r|llll}\n",
       "  & source & target & ligand & receptor\\\\\n",
       "  & <chr> & <chr> & <chr> & <chr>\\\\\n",
       "\\hline\n",
       "\t1 & Endothelial & Macrophage & CCL2 & CCR1\\\\\n",
       "\t2 & Endothelial & Monocyte   & CCL2 & CCR1\\\\\n",
       "\t3 & Fibroblast  & Macrophage & CCL2 & CCR1\\\\\n",
       "\t4 & Fibroblast  & Monocyte   & CCL2 & CCR1\\\\\n",
       "\t5 & Macrophage  & Macrophage & CCL2 & CCR1\\\\\n",
       "\t6 & Macrophage  & Monocyte   & CCL2 & CCR1\\\\\n",
       "\\end{tabular}\n"
      ],
      "text/markdown": [
       "\n",
       "A data.frame: 6 × 4\n",
       "\n",
       "| <!--/--> | source &lt;chr&gt; | target &lt;chr&gt; | ligand &lt;chr&gt; | receptor &lt;chr&gt; |\n",
       "|---|---|---|---|---|\n",
       "| 1 | Endothelial | Macrophage | CCL2 | CCR1 |\n",
       "| 2 | Endothelial | Monocyte   | CCL2 | CCR1 |\n",
       "| 3 | Fibroblast  | Macrophage | CCL2 | CCR1 |\n",
       "| 4 | Fibroblast  | Monocyte   | CCL2 | CCR1 |\n",
       "| 5 | Macrophage  | Macrophage | CCL2 | CCR1 |\n",
       "| 6 | Macrophage  | Monocyte   | CCL2 | CCR1 |\n",
       "\n"
      ],
      "text/plain": [
       "  source      target     ligand receptor\n",
       "1 Endothelial Macrophage CCL2   CCR1    \n",
       "2 Endothelial Monocyte   CCL2   CCR1    \n",
       "3 Fibroblast  Macrophage CCL2   CCR1    \n",
       "4 Fibroblast  Monocyte   CCL2   CCR1    \n",
       "5 Macrophage  Macrophage CCL2   CCR1    \n",
       "6 Macrophage  Monocyte   CCL2   CCR1    "
      ]
     },
     "metadata": {},
     "output_type": "display_data"
    }
   ],
   "source": [
    "NATMIC <- run_NATMI_output(\"sampleC\")\n",
    "head(NATMIC)"
   ]
  },
  {
   "cell_type": "code",
   "execution_count": 26,
   "id": "b7985d7e",
   "metadata": {},
   "outputs": [
    {
     "data": {
      "text/html": [
       "<table class=\"dataframe\">\n",
       "<caption>A data.frame: 6 × 4</caption>\n",
       "<thead>\n",
       "\t<tr><th></th><th scope=col>source</th><th scope=col>target</th><th scope=col>ligand</th><th scope=col>receptor</th></tr>\n",
       "\t<tr><th></th><th scope=col>&lt;chr&gt;</th><th scope=col>&lt;chr&gt;</th><th scope=col>&lt;chr&gt;</th><th scope=col>&lt;chr&gt;</th></tr>\n",
       "</thead>\n",
       "<tbody>\n",
       "\t<tr><th scope=row>1</th><td>AT1        </td><td>Macrophage</td><td>CCL2</td><td>CCR1 </td></tr>\n",
       "\t<tr><th scope=row>2</th><td>Endothelial</td><td>Macrophage</td><td>CCL2</td><td>CCR1 </td></tr>\n",
       "\t<tr><th scope=row>3</th><td>Fibroblast </td><td>Macrophage</td><td>CCL2</td><td>CCR1 </td></tr>\n",
       "\t<tr><th scope=row>4</th><td>Macrophage </td><td>Macrophage</td><td>CCL2</td><td>CCR1 </td></tr>\n",
       "\t<tr><th scope=row>5</th><td>Tcell      </td><td>Macrophage</td><td>CCL4</td><td>CCR1 </td></tr>\n",
       "\t<tr><th scope=row>6</th><td>Fibroblast </td><td>Macrophage</td><td>CSF1</td><td>CSF1R</td></tr>\n",
       "</tbody>\n",
       "</table>\n"
      ],
      "text/latex": [
       "A data.frame: 6 × 4\n",
       "\\begin{tabular}{r|llll}\n",
       "  & source & target & ligand & receptor\\\\\n",
       "  & <chr> & <chr> & <chr> & <chr>\\\\\n",
       "\\hline\n",
       "\t1 & AT1         & Macrophage & CCL2 & CCR1 \\\\\n",
       "\t2 & Endothelial & Macrophage & CCL2 & CCR1 \\\\\n",
       "\t3 & Fibroblast  & Macrophage & CCL2 & CCR1 \\\\\n",
       "\t4 & Macrophage  & Macrophage & CCL2 & CCR1 \\\\\n",
       "\t5 & Tcell       & Macrophage & CCL4 & CCR1 \\\\\n",
       "\t6 & Fibroblast  & Macrophage & CSF1 & CSF1R\\\\\n",
       "\\end{tabular}\n"
      ],
      "text/markdown": [
       "\n",
       "A data.frame: 6 × 4\n",
       "\n",
       "| <!--/--> | source &lt;chr&gt; | target &lt;chr&gt; | ligand &lt;chr&gt; | receptor &lt;chr&gt; |\n",
       "|---|---|---|---|---|\n",
       "| 1 | AT1         | Macrophage | CCL2 | CCR1  |\n",
       "| 2 | Endothelial | Macrophage | CCL2 | CCR1  |\n",
       "| 3 | Fibroblast  | Macrophage | CCL2 | CCR1  |\n",
       "| 4 | Macrophage  | Macrophage | CCL2 | CCR1  |\n",
       "| 5 | Tcell       | Macrophage | CCL4 | CCR1  |\n",
       "| 6 | Fibroblast  | Macrophage | CSF1 | CSF1R |\n",
       "\n"
      ],
      "text/plain": [
       "  source      target     ligand receptor\n",
       "1 AT1         Macrophage CCL2   CCR1    \n",
       "2 Endothelial Macrophage CCL2   CCR1    \n",
       "3 Fibroblast  Macrophage CCL2   CCR1    \n",
       "4 Macrophage  Macrophage CCL2   CCR1    \n",
       "5 Tcell       Macrophage CCL4   CCR1    \n",
       "6 Fibroblast  Macrophage CSF1   CSF1R   "
      ]
     },
     "metadata": {},
     "output_type": "display_data"
    }
   ],
   "source": [
    "NATMID <- run_NATMI_output(\"sampleD\")\n",
    "head(NATMID)"
   ]
  },
  {
   "cell_type": "markdown",
   "id": "95ce5b93",
   "metadata": {},
   "source": [
    "## 3. SSP Calculation"
   ]
  },
  {
   "cell_type": "code",
   "execution_count": 17,
   "id": "4a4a4786",
   "metadata": {},
   "outputs": [],
   "source": [
    "# load functions\n",
    "source(\"https://raw.githubusercontent.com/mora-lab/cell-cell-interactions/main/benchmark-workflow/R/CellPhoneDB_SSP_calculation.R\")\n",
    "source(\"https://raw.githubusercontent.com/mora-lab/cell-cell-interactions/main/benchmark-workflow/R/NATMI_SSP_calculation.R\")"
   ]
  },
  {
   "cell_type": "code",
   "execution_count": 18,
   "id": "7ad2b8f5",
   "metadata": {},
   "outputs": [],
   "source": [
    "CPDBSSPA <- run_CellPhoneDB_SSP(CellPhoneDBA,sampleA,gold)\n",
    "CPDBSSPB <- run_CellPhoneDB_SSP(CellPhoneDBB,sampleB,gold)\n",
    "CPDBSSPC <- run_CellPhoneDB_SSP(CellPhoneDBC,sampleC,gold)\n",
    "CPDBSSPD <- run_CellPhoneDB_SSP(CellPhoneDBD,sampleD,gold)"
   ]
  },
  {
   "cell_type": "code",
   "execution_count": 27,
   "id": "5b95f0b6",
   "metadata": {},
   "outputs": [],
   "source": [
    "NATMISSPA <- run_NATMI_SSP(NATMIA,sampleA,gold)\n",
    "NATMISSPB <- run_NATMI_SSP(NATMIB,sampleB,gold)\n",
    "NATMISSPC <- run_NATMI_SSP(NATMIC,sampleC,gold)\n",
    "NATMISSPD <- run_NATMI_SSP(NATMID,sampleD,gold)"
   ]
  },
  {
   "cell_type": "code",
   "execution_count": 21,
   "id": "e7713037",
   "metadata": {},
   "outputs": [
    {
     "data": {
      "text/html": [
       "<table class=\"dataframe\">\n",
       "<caption>A matrix: 3 × 4</caption>\n",
       "<thead>\n",
       "\t<tr><th></th><th scope=col>CPDBSSPA</th><th scope=col>CPDBSSPB</th><th scope=col>CPDBSSPC</th><th scope=col>CPDBSSPD</th></tr>\n",
       "\t<tr><th></th><th scope=col>&lt;dbl&gt;</th><th scope=col>&lt;dbl&gt;</th><th scope=col>&lt;dbl&gt;</th><th scope=col>&lt;dbl&gt;</th><th scope=col>&lt;dbl&gt;</th><th scope=col>&lt;dbl&gt;</th><th scope=col>&lt;dbl&gt;</th><th scope=col>&lt;dbl&gt;</th><th scope=col>&lt;dbl&gt;</th><th scope=col>&lt;dbl&gt;</th><th scope=col>&lt;dbl&gt;</th><th scope=col>&lt;dbl&gt;</th></tr>\n",
       "</thead>\n",
       "<tbody>\n",
       "\t<tr><th scope=row>Accuracy</th><td>0.3793103</td><td>0.2291667</td><td>0.25</td><td>0.4177215</td></tr>\n",
       "\t<tr><th scope=row>Sensitivity</th><td>0.1195652</td><td>0.05978261</td><td>0.06989247</td><td>0.1823204</td></tr>\n",
       "\t<tr><th scope=row>Specificity</th><td>0.9829868</td><td>0.9824894</td><td>0.981569</td><td>0.9781991</td></tr>\n",
       "</tbody>\n",
       "</table>\n"
      ],
      "text/latex": [
       "A matrix: 3 × 4\n",
       "\\begin{tabular}{r|llll}\n",
       "  & CPDBSSPA & CPDBSSPB & CPDBSSPC & CPDBSSPD\\\\\n",
       "  & <dbl> & <dbl> & <dbl> & <dbl> & <dbl> & <dbl> & <dbl> & <dbl> & <dbl> & <dbl> & <dbl> & <dbl>\\\\\n",
       "\\hline\n",
       "\tAccuracy & 0.3793103 & 0.2291667 & 0.25 & 0.4177215\\\\\n",
       "\tSensitivity & 0.1195652 & 0.05978261 & 0.06989247 & 0.1823204\\\\\n",
       "\tSpecificity & 0.9829868 & 0.9824894 & 0.981569 & 0.9781991\\\\\n",
       "\\end{tabular}\n"
      ],
      "text/markdown": [
       "\n",
       "A matrix: 3 × 4\n",
       "\n",
       "| <!--/--> | CPDBSSPA &lt;dbl&gt; | CPDBSSPB &lt;dbl&gt; | CPDBSSPC &lt;dbl&gt; | CPDBSSPD &lt;dbl&gt; | CPDBSSPA &lt;dbl&gt; | CPDBSSPB &lt;dbl&gt; | CPDBSSPC &lt;dbl&gt; | CPDBSSPD &lt;dbl&gt; | CPDBSSPA &lt;dbl&gt; | CPDBSSPB &lt;dbl&gt; | CPDBSSPC &lt;dbl&gt; | CPDBSSPD &lt;dbl&gt; |\n",
       "|---|---|---|---|---|\n",
       "| Accuracy | 0.3793103 | 0.2291667 | 0.25 | 0.4177215 |\n",
       "| Sensitivity | 0.1195652 | 0.05978261 | 0.06989247 | 0.1823204 |\n",
       "| Specificity | 0.9829868 | 0.9824894 | 0.981569 | 0.9781991 |\n",
       "\n"
      ],
      "text/plain": [
       "            CPDBSSPA  CPDBSSPB   CPDBSSPC   CPDBSSPD \n",
       "Accuracy    0.3793103 0.2291667  0.25       0.4177215\n",
       "Sensitivity 0.1195652 0.05978261 0.06989247 0.1823204\n",
       "Specificity 0.9829868 0.9824894  0.981569   0.9781991"
      ]
     },
     "metadata": {},
     "output_type": "display_data"
    }
   ],
   "source": [
    "cbind(CPDBSSPA,CPDBSSPB,CPDBSSPC,CPDBSSPD)"
   ]
  },
  {
   "cell_type": "code",
   "execution_count": 28,
   "id": "44c0f609",
   "metadata": {},
   "outputs": [
    {
     "data": {
      "text/html": [
       "<table class=\"dataframe\">\n",
       "<caption>A matrix: 3 × 4</caption>\n",
       "<thead>\n",
       "\t<tr><th></th><th scope=col>NATMISSPA</th><th scope=col>NATMISSPB</th><th scope=col>NATMISSPC</th><th scope=col>NATMISSPD</th></tr>\n",
       "\t<tr><th></th><th scope=col>&lt;dbl&gt;</th><th scope=col>&lt;dbl&gt;</th><th scope=col>&lt;dbl&gt;</th><th scope=col>&lt;dbl&gt;</th><th scope=col>&lt;dbl&gt;</th><th scope=col>&lt;dbl&gt;</th><th scope=col>&lt;dbl&gt;</th><th scope=col>&lt;dbl&gt;</th><th scope=col>&lt;dbl&gt;</th><th scope=col>&lt;dbl&gt;</th><th scope=col>&lt;dbl&gt;</th><th scope=col>&lt;dbl&gt;</th></tr>\n",
       "</thead>\n",
       "<tbody>\n",
       "\t<tr><th scope=row>Accuracy</th><td>0.3333333</td><td>0.2705882</td><td>0.280303</td><td>0.3895349</td></tr>\n",
       "\t<tr><th scope=row>Sensitivity</th><td>0.0923913</td><td>0.125</td><td>0.201087</td><td>0.3641304</td></tr>\n",
       "\t<tr><th scope=row>Specificity</th><td>0.983463</td><td>0.9698444</td><td>0.9537938</td><td>0.94893</td></tr>\n",
       "</tbody>\n",
       "</table>\n"
      ],
      "text/latex": [
       "A matrix: 3 × 4\n",
       "\\begin{tabular}{r|llll}\n",
       "  & NATMISSPA & NATMISSPB & NATMISSPC & NATMISSPD\\\\\n",
       "  & <dbl> & <dbl> & <dbl> & <dbl> & <dbl> & <dbl> & <dbl> & <dbl> & <dbl> & <dbl> & <dbl> & <dbl>\\\\\n",
       "\\hline\n",
       "\tAccuracy & 0.3333333 & 0.2705882 & 0.280303 & 0.3895349\\\\\n",
       "\tSensitivity & 0.0923913 & 0.125 & 0.201087 & 0.3641304\\\\\n",
       "\tSpecificity & 0.983463 & 0.9698444 & 0.9537938 & 0.94893\\\\\n",
       "\\end{tabular}\n"
      ],
      "text/markdown": [
       "\n",
       "A matrix: 3 × 4\n",
       "\n",
       "| <!--/--> | NATMISSPA &lt;dbl&gt; | NATMISSPB &lt;dbl&gt; | NATMISSPC &lt;dbl&gt; | NATMISSPD &lt;dbl&gt; | NATMISSPA &lt;dbl&gt; | NATMISSPB &lt;dbl&gt; | NATMISSPC &lt;dbl&gt; | NATMISSPD &lt;dbl&gt; | NATMISSPA &lt;dbl&gt; | NATMISSPB &lt;dbl&gt; | NATMISSPC &lt;dbl&gt; | NATMISSPD &lt;dbl&gt; |\n",
       "|---|---|---|---|---|\n",
       "| Accuracy | 0.3333333 | 0.2705882 | 0.280303 | 0.3895349 |\n",
       "| Sensitivity | 0.0923913 | 0.125 | 0.201087 | 0.3641304 |\n",
       "| Specificity | 0.983463 | 0.9698444 | 0.9537938 | 0.94893 |\n",
       "\n"
      ],
      "text/plain": [
       "            NATMISSPA NATMISSPB NATMISSPC NATMISSPD\n",
       "Accuracy    0.3333333 0.2705882 0.280303  0.3895349\n",
       "Sensitivity 0.0923913 0.125     0.201087  0.3641304\n",
       "Specificity 0.983463  0.9698444 0.9537938 0.94893  "
      ]
     },
     "metadata": {},
     "output_type": "display_data"
    }
   ],
   "source": [
    "cbind(NATMISSPA,NATMISSPB,NATMISSPC,NATMISSPD)"
   ]
  }
 ],
 "metadata": {
  "kernelspec": {
   "display_name": "R",
   "language": "R",
   "name": "ir"
  },
  "language_info": {
   "codemirror_mode": "r",
   "file_extension": ".r",
   "mimetype": "text/x-r-source",
   "name": "R",
   "pygments_lexer": "r",
   "version": "4.1.3"
  }
 },
 "nbformat": 4,
 "nbformat_minor": 5
}
